{
 "cells": [
  {
   "cell_type": "markdown",
   "id": "655ec24d",
   "metadata": {},
   "source": [
    "<p align=\"center\">\n",
    "  <img src=\"docs/inference_sequence_diagram.png\" alt=\"inferencing diagram\" width=\"1200\"/>\n",
    "</p>"
   ]
  },
  {
   "cell_type": "markdown",
   "id": "14f9d352",
   "metadata": {},
   "source": [
    "# TITLE & OVERVIEW\n",
    "\n",
    "This notebook runs DEGIS image generation with two modes: Style (Base Ip-Adapter) and EMD-constrained (DEGIS Approach) color alignment.  \n",
    "The notebook builds a hypothetical scenario where a car dealer, in interested in creating adsvertisements, that follows predefined colour and layout.\n",
    "We evaluate three edge map and for each we use three color sources.  \n",
    "\n",
    "Each evaluation section shows: the source color image, the chosen edge map, a style result, and an EMD-constrained result with metrics.\n",
    "\n",
    "## ASSETS EXPECTED\n",
    "- `embeddings`, `histograms`, `edge_maps`, and a trained `color_head`.  \n",
    "- A ready `generator` pipeline.\n",
    "\n",
    "## OUTPUTS OF INTEREST\n",
    "- One visualization image per run.  \n",
    "- Metrics: **EMD** (lower is better), **CLIP-text cosine** (higher is better), **attempts**, and **generation time**.\n"
   ]
  },
  {
   "cell_type": "code",
   "execution_count": 1,
   "id": "97525881",
   "metadata": {},
   "outputs": [
    {
     "name": "stdout",
     "output_type": "stream",
     "text": [
      "DEGIS environment is active\n",
      "Python: /data/degis/degis-env/bin/python\n",
      "DEGIS package is available\n",
      "\n",
      "Ready to start image generation!\n"
     ]
    }
   ],
   "source": [
    "# =============================================================================\n",
    "# ENVIRONMENT CHECK - Run this cell first!\n",
    "# =============================================================================\n",
    "# This cell verifies that the DEGIS environment is properly set up\n",
    "# Make sure you've run ./setup_server_fixed.sh first!\n",
    "\n",
    "import sys\n",
    "import os\n",
    "\n",
    "# Check if we're in the right environment\n",
    "if 'degis-env' in sys.executable:\n",
    "    print(\"DEGIS environment is active\")\n",
    "    print(f\"Python: {sys.executable}\")\n",
    "else:\n",
    "    print(\"Warning: DEGIS environment not detected\")\n",
    "    print(\"Please run: ./setup_server_fixed.sh\")\n",
    "    print(\"Then activate: source degis-env/bin/activate\")\n",
    "\n",
    "# Check if DEGIS package is available\n",
    "try:\n",
    "    import degis\n",
    "    print(\"DEGIS package is available\")\n",
    "except ImportError:\n",
    "    print(\"DEGIS package not found\")\n",
    "    print(\"Please run: ./setup_server_fixed.sh\")\n",
    "\n",
    "print(\"\\nReady to start image generation!\")"
   ]
  },
  {
   "cell_type": "markdown",
   "id": "24df66cc",
   "metadata": {},
   "source": [
    "# IMPORTS — CONTEXT\n",
    "\n",
    "Loads core libs (torch, numpy, PIL, matplotlib, torchvision), DEGIS dataset helpers, SDXL + ControlNet with DEGIS patches, and histogram utilities.  \n",
    "Prints the active device (`cuda` or `cpu`). No parameters are changed here."
   ]
  },
  {
   "cell_type": "code",
   "execution_count": 2,
   "id": "db71031c",
   "metadata": {},
   "outputs": [
    {
     "name": "stdout",
     "output_type": "stream",
     "text": [
      "All imports successful!\n",
      "Ready for high-quality image generation with IP-Adapter XL!\n",
      "Using device: cuda\n"
     ]
    }
   ],
   "source": [
    "import geomloss\n",
    "import numpy as np\n",
    "from pathlib import Path\n",
    "import numpy as np\n",
    "import pandas as pd\n",
    "import matplotlib.pyplot as plt\n",
    "import torch\n",
    "from PIL import Image\n",
    "from torchvision import transforms\n",
    "from IPython.display import display\n",
    "import os\n",
    "import glob\n",
    "\n",
    "# Import DEGIS package components\n",
    "from degis import IPAdapterXLGenerator, load_trained_color_head, get_color_embedding\n",
    "from degis.shared.utils import plot_color_palette, display_images_grid, display_comparison_grid\n",
    "from degis.shared.image_features.color_histograms import compute_color_histogram, compute_lab_histogram\n",
    "from degis.shared.utils.image_utils import create_control_edge_pil\n",
    "from degis.data.dataset import UnifiedImageDataset\n",
    "\n",
    "# Import IP-Adapter XL with DEGIS patches\n",
    "import ip_adapter_patch  # This applies the DEGIS patches\n",
    "from diffusers import ControlNetModel, StableDiffusionXLControlNetPipeline\n",
    "\n",
    "print(\"All imports successful!\")\n",
    "print(\"Ready for high-quality image generation with IP-Adapter XL!\")\n",
    "\n",
    "device = torch.device(\"cuda\" if torch.cuda.is_available() else \"cpu\")\n",
    "print(f\"Using device: {device}\")"
   ]
  },
  {
   "cell_type": "markdown",
   "id": "f65d18da",
   "metadata": {},
   "source": [
    "# PATHS & GLOBAL CONFIG\n",
    "\n",
    "CSV manifest, embeddings `.npy`, histograms `.npy`, edge maps `.npy`, and the **color head checkpoint** paths.  \n",
    "Define the **image encoder** and **ControlNet** identifiers."
   ]
  },
  {
   "cell_type": "code",
   "execution_count": 3,
   "id": "61365ad6",
   "metadata": {},
   "outputs": [],
   "source": [
    "csv_path = \"/data/thesis/laion_5m_manifest.csv\"\n",
    "embeddings_path = \"/data/thesis/models/hf_xl_laion_5m_embeddings.npy\" # || YOUR_CUSTOM_PATH\n",
    "colour_path = \"/data/thesis/data/laion_5m_color_histograms_lab_514.npy\" # options: COLOR_HIST_PATH_LAB_514 || COLOR_HIST_PATH_RGB || YOUR_CUSTOM_PATH\n",
    "colour_head_checkpoint_path = \"/data/degis/evaluation_runs/laion_5m_xl_lab514_tk20_b4096/best_color_head_tmp.pth\" # || YOUR_CUSTOM_PATH\n",
    "precomputed_adimagenet_edge_maps_path = \"/data/thesis/data/adimagenet_edge_maps.npy\" # || YOUR_CUSTOM_PATH\n",
    "\n",
    "image_encoder_path = \"laion/CLIP-ViT-bigG-14-laion2B-39B-b160k\"\n",
    "controlnet_id = \"diffusers/controlnet-canny-sdxl-1.0\""
   ]
  },
  {
   "cell_type": "markdown",
   "id": "4927f943",
   "metadata": {},
   "source": [
    "# LOAD DATASETS & ARRAYS — EXPECTED SHAPES\n",
    "\n",
    "Loads the thumbnail dataset (for selecting `colour_index`), memory-maps large arrays for **embeddings**, **histograms**, and **edge maps**, and loads the trained **color head**.  \n",
    "Expect printed shapes for sanity checking.\n"
   ]
  },
  {
   "cell_type": "code",
   "execution_count": 4,
   "id": "7ec6b74c",
   "metadata": {},
   "outputs": [
    {
     "name": "stdout",
     "output_type": "stream",
     "text": [
      "Loaded embeddings: (3336240, 1280)\n",
      "Loaded histograms: (3336240, 514)\n",
      "Loaded edge maps: (2080, 50176)\n",
      "✓ Color head loaded successfully\n"
     ]
    }
   ],
   "source": [
    "from degis.inference import load_trained_color_head\n",
    "# Load datasets\n",
    "df = pd.read_csv(csv_path)\n",
    "colour_dataset = UnifiedImageDataset(\n",
    "    df.rename(columns={\"local_path\": \"file_path\"}),\n",
    "    mode=\"file_df\",\n",
    "    size=(224, 224),\n",
    "    subset_ratio=1.0\n",
    ")\n",
    "\n",
    "# Load precomputed data\n",
    "embeddings = np.load(embeddings_path, mmap_mode=\"r\").astype(np.float32, copy=False)\n",
    "histograms = np.load(colour_path, mmap_mode=\"r\").astype(np.float32, copy=False)\n",
    "edge_maps = np.load(precomputed_adimagenet_edge_maps_path, mmap_mode=\"r\")\n",
    "\n",
    "print(f\"Loaded embeddings: {embeddings.shape}\")\n",
    "print(f\"Loaded histograms: {histograms.shape}\")\n",
    "print(f\"Loaded edge maps: {edge_maps.shape}\")\n",
    "\n",
    "# Load trained color head\n",
    "color_head = load_trained_color_head(\n",
    "    checkpoint_path=colour_head_checkpoint_path,\n",
    "    clip_dim=embeddings.shape[1],\n",
    "    hist_dim=histograms.shape[1],\n",
    "    device=device\n",
    ")\n",
    "print(\"✓ Color head loaded successfully\")\n"
   ]
  },
  {
   "cell_type": "markdown",
   "id": "35c68d80",
   "metadata": {},
   "source": [
    "# HF CACHE SETUP & INITIALIZE PIPELINE\n",
    "\n",
    "Sets local caches for Hugging Face components and initializes the IP-Adapter XL pipeline.  \n",
    "First run may download weights; reruns use the cache."
   ]
  },
  {
   "cell_type": "code",
   "execution_count": 5,
   "id": "2d06a646",
   "metadata": {},
   "outputs": [
    {
     "name": "stdout",
     "output_type": "stream",
     "text": [
      "Using cache directory: /data/hf-cache\n"
     ]
    },
    {
     "name": "stderr",
     "output_type": "stream",
     "text": [
      "Keyword arguments {'safety_checker': None} are not expected by StableDiffusionXLControlNetPipeline and will be ignored.\n"
     ]
    },
    {
     "data": {
      "application/vnd.jupyter.widget-view+json": {
       "model_id": "3323455b8ccc4af5ab7414ad0c68edc6",
       "version_major": 2,
       "version_minor": 0
      },
      "text/plain": [
       "Loading pipeline components...:   0%|          | 0/7 [00:00<?, ?it/s]"
      ]
     },
     "metadata": {},
     "output_type": "display_data"
    },
    {
     "name": "stdout",
     "output_type": "stream",
     "text": [
      "IP-Adapter sdxl checkpoint not found at h94/IP-Adapter\n",
      "Downloading IP-Adapter sdxl checkpoint...\n",
      "✓ Downloaded IP-Adapter sdxl checkpoint\n"
     ]
    },
    {
     "data": {
      "application/vnd.jupyter.widget-view+json": {
       "model_id": "84cbdf245c254e8ba02f7784d8e4b69b",
       "version_major": 2,
       "version_minor": 0
      },
      "text/plain": [
       "Loading checkpoint shards:   0%|          | 0/2 [00:00<?, ?it/s]"
      ]
     },
     "metadata": {},
     "output_type": "display_data"
    },
    {
     "name": "stdout",
     "output_type": "stream",
     "text": [
      "✓ IP-Adapter XL pipeline setup complete\n"
     ]
    }
   ],
   "source": [
    "# Setup cache directory\n",
    "HF_CACHE = \"/data/hf-cache\" if os.path.exists(\"/data\") else \"./hf-cache\"\n",
    "os.makedirs(HF_CACHE, exist_ok=True)\n",
    "\n",
    "os.environ[\"HF_HOME\"] = HF_CACHE\n",
    "os.environ[\"HUGGINGFACE_HUB_CACHE\"] = os.path.join(HF_CACHE, \"hub\")\n",
    "os.environ[\"TRANSFORMERS_CACHE\"] = os.path.join(HF_CACHE, \"transformers\")\n",
    "os.environ[\"DIFFUSERS_CACHE\"] = os.path.join(HF_CACHE, \"diffusers\")\n",
    "os.environ[\"TORCH_HOME\"] = os.path.join(HF_CACHE, \"torch\")\n",
    "\n",
    "print(f\"Using cache directory: {HF_CACHE}\")\n",
    "\n",
    "# Create IP-Adapter XL generator\n",
    "generator = IPAdapterXLGenerator(device=device)\n",
    "\n",
    "# Setup the pipeline\n",
    "generator.setup_pipeline(\n",
    "    model_id=\"stabilityai/stable-diffusion-xl-base-1.0\",\n",
    "    controlnet_id=controlnet_id,\n",
    "    ip_ckpt=None,  # Update path as needed\n",
    "    image_encoder_path=image_encoder_path,\n",
    "    cache_dir=HF_CACHE,\n",
    "    torch_dtype=torch.float16,\n",
    ")\n",
    "\n",
    "print(\"✓ IP-Adapter XL pipeline setup complete\")\n"
   ]
  },
  {
   "cell_type": "markdown",
   "id": "93bf92da",
   "metadata": {},
   "source": [
    "# GENERATION FUNCTION — STYLE VS EMD\n",
    "\n",
    "Reusable function to: clear VRAM, build control image, compute target histogram, run **Style** generation, run **EMD-constrained** generation, compute metrics, and render a composite visualization.\n"
   ]
  },
  {
   "cell_type": "code",
   "execution_count": 6,
   "id": "a1e71ff9",
   "metadata": {},
   "outputs": [],
   "source": [
    "import torch, gc\n",
    "from degis.inference import generate_by_style, generate_by_colour_emd_constrained\n",
    "from degis.shared.utils.visualization import visualize_generation_comparison, create_generation_metrics\n",
    "from degis.shared.utils.image_utils import create_control_edge_pil\n",
    "from degis.inference.core_generation import get_color_embedding\n",
    "\n",
    "def generate_comparison_snippet(\n",
    "    colour_index: int,\n",
    "    layout_index: int,\n",
    "    prompt: str = \"a cat playing with a ball\",\n",
    "    guidance_scale: float = 6.5,\n",
    "    steps: int = 40,\n",
    "    controlnet_conditioning_scale: float = 0.8,\n",
    "    num_samples: int = 1,\n",
    "    attn_ip_scale: float = 0.8,\n",
    "    text_token_scale: float = 1.0,\n",
    "    ip_token_scale: float = None,\n",
    "    ip_uncond_scale: float = 0.0,\n",
    "    zero_ip_in_uncond: bool = True,\n",
    "    # EMD generation parameters\n",
    "    target_emd_threshold: float = 0.1,\n",
    "    max_attempts: int = 20,\n",
    "    top_k: int = 20,\n",
    "    color_space: str = None,\n",
    "):\n",
    "    \"\"\"Simple snippet to generate both style and EMD images with visualization.\"\"\"\n",
    "    \n",
    "    # Clear GPU memory\n",
    "    gc.collect()\n",
    "    torch.cuda.empty_cache()\n",
    "    \n",
    "    print(f\"🎨 Generating comparison for colour_index={colour_index}, layout_index={layout_index}\")\n",
    "    print(f\"📝 Prompt: '{prompt}'\")\n",
    "    \n",
    "    # Get original image for display\n",
    "    img_t, _ = colour_dataset[colour_index]\n",
    "    pil_img = transforms.ToPILImage()(img_t)\n",
    "    \n",
    "    # Get CLIP embedding and compute color embedding\n",
    "    z_clip = torch.as_tensor(embeddings[colour_index], dtype=torch.float32, device=device).unsqueeze(0)\n",
    "    color_embedding = get_color_embedding(color_head, z_clip)\n",
    "    \n",
    "    # Create control image from edge data\n",
    "    control_image = create_control_edge_pil(edge_maps[layout_index], size=512)\n",
    "    \n",
    "    # Compute color histogram for EMD constraint\n",
    "    from degis.inference.generation_functions import compute_histogram_for_color_space, detect_color_space\n",
    "    color_histogram = compute_histogram_for_color_space(pil_img, color_space or \"lab\", bins=8)\n",
    "    if color_space is None:\n",
    "        color_space = detect_color_space(color_histogram)\n",
    "    \n",
    "    print(f\"📊 Color space: {color_space}, Histogram shape: {color_histogram.shape}\")\n",
    "    \n",
    "    # 1. Style Generation (one-shot)\n",
    "    print(\"\\nRunning style generation...\")\n",
    "    import time\n",
    "    start_time = time.time()\n",
    "    \n",
    "    style_images = generate_by_style(\n",
    "        generator=generator,\n",
    "        pil_image=pil_img,\n",
    "        control_image=control_image,\n",
    "        prompt=prompt,\n",
    "        num_samples=num_samples,\n",
    "        guidance_scale=guidance_scale,\n",
    "        num_inference_steps=steps,\n",
    "        controlnet_conditioning_scale=controlnet_conditioning_scale,\n",
    "        attn_ip_scale=attn_ip_scale,\n",
    "        text_token_scale=text_token_scale,\n",
    "        ip_token_scale=ip_token_scale,\n",
    "        ip_uncond_scale=ip_uncond_scale,\n",
    "        zero_ip_in_uncond=zero_ip_in_uncond\n",
    "    )\n",
    "    style_time = time.time() - start_time\n",
    "    style_generated_image = style_images[0]\n",
    "    \n",
    "    # Calculate metrics for style generation\n",
    "    from degis.inference.generation_functions import calculate_emd_distance_topk, calculate_cosine_similarity\n",
    "    style_emd = calculate_emd_distance_topk(color_histogram, compute_histogram_for_color_space(style_generated_image, color_space, bins=8))\n",
    "    style_cosine = calculate_cosine_similarity(prompt, style_generated_image)\n",
    "    \n",
    "    style_metrics = create_generation_metrics(\n",
    "        generation_time=style_time,\n",
    "        emd_score=style_emd,\n",
    "        cosine_score=style_cosine\n",
    "    )\n",
    "    \n",
    "    print(f\"✅ Style generation: {style_time:.2f}s, EMD: {style_emd:.4f}, Cosine: {style_cosine:.4f}\")\n",
    "    \n",
    "    # 2. EMD-Constrained Generation\n",
    "    print(\"\\nRunning EMD-constrained generation...\")\n",
    "    start_time = time.time()\n",
    "    \n",
    "    emd_images, emd_score, emd_cosine, attempts = generate_by_colour_emd_constrained(\n",
    "        generator=generator,\n",
    "        color_embedding=color_embedding,\n",
    "        control_image=control_image,\n",
    "        original_histogram=color_histogram,\n",
    "        prompt=prompt,\n",
    "        target_emd_threshold=target_emd_threshold,\n",
    "        max_attempts=max_attempts,\n",
    "        top_k=top_k,\n",
    "        color_space=color_space,\n",
    "        guidance_scale=guidance_scale,\n",
    "        num_inference_steps=steps,\n",
    "        controlnet_conditioning_scale=controlnet_conditioning_scale,\n",
    "        attn_ip_scale=attn_ip_scale,\n",
    "        text_token_scale=text_token_scale,\n",
    "        ip_token_scale=ip_token_scale,\n",
    "        ip_uncond_scale=ip_uncond_scale,\n",
    "        zero_ip_in_uncond=zero_ip_in_uncond,\n",
    "        verbose=True\n",
    "    )\n",
    "    emd_time = time.time() - start_time\n",
    "    emd_generated_image = emd_images[0]\n",
    "    \n",
    "    emd_metrics = create_generation_metrics(\n",
    "        generation_time=emd_time,\n",
    "        emd_score=emd_score,\n",
    "        cosine_score=emd_cosine,\n",
    "        attempts=attempts\n",
    "    )\n",
    "    \n",
    "    print(f\"✅ EMD generation: {emd_time:.2f}s, EMD: {emd_score:.4f}, Cosine: {emd_cosine:.4f}, Attempts: {attempts}\")\n",
    "    \n",
    "    # 3. Create comprehensive visualization\n",
    "    print(\"\\nCreating comprehensive visualization...\")\n",
    "    \n",
    "    visualization = visualize_generation_comparison(\n",
    "        color_source_image=pil_img,\n",
    "        edge_map_image=control_image,\n",
    "        style_generated_image=style_generated_image,\n",
    "        emd_generated_image=emd_generated_image,\n",
    "        color_histogram=color_histogram,\n",
    "        color_space=color_space,\n",
    "        style_metrics=style_metrics,\n",
    "        emd_metrics=emd_metrics,\n",
    "        grid_size=256,\n",
    "        font_size=16\n",
    "    )\n",
    "    \n",
    "    print(f\"✅ Visualization created: {visualization.size}\")\n",
    "    print(\"Final comparison:\")\n",
    "    print(f\"   Style: EMD={style_emd:.4f}, Cosine={style_cosine:.4f}\")\n",
    "    print(f\"   EMD:   EMD={emd_score:.4f}, Cosine={emd_cosine:.4f}\")\n",
    "    \n",
    "    from IPython.display import display\n",
    "    display(visualization)\n",
    "    \n",
    "    return visualization, style_metrics, emd_metrics\n"
   ]
  },
  {
   "cell_type": "markdown",
   "id": "e7afb969",
   "metadata": {},
   "source": [
    "# 1st Generation Scenario\n",
    "\n",
    "We generate teh images using a fixed prompt and settings for comparability, same layout image, and three different versions of the advertisment with 3 different colour palettes\n"
   ]
  },
  {
   "cell_type": "code",
   "execution_count": null,
   "id": "e6158814",
   "metadata": {},
   "outputs": [],
   "source": [
    "visualization_30_1000, style_metrics_30_1000, emd_metrics_30_1000 = generate_comparison_snippet(\n",
    "    colour_index=1000,\n",
    "    layout_index=30,\n",
    "    prompt=\"a car, advertisement style, professional photography\",\n",
    "    guidance_scale=7,\n",
    "    steps=30,\n",
    "    controlnet_conditioning_scale=0.5,\n",
    "    num_samples=1,\n",
    "    attn_ip_scale=0.6,\n",
    "    text_token_scale=1.5,\n",
    "    ip_token_scale=0.4,\n",
    "    ip_uncond_scale=0.0,\n",
    "    zero_ip_in_uncond=False,\n",
    "    target_emd_threshold=0.02,\n",
    "    max_attempts=20\n",
    ")"
   ]
  },
  {
   "cell_type": "code",
   "execution_count": null,
   "id": "7ac9c6e5",
   "metadata": {},
   "outputs": [],
   "source": [
    "visualization_30_1001, style_metrics_30_1001, emd_metrics_30_1001 = generate_comparison_snippet(\n",
    "    colour_index=1001,\n",
    "    layout_index=30,\n",
    "    prompt=\"a car, advertisement style, professional photography\",\n",
    "    guidance_scale=7,\n",
    "    steps=30,\n",
    "    controlnet_conditioning_scale=0.5,\n",
    "    num_samples=1,\n",
    "    attn_ip_scale=0.6,\n",
    "    text_token_scale=1.5,\n",
    "    ip_token_scale=0.4,\n",
    "    ip_uncond_scale=0.0,\n",
    "    zero_ip_in_uncond=False,\n",
    "    target_emd_threshold=0.02,\n",
    "    max_attempts=20\n",
    ")"
   ]
  },
  {
   "cell_type": "code",
   "execution_count": null,
   "id": "4c11ac58",
   "metadata": {},
   "outputs": [],
   "source": [
    "visualization_30_1008, style_metrics_30_1008, emd_metrics_30_1008 = generate_comparison_snippet(\n",
    "    colour_index=1008,\n",
    "    layout_index=30,\n",
    "    prompt=\"a car, advertisement style, professional photography\",\n",
    "    guidance_scale=7,\n",
    "    steps=30,\n",
    "    controlnet_conditioning_scale=0.5,\n",
    "    num_samples=1,\n",
    "    attn_ip_scale=0.6,\n",
    "    text_token_scale=1.5,\n",
    "    ip_token_scale=0.4,\n",
    "    ip_uncond_scale=0.0,\n",
    "    zero_ip_in_uncond=False,\n",
    "    target_emd_threshold=0.02,\n",
    "    max_attempts=20\n",
    ")"
   ]
  },
  {
   "cell_type": "markdown",
   "id": "5f4bc058",
   "metadata": {},
   "source": [
    "# 2nd Generation Scenario\n",
    "\n",
    "Similar to 2nd generation, but different layout image (footer banner)\n"
   ]
  },
  {
   "cell_type": "code",
   "execution_count": null,
   "id": "edf51ffb",
   "metadata": {},
   "outputs": [],
   "source": [
    "visualization_71_1000, style_metrics_71_1000, emd_metrics_71_1000 = generate_comparison_snippet(\n",
    "    colour_index=1000,\n",
    "    layout_index=71,\n",
    "    prompt=\"a car, advertisement style, professional photography\",\n",
    "    guidance_scale=7,\n",
    "    steps=30,\n",
    "    controlnet_conditioning_scale=0.5,\n",
    "    num_samples=1,\n",
    "    attn_ip_scale=0.6,\n",
    "    text_token_scale=1.5,\n",
    "    ip_token_scale=0.4,\n",
    "    ip_uncond_scale=0.0,\n",
    "    zero_ip_in_uncond=False,\n",
    "    target_emd_threshold=0.02,\n",
    "    max_attempts=20\n",
    ")"
   ]
  },
  {
   "cell_type": "code",
   "execution_count": null,
   "id": "c82a8c24",
   "metadata": {},
   "outputs": [],
   "source": [
    "visualization_71_1001, style_metrics_71_1001, emd_metrics_71_1001 = generate_comparison_snippet(\n",
    "    colour_index=1001,\n",
    "    layout_index=71,\n",
    "    prompt=\"a car, advertisement style, professional photography\",\n",
    "    guidance_scale=7,\n",
    "    steps=30,\n",
    "    controlnet_conditioning_scale=0.5,\n",
    "    num_samples=1,\n",
    "    attn_ip_scale=0.6,\n",
    "    text_token_scale=1.5,\n",
    "    ip_token_scale=0.4,\n",
    "    ip_uncond_scale=0.0,\n",
    "    zero_ip_in_uncond=False,\n",
    "    target_emd_threshold=0.02,\n",
    "    max_attempts=20\n",
    ")"
   ]
  },
  {
   "cell_type": "code",
   "execution_count": null,
   "id": "d9c66114",
   "metadata": {},
   "outputs": [],
   "source": [
    "visualization_71_1008, style_metrics_71_1008, emd_metrics_71_1008 = generate_comparison_snippet(\n",
    "    colour_index=1008,\n",
    "    layout_index=71,\n",
    "    prompt=\"a car, advertisement style, professional photography\",\n",
    "    guidance_scale=7,\n",
    "    steps=30,\n",
    "    controlnet_conditioning_scale=0.5,\n",
    "    num_samples=1,\n",
    "    attn_ip_scale=0.6,\n",
    "    text_token_scale=1.5,\n",
    "    ip_token_scale=0.4,\n",
    "    ip_uncond_scale=0.0,\n",
    "    zero_ip_in_uncond=False,\n",
    "    target_emd_threshold=0.02,\n",
    "    max_attempts=20\n",
    ")\n"
   ]
  },
  {
   "cell_type": "markdown",
   "id": "0d871de2",
   "metadata": {},
   "source": [
    "# 3rd Generations Scenario\n",
    "Features 1 layout and 2 colour palettes, a prompt that doesn't describe the layout"
   ]
  },
  {
   "cell_type": "code",
   "execution_count": null,
   "id": "e244d380",
   "metadata": {},
   "outputs": [],
   "source": [
    "visualization_74_1000, style_metrics_74_1000, emd_metrics_74_1000 = generate_comparison_snippet(\n",
    "    colour_index=1000,\n",
    "    layout_index=400,\n",
    "    prompt=\"a boat, advertisement style, professional photography\",\n",
    "    guidance_scale=7,\n",
    "    steps=50,\n",
    "    controlnet_conditioning_scale=0.4,\n",
    "    num_samples=1,\n",
    "    attn_ip_scale=0.6,\n",
    "    text_token_scale=2.5,\n",
    "    ip_token_scale=0.7,\n",
    "    ip_uncond_scale=0.0,\n",
    "    zero_ip_in_uncond=False,\n",
    "    target_emd_threshold=0.02,\n",
    "    max_attempts=1\n",
    ")"
   ]
  },
  {
   "cell_type": "code",
   "execution_count": null,
   "id": "2445d4f6",
   "metadata": {},
   "outputs": [],
   "source": [
    "visualization_74_1000, style_metrics_74_1000, emd_metrics_74_1000 = generate_comparison_snippet(\n",
    "    colour_index=1008,\n",
    "    layout_index=507,\n",
    "    prompt=\"a boat, advertisement style, professional photography\",\n",
    "    guidance_scale=7,\n",
    "    steps=50,\n",
    "    controlnet_conditioning_scale=0.4,\n",
    "    num_samples=1,\n",
    "    attn_ip_scale=0.6,\n",
    "    text_token_scale=3.5,\n",
    "    ip_token_scale=0.9,\n",
    "    ip_uncond_scale=0.0,\n",
    "    zero_ip_in_uncond=False,\n",
    "    target_emd_threshold=0.02,\n",
    "    max_attempts=5\n",
    ")"
   ]
  },
  {
   "cell_type": "code",
   "execution_count": null,
   "id": "fe3f122d",
   "metadata": {},
   "outputs": [],
   "source": []
  },
  {
   "cell_type": "code",
   "execution_count": null,
   "id": "8b13d74b",
   "metadata": {},
   "outputs": [],
   "source": []
  },
  {
   "cell_type": "code",
   "execution_count": null,
   "id": "c4c3b6e6",
   "metadata": {},
   "outputs": [],
   "source": []
  },
  {
   "cell_type": "code",
   "execution_count": null,
   "id": "86f28d21",
   "metadata": {},
   "outputs": [],
   "source": []
  },
  {
   "cell_type": "code",
   "execution_count": null,
   "id": "a2cfba5e",
   "metadata": {},
   "outputs": [],
   "source": [
    "# --- helpers (edges, metrics) ---\n",
    "import numpy as np, time, torch\n",
    "from PIL import Image\n",
    "try:\n",
    "    from skimage.feature import canny as sk_canny\n",
    "    from skimage.metrics import structural_similarity as ssim\n",
    "    _HAS_SKIMAGE = True\n",
    "except Exception:\n",
    "    _HAS_SKIMAGE = False\n",
    "from numpy.typing import ArrayLike\n",
    "\n",
    "def _edge_from_pil(img: Image.Image, sigma: float = 1.0) -> np.ndarray:\n",
    "    \"\"\"0..1 float edge map from PIL image; uses skimage if available, else a simple Sobel fallback.\"\"\"\n",
    "    g = np.asarray(img.convert(\"L\"), dtype=np.float32) / 255.0\n",
    "    if _HAS_SKIMAGE:\n",
    "        e = sk_canny(g, sigma=sigma).astype(np.float32)\n",
    "    else:\n",
    "        # Sobel fallback (no extra deps)\n",
    "        gx = np.gradient(g, axis=1); gy = np.gradient(g, axis=0)\n",
    "        mag = np.hypot(gx, gy)\n",
    "        thr = np.quantile(mag, 0.90)\n",
    "        e = (mag >= thr).astype(np.float32)\n",
    "    return e\n",
    "\n",
    "def _bin(x: ArrayLike, thr: float = 0.5) -> np.ndarray:\n",
    "    return (np.asarray(x, dtype=np.float32) >= thr).astype(np.uint8)\n",
    "\n",
    "def f1_iou(pred: ArrayLike, targ: ArrayLike, thr: float = 0.5):\n",
    "    \"\"\"F1 and IoU on binarised maps.\"\"\"\n",
    "    p = _bin(pred, thr); t = _bin(targ, thr)\n",
    "    tp = np.sum((p == 1) & (t == 1))\n",
    "    fp = np.sum((p == 1) & (t == 0))\n",
    "    fn = np.sum((p == 0) & (t == 1))\n",
    "    denom_f1 = (2*tp + fp + fn)\n",
    "    f1 = (2*tp / denom_f1) if denom_f1 else 1.0\n",
    "    denom_iou = (tp + fp + fn)\n",
    "    iou = (tp / denom_iou) if denom_iou else 1.0\n",
    "    return float(f1), float(iou)\n",
    "\n",
    "# --- evaluation buffer ---\n",
    "records = []  # each item is a dict (see below)\n",
    "\n",
    "# --- one-shot case evaluator (returns a dict; does NOT mutate global state) ---\n",
    "def evaluate_case(\n",
    "    *,                                   # keyword-only for clarity\n",
    "    colour_img: Image.Image,             # style reference image (PIL)\n",
    "    control_edge_ref: Image.Image,       # reference edge map (PIL, 0..255)\n",
    "    color_head,                          # trained colour head (nn.Module)\n",
    "    generator,                           # IP-Adapter pipeline wrapper\n",
    "    prompt: str,\n",
    "    z_clip_row: np.ndarray,              # 1D numpy (D,)\n",
    "    color_space: str = \"lab\",\n",
    "    bins: int = 80,                      # for on-the-fly histogram + EMD\n",
    "    # gauges\n",
    "    attn_ip_scale: float = 0.7,\n",
    "    text_token_scale: float = 1.2,\n",
    "    ip_token_scale: float = 0.6,\n",
    "    ip_uncond_scale: float = 0.0,\n",
    "    zero_ip_in_uncond: bool = True,\n",
    "    # sampling\n",
    "    guidance_scale: float = 8.0,\n",
    "    steps: int = 60,\n",
    "    controlnet_conditioning_scale: float = 0.7,\n",
    "    # outer loop (only used in palette path helper if you set target)\n",
    "    target_emd_threshold: float | None = None,\n",
    "    max_attempts: int = 20,\n",
    "    top_k: int = 20,\n",
    "):\n",
    "    \"\"\"\n",
    "    Runs (A) style baseline and (B) palette-tokens variant.\n",
    "    Returns a single dict with EMD/CLIP/edge metrics & timings for both paths.\n",
    "    \"\"\"\n",
    "    from degis.inference import generate_by_style, generate_by_colour_emd_constrained\n",
    "    from degis.shared.utils.image_utils import create_control_edge_pil\n",
    "    from degis.inference.generation_functions import (\n",
    "        compute_histogram_for_color_space, calculate_emd_distance_topk, calculate_cosine_similarity,\n",
    "        get_color_embedding\n",
    "    )\n",
    "\n",
    "    # prep common things\n",
    "    t0 = time.time()\n",
    "    z_clip = torch.tensor(z_clip_row, dtype=torch.float32, device=\"cuda\" if torch.cuda.is_available() else \"cpu\").unsqueeze(0)\n",
    "    hist_color = compute_histogram_for_color_space(colour_img, color_space=color_space, bins=bins)\n",
    "    # ref edges (0..1 float)\n",
    "    edge_ref = np.asarray(control_edge_ref.convert(\"L\"), dtype=np.float32) / 255.0\n",
    "\n",
    "    # --- (A) style baseline ---\n",
    "    tA = time.time()\n",
    "    style_imgs = generate_by_style(\n",
    "        generator=generator,\n",
    "        pil_image=colour_img,\n",
    "        control_image=control_edge_ref,\n",
    "        prompt=prompt,\n",
    "        num_samples=1,\n",
    "        guidance_scale=guidance_scale,\n",
    "        num_inference_steps=steps,\n",
    "        controlnet_conditioning_scale=controlnet_conditioning_scale,\n",
    "        attn_ip_scale=attn_ip_scale,\n",
    "        text_token_scale=text_token_scale,\n",
    "        ip_token_scale=None,          # stock behaviour (style ref)\n",
    "        ip_uncond_scale=None,\n",
    "        zero_ip_in_uncond=False,\n",
    "    )\n",
    "    style_img = style_imgs[0]\n",
    "    tA = time.time() - tA\n",
    "\n",
    "    # metrics for style\n",
    "    style_hist = compute_histogram_for_color_space(style_img, color_space=color_space, bins=bins)\n",
    "    style_emd  = calculate_emd_distance_topk(hist_color, style_hist, top_k=top_k)\n",
    "    style_cos  = calculate_cosine_similarity(prompt, style_img)\n",
    "    style_edge = _edge_from_pil(style_img)\n",
    "    style_f1, style_iou = f1_iou(style_edge, edge_ref, thr=0.5)\n",
    "    style_ssim = float(ssim(edge_ref, style_edge)) if _HAS_SKIMAGE else np.nan\n",
    "\n",
    "    # --- (B) palette-tokens path (with outer loop disabled by default) ---\n",
    "    tB = time.time()\n",
    "    color_emb = get_color_embedding(color_head, z_clip)  # [B, D]\n",
    "    emd_imgs, emd_score, emd_cos, attempts = generate_by_colour_emd_constrained(\n",
    "        generator=generator,\n",
    "        color_embedding=color_emb,\n",
    "        control_image=control_edge_ref,\n",
    "        original_histogram=hist_color,\n",
    "        prompt=prompt,\n",
    "        target_emd_threshold=target_emd_threshold,\n",
    "        max_attempts=max_attempts,\n",
    "        top_k=top_k,\n",
    "        color_space=color_space,\n",
    "        guidance_scale=guidance_scale,\n",
    "        num_inference_steps=steps,\n",
    "        controlnet_conditioning_scale=controlnet_conditioning_scale,\n",
    "        attn_ip_scale=attn_ip_scale,\n",
    "        text_token_scale=text_token_scale,\n",
    "        ip_token_scale=ip_token_scale,\n",
    "        ip_uncond_scale=ip_uncond_scale,\n",
    "        zero_ip_in_uncond=zero_ip_in_uncond,\n",
    "        verbose=False\n",
    "    )\n",
    "    emd_img = emd_imgs[0]\n",
    "    tB = time.time() - tB\n",
    "\n",
    "    # metrics for palette path\n",
    "    gen_hist  = compute_histogram_for_color_space(emd_img, color_space=color_space, bins=bins)\n",
    "    gen_emd   = calculate_emd_distance_topk(hist_color, gen_hist, top_k=top_k)\n",
    "    gen_cos   = calculate_cosine_similarity(prompt, emd_img)\n",
    "    gen_edge  = _edge_from_pil(emd_img)\n",
    "    gen_f1, gen_iou = f1_iou(gen_edge, edge_ref, thr=0.5)\n",
    "    gen_ssim = float(ssim(edge_ref, gen_edge)) if _HAS_SKIMAGE else np.nan\n",
    "\n",
    "    return {\n",
    "        # reference\n",
    "        \"edge_ref\": edge_ref,\n",
    "        # style path\n",
    "        \"style_img\": style_img, \"style_time\": tA, \"emd_style\": float(style_emd), \"cos_style\": float(style_cos),\n",
    "        \"edge_style\": style_edge, \"f1_style\": style_f1, \"iou_style\": style_iou, \"ssim_style\": style_ssim,\n",
    "        # palette path\n",
    "        \"emd_img\": emd_img, \"emd_time\": tB, \"emd_palette\": float(gen_emd), \"cos_palette\": float(gen_cos),\n",
    "        \"edge_emd\": gen_edge, \"f1_emd\": gen_f1, \"iou_emd\": gen_iou, \"ssim_emd\": gen_ssim,\n",
    "        \"attempts\": int(attempts),\n",
    "    }\n"
   ]
  },
  {
   "cell_type": "code",
   "execution_count": null,
   "id": "87eeda9d",
   "metadata": {},
   "outputs": [],
   "source": [
    "# thresholds to report\n",
    "taus = [0.020, 0.025, 0.030]\n",
    "\n",
    "emd_vals_palette = np.array([r[\"emd_palette\"] for r in records], dtype=float)\n",
    "emd_vals_style   = np.array([r[\"emd_style\"]   for r in records], dtype=float)\n",
    "\n",
    "def _pass_at_tau(arr, tau): return float(np.mean(arr <= tau))\n",
    "\n",
    "print(\"Pass@τ (palette-tokens)  |  (style baseline)\")\n",
    "for t in taus:\n",
    "    print(f\"  τ={t:.3f}:  { _pass_at_tau(emd_vals_palette,t):.3f}   |   { _pass_at_tau(emd_vals_style,t):.3f}\")\n"
   ]
  },
  {
   "cell_type": "code",
   "execution_count": null,
   "id": "ca09c538",
   "metadata": {},
   "outputs": [],
   "source": [
    "delta = emd_vals_style - emd_vals_palette  # positive = our method improves\n",
    "print(f\"ΔEMD (style − palette): mean={delta.mean():.5f}, median={np.median(delta):.5f}\")\n",
    "# tiny text histogram (bins=7)\n",
    "hist, edges = np.histogram(delta, bins=7)\n",
    "print(\"hist ΔEMD:\", hist.tolist())\n",
    "print(\"bins:\", [round(x,5) for x in edges.tolist()])\n"
   ]
  },
  {
   "cell_type": "code",
   "execution_count": null,
   "id": "b8858b00",
   "metadata": {},
   "outputs": [],
   "source": [
    "f1_s = np.array([r[\"f1_style\"] for r in records], dtype=float)\n",
    "f1_p = np.array([r[\"f1_emd\"]   for r in records], dtype=float)\n",
    "iou_s = np.array([r[\"iou_style\"] for r in records], dtype=float)\n",
    "iou_p = np.array([r[\"iou_emd\"]   for r in records], dtype=float)\n",
    "ssim_s = np.array([r[\"ssim_style\"] for r in records], dtype=float)\n",
    "ssim_p = np.array([r[\"ssim_emd\"]   for r in records], dtype=float)\n",
    "\n",
    "def _m(m): return f\"{np.nanmean(m):.3f}±{np.nanstd(m):.3f}\"\n",
    "\n",
    "print(\"Edge adherence  (mean±sd)\")\n",
    "print(f\"  F1:   style={_m(f1_s)}   palette={_m(f1_p)}\")\n",
    "print(f\"  IoU:  style={_m(iou_s)}  palette={_m(iou_p)}\")\n",
    "print(f\"  SSIM: style={_m(ssim_s)} palette={_m(ssim_p)}  (nan if skimage not present)\")\n"
   ]
  },
  {
   "cell_type": "code",
   "execution_count": null,
   "id": "7302953c",
   "metadata": {},
   "outputs": [],
   "source": [
    "cos_s = np.array([r[\"cos_style\"] for r in records], dtype=float)\n",
    "cos_p = np.array([r[\"cos_palette\"] for r in records], dtype=float)\n",
    "print(f\"CLIP cosine — style:   mean={cos_s.mean():.4f}\")\n",
    "print(f\"CLIP cosine — palette: mean={cos_p.mean():.4f}\")\n",
    "print(f\"Δ (palette − style):   mean={(cos_p - cos_s).mean():.4f}\")\n"
   ]
  },
  {
   "cell_type": "code",
   "execution_count": null,
   "id": "80292c93",
   "metadata": {},
   "outputs": [],
   "source": [
    "scales = [0.4, 0.7, 1.0]\n",
    "subset_idx = list(range(min(20, len(records))))  # choose any subset of cases you've already staged\n",
    "table = {s: [] for s in scales}\n",
    "\n",
    "# We reuse the same inputs as the original record, but re-run only palette path:\n",
    "for s in scales:\n",
    "    vals = []\n",
    "    for i in subset_idx:\n",
    "        r = records[i]\n",
    "        # rebuild a minimal call using the same scene inputs you used for r\n",
    "        # tip: cache your raw inputs (colour_img, edge_ref PIL, z_clip row, prompt) alongside each record if you want this to be exact.\n",
    "        # If you didn't cache them, just rerun your small data loader loop here to fetch them by index.\n",
    "        # ---- example if you cached ----\n",
    "        case = evaluate_case(\n",
    "            colour_img=r[\"colour_img\"],                 # <-- store these when creating records\n",
    "            control_edge_ref=r[\"control_edge_ref\"],\n",
    "            color_head=color_head,\n",
    "            generator=generator,\n",
    "            prompt=r[\"prompt\"],\n",
    "            z_clip_row=r[\"z_clip_row\"],\n",
    "            ip_token_scale=s,\n",
    "            text_token_scale=1.2,\n",
    "            attn_ip_scale=0.7,\n",
    "            zero_ip_in_uncond=True,\n",
    "            ip_uncond_scale=0.0,\n",
    "            guidance_scale=8.0, steps=60,\n",
    "            controlnet_conditioning_scale=0.7,\n",
    "        )\n",
    "        vals.append(case[\"emd_palette\"])\n",
    "    table[s] = vals\n",
    "\n",
    "print(\"EMD vs ip_token_scale (lower is better)\")\n",
    "for s in scales:\n",
    "    arr = np.array(table[s], dtype=float)\n",
    "    print(f\"  {s:.1f}: mean={arr.mean():.4f}, median={np.median(arr):.4f}, n={len(arr)}\")\n"
   ]
  },
  {
   "cell_type": "code",
   "execution_count": null,
   "id": "bb5011f7",
   "metadata": {},
   "outputs": [],
   "source": [
    "attempts = np.array([r[\"attempts\"] for r in records], dtype=float)\n",
    "emd_p     = np.array([r[\"emd_palette\"] for r in records], dtype=float)\n",
    "\n",
    "# success rates within a budget (e.g., 20 attempts) for thresholds:\n",
    "taus = [0.020, 0.025, 0.030]\n",
    "budget = 20\n",
    "print(f\"Attempts stats: mean={attempts.mean():.2f}, median={np.median(attempts):.1f}\")\n",
    "for t in taus:\n",
    "    succ = (emd_p <= t) & (attempts <= budget)\n",
    "    print(f\"Success@{t:.3f} within {budget} attempts: {succ.mean():.3f}\")\n"
   ]
  },
  {
   "cell_type": "code",
   "execution_count": null,
   "id": "68eab996",
   "metadata": {},
   "outputs": [],
   "source": []
  },
  {
   "cell_type": "code",
   "execution_count": null,
   "id": "6ffdba09",
   "metadata": {},
   "outputs": [],
   "source": []
  },
  {
   "cell_type": "code",
   "execution_count": null,
   "id": "78dbc0cc",
   "metadata": {},
   "outputs": [],
   "source": []
  },
  {
   "cell_type": "code",
   "execution_count": null,
   "id": "ecc4b095",
   "metadata": {},
   "outputs": [],
   "source": []
  },
  {
   "cell_type": "code",
   "execution_count": null,
   "id": "2100aac3",
   "metadata": {},
   "outputs": [],
   "source": []
  },
  {
   "cell_type": "code",
   "execution_count": null,
   "id": "5f538149",
   "metadata": {},
   "outputs": [],
   "source": []
  },
  {
   "cell_type": "code",
   "execution_count": null,
   "id": "1780455b",
   "metadata": {},
   "outputs": [],
   "source": []
  },
  {
   "cell_type": "code",
   "execution_count": null,
   "id": "79aebdd2",
   "metadata": {},
   "outputs": [],
   "source": []
  },
  {
   "cell_type": "code",
   "execution_count": null,
   "id": "f227ff57",
   "metadata": {},
   "outputs": [],
   "source": []
  },
  {
   "cell_type": "code",
   "execution_count": null,
   "id": "cd6bc302",
   "metadata": {},
   "outputs": [],
   "source": []
  },
  {
   "cell_type": "code",
   "execution_count": null,
   "metadata": {},
   "outputs": [],
   "source": []
  },
  {
   "cell_type": "code",
   "execution_count": null,
   "id": "bed57680",
   "metadata": {},
   "outputs": [],
   "source": []
  },
  {
   "cell_type": "code",
   "execution_count": null,
   "id": "4552d3af",
   "metadata": {},
   "outputs": [],
   "source": []
  },
  {
   "cell_type": "code",
   "execution_count": 9,
   "id": "a6ae38f4",
   "metadata": {},
   "outputs": [
    {
     "name": "stdout",
     "output_type": "stream",
     "text": [
      "Testing these colour_index, layout_index pairs:\n",
      "   1: colour_index=   1000, layout_index=  30\n",
      "   2: colour_index=   1000, layout_index=  71\n",
      "   3: colour_index=   1000, layout_index= 400\n",
      "   4: colour_index=   1000, layout_index= 507\n",
      "   5: colour_index=   1001, layout_index=  30\n",
      "   6: colour_index=   1001, layout_index=  71\n",
      "   7: colour_index=   1001, layout_index= 400\n",
      "   8: colour_index=   1001, layout_index= 507\n",
      "   9: colour_index=   1002, layout_index=  30\n",
      "  10: colour_index=   1002, layout_index=  71\n",
      "  11: colour_index=   1002, layout_index= 400\n",
      "  12: colour_index=   1002, layout_index= 507\n",
      "  13: colour_index=   1003, layout_index=  30\n",
      "  14: colour_index=   1003, layout_index=  71\n",
      "  15: colour_index=   1003, layout_index= 400\n",
      "  16: colour_index=   1003, layout_index= 507\n",
      "  17: colour_index=   1004, layout_index=  30\n",
      "  18: colour_index=   1004, layout_index=  71\n",
      "  19: colour_index=   1004, layout_index= 400\n",
      "  20: colour_index=   1004, layout_index= 507\n",
      "  21: colour_index=   1005, layout_index=  30\n",
      "  22: colour_index=   1005, layout_index=  71\n",
      "  23: colour_index=   1005, layout_index= 400\n",
      "  24: colour_index=   1005, layout_index= 507\n",
      "  25: colour_index=   1006, layout_index=  30\n",
      "  26: colour_index=   1006, layout_index=  71\n",
      "  27: colour_index=   1006, layout_index= 400\n",
      "  28: colour_index=   1006, layout_index= 507\n",
      "  29: colour_index=   1007, layout_index=  30\n",
      "  30: colour_index=   1007, layout_index=  71\n",
      "  31: colour_index=   1007, layout_index= 400\n",
      "  32: colour_index=   1007, layout_index= 507\n",
      "  33: colour_index=   1008, layout_index=  30\n",
      "  34: colour_index=   1008, layout_index=  71\n",
      "  35: colour_index=   1008, layout_index= 400\n",
      "  36: colour_index=   1008, layout_index= 507\n",
      "  37: colour_index=   1009, layout_index=  30\n",
      "  38: colour_index=   1009, layout_index=  71\n",
      "  39: colour_index=   1009, layout_index= 400\n",
      "  40: colour_index=   1009, layout_index= 507\n",
      "  41: colour_index=   1010, layout_index=  30\n",
      "  42: colour_index=   1010, layout_index=  71\n",
      "  43: colour_index=   1010, layout_index= 400\n",
      "  44: colour_index=   1010, layout_index= 507\n",
      "  45: colour_index=   1011, layout_index=  30\n",
      "  46: colour_index=   1011, layout_index=  71\n",
      "  47: colour_index=   1011, layout_index= 400\n",
      "  48: colour_index=   1011, layout_index= 507\n",
      "  49: colour_index=   1012, layout_index=  30\n",
      "  50: colour_index=   1012, layout_index=  71\n",
      "  51: colour_index=   1012, layout_index= 400\n",
      "  52: colour_index=   1012, layout_index= 507\n",
      "  53: colour_index=   1013, layout_index=  30\n",
      "  54: colour_index=   1013, layout_index=  71\n",
      "  55: colour_index=   1013, layout_index= 400\n",
      "  56: colour_index=   1013, layout_index= 507\n",
      "  57: colour_index=   1014, layout_index=  30\n",
      "  58: colour_index=   1014, layout_index=  71\n",
      "  59: colour_index=   1014, layout_index= 400\n",
      "  60: colour_index=   1014, layout_index= 507\n",
      "  61: colour_index=   1015, layout_index=  30\n",
      "  62: colour_index=   1015, layout_index=  71\n",
      "  63: colour_index=   1015, layout_index= 400\n",
      "  64: colour_index=   1015, layout_index= 507\n",
      "  65: colour_index=   1016, layout_index=  30\n",
      "  66: colour_index=   1016, layout_index=  71\n",
      "  67: colour_index=   1016, layout_index= 400\n",
      "  68: colour_index=   1016, layout_index= 507\n",
      "  69: colour_index=   1017, layout_index=  30\n",
      "  70: colour_index=   1017, layout_index=  71\n",
      "  71: colour_index=   1017, layout_index= 400\n",
      "  72: colour_index=   1017, layout_index= 507\n",
      "  73: colour_index=   1018, layout_index=  30\n",
      "  74: colour_index=   1018, layout_index=  71\n",
      "  75: colour_index=   1018, layout_index= 400\n",
      "  76: colour_index=   1018, layout_index= 507\n",
      "  77: colour_index=   1019, layout_index=  30\n",
      "  78: colour_index=   1019, layout_index=  71\n",
      "  79: colour_index=   1019, layout_index= 400\n",
      "  80: colour_index=   1019, layout_index= 507\n",
      "Total pairs: 80\n"
     ]
    },
    {
     "data": {
      "application/vnd.jupyter.widget-view+json": {
       "model_id": "27152be0c9b045f2a7951536f461aebf",
       "version_major": 2,
       "version_minor": 0
      },
      "text/plain": [
       "  0%|          | 0/30 [00:00<?, ?it/s]"
      ]
     },
     "metadata": {},
     "output_type": "display_data"
    },
    {
     "name": "stdout",
     "output_type": "stream",
     "text": [
      "🎨 EMD-constrained generation: Using pre-computed color embedding\n",
      "📊 Color space: lab, Target EMD: 0.05\n"
     ]
    },
    {
     "data": {
      "application/vnd.jupyter.widget-view+json": {
       "model_id": "9a79e4afbfba4843a436f74e547a3dfd",
       "version_major": 2,
       "version_minor": 0
      },
      "text/plain": [
       "  0%|          | 0/30 [00:00<?, ?it/s]"
      ]
     },
     "metadata": {},
     "output_type": "display_data"
    },
    {
     "data": {
      "application/vnd.jupyter.widget-view+json": {
       "model_id": "74ca8e6b3be9478687757f2546114c19",
       "version_major": 2,
       "version_minor": 0
      },
      "text/plain": [
       "  0%|          | 0/30 [00:00<?, ?it/s]"
      ]
     },
     "metadata": {},
     "output_type": "display_data"
    },
    {
     "data": {
      "application/vnd.jupyter.widget-view+json": {
       "model_id": "b5f39eef2ef547a08fe43abeaf02d02a",
       "version_major": 2,
       "version_minor": 0
      },
      "text/plain": [
       "  0%|          | 0/30 [00:00<?, ?it/s]"
      ]
     },
     "metadata": {},
     "output_type": "display_data"
    },
    {
     "data": {
      "application/vnd.jupyter.widget-view+json": {
       "model_id": "4fa64316f6ab4ccc9aae5df66b3427d0",
       "version_major": 2,
       "version_minor": 0
      },
      "text/plain": [
       "  0%|          | 0/30 [00:00<?, ?it/s]"
      ]
     },
     "metadata": {},
     "output_type": "display_data"
    },
    {
     "name": "stdout",
     "output_type": "stream",
     "text": [
      "🎨 EMD-constrained generation: Using pre-computed color embedding\n",
      "📊 Color space: lab, Target EMD: 0.05\n"
     ]
    },
    {
     "data": {
      "application/vnd.jupyter.widget-view+json": {
       "model_id": "efae64d0318a462fa6a4f4234b1f371f",
       "version_major": 2,
       "version_minor": 0
      },
      "text/plain": [
       "  0%|          | 0/30 [00:00<?, ?it/s]"
      ]
     },
     "metadata": {},
     "output_type": "display_data"
    },
    {
     "data": {
      "application/vnd.jupyter.widget-view+json": {
       "model_id": "ba9a15ce48724a8ea64d38e4ed685347",
       "version_major": 2,
       "version_minor": 0
      },
      "text/plain": [
       "  0%|          | 0/30 [00:00<?, ?it/s]"
      ]
     },
     "metadata": {},
     "output_type": "display_data"
    },
    {
     "data": {
      "application/vnd.jupyter.widget-view+json": {
       "model_id": "390544d7fff146b4ae157446c9d0236a",
       "version_major": 2,
       "version_minor": 0
      },
      "text/plain": [
       "  0%|          | 0/30 [00:00<?, ?it/s]"
      ]
     },
     "metadata": {},
     "output_type": "display_data"
    },
    {
     "data": {
      "application/vnd.jupyter.widget-view+json": {
       "model_id": "66c4691677c142e39ead166c87b3d6f1",
       "version_major": 2,
       "version_minor": 0
      },
      "text/plain": [
       "  0%|          | 0/30 [00:00<?, ?it/s]"
      ]
     },
     "metadata": {},
     "output_type": "display_data"
    },
    {
     "name": "stdout",
     "output_type": "stream",
     "text": [
      "🎨 EMD-constrained generation: Using pre-computed color embedding\n",
      "📊 Color space: lab, Target EMD: 0.05\n"
     ]
    },
    {
     "data": {
      "application/vnd.jupyter.widget-view+json": {
       "model_id": "e350336f564b4df9b9e98a8ba7011053",
       "version_major": 2,
       "version_minor": 0
      },
      "text/plain": [
       "  0%|          | 0/30 [00:00<?, ?it/s]"
      ]
     },
     "metadata": {},
     "output_type": "display_data"
    },
    {
     "data": {
      "application/vnd.jupyter.widget-view+json": {
       "model_id": "d2721f01297c425893d19dabf752dc4c",
       "version_major": 2,
       "version_minor": 0
      },
      "text/plain": [
       "  0%|          | 0/30 [00:00<?, ?it/s]"
      ]
     },
     "metadata": {},
     "output_type": "display_data"
    },
    {
     "name": "stdout",
     "output_type": "stream",
     "text": [
      "🎨 EMD-constrained generation: Using pre-computed color embedding\n",
      "📊 Color space: lab, Target EMD: 0.05\n"
     ]
    },
    {
     "data": {
      "application/vnd.jupyter.widget-view+json": {
       "model_id": "b1322a2de0214af2b83d42e4504ee9bf",
       "version_major": 2,
       "version_minor": 0
      },
      "text/plain": [
       "  0%|          | 0/30 [00:00<?, ?it/s]"
      ]
     },
     "metadata": {},
     "output_type": "display_data"
    },
    {
     "data": {
      "application/vnd.jupyter.widget-view+json": {
       "model_id": "a8366a963e774de3a1e1e7a32557f1c5",
       "version_major": 2,
       "version_minor": 0
      },
      "text/plain": [
       "  0%|          | 0/30 [00:00<?, ?it/s]"
      ]
     },
     "metadata": {},
     "output_type": "display_data"
    },
    {
     "name": "stdout",
     "output_type": "stream",
     "text": [
      "🎨 EMD-constrained generation: Using pre-computed color embedding\n",
      "📊 Color space: lab, Target EMD: 0.05\n"
     ]
    },
    {
     "data": {
      "application/vnd.jupyter.widget-view+json": {
       "model_id": "3ad27a417b65439aa89620142084caee",
       "version_major": 2,
       "version_minor": 0
      },
      "text/plain": [
       "  0%|          | 0/30 [00:00<?, ?it/s]"
      ]
     },
     "metadata": {},
     "output_type": "display_data"
    },
    {
     "data": {
      "application/vnd.jupyter.widget-view+json": {
       "model_id": "0a33cbecdb5a4af69a6713893d13f80c",
       "version_major": 2,
       "version_minor": 0
      },
      "text/plain": [
       "  0%|          | 0/30 [00:00<?, ?it/s]"
      ]
     },
     "metadata": {},
     "output_type": "display_data"
    },
    {
     "data": {
      "application/vnd.jupyter.widget-view+json": {
       "model_id": "f18b31b49f7546b1a1d483d85ed7c172",
       "version_major": 2,
       "version_minor": 0
      },
      "text/plain": [
       "  0%|          | 0/30 [00:00<?, ?it/s]"
      ]
     },
     "metadata": {},
     "output_type": "display_data"
    },
    {
     "name": "stdout",
     "output_type": "stream",
     "text": [
      "🎨 EMD-constrained generation: Using pre-computed color embedding\n",
      "📊 Color space: lab, Target EMD: 0.05\n"
     ]
    },
    {
     "data": {
      "application/vnd.jupyter.widget-view+json": {
       "model_id": "4792d0b555c34b8a9255ab01e126d75a",
       "version_major": 2,
       "version_minor": 0
      },
      "text/plain": [
       "  0%|          | 0/30 [00:00<?, ?it/s]"
      ]
     },
     "metadata": {},
     "output_type": "display_data"
    },
    {
     "data": {
      "application/vnd.jupyter.widget-view+json": {
       "model_id": "1798cb64503f48a3a674205b7ebfe37b",
       "version_major": 2,
       "version_minor": 0
      },
      "text/plain": [
       "  0%|          | 0/30 [00:00<?, ?it/s]"
      ]
     },
     "metadata": {},
     "output_type": "display_data"
    },
    {
     "data": {
      "application/vnd.jupyter.widget-view+json": {
       "model_id": "425785cbf86644a1827e1aa4238e4ca7",
       "version_major": 2,
       "version_minor": 0
      },
      "text/plain": [
       "  0%|          | 0/30 [00:00<?, ?it/s]"
      ]
     },
     "metadata": {},
     "output_type": "display_data"
    },
    {
     "name": "stdout",
     "output_type": "stream",
     "text": [
      "🎨 EMD-constrained generation: Using pre-computed color embedding\n",
      "📊 Color space: lab, Target EMD: 0.05\n"
     ]
    },
    {
     "data": {
      "application/vnd.jupyter.widget-view+json": {
       "model_id": "7c5ae7d5249a43f3a5fae438bddc015a",
       "version_major": 2,
       "version_minor": 0
      },
      "text/plain": [
       "  0%|          | 0/30 [00:00<?, ?it/s]"
      ]
     },
     "metadata": {},
     "output_type": "display_data"
    },
    {
     "data": {
      "application/vnd.jupyter.widget-view+json": {
       "model_id": "6db2662218914d63aee339c8bf56e250",
       "version_major": 2,
       "version_minor": 0
      },
      "text/plain": [
       "  0%|          | 0/30 [00:00<?, ?it/s]"
      ]
     },
     "metadata": {},
     "output_type": "display_data"
    },
    {
     "data": {
      "application/vnd.jupyter.widget-view+json": {
       "model_id": "d1255cca8db34a428232a373cbe4436e",
       "version_major": 2,
       "version_minor": 0
      },
      "text/plain": [
       "  0%|          | 0/30 [00:00<?, ?it/s]"
      ]
     },
     "metadata": {},
     "output_type": "display_data"
    },
    {
     "data": {
      "application/vnd.jupyter.widget-view+json": {
       "model_id": "cb6adba362cd49309299d0bcfad49af2",
       "version_major": 2,
       "version_minor": 0
      },
      "text/plain": [
       "  0%|          | 0/30 [00:00<?, ?it/s]"
      ]
     },
     "metadata": {},
     "output_type": "display_data"
    },
    {
     "name": "stdout",
     "output_type": "stream",
     "text": [
      "🎨 EMD-constrained generation: Using pre-computed color embedding\n",
      "📊 Color space: lab, Target EMD: 0.05\n"
     ]
    },
    {
     "data": {
      "application/vnd.jupyter.widget-view+json": {
       "model_id": "9b45e0a7b97e4665bc754a289cf15406",
       "version_major": 2,
       "version_minor": 0
      },
      "text/plain": [
       "  0%|          | 0/30 [00:00<?, ?it/s]"
      ]
     },
     "metadata": {},
     "output_type": "display_data"
    },
    {
     "data": {
      "application/vnd.jupyter.widget-view+json": {
       "model_id": "8f5ad4c6a1ca4069b41d8b6a67e9d7ec",
       "version_major": 2,
       "version_minor": 0
      },
      "text/plain": [
       "  0%|          | 0/30 [00:00<?, ?it/s]"
      ]
     },
     "metadata": {},
     "output_type": "display_data"
    },
    {
     "data": {
      "application/vnd.jupyter.widget-view+json": {
       "model_id": "c507b84f4fd44c298435157201b96d4a",
       "version_major": 2,
       "version_minor": 0
      },
      "text/plain": [
       "  0%|          | 0/30 [00:00<?, ?it/s]"
      ]
     },
     "metadata": {},
     "output_type": "display_data"
    },
    {
     "data": {
      "application/vnd.jupyter.widget-view+json": {
       "model_id": "80cbd163c1af4994b141745e1be8285b",
       "version_major": 2,
       "version_minor": 0
      },
      "text/plain": [
       "  0%|          | 0/30 [00:00<?, ?it/s]"
      ]
     },
     "metadata": {},
     "output_type": "display_data"
    },
    {
     "data": {
      "application/vnd.jupyter.widget-view+json": {
       "model_id": "f8ded443083a47438c5c8f59e4a363ed",
       "version_major": 2,
       "version_minor": 0
      },
      "text/plain": [
       "  0%|          | 0/30 [00:00<?, ?it/s]"
      ]
     },
     "metadata": {},
     "output_type": "display_data"
    },
    {
     "data": {
      "application/vnd.jupyter.widget-view+json": {
       "model_id": "a046e16eab0b459988784a26a79eaebe",
       "version_major": 2,
       "version_minor": 0
      },
      "text/plain": [
       "  0%|          | 0/30 [00:00<?, ?it/s]"
      ]
     },
     "metadata": {},
     "output_type": "display_data"
    },
    {
     "data": {
      "application/vnd.jupyter.widget-view+json": {
       "model_id": "b82707ab9ba24798b15f231dc62878e3",
       "version_major": 2,
       "version_minor": 0
      },
      "text/plain": [
       "  0%|          | 0/30 [00:00<?, ?it/s]"
      ]
     },
     "metadata": {},
     "output_type": "display_data"
    },
    {
     "name": "stdout",
     "output_type": "stream",
     "text": [
      "🎨 EMD-constrained generation: Using pre-computed color embedding\n",
      "📊 Color space: lab, Target EMD: 0.05\n"
     ]
    },
    {
     "data": {
      "application/vnd.jupyter.widget-view+json": {
       "model_id": "b04204bee3cb492b8f057e9adfbc0db8",
       "version_major": 2,
       "version_minor": 0
      },
      "text/plain": [
       "  0%|          | 0/30 [00:00<?, ?it/s]"
      ]
     },
     "metadata": {},
     "output_type": "display_data"
    },
    {
     "data": {
      "application/vnd.jupyter.widget-view+json": {
       "model_id": "9a5fd980e97d44b6b226d9a3e9147625",
       "version_major": 2,
       "version_minor": 0
      },
      "text/plain": [
       "  0%|          | 0/30 [00:00<?, ?it/s]"
      ]
     },
     "metadata": {},
     "output_type": "display_data"
    },
    {
     "name": "stdout",
     "output_type": "stream",
     "text": [
      "🎨 EMD-constrained generation: Using pre-computed color embedding\n",
      "📊 Color space: lab, Target EMD: 0.05\n"
     ]
    },
    {
     "data": {
      "application/vnd.jupyter.widget-view+json": {
       "model_id": "d1d0ecd8aee140ed85bba29d6d33f222",
       "version_major": 2,
       "version_minor": 0
      },
      "text/plain": [
       "  0%|          | 0/30 [00:00<?, ?it/s]"
      ]
     },
     "metadata": {},
     "output_type": "display_data"
    },
    {
     "data": {
      "application/vnd.jupyter.widget-view+json": {
       "model_id": "94e25eefceed41e4b8c00de47c6f41ab",
       "version_major": 2,
       "version_minor": 0
      },
      "text/plain": [
       "  0%|          | 0/30 [00:00<?, ?it/s]"
      ]
     },
     "metadata": {},
     "output_type": "display_data"
    },
    {
     "data": {
      "application/vnd.jupyter.widget-view+json": {
       "model_id": "f9af1caf5921457092bb11126b8a70f2",
       "version_major": 2,
       "version_minor": 0
      },
      "text/plain": [
       "  0%|          | 0/30 [00:00<?, ?it/s]"
      ]
     },
     "metadata": {},
     "output_type": "display_data"
    },
    {
     "data": {
      "application/vnd.jupyter.widget-view+json": {
       "model_id": "742149b0c3f546c7aaf36ad295429181",
       "version_major": 2,
       "version_minor": 0
      },
      "text/plain": [
       "  0%|          | 0/30 [00:00<?, ?it/s]"
      ]
     },
     "metadata": {},
     "output_type": "display_data"
    },
    {
     "data": {
      "application/vnd.jupyter.widget-view+json": {
       "model_id": "3f93f301545941a2b2ccf1e2569e9d49",
       "version_major": 2,
       "version_minor": 0
      },
      "text/plain": [
       "  0%|          | 0/30 [00:00<?, ?it/s]"
      ]
     },
     "metadata": {},
     "output_type": "display_data"
    },
    {
     "name": "stdout",
     "output_type": "stream",
     "text": [
      "🎨 EMD-constrained generation: Using pre-computed color embedding\n",
      "📊 Color space: lab, Target EMD: 0.05\n"
     ]
    },
    {
     "data": {
      "application/vnd.jupyter.widget-view+json": {
       "model_id": "07c7764f28494525828d87b61cacc28b",
       "version_major": 2,
       "version_minor": 0
      },
      "text/plain": [
       "  0%|          | 0/30 [00:00<?, ?it/s]"
      ]
     },
     "metadata": {},
     "output_type": "display_data"
    },
    {
     "data": {
      "application/vnd.jupyter.widget-view+json": {
       "model_id": "0119abfe402342e4bc2a9c0517786a74",
       "version_major": 2,
       "version_minor": 0
      },
      "text/plain": [
       "  0%|          | 0/30 [00:00<?, ?it/s]"
      ]
     },
     "metadata": {},
     "output_type": "display_data"
    },
    {
     "name": "stdout",
     "output_type": "stream",
     "text": [
      "🎨 EMD-constrained generation: Using pre-computed color embedding\n",
      "📊 Color space: lab, Target EMD: 0.05\n"
     ]
    },
    {
     "data": {
      "application/vnd.jupyter.widget-view+json": {
       "model_id": "a477cebd0db54615b4953596b0827cfb",
       "version_major": 2,
       "version_minor": 0
      },
      "text/plain": [
       "  0%|          | 0/30 [00:00<?, ?it/s]"
      ]
     },
     "metadata": {},
     "output_type": "display_data"
    },
    {
     "data": {
      "application/vnd.jupyter.widget-view+json": {
       "model_id": "82482776dda444999685880e031e5f1a",
       "version_major": 2,
       "version_minor": 0
      },
      "text/plain": [
       "  0%|          | 0/30 [00:00<?, ?it/s]"
      ]
     },
     "metadata": {},
     "output_type": "display_data"
    },
    {
     "data": {
      "application/vnd.jupyter.widget-view+json": {
       "model_id": "e6ca524f67604fc68cfa034e312abe8a",
       "version_major": 2,
       "version_minor": 0
      },
      "text/plain": [
       "  0%|          | 0/30 [00:00<?, ?it/s]"
      ]
     },
     "metadata": {},
     "output_type": "display_data"
    },
    {
     "name": "stdout",
     "output_type": "stream",
     "text": [
      "🎨 EMD-constrained generation: Using pre-computed color embedding\n",
      "📊 Color space: lab, Target EMD: 0.05\n"
     ]
    },
    {
     "data": {
      "application/vnd.jupyter.widget-view+json": {
       "model_id": "3af2f89dff9144718667d87ed3ae84f8",
       "version_major": 2,
       "version_minor": 0
      },
      "text/plain": [
       "  0%|          | 0/30 [00:00<?, ?it/s]"
      ]
     },
     "metadata": {},
     "output_type": "display_data"
    },
    {
     "data": {
      "application/vnd.jupyter.widget-view+json": {
       "model_id": "e296de4d14cb44ca91c1082b08dec7bf",
       "version_major": 2,
       "version_minor": 0
      },
      "text/plain": [
       "  0%|          | 0/30 [00:00<?, ?it/s]"
      ]
     },
     "metadata": {},
     "output_type": "display_data"
    },
    {
     "data": {
      "application/vnd.jupyter.widget-view+json": {
       "model_id": "a36feb953e3f4238beb46e6e7dbc1561",
       "version_major": 2,
       "version_minor": 0
      },
      "text/plain": [
       "  0%|          | 0/30 [00:00<?, ?it/s]"
      ]
     },
     "metadata": {},
     "output_type": "display_data"
    },
    {
     "data": {
      "application/vnd.jupyter.widget-view+json": {
       "model_id": "127865ecdf0b4f958d750148d20ff4c8",
       "version_major": 2,
       "version_minor": 0
      },
      "text/plain": [
       "  0%|          | 0/30 [00:00<?, ?it/s]"
      ]
     },
     "metadata": {},
     "output_type": "display_data"
    },
    {
     "data": {
      "application/vnd.jupyter.widget-view+json": {
       "model_id": "c0cb4f19c4c84e998d4c58f821eae4ef",
       "version_major": 2,
       "version_minor": 0
      },
      "text/plain": [
       "  0%|          | 0/30 [00:00<?, ?it/s]"
      ]
     },
     "metadata": {},
     "output_type": "display_data"
    },
    {
     "data": {
      "application/vnd.jupyter.widget-view+json": {
       "model_id": "fae38236d6c84a8b9a7ed234e692522f",
       "version_major": 2,
       "version_minor": 0
      },
      "text/plain": [
       "  0%|          | 0/30 [00:00<?, ?it/s]"
      ]
     },
     "metadata": {},
     "output_type": "display_data"
    },
    {
     "data": {
      "application/vnd.jupyter.widget-view+json": {
       "model_id": "ae1baa0df9e74e8f9a85357f7f40a7ba",
       "version_major": 2,
       "version_minor": 0
      },
      "text/plain": [
       "  0%|          | 0/30 [00:00<?, ?it/s]"
      ]
     },
     "metadata": {},
     "output_type": "display_data"
    },
    {
     "data": {
      "application/vnd.jupyter.widget-view+json": {
       "model_id": "742edbd375eb4c01b80ea1697218be65",
       "version_major": 2,
       "version_minor": 0
      },
      "text/plain": [
       "  0%|          | 0/30 [00:00<?, ?it/s]"
      ]
     },
     "metadata": {},
     "output_type": "display_data"
    },
    {
     "data": {
      "application/vnd.jupyter.widget-view+json": {
       "model_id": "4936ef4942d240d9aabba0c06b4fdb17",
       "version_major": 2,
       "version_minor": 0
      },
      "text/plain": [
       "  0%|          | 0/30 [00:00<?, ?it/s]"
      ]
     },
     "metadata": {},
     "output_type": "display_data"
    },
    {
     "data": {
      "application/vnd.jupyter.widget-view+json": {
       "model_id": "04ed230ac1e24136b674b276bf8c23e6",
       "version_major": 2,
       "version_minor": 0
      },
      "text/plain": [
       "  0%|          | 0/30 [00:00<?, ?it/s]"
      ]
     },
     "metadata": {},
     "output_type": "display_data"
    },
    {
     "data": {
      "application/vnd.jupyter.widget-view+json": {
       "model_id": "5cf9d8e65a754979bbe9093ef5aa6d09",
       "version_major": 2,
       "version_minor": 0
      },
      "text/plain": [
       "  0%|          | 0/30 [00:00<?, ?it/s]"
      ]
     },
     "metadata": {},
     "output_type": "display_data"
    },
    {
     "name": "stdout",
     "output_type": "stream",
     "text": [
      "🎨 EMD-constrained generation: Using pre-computed color embedding\n",
      "📊 Color space: lab, Target EMD: 0.05\n"
     ]
    },
    {
     "data": {
      "application/vnd.jupyter.widget-view+json": {
       "model_id": "3fab1cef51dd48aaa7ba69b1e5191734",
       "version_major": 2,
       "version_minor": 0
      },
      "text/plain": [
       "  0%|          | 0/30 [00:00<?, ?it/s]"
      ]
     },
     "metadata": {},
     "output_type": "display_data"
    },
    {
     "data": {
      "application/vnd.jupyter.widget-view+json": {
       "model_id": "b9c90126e0944f58950aef2e8cd0e8b1",
       "version_major": 2,
       "version_minor": 0
      },
      "text/plain": [
       "  0%|          | 0/30 [00:00<?, ?it/s]"
      ]
     },
     "metadata": {},
     "output_type": "display_data"
    },
    {
     "data": {
      "application/vnd.jupyter.widget-view+json": {
       "model_id": "f97fdf5d1fca47e0bd86cea9ce102ddc",
       "version_major": 2,
       "version_minor": 0
      },
      "text/plain": [
       "  0%|          | 0/30 [00:00<?, ?it/s]"
      ]
     },
     "metadata": {},
     "output_type": "display_data"
    },
    {
     "data": {
      "application/vnd.jupyter.widget-view+json": {
       "model_id": "bb142975eab244299f803695a3522cb5",
       "version_major": 2,
       "version_minor": 0
      },
      "text/plain": [
       "  0%|          | 0/30 [00:00<?, ?it/s]"
      ]
     },
     "metadata": {},
     "output_type": "display_data"
    },
    {
     "data": {
      "application/vnd.jupyter.widget-view+json": {
       "model_id": "f569576934be4e338fd7b8a3555c3fcd",
       "version_major": 2,
       "version_minor": 0
      },
      "text/plain": [
       "  0%|          | 0/30 [00:00<?, ?it/s]"
      ]
     },
     "metadata": {},
     "output_type": "display_data"
    },
    {
     "data": {
      "application/vnd.jupyter.widget-view+json": {
       "model_id": "6d05cf65b8cd43a5a53abc25d5c32cdc",
       "version_major": 2,
       "version_minor": 0
      },
      "text/plain": [
       "  0%|          | 0/30 [00:00<?, ?it/s]"
      ]
     },
     "metadata": {},
     "output_type": "display_data"
    },
    {
     "data": {
      "application/vnd.jupyter.widget-view+json": {
       "model_id": "f0f8fab2b25746ea9d0c8d297c414906",
       "version_major": 2,
       "version_minor": 0
      },
      "text/plain": [
       "  0%|          | 0/30 [00:00<?, ?it/s]"
      ]
     },
     "metadata": {},
     "output_type": "display_data"
    },
    {
     "data": {
      "application/vnd.jupyter.widget-view+json": {
       "model_id": "a69477767ebc4cc38a37e7d55c6746e3",
       "version_major": 2,
       "version_minor": 0
      },
      "text/plain": [
       "  0%|          | 0/30 [00:00<?, ?it/s]"
      ]
     },
     "metadata": {},
     "output_type": "display_data"
    },
    {
     "data": {
      "application/vnd.jupyter.widget-view+json": {
       "model_id": "e9e42a21a6a34d2397e4a66c7f8d2212",
       "version_major": 2,
       "version_minor": 0
      },
      "text/plain": [
       "  0%|          | 0/30 [00:00<?, ?it/s]"
      ]
     },
     "metadata": {},
     "output_type": "display_data"
    },
    {
     "data": {
      "application/vnd.jupyter.widget-view+json": {
       "model_id": "d613f0fdd34644979958c467a1e20e3a",
       "version_major": 2,
       "version_minor": 0
      },
      "text/plain": [
       "  0%|          | 0/30 [00:00<?, ?it/s]"
      ]
     },
     "metadata": {},
     "output_type": "display_data"
    },
    {
     "data": {
      "application/vnd.jupyter.widget-view+json": {
       "model_id": "b0e013804ad94b4b955118512256a3ce",
       "version_major": 2,
       "version_minor": 0
      },
      "text/plain": [
       "  0%|          | 0/30 [00:00<?, ?it/s]"
      ]
     },
     "metadata": {},
     "output_type": "display_data"
    },
    {
     "name": "stdout",
     "output_type": "stream",
     "text": [
      "🎨 EMD-constrained generation: Using pre-computed color embedding\n",
      "📊 Color space: lab, Target EMD: 0.05\n"
     ]
    },
    {
     "data": {
      "application/vnd.jupyter.widget-view+json": {
       "model_id": "2516b782ee4848c1945dc3c0e5dcbbd6",
       "version_major": 2,
       "version_minor": 0
      },
      "text/plain": [
       "  0%|          | 0/30 [00:00<?, ?it/s]"
      ]
     },
     "metadata": {},
     "output_type": "display_data"
    },
    {
     "data": {
      "application/vnd.jupyter.widget-view+json": {
       "model_id": "3706f81fc8e14f7bad610d3cc7a5a849",
       "version_major": 2,
       "version_minor": 0
      },
      "text/plain": [
       "  0%|          | 0/30 [00:00<?, ?it/s]"
      ]
     },
     "metadata": {},
     "output_type": "display_data"
    },
    {
     "data": {
      "application/vnd.jupyter.widget-view+json": {
       "model_id": "6ea2d915363e4bf1a85a01b51ac6b57a",
       "version_major": 2,
       "version_minor": 0
      },
      "text/plain": [
       "  0%|          | 0/30 [00:00<?, ?it/s]"
      ]
     },
     "metadata": {},
     "output_type": "display_data"
    },
    {
     "data": {
      "application/vnd.jupyter.widget-view+json": {
       "model_id": "4d7551c4d3e9435297940042d092d10c",
       "version_major": 2,
       "version_minor": 0
      },
      "text/plain": [
       "  0%|          | 0/30 [00:00<?, ?it/s]"
      ]
     },
     "metadata": {},
     "output_type": "display_data"
    },
    {
     "data": {
      "application/vnd.jupyter.widget-view+json": {
       "model_id": "6784cf1fc4e845eaa364511dacc4f206",
       "version_major": 2,
       "version_minor": 0
      },
      "text/plain": [
       "  0%|          | 0/30 [00:00<?, ?it/s]"
      ]
     },
     "metadata": {},
     "output_type": "display_data"
    },
    {
     "data": {
      "application/vnd.jupyter.widget-view+json": {
       "model_id": "5a10fbfc499544ccbc6b44d485313904",
       "version_major": 2,
       "version_minor": 0
      },
      "text/plain": [
       "  0%|          | 0/30 [00:00<?, ?it/s]"
      ]
     },
     "metadata": {},
     "output_type": "display_data"
    },
    {
     "data": {
      "application/vnd.jupyter.widget-view+json": {
       "model_id": "6ce4e485a73f4a99b6e0f81531df253f",
       "version_major": 2,
       "version_minor": 0
      },
      "text/plain": [
       "  0%|          | 0/30 [00:00<?, ?it/s]"
      ]
     },
     "metadata": {},
     "output_type": "display_data"
    },
    {
     "data": {
      "application/vnd.jupyter.widget-view+json": {
       "model_id": "148d6a2d56e543ac91bd475dec60a3d9",
       "version_major": 2,
       "version_minor": 0
      },
      "text/plain": [
       "  0%|          | 0/30 [00:00<?, ?it/s]"
      ]
     },
     "metadata": {},
     "output_type": "display_data"
    },
    {
     "data": {
      "application/vnd.jupyter.widget-view+json": {
       "model_id": "b37a8a0fbdb84c31b07a124eeaa9993d",
       "version_major": 2,
       "version_minor": 0
      },
      "text/plain": [
       "  0%|          | 0/30 [00:00<?, ?it/s]"
      ]
     },
     "metadata": {},
     "output_type": "display_data"
    },
    {
     "data": {
      "application/vnd.jupyter.widget-view+json": {
       "model_id": "79bc674562aa4c50a090f8fca9288c22",
       "version_major": 2,
       "version_minor": 0
      },
      "text/plain": [
       "  0%|          | 0/30 [00:00<?, ?it/s]"
      ]
     },
     "metadata": {},
     "output_type": "display_data"
    },
    {
     "data": {
      "application/vnd.jupyter.widget-view+json": {
       "model_id": "d9021f2cd2ba4243ad5f94b71b51444d",
       "version_major": 2,
       "version_minor": 0
      },
      "text/plain": [
       "  0%|          | 0/30 [00:00<?, ?it/s]"
      ]
     },
     "metadata": {},
     "output_type": "display_data"
    },
    {
     "name": "stdout",
     "output_type": "stream",
     "text": [
      "🎨 EMD-constrained generation: Using pre-computed color embedding\n",
      "📊 Color space: lab, Target EMD: 0.05\n"
     ]
    },
    {
     "data": {
      "application/vnd.jupyter.widget-view+json": {
       "model_id": "f82477efe32d42d78d9c4e32d39cc1f6",
       "version_major": 2,
       "version_minor": 0
      },
      "text/plain": [
       "  0%|          | 0/30 [00:00<?, ?it/s]"
      ]
     },
     "metadata": {},
     "output_type": "display_data"
    },
    {
     "data": {
      "application/vnd.jupyter.widget-view+json": {
       "model_id": "a9bbddf71d4e4e349522a0af2c6593b8",
       "version_major": 2,
       "version_minor": 0
      },
      "text/plain": [
       "  0%|          | 0/30 [00:00<?, ?it/s]"
      ]
     },
     "metadata": {},
     "output_type": "display_data"
    },
    {
     "data": {
      "application/vnd.jupyter.widget-view+json": {
       "model_id": "9fef1249abab4b62ad46e99280fa3755",
       "version_major": 2,
       "version_minor": 0
      },
      "text/plain": [
       "  0%|          | 0/30 [00:00<?, ?it/s]"
      ]
     },
     "metadata": {},
     "output_type": "display_data"
    },
    {
     "data": {
      "application/vnd.jupyter.widget-view+json": {
       "model_id": "229e5494e09240eb91a74778848c938a",
       "version_major": 2,
       "version_minor": 0
      },
      "text/plain": [
       "  0%|          | 0/30 [00:00<?, ?it/s]"
      ]
     },
     "metadata": {},
     "output_type": "display_data"
    },
    {
     "data": {
      "application/vnd.jupyter.widget-view+json": {
       "model_id": "9e62868546f84b5fbd798a7fe0c50568",
       "version_major": 2,
       "version_minor": 0
      },
      "text/plain": [
       "  0%|          | 0/30 [00:00<?, ?it/s]"
      ]
     },
     "metadata": {},
     "output_type": "display_data"
    },
    {
     "data": {
      "application/vnd.jupyter.widget-view+json": {
       "model_id": "8d04b9dc7210454d95060610aa837e36",
       "version_major": 2,
       "version_minor": 0
      },
      "text/plain": [
       "  0%|          | 0/30 [00:00<?, ?it/s]"
      ]
     },
     "metadata": {},
     "output_type": "display_data"
    },
    {
     "data": {
      "application/vnd.jupyter.widget-view+json": {
       "model_id": "01b7ddb27a5442feadf1a787e08cb791",
       "version_major": 2,
       "version_minor": 0
      },
      "text/plain": [
       "  0%|          | 0/30 [00:00<?, ?it/s]"
      ]
     },
     "metadata": {},
     "output_type": "display_data"
    },
    {
     "data": {
      "application/vnd.jupyter.widget-view+json": {
       "model_id": "f3c634da44d7485c8127ca5d7ddda8ea",
       "version_major": 2,
       "version_minor": 0
      },
      "text/plain": [
       "  0%|          | 0/30 [00:00<?, ?it/s]"
      ]
     },
     "metadata": {},
     "output_type": "display_data"
    },
    {
     "data": {
      "application/vnd.jupyter.widget-view+json": {
       "model_id": "24d4455ef045424cada01eca2a25dc62",
       "version_major": 2,
       "version_minor": 0
      },
      "text/plain": [
       "  0%|          | 0/30 [00:00<?, ?it/s]"
      ]
     },
     "metadata": {},
     "output_type": "display_data"
    },
    {
     "data": {
      "application/vnd.jupyter.widget-view+json": {
       "model_id": "bbe90181f7bf4fb3aee4130ef81aad8a",
       "version_major": 2,
       "version_minor": 0
      },
      "text/plain": [
       "  0%|          | 0/30 [00:00<?, ?it/s]"
      ]
     },
     "metadata": {},
     "output_type": "display_data"
    },
    {
     "data": {
      "application/vnd.jupyter.widget-view+json": {
       "model_id": "28edd31e9b1048ee80872f38e4a6f33f",
       "version_major": 2,
       "version_minor": 0
      },
      "text/plain": [
       "  0%|          | 0/30 [00:00<?, ?it/s]"
      ]
     },
     "metadata": {},
     "output_type": "display_data"
    },
    {
     "name": "stdout",
     "output_type": "stream",
     "text": [
      "🎨 EMD-constrained generation: Using pre-computed color embedding\n",
      "📊 Color space: lab, Target EMD: 0.05\n"
     ]
    },
    {
     "data": {
      "application/vnd.jupyter.widget-view+json": {
       "model_id": "58a84391266d4780891c55b9314dc280",
       "version_major": 2,
       "version_minor": 0
      },
      "text/plain": [
       "  0%|          | 0/30 [00:00<?, ?it/s]"
      ]
     },
     "metadata": {},
     "output_type": "display_data"
    },
    {
     "data": {
      "application/vnd.jupyter.widget-view+json": {
       "model_id": "c087b0552203434e85524f00c45422ed",
       "version_major": 2,
       "version_minor": 0
      },
      "text/plain": [
       "  0%|          | 0/30 [00:00<?, ?it/s]"
      ]
     },
     "metadata": {},
     "output_type": "display_data"
    },
    {
     "data": {
      "application/vnd.jupyter.widget-view+json": {
       "model_id": "918ec4cbce1942fbaff2fbe62aef3775",
       "version_major": 2,
       "version_minor": 0
      },
      "text/plain": [
       "  0%|          | 0/30 [00:00<?, ?it/s]"
      ]
     },
     "metadata": {},
     "output_type": "display_data"
    },
    {
     "data": {
      "application/vnd.jupyter.widget-view+json": {
       "model_id": "c207eb951abc4ad2963e0267f211a9bb",
       "version_major": 2,
       "version_minor": 0
      },
      "text/plain": [
       "  0%|          | 0/30 [00:00<?, ?it/s]"
      ]
     },
     "metadata": {},
     "output_type": "display_data"
    },
    {
     "data": {
      "application/vnd.jupyter.widget-view+json": {
       "model_id": "a785b49437304cd8a55386425acb7035",
       "version_major": 2,
       "version_minor": 0
      },
      "text/plain": [
       "  0%|          | 0/30 [00:00<?, ?it/s]"
      ]
     },
     "metadata": {},
     "output_type": "display_data"
    },
    {
     "data": {
      "application/vnd.jupyter.widget-view+json": {
       "model_id": "56cb0d7d960e42639374e4a46f921d90",
       "version_major": 2,
       "version_minor": 0
      },
      "text/plain": [
       "  0%|          | 0/30 [00:00<?, ?it/s]"
      ]
     },
     "metadata": {},
     "output_type": "display_data"
    },
    {
     "data": {
      "application/vnd.jupyter.widget-view+json": {
       "model_id": "4a3599a6896042fab841d14653400b36",
       "version_major": 2,
       "version_minor": 0
      },
      "text/plain": [
       "  0%|          | 0/30 [00:00<?, ?it/s]"
      ]
     },
     "metadata": {},
     "output_type": "display_data"
    },
    {
     "data": {
      "application/vnd.jupyter.widget-view+json": {
       "model_id": "b8b5235397444cd9b0ec0b473c60c589",
       "version_major": 2,
       "version_minor": 0
      },
      "text/plain": [
       "  0%|          | 0/30 [00:00<?, ?it/s]"
      ]
     },
     "metadata": {},
     "output_type": "display_data"
    },
    {
     "data": {
      "application/vnd.jupyter.widget-view+json": {
       "model_id": "77524c01ecb942f0a2e6e6f4ed62645e",
       "version_major": 2,
       "version_minor": 0
      },
      "text/plain": [
       "  0%|          | 0/30 [00:00<?, ?it/s]"
      ]
     },
     "metadata": {},
     "output_type": "display_data"
    },
    {
     "data": {
      "application/vnd.jupyter.widget-view+json": {
       "model_id": "2e9999b4ff654198bf03a0abcb026a40",
       "version_major": 2,
       "version_minor": 0
      },
      "text/plain": [
       "  0%|          | 0/30 [00:00<?, ?it/s]"
      ]
     },
     "metadata": {},
     "output_type": "display_data"
    },
    {
     "data": {
      "application/vnd.jupyter.widget-view+json": {
       "model_id": "41628cd94451451f912414f4556e900b",
       "version_major": 2,
       "version_minor": 0
      },
      "text/plain": [
       "  0%|          | 0/30 [00:00<?, ?it/s]"
      ]
     },
     "metadata": {},
     "output_type": "display_data"
    },
    {
     "name": "stdout",
     "output_type": "stream",
     "text": [
      "🎨 EMD-constrained generation: Using pre-computed color embedding\n",
      "📊 Color space: lab, Target EMD: 0.05\n"
     ]
    },
    {
     "data": {
      "application/vnd.jupyter.widget-view+json": {
       "model_id": "a760784585c940919aff17cc9f326674",
       "version_major": 2,
       "version_minor": 0
      },
      "text/plain": [
       "  0%|          | 0/30 [00:00<?, ?it/s]"
      ]
     },
     "metadata": {},
     "output_type": "display_data"
    },
    {
     "data": {
      "application/vnd.jupyter.widget-view+json": {
       "model_id": "dd57ba72b61547e8991f98e135a595f8",
       "version_major": 2,
       "version_minor": 0
      },
      "text/plain": [
       "  0%|          | 0/30 [00:00<?, ?it/s]"
      ]
     },
     "metadata": {},
     "output_type": "display_data"
    },
    {
     "data": {
      "application/vnd.jupyter.widget-view+json": {
       "model_id": "d6b11ca61ba24092a159ff907b061220",
       "version_major": 2,
       "version_minor": 0
      },
      "text/plain": [
       "  0%|          | 0/30 [00:00<?, ?it/s]"
      ]
     },
     "metadata": {},
     "output_type": "display_data"
    },
    {
     "data": {
      "application/vnd.jupyter.widget-view+json": {
       "model_id": "8207582c2c7346309eb00116c5ed87fa",
       "version_major": 2,
       "version_minor": 0
      },
      "text/plain": [
       "  0%|          | 0/30 [00:00<?, ?it/s]"
      ]
     },
     "metadata": {},
     "output_type": "display_data"
    },
    {
     "data": {
      "application/vnd.jupyter.widget-view+json": {
       "model_id": "36f8b4d13c1c45219b755794b56ab00b",
       "version_major": 2,
       "version_minor": 0
      },
      "text/plain": [
       "  0%|          | 0/30 [00:00<?, ?it/s]"
      ]
     },
     "metadata": {},
     "output_type": "display_data"
    },
    {
     "data": {
      "application/vnd.jupyter.widget-view+json": {
       "model_id": "5452979597074f9ca5f15cd4cecb8f17",
       "version_major": 2,
       "version_minor": 0
      },
      "text/plain": [
       "  0%|          | 0/30 [00:00<?, ?it/s]"
      ]
     },
     "metadata": {},
     "output_type": "display_data"
    },
    {
     "data": {
      "application/vnd.jupyter.widget-view+json": {
       "model_id": "d85b142fcb3a4fe7a1452b513b0861d3",
       "version_major": 2,
       "version_minor": 0
      },
      "text/plain": [
       "  0%|          | 0/30 [00:00<?, ?it/s]"
      ]
     },
     "metadata": {},
     "output_type": "display_data"
    },
    {
     "data": {
      "application/vnd.jupyter.widget-view+json": {
       "model_id": "7bed10620e744371becf573721ccf184",
       "version_major": 2,
       "version_minor": 0
      },
      "text/plain": [
       "  0%|          | 0/30 [00:00<?, ?it/s]"
      ]
     },
     "metadata": {},
     "output_type": "display_data"
    },
    {
     "data": {
      "application/vnd.jupyter.widget-view+json": {
       "model_id": "86a59f8710484b5997b9b1bf86408bbf",
       "version_major": 2,
       "version_minor": 0
      },
      "text/plain": [
       "  0%|          | 0/30 [00:00<?, ?it/s]"
      ]
     },
     "metadata": {},
     "output_type": "display_data"
    },
    {
     "data": {
      "application/vnd.jupyter.widget-view+json": {
       "model_id": "9c96323129a9497fbc21c6856a71609a",
       "version_major": 2,
       "version_minor": 0
      },
      "text/plain": [
       "  0%|          | 0/30 [00:00<?, ?it/s]"
      ]
     },
     "metadata": {},
     "output_type": "display_data"
    },
    {
     "data": {
      "application/vnd.jupyter.widget-view+json": {
       "model_id": "68475309805c45dfa42e7e7c9fe11945",
       "version_major": 2,
       "version_minor": 0
      },
      "text/plain": [
       "  0%|          | 0/30 [00:00<?, ?it/s]"
      ]
     },
     "metadata": {},
     "output_type": "display_data"
    },
    {
     "name": "stdout",
     "output_type": "stream",
     "text": [
      "🎨 EMD-constrained generation: Using pre-computed color embedding\n",
      "📊 Color space: lab, Target EMD: 0.05\n"
     ]
    },
    {
     "data": {
      "application/vnd.jupyter.widget-view+json": {
       "model_id": "ae5823a6038e465bafb05bab01fcb3c8",
       "version_major": 2,
       "version_minor": 0
      },
      "text/plain": [
       "  0%|          | 0/30 [00:00<?, ?it/s]"
      ]
     },
     "metadata": {},
     "output_type": "display_data"
    },
    {
     "data": {
      "application/vnd.jupyter.widget-view+json": {
       "model_id": "b6070ca465c4459180f065f4d450210a",
       "version_major": 2,
       "version_minor": 0
      },
      "text/plain": [
       "  0%|          | 0/30 [00:00<?, ?it/s]"
      ]
     },
     "metadata": {},
     "output_type": "display_data"
    },
    {
     "data": {
      "application/vnd.jupyter.widget-view+json": {
       "model_id": "fccfbe1b979240f3b72f6f8352bfdb6f",
       "version_major": 2,
       "version_minor": 0
      },
      "text/plain": [
       "  0%|          | 0/30 [00:00<?, ?it/s]"
      ]
     },
     "metadata": {},
     "output_type": "display_data"
    },
    {
     "data": {
      "application/vnd.jupyter.widget-view+json": {
       "model_id": "2b87772c0894474d9dad4ea25123b12b",
       "version_major": 2,
       "version_minor": 0
      },
      "text/plain": [
       "  0%|          | 0/30 [00:00<?, ?it/s]"
      ]
     },
     "metadata": {},
     "output_type": "display_data"
    },
    {
     "data": {
      "application/vnd.jupyter.widget-view+json": {
       "model_id": "0c899fe2943c4ce4a070a01b3527380f",
       "version_major": 2,
       "version_minor": 0
      },
      "text/plain": [
       "  0%|          | 0/30 [00:00<?, ?it/s]"
      ]
     },
     "metadata": {},
     "output_type": "display_data"
    },
    {
     "data": {
      "application/vnd.jupyter.widget-view+json": {
       "model_id": "eebfa713768f43ef9104dc3bcbb666b1",
       "version_major": 2,
       "version_minor": 0
      },
      "text/plain": [
       "  0%|          | 0/30 [00:00<?, ?it/s]"
      ]
     },
     "metadata": {},
     "output_type": "display_data"
    },
    {
     "data": {
      "application/vnd.jupyter.widget-view+json": {
       "model_id": "cf71f0145ba44f64988276a1c7b59945",
       "version_major": 2,
       "version_minor": 0
      },
      "text/plain": [
       "  0%|          | 0/30 [00:00<?, ?it/s]"
      ]
     },
     "metadata": {},
     "output_type": "display_data"
    },
    {
     "data": {
      "application/vnd.jupyter.widget-view+json": {
       "model_id": "217e1c4dd52c47ce957e44bc02472982",
       "version_major": 2,
       "version_minor": 0
      },
      "text/plain": [
       "  0%|          | 0/30 [00:00<?, ?it/s]"
      ]
     },
     "metadata": {},
     "output_type": "display_data"
    },
    {
     "data": {
      "application/vnd.jupyter.widget-view+json": {
       "model_id": "dc40daef07bd48f8a5318a2eb5f4c683",
       "version_major": 2,
       "version_minor": 0
      },
      "text/plain": [
       "  0%|          | 0/30 [00:00<?, ?it/s]"
      ]
     },
     "metadata": {},
     "output_type": "display_data"
    },
    {
     "data": {
      "application/vnd.jupyter.widget-view+json": {
       "model_id": "d5dde294e36b42a091955bf18287c677",
       "version_major": 2,
       "version_minor": 0
      },
      "text/plain": [
       "  0%|          | 0/30 [00:00<?, ?it/s]"
      ]
     },
     "metadata": {},
     "output_type": "display_data"
    },
    {
     "data": {
      "application/vnd.jupyter.widget-view+json": {
       "model_id": "dd913e98ba2a478eaf14e5fd8c9cbf02",
       "version_major": 2,
       "version_minor": 0
      },
      "text/plain": [
       "  0%|          | 0/30 [00:00<?, ?it/s]"
      ]
     },
     "metadata": {},
     "output_type": "display_data"
    },
    {
     "name": "stdout",
     "output_type": "stream",
     "text": [
      "🎨 EMD-constrained generation: Using pre-computed color embedding\n",
      "📊 Color space: lab, Target EMD: 0.05\n"
     ]
    },
    {
     "data": {
      "application/vnd.jupyter.widget-view+json": {
       "model_id": "0a1a8ee36fd94263b0a18153d2e34b87",
       "version_major": 2,
       "version_minor": 0
      },
      "text/plain": [
       "  0%|          | 0/30 [00:00<?, ?it/s]"
      ]
     },
     "metadata": {},
     "output_type": "display_data"
    },
    {
     "data": {
      "application/vnd.jupyter.widget-view+json": {
       "model_id": "b8c1066b50754836840b943b29cb5541",
       "version_major": 2,
       "version_minor": 0
      },
      "text/plain": [
       "  0%|          | 0/30 [00:00<?, ?it/s]"
      ]
     },
     "metadata": {},
     "output_type": "display_data"
    },
    {
     "data": {
      "application/vnd.jupyter.widget-view+json": {
       "model_id": "d74874404d1f454c8140f43802b97a52",
       "version_major": 2,
       "version_minor": 0
      },
      "text/plain": [
       "  0%|          | 0/30 [00:00<?, ?it/s]"
      ]
     },
     "metadata": {},
     "output_type": "display_data"
    },
    {
     "data": {
      "application/vnd.jupyter.widget-view+json": {
       "model_id": "529cc72bb9ca46aeb13f01b2ff87d442",
       "version_major": 2,
       "version_minor": 0
      },
      "text/plain": [
       "  0%|          | 0/30 [00:00<?, ?it/s]"
      ]
     },
     "metadata": {},
     "output_type": "display_data"
    },
    {
     "data": {
      "application/vnd.jupyter.widget-view+json": {
       "model_id": "19951bac70df4299af975551021a919a",
       "version_major": 2,
       "version_minor": 0
      },
      "text/plain": [
       "  0%|          | 0/30 [00:00<?, ?it/s]"
      ]
     },
     "metadata": {},
     "output_type": "display_data"
    },
    {
     "data": {
      "application/vnd.jupyter.widget-view+json": {
       "model_id": "65fea03e657d4042aa7ac8c9e135f5ac",
       "version_major": 2,
       "version_minor": 0
      },
      "text/plain": [
       "  0%|          | 0/30 [00:00<?, ?it/s]"
      ]
     },
     "metadata": {},
     "output_type": "display_data"
    },
    {
     "data": {
      "application/vnd.jupyter.widget-view+json": {
       "model_id": "c976df4b7bf6409ea88d1dfbfd812dca",
       "version_major": 2,
       "version_minor": 0
      },
      "text/plain": [
       "  0%|          | 0/30 [00:00<?, ?it/s]"
      ]
     },
     "metadata": {},
     "output_type": "display_data"
    },
    {
     "data": {
      "application/vnd.jupyter.widget-view+json": {
       "model_id": "6b6c71cf382443168d9f3476cd95a5cd",
       "version_major": 2,
       "version_minor": 0
      },
      "text/plain": [
       "  0%|          | 0/30 [00:00<?, ?it/s]"
      ]
     },
     "metadata": {},
     "output_type": "display_data"
    },
    {
     "data": {
      "application/vnd.jupyter.widget-view+json": {
       "model_id": "4596370bef524708877c309de2f30301",
       "version_major": 2,
       "version_minor": 0
      },
      "text/plain": [
       "  0%|          | 0/30 [00:00<?, ?it/s]"
      ]
     },
     "metadata": {},
     "output_type": "display_data"
    },
    {
     "data": {
      "application/vnd.jupyter.widget-view+json": {
       "model_id": "77d73bb412dc441d91f7aa05a3899bdc",
       "version_major": 2,
       "version_minor": 0
      },
      "text/plain": [
       "  0%|          | 0/30 [00:00<?, ?it/s]"
      ]
     },
     "metadata": {},
     "output_type": "display_data"
    },
    {
     "data": {
      "application/vnd.jupyter.widget-view+json": {
       "model_id": "916f35fe67834e428eae74dbf0a04f53",
       "version_major": 2,
       "version_minor": 0
      },
      "text/plain": [
       "  0%|          | 0/30 [00:00<?, ?it/s]"
      ]
     },
     "metadata": {},
     "output_type": "display_data"
    },
    {
     "name": "stdout",
     "output_type": "stream",
     "text": [
      "🎨 EMD-constrained generation: Using pre-computed color embedding\n",
      "📊 Color space: lab, Target EMD: 0.05\n"
     ]
    },
    {
     "data": {
      "application/vnd.jupyter.widget-view+json": {
       "model_id": "63ecf86033c445a99cfe07f24e2b48c4",
       "version_major": 2,
       "version_minor": 0
      },
      "text/plain": [
       "  0%|          | 0/30 [00:00<?, ?it/s]"
      ]
     },
     "metadata": {},
     "output_type": "display_data"
    },
    {
     "data": {
      "application/vnd.jupyter.widget-view+json": {
       "model_id": "0bae228ab36e440cb6590f1328bb0f56",
       "version_major": 2,
       "version_minor": 0
      },
      "text/plain": [
       "  0%|          | 0/30 [00:00<?, ?it/s]"
      ]
     },
     "metadata": {},
     "output_type": "display_data"
    },
    {
     "data": {
      "application/vnd.jupyter.widget-view+json": {
       "model_id": "86698370c78b4bfba9c6860f489c4464",
       "version_major": 2,
       "version_minor": 0
      },
      "text/plain": [
       "  0%|          | 0/30 [00:00<?, ?it/s]"
      ]
     },
     "metadata": {},
     "output_type": "display_data"
    },
    {
     "data": {
      "application/vnd.jupyter.widget-view+json": {
       "model_id": "f1e357ad5dd646beb8386ab9d84f7808",
       "version_major": 2,
       "version_minor": 0
      },
      "text/plain": [
       "  0%|          | 0/30 [00:00<?, ?it/s]"
      ]
     },
     "metadata": {},
     "output_type": "display_data"
    },
    {
     "data": {
      "application/vnd.jupyter.widget-view+json": {
       "model_id": "bc1383ca16b0445682a907de03cb087d",
       "version_major": 2,
       "version_minor": 0
      },
      "text/plain": [
       "  0%|          | 0/30 [00:00<?, ?it/s]"
      ]
     },
     "metadata": {},
     "output_type": "display_data"
    },
    {
     "data": {
      "application/vnd.jupyter.widget-view+json": {
       "model_id": "d423ac1b4c8941de954eb46454e1f261",
       "version_major": 2,
       "version_minor": 0
      },
      "text/plain": [
       "  0%|          | 0/30 [00:00<?, ?it/s]"
      ]
     },
     "metadata": {},
     "output_type": "display_data"
    },
    {
     "data": {
      "application/vnd.jupyter.widget-view+json": {
       "model_id": "3080202d4b0f4e6497a33993c8368612",
       "version_major": 2,
       "version_minor": 0
      },
      "text/plain": [
       "  0%|          | 0/30 [00:00<?, ?it/s]"
      ]
     },
     "metadata": {},
     "output_type": "display_data"
    },
    {
     "data": {
      "application/vnd.jupyter.widget-view+json": {
       "model_id": "a0d28b0a7e664261bed2c83916b7b036",
       "version_major": 2,
       "version_minor": 0
      },
      "text/plain": [
       "  0%|          | 0/30 [00:00<?, ?it/s]"
      ]
     },
     "metadata": {},
     "output_type": "display_data"
    },
    {
     "data": {
      "application/vnd.jupyter.widget-view+json": {
       "model_id": "4ec9b6c3c5fd43b1a98d824bf7d6b8cb",
       "version_major": 2,
       "version_minor": 0
      },
      "text/plain": [
       "  0%|          | 0/30 [00:00<?, ?it/s]"
      ]
     },
     "metadata": {},
     "output_type": "display_data"
    },
    {
     "data": {
      "application/vnd.jupyter.widget-view+json": {
       "model_id": "aa76fe74cc314f13bb480dfda1cead74",
       "version_major": 2,
       "version_minor": 0
      },
      "text/plain": [
       "  0%|          | 0/30 [00:00<?, ?it/s]"
      ]
     },
     "metadata": {},
     "output_type": "display_data"
    },
    {
     "data": {
      "application/vnd.jupyter.widget-view+json": {
       "model_id": "e0bc99ac35074d72a215f7990f34ac90",
       "version_major": 2,
       "version_minor": 0
      },
      "text/plain": [
       "  0%|          | 0/30 [00:00<?, ?it/s]"
      ]
     },
     "metadata": {},
     "output_type": "display_data"
    },
    {
     "name": "stdout",
     "output_type": "stream",
     "text": [
      "🎨 EMD-constrained generation: Using pre-computed color embedding\n",
      "📊 Color space: lab, Target EMD: 0.05\n"
     ]
    },
    {
     "data": {
      "application/vnd.jupyter.widget-view+json": {
       "model_id": "c1b7c32efdf34c61ba71b764ad4fa6c5",
       "version_major": 2,
       "version_minor": 0
      },
      "text/plain": [
       "  0%|          | 0/30 [00:00<?, ?it/s]"
      ]
     },
     "metadata": {},
     "output_type": "display_data"
    },
    {
     "data": {
      "application/vnd.jupyter.widget-view+json": {
       "model_id": "ad38d79f7bdc438babf8b75c6b3cc989",
       "version_major": 2,
       "version_minor": 0
      },
      "text/plain": [
       "  0%|          | 0/30 [00:00<?, ?it/s]"
      ]
     },
     "metadata": {},
     "output_type": "display_data"
    },
    {
     "data": {
      "application/vnd.jupyter.widget-view+json": {
       "model_id": "77472a7da4194decb043b1b642d501fe",
       "version_major": 2,
       "version_minor": 0
      },
      "text/plain": [
       "  0%|          | 0/30 [00:00<?, ?it/s]"
      ]
     },
     "metadata": {},
     "output_type": "display_data"
    },
    {
     "data": {
      "application/vnd.jupyter.widget-view+json": {
       "model_id": "bd2f25420f2840f88ca43c2e69f0cb4a",
       "version_major": 2,
       "version_minor": 0
      },
      "text/plain": [
       "  0%|          | 0/30 [00:00<?, ?it/s]"
      ]
     },
     "metadata": {},
     "output_type": "display_data"
    },
    {
     "data": {
      "application/vnd.jupyter.widget-view+json": {
       "model_id": "e36bf044c12c4fc5ae8d808dea7dc307",
       "version_major": 2,
       "version_minor": 0
      },
      "text/plain": [
       "  0%|          | 0/30 [00:00<?, ?it/s]"
      ]
     },
     "metadata": {},
     "output_type": "display_data"
    },
    {
     "data": {
      "application/vnd.jupyter.widget-view+json": {
       "model_id": "83cbb9e8f67a44f3bd5ff5c45b8bd731",
       "version_major": 2,
       "version_minor": 0
      },
      "text/plain": [
       "  0%|          | 0/30 [00:00<?, ?it/s]"
      ]
     },
     "metadata": {},
     "output_type": "display_data"
    },
    {
     "data": {
      "application/vnd.jupyter.widget-view+json": {
       "model_id": "002053a2c80c4f8a92b270789ad09d77",
       "version_major": 2,
       "version_minor": 0
      },
      "text/plain": [
       "  0%|          | 0/30 [00:00<?, ?it/s]"
      ]
     },
     "metadata": {},
     "output_type": "display_data"
    },
    {
     "data": {
      "application/vnd.jupyter.widget-view+json": {
       "model_id": "b3bab40179ad4d99af8d99d12ca3bf21",
       "version_major": 2,
       "version_minor": 0
      },
      "text/plain": [
       "  0%|          | 0/30 [00:00<?, ?it/s]"
      ]
     },
     "metadata": {},
     "output_type": "display_data"
    },
    {
     "data": {
      "application/vnd.jupyter.widget-view+json": {
       "model_id": "1800f2b9059645f490a0ec10aa8eac95",
       "version_major": 2,
       "version_minor": 0
      },
      "text/plain": [
       "  0%|          | 0/30 [00:00<?, ?it/s]"
      ]
     },
     "metadata": {},
     "output_type": "display_data"
    },
    {
     "data": {
      "application/vnd.jupyter.widget-view+json": {
       "model_id": "7955304e80274707adf136bbd5c540ff",
       "version_major": 2,
       "version_minor": 0
      },
      "text/plain": [
       "  0%|          | 0/30 [00:00<?, ?it/s]"
      ]
     },
     "metadata": {},
     "output_type": "display_data"
    },
    {
     "data": {
      "application/vnd.jupyter.widget-view+json": {
       "model_id": "397525b93bf149d7b7d36554067004e5",
       "version_major": 2,
       "version_minor": 0
      },
      "text/plain": [
       "  0%|          | 0/30 [00:00<?, ?it/s]"
      ]
     },
     "metadata": {},
     "output_type": "display_data"
    },
    {
     "name": "stdout",
     "output_type": "stream",
     "text": [
      "🎨 EMD-constrained generation: Using pre-computed color embedding\n",
      "📊 Color space: lab, Target EMD: 0.05\n"
     ]
    },
    {
     "data": {
      "application/vnd.jupyter.widget-view+json": {
       "model_id": "67be198b57284b0f8f529ede0e2af190",
       "version_major": 2,
       "version_minor": 0
      },
      "text/plain": [
       "  0%|          | 0/30 [00:00<?, ?it/s]"
      ]
     },
     "metadata": {},
     "output_type": "display_data"
    },
    {
     "data": {
      "application/vnd.jupyter.widget-view+json": {
       "model_id": "490f902db81f4af5b1d888e971d80493",
       "version_major": 2,
       "version_minor": 0
      },
      "text/plain": [
       "  0%|          | 0/30 [00:00<?, ?it/s]"
      ]
     },
     "metadata": {},
     "output_type": "display_data"
    },
    {
     "data": {
      "application/vnd.jupyter.widget-view+json": {
       "model_id": "f2fd61f8da7743d29cac1aaa20133426",
       "version_major": 2,
       "version_minor": 0
      },
      "text/plain": [
       "  0%|          | 0/30 [00:00<?, ?it/s]"
      ]
     },
     "metadata": {},
     "output_type": "display_data"
    },
    {
     "data": {
      "application/vnd.jupyter.widget-view+json": {
       "model_id": "2fea266e6ee843d7b1343b6034d41fcc",
       "version_major": 2,
       "version_minor": 0
      },
      "text/plain": [
       "  0%|          | 0/30 [00:00<?, ?it/s]"
      ]
     },
     "metadata": {},
     "output_type": "display_data"
    },
    {
     "data": {
      "application/vnd.jupyter.widget-view+json": {
       "model_id": "39c1ac7ff76c456aaf9e0f8ac8820279",
       "version_major": 2,
       "version_minor": 0
      },
      "text/plain": [
       "  0%|          | 0/30 [00:00<?, ?it/s]"
      ]
     },
     "metadata": {},
     "output_type": "display_data"
    },
    {
     "data": {
      "application/vnd.jupyter.widget-view+json": {
       "model_id": "cf1a70f7c6314c579f4e80a7daf8ef3e",
       "version_major": 2,
       "version_minor": 0
      },
      "text/plain": [
       "  0%|          | 0/30 [00:00<?, ?it/s]"
      ]
     },
     "metadata": {},
     "output_type": "display_data"
    },
    {
     "data": {
      "application/vnd.jupyter.widget-view+json": {
       "model_id": "e6347fa923e94ba3a8249cf4abe5be39",
       "version_major": 2,
       "version_minor": 0
      },
      "text/plain": [
       "  0%|          | 0/30 [00:00<?, ?it/s]"
      ]
     },
     "metadata": {},
     "output_type": "display_data"
    },
    {
     "data": {
      "application/vnd.jupyter.widget-view+json": {
       "model_id": "218b5baa740648ef8d2b93be6efc10d4",
       "version_major": 2,
       "version_minor": 0
      },
      "text/plain": [
       "  0%|          | 0/30 [00:00<?, ?it/s]"
      ]
     },
     "metadata": {},
     "output_type": "display_data"
    },
    {
     "data": {
      "application/vnd.jupyter.widget-view+json": {
       "model_id": "b5a91f6d7ee14dc6b7caad99d0725af3",
       "version_major": 2,
       "version_minor": 0
      },
      "text/plain": [
       "  0%|          | 0/30 [00:00<?, ?it/s]"
      ]
     },
     "metadata": {},
     "output_type": "display_data"
    },
    {
     "data": {
      "application/vnd.jupyter.widget-view+json": {
       "model_id": "3933d33f26f04c558b688583d2a11f33",
       "version_major": 2,
       "version_minor": 0
      },
      "text/plain": [
       "  0%|          | 0/30 [00:00<?, ?it/s]"
      ]
     },
     "metadata": {},
     "output_type": "display_data"
    },
    {
     "data": {
      "application/vnd.jupyter.widget-view+json": {
       "model_id": "0959fb78324c4f48930979bd5f44672c",
       "version_major": 2,
       "version_minor": 0
      },
      "text/plain": [
       "  0%|          | 0/30 [00:00<?, ?it/s]"
      ]
     },
     "metadata": {},
     "output_type": "display_data"
    },
    {
     "name": "stdout",
     "output_type": "stream",
     "text": [
      "🎨 EMD-constrained generation: Using pre-computed color embedding\n",
      "📊 Color space: lab, Target EMD: 0.05\n"
     ]
    },
    {
     "data": {
      "application/vnd.jupyter.widget-view+json": {
       "model_id": "12243123800a4e31afcaf20cfce2deba",
       "version_major": 2,
       "version_minor": 0
      },
      "text/plain": [
       "  0%|          | 0/30 [00:00<?, ?it/s]"
      ]
     },
     "metadata": {},
     "output_type": "display_data"
    },
    {
     "data": {
      "application/vnd.jupyter.widget-view+json": {
       "model_id": "2742513ae0c146b2879da6fe05b7f999",
       "version_major": 2,
       "version_minor": 0
      },
      "text/plain": [
       "  0%|          | 0/30 [00:00<?, ?it/s]"
      ]
     },
     "metadata": {},
     "output_type": "display_data"
    },
    {
     "data": {
      "application/vnd.jupyter.widget-view+json": {
       "model_id": "a85939559eed4b7882949de707e39899",
       "version_major": 2,
       "version_minor": 0
      },
      "text/plain": [
       "  0%|          | 0/30 [00:00<?, ?it/s]"
      ]
     },
     "metadata": {},
     "output_type": "display_data"
    },
    {
     "data": {
      "application/vnd.jupyter.widget-view+json": {
       "model_id": "53763f26ca524af08a53f8558ea13429",
       "version_major": 2,
       "version_minor": 0
      },
      "text/plain": [
       "  0%|          | 0/30 [00:00<?, ?it/s]"
      ]
     },
     "metadata": {},
     "output_type": "display_data"
    },
    {
     "data": {
      "application/vnd.jupyter.widget-view+json": {
       "model_id": "7e6353195a5f4eefb5f6193b1e59f8e4",
       "version_major": 2,
       "version_minor": 0
      },
      "text/plain": [
       "  0%|          | 0/30 [00:00<?, ?it/s]"
      ]
     },
     "metadata": {},
     "output_type": "display_data"
    },
    {
     "data": {
      "application/vnd.jupyter.widget-view+json": {
       "model_id": "98be17d47f534e0a828d53956c8a66b3",
       "version_major": 2,
       "version_minor": 0
      },
      "text/plain": [
       "  0%|          | 0/30 [00:00<?, ?it/s]"
      ]
     },
     "metadata": {},
     "output_type": "display_data"
    },
    {
     "data": {
      "application/vnd.jupyter.widget-view+json": {
       "model_id": "5e5c74de7a384b7a9b922b0276405e70",
       "version_major": 2,
       "version_minor": 0
      },
      "text/plain": [
       "  0%|          | 0/30 [00:00<?, ?it/s]"
      ]
     },
     "metadata": {},
     "output_type": "display_data"
    },
    {
     "data": {
      "application/vnd.jupyter.widget-view+json": {
       "model_id": "a23d166a4f6a40cd98f2f3cb74164354",
       "version_major": 2,
       "version_minor": 0
      },
      "text/plain": [
       "  0%|          | 0/30 [00:00<?, ?it/s]"
      ]
     },
     "metadata": {},
     "output_type": "display_data"
    },
    {
     "data": {
      "application/vnd.jupyter.widget-view+json": {
       "model_id": "01681bf699ae44c1a6c4b61de77cb522",
       "version_major": 2,
       "version_minor": 0
      },
      "text/plain": [
       "  0%|          | 0/30 [00:00<?, ?it/s]"
      ]
     },
     "metadata": {},
     "output_type": "display_data"
    },
    {
     "data": {
      "application/vnd.jupyter.widget-view+json": {
       "model_id": "1710e6c7c6bf493dac0e89c77298205f",
       "version_major": 2,
       "version_minor": 0
      },
      "text/plain": [
       "  0%|          | 0/30 [00:00<?, ?it/s]"
      ]
     },
     "metadata": {},
     "output_type": "display_data"
    },
    {
     "data": {
      "application/vnd.jupyter.widget-view+json": {
       "model_id": "5052c22d07274c3f90f0a97bebd4d5c3",
       "version_major": 2,
       "version_minor": 0
      },
      "text/plain": [
       "  0%|          | 0/30 [00:00<?, ?it/s]"
      ]
     },
     "metadata": {},
     "output_type": "display_data"
    },
    {
     "name": "stdout",
     "output_type": "stream",
     "text": [
      "🎨 EMD-constrained generation: Using pre-computed color embedding\n",
      "📊 Color space: lab, Target EMD: 0.05\n"
     ]
    },
    {
     "data": {
      "application/vnd.jupyter.widget-view+json": {
       "model_id": "b268f619a3ac47ecb465c1d5f213edf3",
       "version_major": 2,
       "version_minor": 0
      },
      "text/plain": [
       "  0%|          | 0/30 [00:00<?, ?it/s]"
      ]
     },
     "metadata": {},
     "output_type": "display_data"
    },
    {
     "data": {
      "application/vnd.jupyter.widget-view+json": {
       "model_id": "49ae0e4d426146e69e2152dcedc56018",
       "version_major": 2,
       "version_minor": 0
      },
      "text/plain": [
       "  0%|          | 0/30 [00:00<?, ?it/s]"
      ]
     },
     "metadata": {},
     "output_type": "display_data"
    },
    {
     "name": "stdout",
     "output_type": "stream",
     "text": [
      "🎨 EMD-constrained generation: Using pre-computed color embedding\n",
      "📊 Color space: lab, Target EMD: 0.05\n"
     ]
    },
    {
     "data": {
      "application/vnd.jupyter.widget-view+json": {
       "model_id": "54064957e39a42b785b1dd3697f43846",
       "version_major": 2,
       "version_minor": 0
      },
      "text/plain": [
       "  0%|          | 0/30 [00:00<?, ?it/s]"
      ]
     },
     "metadata": {},
     "output_type": "display_data"
    },
    {
     "data": {
      "application/vnd.jupyter.widget-view+json": {
       "model_id": "d991290cdcc84520bb416b7c521a36dc",
       "version_major": 2,
       "version_minor": 0
      },
      "text/plain": [
       "  0%|          | 0/30 [00:00<?, ?it/s]"
      ]
     },
     "metadata": {},
     "output_type": "display_data"
    },
    {
     "name": "stdout",
     "output_type": "stream",
     "text": [
      "🎨 EMD-constrained generation: Using pre-computed color embedding\n",
      "📊 Color space: lab, Target EMD: 0.05\n"
     ]
    },
    {
     "data": {
      "application/vnd.jupyter.widget-view+json": {
       "model_id": "9f89335a320f4b4db14529f466b6b965",
       "version_major": 2,
       "version_minor": 0
      },
      "text/plain": [
       "  0%|          | 0/30 [00:00<?, ?it/s]"
      ]
     },
     "metadata": {},
     "output_type": "display_data"
    },
    {
     "data": {
      "application/vnd.jupyter.widget-view+json": {
       "model_id": "435cde339f4c484bba65b99272ed2690",
       "version_major": 2,
       "version_minor": 0
      },
      "text/plain": [
       "  0%|          | 0/30 [00:00<?, ?it/s]"
      ]
     },
     "metadata": {},
     "output_type": "display_data"
    },
    {
     "name": "stdout",
     "output_type": "stream",
     "text": [
      "🎨 EMD-constrained generation: Using pre-computed color embedding\n",
      "📊 Color space: lab, Target EMD: 0.05\n"
     ]
    },
    {
     "data": {
      "application/vnd.jupyter.widget-view+json": {
       "model_id": "4309d00eea7f4f9292c0195150998b82",
       "version_major": 2,
       "version_minor": 0
      },
      "text/plain": [
       "  0%|          | 0/30 [00:00<?, ?it/s]"
      ]
     },
     "metadata": {},
     "output_type": "display_data"
    },
    {
     "data": {
      "application/vnd.jupyter.widget-view+json": {
       "model_id": "0aa5d30fb5ad4695b9c7d2b73cb63a85",
       "version_major": 2,
       "version_minor": 0
      },
      "text/plain": [
       "  0%|          | 0/30 [00:00<?, ?it/s]"
      ]
     },
     "metadata": {},
     "output_type": "display_data"
    },
    {
     "data": {
      "application/vnd.jupyter.widget-view+json": {
       "model_id": "27914170ab0e4f2cbe005a684d059973",
       "version_major": 2,
       "version_minor": 0
      },
      "text/plain": [
       "  0%|          | 0/30 [00:00<?, ?it/s]"
      ]
     },
     "metadata": {},
     "output_type": "display_data"
    },
    {
     "name": "stdout",
     "output_type": "stream",
     "text": [
      "🎨 EMD-constrained generation: Using pre-computed color embedding\n",
      "📊 Color space: lab, Target EMD: 0.05\n"
     ]
    },
    {
     "data": {
      "application/vnd.jupyter.widget-view+json": {
       "model_id": "c184ffc06f9447f0ac2d7c9a09d5d80b",
       "version_major": 2,
       "version_minor": 0
      },
      "text/plain": [
       "  0%|          | 0/30 [00:00<?, ?it/s]"
      ]
     },
     "metadata": {},
     "output_type": "display_data"
    },
    {
     "data": {
      "application/vnd.jupyter.widget-view+json": {
       "model_id": "bb48a0ebbd494fbf892e50315b77413a",
       "version_major": 2,
       "version_minor": 0
      },
      "text/plain": [
       "  0%|          | 0/30 [00:00<?, ?it/s]"
      ]
     },
     "metadata": {},
     "output_type": "display_data"
    },
    {
     "name": "stdout",
     "output_type": "stream",
     "text": [
      "🎨 EMD-constrained generation: Using pre-computed color embedding\n",
      "📊 Color space: lab, Target EMD: 0.05\n"
     ]
    },
    {
     "data": {
      "application/vnd.jupyter.widget-view+json": {
       "model_id": "ca59efca1bdd4482a1fdda1dffbed83f",
       "version_major": 2,
       "version_minor": 0
      },
      "text/plain": [
       "  0%|          | 0/30 [00:00<?, ?it/s]"
      ]
     },
     "metadata": {},
     "output_type": "display_data"
    },
    {
     "data": {
      "application/vnd.jupyter.widget-view+json": {
       "model_id": "6b5f77c676084477bf6bb38576815f77",
       "version_major": 2,
       "version_minor": 0
      },
      "text/plain": [
       "  0%|          | 0/30 [00:00<?, ?it/s]"
      ]
     },
     "metadata": {},
     "output_type": "display_data"
    },
    {
     "data": {
      "application/vnd.jupyter.widget-view+json": {
       "model_id": "3da32b64a33743ab83d8acc97f3b5477",
       "version_major": 2,
       "version_minor": 0
      },
      "text/plain": [
       "  0%|          | 0/30 [00:00<?, ?it/s]"
      ]
     },
     "metadata": {},
     "output_type": "display_data"
    },
    {
     "name": "stdout",
     "output_type": "stream",
     "text": [
      "🎨 EMD-constrained generation: Using pre-computed color embedding\n",
      "📊 Color space: lab, Target EMD: 0.05\n"
     ]
    },
    {
     "data": {
      "application/vnd.jupyter.widget-view+json": {
       "model_id": "7deb43a699494ab6a18a9f2724fd66ef",
       "version_major": 2,
       "version_minor": 0
      },
      "text/plain": [
       "  0%|          | 0/30 [00:00<?, ?it/s]"
      ]
     },
     "metadata": {},
     "output_type": "display_data"
    },
    {
     "data": {
      "application/vnd.jupyter.widget-view+json": {
       "model_id": "ba4a81d8e98d4f9784249d18ad550fe0",
       "version_major": 2,
       "version_minor": 0
      },
      "text/plain": [
       "  0%|          | 0/30 [00:00<?, ?it/s]"
      ]
     },
     "metadata": {},
     "output_type": "display_data"
    },
    {
     "name": "stdout",
     "output_type": "stream",
     "text": [
      "🎨 EMD-constrained generation: Using pre-computed color embedding\n",
      "📊 Color space: lab, Target EMD: 0.05\n"
     ]
    },
    {
     "data": {
      "application/vnd.jupyter.widget-view+json": {
       "model_id": "ab192257edad4e61be0b7c3f9e3352c3",
       "version_major": 2,
       "version_minor": 0
      },
      "text/plain": [
       "  0%|          | 0/30 [00:00<?, ?it/s]"
      ]
     },
     "metadata": {},
     "output_type": "display_data"
    },
    {
     "data": {
      "application/vnd.jupyter.widget-view+json": {
       "model_id": "7a6ded734228408790bfd7ef6f20ea0e",
       "version_major": 2,
       "version_minor": 0
      },
      "text/plain": [
       "  0%|          | 0/30 [00:00<?, ?it/s]"
      ]
     },
     "metadata": {},
     "output_type": "display_data"
    },
    {
     "data": {
      "application/vnd.jupyter.widget-view+json": {
       "model_id": "5924545754f04e05a497938fde8f4f9b",
       "version_major": 2,
       "version_minor": 0
      },
      "text/plain": [
       "  0%|          | 0/30 [00:00<?, ?it/s]"
      ]
     },
     "metadata": {},
     "output_type": "display_data"
    },
    {
     "data": {
      "application/vnd.jupyter.widget-view+json": {
       "model_id": "5358d389994c463b983bc26478c48652",
       "version_major": 2,
       "version_minor": 0
      },
      "text/plain": [
       "  0%|          | 0/30 [00:00<?, ?it/s]"
      ]
     },
     "metadata": {},
     "output_type": "display_data"
    },
    {
     "name": "stdout",
     "output_type": "stream",
     "text": [
      "🎨 EMD-constrained generation: Using pre-computed color embedding\n",
      "📊 Color space: lab, Target EMD: 0.05\n"
     ]
    },
    {
     "data": {
      "application/vnd.jupyter.widget-view+json": {
       "model_id": "c8cc8e0169684f4b89b83ece433f0a43",
       "version_major": 2,
       "version_minor": 0
      },
      "text/plain": [
       "  0%|          | 0/30 [00:00<?, ?it/s]"
      ]
     },
     "metadata": {},
     "output_type": "display_data"
    },
    {
     "data": {
      "application/vnd.jupyter.widget-view+json": {
       "model_id": "3357b2ed25ca45aa866556e856e72ccd",
       "version_major": 2,
       "version_minor": 0
      },
      "text/plain": [
       "  0%|          | 0/30 [00:00<?, ?it/s]"
      ]
     },
     "metadata": {},
     "output_type": "display_data"
    },
    {
     "name": "stdout",
     "output_type": "stream",
     "text": [
      "🎨 EMD-constrained generation: Using pre-computed color embedding\n",
      "📊 Color space: lab, Target EMD: 0.05\n"
     ]
    },
    {
     "data": {
      "application/vnd.jupyter.widget-view+json": {
       "model_id": "f4e31a34c0af44a98b07c822ba3ebaea",
       "version_major": 2,
       "version_minor": 0
      },
      "text/plain": [
       "  0%|          | 0/30 [00:00<?, ?it/s]"
      ]
     },
     "metadata": {},
     "output_type": "display_data"
    },
    {
     "data": {
      "application/vnd.jupyter.widget-view+json": {
       "model_id": "c8f184340b514181b1d943cb591c27a1",
       "version_major": 2,
       "version_minor": 0
      },
      "text/plain": [
       "  0%|          | 0/30 [00:00<?, ?it/s]"
      ]
     },
     "metadata": {},
     "output_type": "display_data"
    },
    {
     "data": {
      "application/vnd.jupyter.widget-view+json": {
       "model_id": "718f7d9265604c67a039d7a31cac0c2a",
       "version_major": 2,
       "version_minor": 0
      },
      "text/plain": [
       "  0%|          | 0/30 [00:00<?, ?it/s]"
      ]
     },
     "metadata": {},
     "output_type": "display_data"
    },
    {
     "name": "stdout",
     "output_type": "stream",
     "text": [
      "🎨 EMD-constrained generation: Using pre-computed color embedding\n",
      "📊 Color space: lab, Target EMD: 0.05\n"
     ]
    },
    {
     "data": {
      "application/vnd.jupyter.widget-view+json": {
       "model_id": "5456cbe902e1492799b258c6bce5a224",
       "version_major": 2,
       "version_minor": 0
      },
      "text/plain": [
       "  0%|          | 0/30 [00:00<?, ?it/s]"
      ]
     },
     "metadata": {},
     "output_type": "display_data"
    },
    {
     "data": {
      "application/vnd.jupyter.widget-view+json": {
       "model_id": "6ae8b66111b44197a5a5f3472a86b169",
       "version_major": 2,
       "version_minor": 0
      },
      "text/plain": [
       "  0%|          | 0/30 [00:00<?, ?it/s]"
      ]
     },
     "metadata": {},
     "output_type": "display_data"
    },
    {
     "data": {
      "application/vnd.jupyter.widget-view+json": {
       "model_id": "c2f870150e1a4588ac763cade8296eba",
       "version_major": 2,
       "version_minor": 0
      },
      "text/plain": [
       "  0%|          | 0/30 [00:00<?, ?it/s]"
      ]
     },
     "metadata": {},
     "output_type": "display_data"
    },
    {
     "name": "stdout",
     "output_type": "stream",
     "text": [
      "🎨 EMD-constrained generation: Using pre-computed color embedding\n",
      "📊 Color space: lab, Target EMD: 0.05\n"
     ]
    },
    {
     "data": {
      "application/vnd.jupyter.widget-view+json": {
       "model_id": "a35c1ce6ad484311a5a78da92ff2e0ac",
       "version_major": 2,
       "version_minor": 0
      },
      "text/plain": [
       "  0%|          | 0/30 [00:00<?, ?it/s]"
      ]
     },
     "metadata": {},
     "output_type": "display_data"
    },
    {
     "data": {
      "application/vnd.jupyter.widget-view+json": {
       "model_id": "bdc3d30228bf40049b40ab354df48aa3",
       "version_major": 2,
       "version_minor": 0
      },
      "text/plain": [
       "  0%|          | 0/30 [00:00<?, ?it/s]"
      ]
     },
     "metadata": {},
     "output_type": "display_data"
    },
    {
     "data": {
      "application/vnd.jupyter.widget-view+json": {
       "model_id": "3419d86353fb4351940d2f8791b348ef",
       "version_major": 2,
       "version_minor": 0
      },
      "text/plain": [
       "  0%|          | 0/30 [00:00<?, ?it/s]"
      ]
     },
     "metadata": {},
     "output_type": "display_data"
    },
    {
     "name": "stdout",
     "output_type": "stream",
     "text": [
      "🎨 EMD-constrained generation: Using pre-computed color embedding\n",
      "📊 Color space: lab, Target EMD: 0.05\n"
     ]
    },
    {
     "data": {
      "application/vnd.jupyter.widget-view+json": {
       "model_id": "9ecd6e1256cd410fb835a7846bc67d82",
       "version_major": 2,
       "version_minor": 0
      },
      "text/plain": [
       "  0%|          | 0/30 [00:00<?, ?it/s]"
      ]
     },
     "metadata": {},
     "output_type": "display_data"
    },
    {
     "data": {
      "application/vnd.jupyter.widget-view+json": {
       "model_id": "93a12fd1ac5943988cfe5f07f7807778",
       "version_major": 2,
       "version_minor": 0
      },
      "text/plain": [
       "  0%|          | 0/30 [00:00<?, ?it/s]"
      ]
     },
     "metadata": {},
     "output_type": "display_data"
    },
    {
     "data": {
      "application/vnd.jupyter.widget-view+json": {
       "model_id": "170e7ca9f9c84ed4b68150231e7ee879",
       "version_major": 2,
       "version_minor": 0
      },
      "text/plain": [
       "  0%|          | 0/30 [00:00<?, ?it/s]"
      ]
     },
     "metadata": {},
     "output_type": "display_data"
    },
    {
     "data": {
      "application/vnd.jupyter.widget-view+json": {
       "model_id": "27c4258769534f53998a56c777ef8e9b",
       "version_major": 2,
       "version_minor": 0
      },
      "text/plain": [
       "  0%|          | 0/30 [00:00<?, ?it/s]"
      ]
     },
     "metadata": {},
     "output_type": "display_data"
    },
    {
     "data": {
      "application/vnd.jupyter.widget-view+json": {
       "model_id": "f00430c106784a99a4f05dfe721b2cb5",
       "version_major": 2,
       "version_minor": 0
      },
      "text/plain": [
       "  0%|          | 0/30 [00:00<?, ?it/s]"
      ]
     },
     "metadata": {},
     "output_type": "display_data"
    },
    {
     "data": {
      "application/vnd.jupyter.widget-view+json": {
       "model_id": "3e5db7117d1d4732acf2f55e01a34b5f",
       "version_major": 2,
       "version_minor": 0
      },
      "text/plain": [
       "  0%|          | 0/30 [00:00<?, ?it/s]"
      ]
     },
     "metadata": {},
     "output_type": "display_data"
    },
    {
     "data": {
      "application/vnd.jupyter.widget-view+json": {
       "model_id": "031b58203a5d44e2bc522e6aa62539fc",
       "version_major": 2,
       "version_minor": 0
      },
      "text/plain": [
       "  0%|          | 0/30 [00:00<?, ?it/s]"
      ]
     },
     "metadata": {},
     "output_type": "display_data"
    },
    {
     "name": "stdout",
     "output_type": "stream",
     "text": [
      "🎨 EMD-constrained generation: Using pre-computed color embedding\n",
      "📊 Color space: lab, Target EMD: 0.05\n"
     ]
    },
    {
     "data": {
      "application/vnd.jupyter.widget-view+json": {
       "model_id": "216db2589ed0421baaf6edd70dae66b9",
       "version_major": 2,
       "version_minor": 0
      },
      "text/plain": [
       "  0%|          | 0/30 [00:00<?, ?it/s]"
      ]
     },
     "metadata": {},
     "output_type": "display_data"
    },
    {
     "data": {
      "application/vnd.jupyter.widget-view+json": {
       "model_id": "938456d80c4f41be9426e1a2eeeb168b",
       "version_major": 2,
       "version_minor": 0
      },
      "text/plain": [
       "  0%|          | 0/30 [00:00<?, ?it/s]"
      ]
     },
     "metadata": {},
     "output_type": "display_data"
    },
    {
     "data": {
      "application/vnd.jupyter.widget-view+json": {
       "model_id": "5e81d0e89eb84e9aa4553a5fea98ac36",
       "version_major": 2,
       "version_minor": 0
      },
      "text/plain": [
       "  0%|          | 0/30 [00:00<?, ?it/s]"
      ]
     },
     "metadata": {},
     "output_type": "display_data"
    },
    {
     "data": {
      "application/vnd.jupyter.widget-view+json": {
       "model_id": "8987e31fe5cb4a429a0b902edeb5c390",
       "version_major": 2,
       "version_minor": 0
      },
      "text/plain": [
       "  0%|          | 0/30 [00:00<?, ?it/s]"
      ]
     },
     "metadata": {},
     "output_type": "display_data"
    },
    {
     "data": {
      "application/vnd.jupyter.widget-view+json": {
       "model_id": "0465cbec38574c35a8e28a87d3fc8ed8",
       "version_major": 2,
       "version_minor": 0
      },
      "text/plain": [
       "  0%|          | 0/30 [00:00<?, ?it/s]"
      ]
     },
     "metadata": {},
     "output_type": "display_data"
    },
    {
     "data": {
      "application/vnd.jupyter.widget-view+json": {
       "model_id": "181a46a08e1942a3a10276e1755f19d1",
       "version_major": 2,
       "version_minor": 0
      },
      "text/plain": [
       "  0%|          | 0/30 [00:00<?, ?it/s]"
      ]
     },
     "metadata": {},
     "output_type": "display_data"
    },
    {
     "data": {
      "application/vnd.jupyter.widget-view+json": {
       "model_id": "818d7728cc9f4d178e1fa1e29d74af8a",
       "version_major": 2,
       "version_minor": 0
      },
      "text/plain": [
       "  0%|          | 0/30 [00:00<?, ?it/s]"
      ]
     },
     "metadata": {},
     "output_type": "display_data"
    },
    {
     "data": {
      "application/vnd.jupyter.widget-view+json": {
       "model_id": "2cf8e03e7a214f178fdcd1c9138c8d34",
       "version_major": 2,
       "version_minor": 0
      },
      "text/plain": [
       "  0%|          | 0/30 [00:00<?, ?it/s]"
      ]
     },
     "metadata": {},
     "output_type": "display_data"
    },
    {
     "data": {
      "application/vnd.jupyter.widget-view+json": {
       "model_id": "22f54fea4e9b4bac8a24562f073a854d",
       "version_major": 2,
       "version_minor": 0
      },
      "text/plain": [
       "  0%|          | 0/30 [00:00<?, ?it/s]"
      ]
     },
     "metadata": {},
     "output_type": "display_data"
    },
    {
     "data": {
      "application/vnd.jupyter.widget-view+json": {
       "model_id": "b4064a2b94974267ae1cf327bc0c1993",
       "version_major": 2,
       "version_minor": 0
      },
      "text/plain": [
       "  0%|          | 0/30 [00:00<?, ?it/s]"
      ]
     },
     "metadata": {},
     "output_type": "display_data"
    },
    {
     "data": {
      "application/vnd.jupyter.widget-view+json": {
       "model_id": "2fe3166bfa9641b6a473123c5a86d45f",
       "version_major": 2,
       "version_minor": 0
      },
      "text/plain": [
       "  0%|          | 0/30 [00:00<?, ?it/s]"
      ]
     },
     "metadata": {},
     "output_type": "display_data"
    },
    {
     "name": "stdout",
     "output_type": "stream",
     "text": [
      "🎨 EMD-constrained generation: Using pre-computed color embedding\n",
      "📊 Color space: lab, Target EMD: 0.05\n"
     ]
    },
    {
     "data": {
      "application/vnd.jupyter.widget-view+json": {
       "model_id": "ca3635cf1b8d4d33a5de29a7ecacf2d0",
       "version_major": 2,
       "version_minor": 0
      },
      "text/plain": [
       "  0%|          | 0/30 [00:00<?, ?it/s]"
      ]
     },
     "metadata": {},
     "output_type": "display_data"
    },
    {
     "data": {
      "application/vnd.jupyter.widget-view+json": {
       "model_id": "97b6da94b51b496b8bea9bb622763ab1",
       "version_major": 2,
       "version_minor": 0
      },
      "text/plain": [
       "  0%|          | 0/30 [00:00<?, ?it/s]"
      ]
     },
     "metadata": {},
     "output_type": "display_data"
    },
    {
     "data": {
      "application/vnd.jupyter.widget-view+json": {
       "model_id": "d0265f773f464a2b89eef13ca63157e7",
       "version_major": 2,
       "version_minor": 0
      },
      "text/plain": [
       "  0%|          | 0/30 [00:00<?, ?it/s]"
      ]
     },
     "metadata": {},
     "output_type": "display_data"
    },
    {
     "data": {
      "application/vnd.jupyter.widget-view+json": {
       "model_id": "4e2fdb3e232040eab9d0dad8e670ab66",
       "version_major": 2,
       "version_minor": 0
      },
      "text/plain": [
       "  0%|          | 0/30 [00:00<?, ?it/s]"
      ]
     },
     "metadata": {},
     "output_type": "display_data"
    },
    {
     "data": {
      "application/vnd.jupyter.widget-view+json": {
       "model_id": "7fdcf20589874e7fb1b2bff9fedf4bae",
       "version_major": 2,
       "version_minor": 0
      },
      "text/plain": [
       "  0%|          | 0/30 [00:00<?, ?it/s]"
      ]
     },
     "metadata": {},
     "output_type": "display_data"
    },
    {
     "data": {
      "application/vnd.jupyter.widget-view+json": {
       "model_id": "cd508215ee024f699bf05f327cc01d71",
       "version_major": 2,
       "version_minor": 0
      },
      "text/plain": [
       "  0%|          | 0/30 [00:00<?, ?it/s]"
      ]
     },
     "metadata": {},
     "output_type": "display_data"
    },
    {
     "data": {
      "application/vnd.jupyter.widget-view+json": {
       "model_id": "a4319bb8116d4f91b8089e19d1ddc756",
       "version_major": 2,
       "version_minor": 0
      },
      "text/plain": [
       "  0%|          | 0/30 [00:00<?, ?it/s]"
      ]
     },
     "metadata": {},
     "output_type": "display_data"
    },
    {
     "data": {
      "application/vnd.jupyter.widget-view+json": {
       "model_id": "0cc5aebb06204d6e91c887642d1d7a94",
       "version_major": 2,
       "version_minor": 0
      },
      "text/plain": [
       "  0%|          | 0/30 [00:00<?, ?it/s]"
      ]
     },
     "metadata": {},
     "output_type": "display_data"
    },
    {
     "data": {
      "application/vnd.jupyter.widget-view+json": {
       "model_id": "596b68804f3746cb8ca754d9ba313329",
       "version_major": 2,
       "version_minor": 0
      },
      "text/plain": [
       "  0%|          | 0/30 [00:00<?, ?it/s]"
      ]
     },
     "metadata": {},
     "output_type": "display_data"
    },
    {
     "data": {
      "application/vnd.jupyter.widget-view+json": {
       "model_id": "6fe6323867c248829afea04d70eade6b",
       "version_major": 2,
       "version_minor": 0
      },
      "text/plain": [
       "  0%|          | 0/30 [00:00<?, ?it/s]"
      ]
     },
     "metadata": {},
     "output_type": "display_data"
    },
    {
     "data": {
      "application/vnd.jupyter.widget-view+json": {
       "model_id": "c680e3f0c6c243cfad2f5458c5014dfc",
       "version_major": 2,
       "version_minor": 0
      },
      "text/plain": [
       "  0%|          | 0/30 [00:00<?, ?it/s]"
      ]
     },
     "metadata": {},
     "output_type": "display_data"
    },
    {
     "name": "stdout",
     "output_type": "stream",
     "text": [
      "🎨 EMD-constrained generation: Using pre-computed color embedding\n",
      "📊 Color space: lab, Target EMD: 0.05\n"
     ]
    },
    {
     "data": {
      "application/vnd.jupyter.widget-view+json": {
       "model_id": "b52d773118fe4a429d70b941f3b166f0",
       "version_major": 2,
       "version_minor": 0
      },
      "text/plain": [
       "  0%|          | 0/30 [00:00<?, ?it/s]"
      ]
     },
     "metadata": {},
     "output_type": "display_data"
    },
    {
     "data": {
      "application/vnd.jupyter.widget-view+json": {
       "model_id": "c583d1f6efc04a28b6f8d46d6e8ccbbb",
       "version_major": 2,
       "version_minor": 0
      },
      "text/plain": [
       "  0%|          | 0/30 [00:00<?, ?it/s]"
      ]
     },
     "metadata": {},
     "output_type": "display_data"
    },
    {
     "data": {
      "application/vnd.jupyter.widget-view+json": {
       "model_id": "bd3c24c10deb45268a83f2f46b15d3ec",
       "version_major": 2,
       "version_minor": 0
      },
      "text/plain": [
       "  0%|          | 0/30 [00:00<?, ?it/s]"
      ]
     },
     "metadata": {},
     "output_type": "display_data"
    },
    {
     "data": {
      "application/vnd.jupyter.widget-view+json": {
       "model_id": "4a41d73b60ab4db0a2c101723c44e325",
       "version_major": 2,
       "version_minor": 0
      },
      "text/plain": [
       "  0%|          | 0/30 [00:00<?, ?it/s]"
      ]
     },
     "metadata": {},
     "output_type": "display_data"
    },
    {
     "data": {
      "application/vnd.jupyter.widget-view+json": {
       "model_id": "0e0e3af15a7643b2bfd3ef03352ae338",
       "version_major": 2,
       "version_minor": 0
      },
      "text/plain": [
       "  0%|          | 0/30 [00:00<?, ?it/s]"
      ]
     },
     "metadata": {},
     "output_type": "display_data"
    },
    {
     "data": {
      "application/vnd.jupyter.widget-view+json": {
       "model_id": "dd6e5558b803459f9357e04810d3bfa8",
       "version_major": 2,
       "version_minor": 0
      },
      "text/plain": [
       "  0%|          | 0/30 [00:00<?, ?it/s]"
      ]
     },
     "metadata": {},
     "output_type": "display_data"
    },
    {
     "data": {
      "application/vnd.jupyter.widget-view+json": {
       "model_id": "b836cb3eedb8436b846c61f2dca2699c",
       "version_major": 2,
       "version_minor": 0
      },
      "text/plain": [
       "  0%|          | 0/30 [00:00<?, ?it/s]"
      ]
     },
     "metadata": {},
     "output_type": "display_data"
    },
    {
     "data": {
      "application/vnd.jupyter.widget-view+json": {
       "model_id": "6bd04bc6732a41568e93883a8214de7c",
       "version_major": 2,
       "version_minor": 0
      },
      "text/plain": [
       "  0%|          | 0/30 [00:00<?, ?it/s]"
      ]
     },
     "metadata": {},
     "output_type": "display_data"
    },
    {
     "name": "stdout",
     "output_type": "stream",
     "text": [
      "🎨 EMD-constrained generation: Using pre-computed color embedding\n",
      "📊 Color space: lab, Target EMD: 0.05\n"
     ]
    },
    {
     "data": {
      "application/vnd.jupyter.widget-view+json": {
       "model_id": "f8eb8dded1954a818ccaa6dcebc3a1a3",
       "version_major": 2,
       "version_minor": 0
      },
      "text/plain": [
       "  0%|          | 0/30 [00:00<?, ?it/s]"
      ]
     },
     "metadata": {},
     "output_type": "display_data"
    },
    {
     "data": {
      "application/vnd.jupyter.widget-view+json": {
       "model_id": "7062f045d30f493185d41495cdfd02f9",
       "version_major": 2,
       "version_minor": 0
      },
      "text/plain": [
       "  0%|          | 0/30 [00:00<?, ?it/s]"
      ]
     },
     "metadata": {},
     "output_type": "display_data"
    },
    {
     "data": {
      "application/vnd.jupyter.widget-view+json": {
       "model_id": "8a2350c731c243d29a6570002f5d427e",
       "version_major": 2,
       "version_minor": 0
      },
      "text/plain": [
       "  0%|          | 0/30 [00:00<?, ?it/s]"
      ]
     },
     "metadata": {},
     "output_type": "display_data"
    },
    {
     "name": "stdout",
     "output_type": "stream",
     "text": [
      "🎨 EMD-constrained generation: Using pre-computed color embedding\n",
      "📊 Color space: lab, Target EMD: 0.05\n"
     ]
    },
    {
     "data": {
      "application/vnd.jupyter.widget-view+json": {
       "model_id": "da8f6ec7c68244bc8166ac8b012dc4ae",
       "version_major": 2,
       "version_minor": 0
      },
      "text/plain": [
       "  0%|          | 0/30 [00:00<?, ?it/s]"
      ]
     },
     "metadata": {},
     "output_type": "display_data"
    },
    {
     "data": {
      "application/vnd.jupyter.widget-view+json": {
       "model_id": "2242c35f5e2f49a9bf06aa40a41c9b8e",
       "version_major": 2,
       "version_minor": 0
      },
      "text/plain": [
       "  0%|          | 0/30 [00:00<?, ?it/s]"
      ]
     },
     "metadata": {},
     "output_type": "display_data"
    },
    {
     "name": "stdout",
     "output_type": "stream",
     "text": [
      "🎨 EMD-constrained generation: Using pre-computed color embedding\n",
      "📊 Color space: lab, Target EMD: 0.05\n"
     ]
    },
    {
     "data": {
      "application/vnd.jupyter.widget-view+json": {
       "model_id": "19951ff152e9479d99c635fd8e18f3a6",
       "version_major": 2,
       "version_minor": 0
      },
      "text/plain": [
       "  0%|          | 0/30 [00:00<?, ?it/s]"
      ]
     },
     "metadata": {},
     "output_type": "display_data"
    },
    {
     "data": {
      "application/vnd.jupyter.widget-view+json": {
       "model_id": "c3d3cf129d2a424cae88266041039a4d",
       "version_major": 2,
       "version_minor": 0
      },
      "text/plain": [
       "  0%|          | 0/30 [00:00<?, ?it/s]"
      ]
     },
     "metadata": {},
     "output_type": "display_data"
    },
    {
     "data": {
      "application/vnd.jupyter.widget-view+json": {
       "model_id": "4150909e07804332965ce534d43c73c5",
       "version_major": 2,
       "version_minor": 0
      },
      "text/plain": [
       "  0%|          | 0/30 [00:00<?, ?it/s]"
      ]
     },
     "metadata": {},
     "output_type": "display_data"
    },
    {
     "name": "stdout",
     "output_type": "stream",
     "text": [
      "🎨 EMD-constrained generation: Using pre-computed color embedding\n",
      "📊 Color space: lab, Target EMD: 0.05\n"
     ]
    },
    {
     "data": {
      "application/vnd.jupyter.widget-view+json": {
       "model_id": "30cf484915074fa3ada3a1afbe061c9b",
       "version_major": 2,
       "version_minor": 0
      },
      "text/plain": [
       "  0%|          | 0/30 [00:00<?, ?it/s]"
      ]
     },
     "metadata": {},
     "output_type": "display_data"
    },
    {
     "data": {
      "application/vnd.jupyter.widget-view+json": {
       "model_id": "a5ea852890614bdbbdf81316bb67fcde",
       "version_major": 2,
       "version_minor": 0
      },
      "text/plain": [
       "  0%|          | 0/30 [00:00<?, ?it/s]"
      ]
     },
     "metadata": {},
     "output_type": "display_data"
    },
    {
     "name": "stdout",
     "output_type": "stream",
     "text": [
      "🎨 EMD-constrained generation: Using pre-computed color embedding\n",
      "📊 Color space: lab, Target EMD: 0.05\n"
     ]
    },
    {
     "data": {
      "application/vnd.jupyter.widget-view+json": {
       "model_id": "1bc9b9804ab740db802502105d08ff09",
       "version_major": 2,
       "version_minor": 0
      },
      "text/plain": [
       "  0%|          | 0/30 [00:00<?, ?it/s]"
      ]
     },
     "metadata": {},
     "output_type": "display_data"
    },
    {
     "data": {
      "application/vnd.jupyter.widget-view+json": {
       "model_id": "df63286d75e440e781057100971323dc",
       "version_major": 2,
       "version_minor": 0
      },
      "text/plain": [
       "  0%|          | 0/30 [00:00<?, ?it/s]"
      ]
     },
     "metadata": {},
     "output_type": "display_data"
    },
    {
     "data": {
      "application/vnd.jupyter.widget-view+json": {
       "model_id": "2759ca8c91d94a52a90178516fc1568b",
       "version_major": 2,
       "version_minor": 0
      },
      "text/plain": [
       "  0%|          | 0/30 [00:00<?, ?it/s]"
      ]
     },
     "metadata": {},
     "output_type": "display_data"
    },
    {
     "name": "stdout",
     "output_type": "stream",
     "text": [
      "🎨 EMD-constrained generation: Using pre-computed color embedding\n",
      "📊 Color space: lab, Target EMD: 0.05\n"
     ]
    },
    {
     "data": {
      "application/vnd.jupyter.widget-view+json": {
       "model_id": "c1a258dd1c4744f184344b315eb7a96f",
       "version_major": 2,
       "version_minor": 0
      },
      "text/plain": [
       "  0%|          | 0/30 [00:00<?, ?it/s]"
      ]
     },
     "metadata": {},
     "output_type": "display_data"
    },
    {
     "data": {
      "application/vnd.jupyter.widget-view+json": {
       "model_id": "ddd7f00b3ebd4c34898ee32c56bb5831",
       "version_major": 2,
       "version_minor": 0
      },
      "text/plain": [
       "  0%|          | 0/30 [00:00<?, ?it/s]"
      ]
     },
     "metadata": {},
     "output_type": "display_data"
    },
    {
     "name": "stdout",
     "output_type": "stream",
     "text": [
      "🎨 EMD-constrained generation: Using pre-computed color embedding\n",
      "📊 Color space: lab, Target EMD: 0.05\n"
     ]
    },
    {
     "data": {
      "application/vnd.jupyter.widget-view+json": {
       "model_id": "f52685dcd00a454aa09b559201f78936",
       "version_major": 2,
       "version_minor": 0
      },
      "text/plain": [
       "  0%|          | 0/30 [00:00<?, ?it/s]"
      ]
     },
     "metadata": {},
     "output_type": "display_data"
    },
    {
     "data": {
      "application/vnd.jupyter.widget-view+json": {
       "model_id": "54e2a6dbe3eb4ee8881fdefb91135b60",
       "version_major": 2,
       "version_minor": 0
      },
      "text/plain": [
       "  0%|          | 0/30 [00:00<?, ?it/s]"
      ]
     },
     "metadata": {},
     "output_type": "display_data"
    },
    {
     "data": {
      "application/vnd.jupyter.widget-view+json": {
       "model_id": "1ec777f45cf14ceea6ef00d6cf1f46da",
       "version_major": 2,
       "version_minor": 0
      },
      "text/plain": [
       "  0%|          | 0/30 [00:00<?, ?it/s]"
      ]
     },
     "metadata": {},
     "output_type": "display_data"
    },
    {
     "name": "stdout",
     "output_type": "stream",
     "text": [
      "🎨 EMD-constrained generation: Using pre-computed color embedding\n",
      "📊 Color space: lab, Target EMD: 0.05\n"
     ]
    },
    {
     "data": {
      "application/vnd.jupyter.widget-view+json": {
       "model_id": "89000ca3ac5f4207889b40fe4a5037be",
       "version_major": 2,
       "version_minor": 0
      },
      "text/plain": [
       "  0%|          | 0/30 [00:00<?, ?it/s]"
      ]
     },
     "metadata": {},
     "output_type": "display_data"
    },
    {
     "data": {
      "application/vnd.jupyter.widget-view+json": {
       "model_id": "66b4e22fd78742dabf92cfd77702382e",
       "version_major": 2,
       "version_minor": 0
      },
      "text/plain": [
       "  0%|          | 0/30 [00:00<?, ?it/s]"
      ]
     },
     "metadata": {},
     "output_type": "display_data"
    },
    {
     "name": "stdout",
     "output_type": "stream",
     "text": [
      "🎨 EMD-constrained generation: Using pre-computed color embedding\n",
      "📊 Color space: lab, Target EMD: 0.05\n"
     ]
    },
    {
     "data": {
      "application/vnd.jupyter.widget-view+json": {
       "model_id": "33f8426f8e9b42e1864e0238a7f7e80c",
       "version_major": 2,
       "version_minor": 0
      },
      "text/plain": [
       "  0%|          | 0/30 [00:00<?, ?it/s]"
      ]
     },
     "metadata": {},
     "output_type": "display_data"
    },
    {
     "data": {
      "application/vnd.jupyter.widget-view+json": {
       "model_id": "ae72f3a968cb411fbd16f147e69e9332",
       "version_major": 2,
       "version_minor": 0
      },
      "text/plain": [
       "  0%|          | 0/30 [00:00<?, ?it/s]"
      ]
     },
     "metadata": {},
     "output_type": "display_data"
    },
    {
     "name": "stdout",
     "output_type": "stream",
     "text": [
      "🎨 EMD-constrained generation: Using pre-computed color embedding\n",
      "📊 Color space: lab, Target EMD: 0.05\n"
     ]
    },
    {
     "data": {
      "application/vnd.jupyter.widget-view+json": {
       "model_id": "506b3b65cf004fa7919b9eedd0e5a991",
       "version_major": 2,
       "version_minor": 0
      },
      "text/plain": [
       "  0%|          | 0/30 [00:00<?, ?it/s]"
      ]
     },
     "metadata": {},
     "output_type": "display_data"
    },
    {
     "data": {
      "application/vnd.jupyter.widget-view+json": {
       "model_id": "da97e9125d5341ab856309301875b7eb",
       "version_major": 2,
       "version_minor": 0
      },
      "text/plain": [
       "  0%|          | 0/30 [00:00<?, ?it/s]"
      ]
     },
     "metadata": {},
     "output_type": "display_data"
    },
    {
     "data": {
      "application/vnd.jupyter.widget-view+json": {
       "model_id": "b8f9d6adf6ec46c987855be3dab7bf1a",
       "version_major": 2,
       "version_minor": 0
      },
      "text/plain": [
       "  0%|          | 0/30 [00:00<?, ?it/s]"
      ]
     },
     "metadata": {},
     "output_type": "display_data"
    },
    {
     "name": "stdout",
     "output_type": "stream",
     "text": [
      "🎨 EMD-constrained generation: Using pre-computed color embedding\n",
      "📊 Color space: lab, Target EMD: 0.05\n"
     ]
    },
    {
     "data": {
      "application/vnd.jupyter.widget-view+json": {
       "model_id": "38218e082b5c4b4ba833e94ad4dcb9ca",
       "version_major": 2,
       "version_minor": 0
      },
      "text/plain": [
       "  0%|          | 0/30 [00:00<?, ?it/s]"
      ]
     },
     "metadata": {},
     "output_type": "display_data"
    },
    {
     "data": {
      "application/vnd.jupyter.widget-view+json": {
       "model_id": "1d27fcf15d3b4366989e3c7c20a6c414",
       "version_major": 2,
       "version_minor": 0
      },
      "text/plain": [
       "  0%|          | 0/30 [00:00<?, ?it/s]"
      ]
     },
     "metadata": {},
     "output_type": "display_data"
    },
    {
     "name": "stdout",
     "output_type": "stream",
     "text": [
      "🎨 EMD-constrained generation: Using pre-computed color embedding\n",
      "📊 Color space: lab, Target EMD: 0.05\n"
     ]
    },
    {
     "data": {
      "application/vnd.jupyter.widget-view+json": {
       "model_id": "43b8e6ef898b4cfb8f0000be5de56253",
       "version_major": 2,
       "version_minor": 0
      },
      "text/plain": [
       "  0%|          | 0/30 [00:00<?, ?it/s]"
      ]
     },
     "metadata": {},
     "output_type": "display_data"
    },
    {
     "data": {
      "application/vnd.jupyter.widget-view+json": {
       "model_id": "40353b7ebecc439eaf58709505a1a73a",
       "version_major": 2,
       "version_minor": 0
      },
      "text/plain": [
       "  0%|          | 0/30 [00:00<?, ?it/s]"
      ]
     },
     "metadata": {},
     "output_type": "display_data"
    },
    {
     "name": "stdout",
     "output_type": "stream",
     "text": [
      "🎨 EMD-constrained generation: Using pre-computed color embedding\n",
      "📊 Color space: lab, Target EMD: 0.05\n"
     ]
    },
    {
     "data": {
      "application/vnd.jupyter.widget-view+json": {
       "model_id": "9139544d57f645d085f1ec6090916897",
       "version_major": 2,
       "version_minor": 0
      },
      "text/plain": [
       "  0%|          | 0/30 [00:00<?, ?it/s]"
      ]
     },
     "metadata": {},
     "output_type": "display_data"
    },
    {
     "data": {
      "application/vnd.jupyter.widget-view+json": {
       "model_id": "cca9a142029e4888946d3d9a03083e2c",
       "version_major": 2,
       "version_minor": 0
      },
      "text/plain": [
       "  0%|          | 0/30 [00:00<?, ?it/s]"
      ]
     },
     "metadata": {},
     "output_type": "display_data"
    },
    {
     "name": "stdout",
     "output_type": "stream",
     "text": [
      "🎨 EMD-constrained generation: Using pre-computed color embedding\n",
      "📊 Color space: lab, Target EMD: 0.05\n"
     ]
    },
    {
     "data": {
      "application/vnd.jupyter.widget-view+json": {
       "model_id": "b4a389f92be94ac3b97ce17c8352c3b6",
       "version_major": 2,
       "version_minor": 0
      },
      "text/plain": [
       "  0%|          | 0/30 [00:00<?, ?it/s]"
      ]
     },
     "metadata": {},
     "output_type": "display_data"
    },
    {
     "data": {
      "application/vnd.jupyter.widget-view+json": {
       "model_id": "8cd2a9390b3f458e8e06f3c414391717",
       "version_major": 2,
       "version_minor": 0
      },
      "text/plain": [
       "  0%|          | 0/30 [00:00<?, ?it/s]"
      ]
     },
     "metadata": {},
     "output_type": "display_data"
    },
    {
     "name": "stdout",
     "output_type": "stream",
     "text": [
      "🎨 EMD-constrained generation: Using pre-computed color embedding\n",
      "📊 Color space: lab, Target EMD: 0.05\n"
     ]
    },
    {
     "data": {
      "application/vnd.jupyter.widget-view+json": {
       "model_id": "e9a67b237f9b4cd4a379afff436c8456",
       "version_major": 2,
       "version_minor": 0
      },
      "text/plain": [
       "  0%|          | 0/30 [00:00<?, ?it/s]"
      ]
     },
     "metadata": {},
     "output_type": "display_data"
    },
    {
     "data": {
      "application/vnd.jupyter.widget-view+json": {
       "model_id": "1523ae11efc1415c8be022fa655c0ec0",
       "version_major": 2,
       "version_minor": 0
      },
      "text/plain": [
       "  0%|          | 0/30 [00:00<?, ?it/s]"
      ]
     },
     "metadata": {},
     "output_type": "display_data"
    },
    {
     "data": {
      "application/vnd.jupyter.widget-view+json": {
       "model_id": "e4a365c6db4e4cafbe051cf34dacb23b",
       "version_major": 2,
       "version_minor": 0
      },
      "text/plain": [
       "  0%|          | 0/30 [00:00<?, ?it/s]"
      ]
     },
     "metadata": {},
     "output_type": "display_data"
    },
    {
     "name": "stdout",
     "output_type": "stream",
     "text": [
      "🎨 EMD-constrained generation: Using pre-computed color embedding\n",
      "📊 Color space: lab, Target EMD: 0.05\n"
     ]
    },
    {
     "data": {
      "application/vnd.jupyter.widget-view+json": {
       "model_id": "501937492f92421fb1603fc164824311",
       "version_major": 2,
       "version_minor": 0
      },
      "text/plain": [
       "  0%|          | 0/30 [00:00<?, ?it/s]"
      ]
     },
     "metadata": {},
     "output_type": "display_data"
    },
    {
     "data": {
      "application/vnd.jupyter.widget-view+json": {
       "model_id": "990b9a53ae78468893566c817a793152",
       "version_major": 2,
       "version_minor": 0
      },
      "text/plain": [
       "  0%|          | 0/30 [00:00<?, ?it/s]"
      ]
     },
     "metadata": {},
     "output_type": "display_data"
    },
    {
     "name": "stdout",
     "output_type": "stream",
     "text": [
      "🎨 EMD-constrained generation: Using pre-computed color embedding\n",
      "📊 Color space: lab, Target EMD: 0.05\n"
     ]
    },
    {
     "data": {
      "application/vnd.jupyter.widget-view+json": {
       "model_id": "9eee80bfab674a919d585df956e139f0",
       "version_major": 2,
       "version_minor": 0
      },
      "text/plain": [
       "  0%|          | 0/30 [00:00<?, ?it/s]"
      ]
     },
     "metadata": {},
     "output_type": "display_data"
    },
    {
     "data": {
      "application/vnd.jupyter.widget-view+json": {
       "model_id": "c4b2b60d5d9a45cb851deeafba760efd",
       "version_major": 2,
       "version_minor": 0
      },
      "text/plain": [
       "  0%|          | 0/30 [00:00<?, ?it/s]"
      ]
     },
     "metadata": {},
     "output_type": "display_data"
    },
    {
     "data": {
      "application/vnd.jupyter.widget-view+json": {
       "model_id": "a38704bb8d44483397d11b6c61cacaf5",
       "version_major": 2,
       "version_minor": 0
      },
      "text/plain": [
       "  0%|          | 0/30 [00:00<?, ?it/s]"
      ]
     },
     "metadata": {},
     "output_type": "display_data"
    },
    {
     "name": "stdout",
     "output_type": "stream",
     "text": [
      "🎨 EMD-constrained generation: Using pre-computed color embedding\n",
      "📊 Color space: lab, Target EMD: 0.05\n"
     ]
    },
    {
     "data": {
      "application/vnd.jupyter.widget-view+json": {
       "model_id": "e811f82197fd4e96a75000c0f7be80ac",
       "version_major": 2,
       "version_minor": 0
      },
      "text/plain": [
       "  0%|          | 0/30 [00:00<?, ?it/s]"
      ]
     },
     "metadata": {},
     "output_type": "display_data"
    },
    {
     "data": {
      "application/vnd.jupyter.widget-view+json": {
       "model_id": "958e37c4eebf49efb5b3c41346addf05",
       "version_major": 2,
       "version_minor": 0
      },
      "text/plain": [
       "  0%|          | 0/30 [00:00<?, ?it/s]"
      ]
     },
     "metadata": {},
     "output_type": "display_data"
    },
    {
     "data": {
      "application/vnd.jupyter.widget-view+json": {
       "model_id": "c5aa8502cf57400b9b721ef51e946dbf",
       "version_major": 2,
       "version_minor": 0
      },
      "text/plain": [
       "  0%|          | 0/30 [00:00<?, ?it/s]"
      ]
     },
     "metadata": {},
     "output_type": "display_data"
    },
    {
     "name": "stdout",
     "output_type": "stream",
     "text": [
      "🎨 EMD-constrained generation: Using pre-computed color embedding\n",
      "📊 Color space: lab, Target EMD: 0.05\n"
     ]
    },
    {
     "data": {
      "application/vnd.jupyter.widget-view+json": {
       "model_id": "26c9774956b44cf4a5d2710001d65c4a",
       "version_major": 2,
       "version_minor": 0
      },
      "text/plain": [
       "  0%|          | 0/30 [00:00<?, ?it/s]"
      ]
     },
     "metadata": {},
     "output_type": "display_data"
    },
    {
     "data": {
      "application/vnd.jupyter.widget-view+json": {
       "model_id": "b701915831ab4bf79ac1c5986e0cc298",
       "version_major": 2,
       "version_minor": 0
      },
      "text/plain": [
       "  0%|          | 0/30 [00:00<?, ?it/s]"
      ]
     },
     "metadata": {},
     "output_type": "display_data"
    },
    {
     "name": "stdout",
     "output_type": "stream",
     "text": [
      "🎨 EMD-constrained generation: Using pre-computed color embedding\n",
      "📊 Color space: lab, Target EMD: 0.05\n"
     ]
    },
    {
     "data": {
      "application/vnd.jupyter.widget-view+json": {
       "model_id": "b8e08469e12b43a2a70773e39e9a3ee1",
       "version_major": 2,
       "version_minor": 0
      },
      "text/plain": [
       "  0%|          | 0/30 [00:00<?, ?it/s]"
      ]
     },
     "metadata": {},
     "output_type": "display_data"
    },
    {
     "data": {
      "application/vnd.jupyter.widget-view+json": {
       "model_id": "1d6c5a769bd64c52824224472058eca9",
       "version_major": 2,
       "version_minor": 0
      },
      "text/plain": [
       "  0%|          | 0/30 [00:00<?, ?it/s]"
      ]
     },
     "metadata": {},
     "output_type": "display_data"
    },
    {
     "name": "stdout",
     "output_type": "stream",
     "text": [
      "🎨 EMD-constrained generation: Using pre-computed color embedding\n",
      "📊 Color space: lab, Target EMD: 0.05\n"
     ]
    },
    {
     "data": {
      "application/vnd.jupyter.widget-view+json": {
       "model_id": "1f8addb38b7d47538d7acd2795e11354",
       "version_major": 2,
       "version_minor": 0
      },
      "text/plain": [
       "  0%|          | 0/30 [00:00<?, ?it/s]"
      ]
     },
     "metadata": {},
     "output_type": "display_data"
    },
    {
     "data": {
      "application/vnd.jupyter.widget-view+json": {
       "model_id": "a8356faec5d84123af6cadea5e232cee",
       "version_major": 2,
       "version_minor": 0
      },
      "text/plain": [
       "  0%|          | 0/30 [00:00<?, ?it/s]"
      ]
     },
     "metadata": {},
     "output_type": "display_data"
    },
    {
     "data": {
      "application/vnd.jupyter.widget-view+json": {
       "model_id": "1f5dad50bb904b348aafa602f46866ed",
       "version_major": 2,
       "version_minor": 0
      },
      "text/plain": [
       "  0%|          | 0/30 [00:00<?, ?it/s]"
      ]
     },
     "metadata": {},
     "output_type": "display_data"
    },
    {
     "data": {
      "application/vnd.jupyter.widget-view+json": {
       "model_id": "2bded79d16a64e9cabecbdfd3b35cbe0",
       "version_major": 2,
       "version_minor": 0
      },
      "text/plain": [
       "  0%|          | 0/30 [00:00<?, ?it/s]"
      ]
     },
     "metadata": {},
     "output_type": "display_data"
    },
    {
     "name": "stdout",
     "output_type": "stream",
     "text": [
      "🎨 EMD-constrained generation: Using pre-computed color embedding\n",
      "📊 Color space: lab, Target EMD: 0.05\n"
     ]
    },
    {
     "data": {
      "application/vnd.jupyter.widget-view+json": {
       "model_id": "ed17cfa8d91041a7acd55f17d524a1df",
       "version_major": 2,
       "version_minor": 0
      },
      "text/plain": [
       "  0%|          | 0/30 [00:00<?, ?it/s]"
      ]
     },
     "metadata": {},
     "output_type": "display_data"
    },
    {
     "data": {
      "application/vnd.jupyter.widget-view+json": {
       "model_id": "d51b45e9f53544018a1fb0824fa31bc4",
       "version_major": 2,
       "version_minor": 0
      },
      "text/plain": [
       "  0%|          | 0/30 [00:00<?, ?it/s]"
      ]
     },
     "metadata": {},
     "output_type": "display_data"
    },
    {
     "name": "stdout",
     "output_type": "stream",
     "text": [
      "🎨 EMD-constrained generation: Using pre-computed color embedding\n",
      "📊 Color space: lab, Target EMD: 0.05\n"
     ]
    },
    {
     "data": {
      "application/vnd.jupyter.widget-view+json": {
       "model_id": "7ddd5c95911f46e98ed573efafbd4c3e",
       "version_major": 2,
       "version_minor": 0
      },
      "text/plain": [
       "  0%|          | 0/30 [00:00<?, ?it/s]"
      ]
     },
     "metadata": {},
     "output_type": "display_data"
    },
    {
     "data": {
      "application/vnd.jupyter.widget-view+json": {
       "model_id": "e81ddbd6fe984897886361d03c2bece5",
       "version_major": 2,
       "version_minor": 0
      },
      "text/plain": [
       "  0%|          | 0/30 [00:00<?, ?it/s]"
      ]
     },
     "metadata": {},
     "output_type": "display_data"
    },
    {
     "name": "stdout",
     "output_type": "stream",
     "text": [
      "🎨 EMD-constrained generation: Using pre-computed color embedding\n",
      "📊 Color space: lab, Target EMD: 0.05\n"
     ]
    },
    {
     "data": {
      "application/vnd.jupyter.widget-view+json": {
       "model_id": "02bdd3affd0e4471bf3a684ab8b60d09",
       "version_major": 2,
       "version_minor": 0
      },
      "text/plain": [
       "  0%|          | 0/30 [00:00<?, ?it/s]"
      ]
     },
     "metadata": {},
     "output_type": "display_data"
    },
    {
     "data": {
      "application/vnd.jupyter.widget-view+json": {
       "model_id": "3a2ebf4b4f854f1dbc094ed12e3617d7",
       "version_major": 2,
       "version_minor": 0
      },
      "text/plain": [
       "  0%|          | 0/30 [00:00<?, ?it/s]"
      ]
     },
     "metadata": {},
     "output_type": "display_data"
    },
    {
     "name": "stdout",
     "output_type": "stream",
     "text": [
      "🎨 EMD-constrained generation: Using pre-computed color embedding\n",
      "📊 Color space: lab, Target EMD: 0.05\n"
     ]
    },
    {
     "data": {
      "application/vnd.jupyter.widget-view+json": {
       "model_id": "ef2cd0694a814116ad0b39d9f90aae2b",
       "version_major": 2,
       "version_minor": 0
      },
      "text/plain": [
       "  0%|          | 0/30 [00:00<?, ?it/s]"
      ]
     },
     "metadata": {},
     "output_type": "display_data"
    },
    {
     "data": {
      "application/vnd.jupyter.widget-view+json": {
       "model_id": "c85e19615dfa4d219c96f533a6e3f7b3",
       "version_major": 2,
       "version_minor": 0
      },
      "text/plain": [
       "  0%|          | 0/30 [00:00<?, ?it/s]"
      ]
     },
     "metadata": {},
     "output_type": "display_data"
    },
    {
     "data": {
      "application/vnd.jupyter.widget-view+json": {
       "model_id": "8ab9fe5eaed64239a08b85c7523d2f48",
       "version_major": 2,
       "version_minor": 0
      },
      "text/plain": [
       "  0%|          | 0/30 [00:00<?, ?it/s]"
      ]
     },
     "metadata": {},
     "output_type": "display_data"
    },
    {
     "data": {
      "application/vnd.jupyter.widget-view+json": {
       "model_id": "fc39619ec4a2465a943e93f6bf5bcb90",
       "version_major": 2,
       "version_minor": 0
      },
      "text/plain": [
       "  0%|          | 0/30 [00:00<?, ?it/s]"
      ]
     },
     "metadata": {},
     "output_type": "display_data"
    },
    {
     "name": "stdout",
     "output_type": "stream",
     "text": [
      "🎨 EMD-constrained generation: Using pre-computed color embedding\n",
      "📊 Color space: lab, Target EMD: 0.05\n"
     ]
    },
    {
     "data": {
      "application/vnd.jupyter.widget-view+json": {
       "model_id": "c43d9c0b8ebe410a954949f9b0c66437",
       "version_major": 2,
       "version_minor": 0
      },
      "text/plain": [
       "  0%|          | 0/30 [00:00<?, ?it/s]"
      ]
     },
     "metadata": {},
     "output_type": "display_data"
    },
    {
     "data": {
      "application/vnd.jupyter.widget-view+json": {
       "model_id": "4ea34a245fb54300bb9d3e774f2e030b",
       "version_major": 2,
       "version_minor": 0
      },
      "text/plain": [
       "  0%|          | 0/30 [00:00<?, ?it/s]"
      ]
     },
     "metadata": {},
     "output_type": "display_data"
    },
    {
     "data": {
      "application/vnd.jupyter.widget-view+json": {
       "model_id": "4307cda21525477db86d3fafe39d6182",
       "version_major": 2,
       "version_minor": 0
      },
      "text/plain": [
       "  0%|          | 0/30 [00:00<?, ?it/s]"
      ]
     },
     "metadata": {},
     "output_type": "display_data"
    },
    {
     "data": {
      "application/vnd.jupyter.widget-view+json": {
       "model_id": "8d7d6a6de17346c480ba9816070c69c9",
       "version_major": 2,
       "version_minor": 0
      },
      "text/plain": [
       "  0%|          | 0/30 [00:00<?, ?it/s]"
      ]
     },
     "metadata": {},
     "output_type": "display_data"
    },
    {
     "data": {
      "application/vnd.jupyter.widget-view+json": {
       "model_id": "1450baff9a834a69ab391874e01468e7",
       "version_major": 2,
       "version_minor": 0
      },
      "text/plain": [
       "  0%|          | 0/30 [00:00<?, ?it/s]"
      ]
     },
     "metadata": {},
     "output_type": "display_data"
    },
    {
     "name": "stdout",
     "output_type": "stream",
     "text": [
      "🎨 EMD-constrained generation: Using pre-computed color embedding\n",
      "📊 Color space: lab, Target EMD: 0.05\n"
     ]
    },
    {
     "data": {
      "application/vnd.jupyter.widget-view+json": {
       "model_id": "c98ca079195145d1ada2cedde019a62d",
       "version_major": 2,
       "version_minor": 0
      },
      "text/plain": [
       "  0%|          | 0/30 [00:00<?, ?it/s]"
      ]
     },
     "metadata": {},
     "output_type": "display_data"
    },
    {
     "data": {
      "application/vnd.jupyter.widget-view+json": {
       "model_id": "53a4f8fa32ba450c94d52c5d4ac7ed4d",
       "version_major": 2,
       "version_minor": 0
      },
      "text/plain": [
       "  0%|          | 0/30 [00:00<?, ?it/s]"
      ]
     },
     "metadata": {},
     "output_type": "display_data"
    },
    {
     "data": {
      "application/vnd.jupyter.widget-view+json": {
       "model_id": "cf580bb2c5584faaa8222724e4b86787",
       "version_major": 2,
       "version_minor": 0
      },
      "text/plain": [
       "  0%|          | 0/30 [00:00<?, ?it/s]"
      ]
     },
     "metadata": {},
     "output_type": "display_data"
    },
    {
     "data": {
      "application/vnd.jupyter.widget-view+json": {
       "model_id": "fbe562b6b7b14827b73379319f50ebf8",
       "version_major": 2,
       "version_minor": 0
      },
      "text/plain": [
       "  0%|          | 0/30 [00:00<?, ?it/s]"
      ]
     },
     "metadata": {},
     "output_type": "display_data"
    },
    {
     "name": "stdout",
     "output_type": "stream",
     "text": [
      "🎨 EMD-constrained generation: Using pre-computed color embedding\n",
      "📊 Color space: lab, Target EMD: 0.05\n"
     ]
    },
    {
     "data": {
      "application/vnd.jupyter.widget-view+json": {
       "model_id": "0ee3cf36184e4272ab7d763a35aedbfc",
       "version_major": 2,
       "version_minor": 0
      },
      "text/plain": [
       "  0%|          | 0/30 [00:00<?, ?it/s]"
      ]
     },
     "metadata": {},
     "output_type": "display_data"
    },
    {
     "data": {
      "application/vnd.jupyter.widget-view+json": {
       "model_id": "ad7b219cc36241b1a55d236eff47a4a1",
       "version_major": 2,
       "version_minor": 0
      },
      "text/plain": [
       "  0%|          | 0/30 [00:00<?, ?it/s]"
      ]
     },
     "metadata": {},
     "output_type": "display_data"
    },
    {
     "data": {
      "application/vnd.jupyter.widget-view+json": {
       "model_id": "df0538e4eb17402ead29efd29c38c5c3",
       "version_major": 2,
       "version_minor": 0
      },
      "text/plain": [
       "  0%|          | 0/30 [00:00<?, ?it/s]"
      ]
     },
     "metadata": {},
     "output_type": "display_data"
    },
    {
     "data": {
      "application/vnd.jupyter.widget-view+json": {
       "model_id": "fa01abff1f2d4d768a2ce067f4d53ff4",
       "version_major": 2,
       "version_minor": 0
      },
      "text/plain": [
       "  0%|          | 0/30 [00:00<?, ?it/s]"
      ]
     },
     "metadata": {},
     "output_type": "display_data"
    },
    {
     "data": {
      "application/vnd.jupyter.widget-view+json": {
       "model_id": "ca61dfc6146941259c7b5168c70912d1",
       "version_major": 2,
       "version_minor": 0
      },
      "text/plain": [
       "  0%|          | 0/30 [00:00<?, ?it/s]"
      ]
     },
     "metadata": {},
     "output_type": "display_data"
    },
    {
     "data": {
      "application/vnd.jupyter.widget-view+json": {
       "model_id": "fa0fd3ccabd0446ead20301e8bbc814f",
       "version_major": 2,
       "version_minor": 0
      },
      "text/plain": [
       "  0%|          | 0/30 [00:00<?, ?it/s]"
      ]
     },
     "metadata": {},
     "output_type": "display_data"
    },
    {
     "name": "stdout",
     "output_type": "stream",
     "text": [
      "🎨 EMD-constrained generation: Using pre-computed color embedding\n",
      "📊 Color space: lab, Target EMD: 0.05\n"
     ]
    },
    {
     "data": {
      "application/vnd.jupyter.widget-view+json": {
       "model_id": "2d2ba60ad42b4e95aa75bd4eb76bde81",
       "version_major": 2,
       "version_minor": 0
      },
      "text/plain": [
       "  0%|          | 0/30 [00:00<?, ?it/s]"
      ]
     },
     "metadata": {},
     "output_type": "display_data"
    },
    {
     "data": {
      "application/vnd.jupyter.widget-view+json": {
       "model_id": "fcd65730faf74fd3a1804e68e302c076",
       "version_major": 2,
       "version_minor": 0
      },
      "text/plain": [
       "  0%|          | 0/30 [00:00<?, ?it/s]"
      ]
     },
     "metadata": {},
     "output_type": "display_data"
    },
    {
     "name": "stdout",
     "output_type": "stream",
     "text": [
      "🎨 EMD-constrained generation: Using pre-computed color embedding\n",
      "📊 Color space: lab, Target EMD: 0.05\n"
     ]
    },
    {
     "data": {
      "application/vnd.jupyter.widget-view+json": {
       "model_id": "3358d8d38d534d90844e887dd4bd551f",
       "version_major": 2,
       "version_minor": 0
      },
      "text/plain": [
       "  0%|          | 0/30 [00:00<?, ?it/s]"
      ]
     },
     "metadata": {},
     "output_type": "display_data"
    },
    {
     "data": {
      "application/vnd.jupyter.widget-view+json": {
       "model_id": "d2d0b0ab0433401d9dffe0201a6ad9b9",
       "version_major": 2,
       "version_minor": 0
      },
      "text/plain": [
       "  0%|          | 0/30 [00:00<?, ?it/s]"
      ]
     },
     "metadata": {},
     "output_type": "display_data"
    },
    {
     "name": "stdout",
     "output_type": "stream",
     "text": [
      "🎨 EMD-constrained generation: Using pre-computed color embedding\n",
      "📊 Color space: lab, Target EMD: 0.05\n"
     ]
    },
    {
     "data": {
      "application/vnd.jupyter.widget-view+json": {
       "model_id": "e637a563a6374f648c30c88d0e87ce57",
       "version_major": 2,
       "version_minor": 0
      },
      "text/plain": [
       "  0%|          | 0/30 [00:00<?, ?it/s]"
      ]
     },
     "metadata": {},
     "output_type": "display_data"
    },
    {
     "data": {
      "application/vnd.jupyter.widget-view+json": {
       "model_id": "87679c8926f44589b3b6a6decd4d48a6",
       "version_major": 2,
       "version_minor": 0
      },
      "text/plain": [
       "  0%|          | 0/30 [00:00<?, ?it/s]"
      ]
     },
     "metadata": {},
     "output_type": "display_data"
    },
    {
     "name": "stdout",
     "output_type": "stream",
     "text": [
      "🎨 EMD-constrained generation: Using pre-computed color embedding\n",
      "📊 Color space: lab, Target EMD: 0.05\n"
     ]
    },
    {
     "data": {
      "application/vnd.jupyter.widget-view+json": {
       "model_id": "7da8f8a7321f4449a0c67fe64643123b",
       "version_major": 2,
       "version_minor": 0
      },
      "text/plain": [
       "  0%|          | 0/30 [00:00<?, ?it/s]"
      ]
     },
     "metadata": {},
     "output_type": "display_data"
    },
    {
     "data": {
      "application/vnd.jupyter.widget-view+json": {
       "model_id": "397249a6636c44e388f680bdde79f705",
       "version_major": 2,
       "version_minor": 0
      },
      "text/plain": [
       "  0%|          | 0/30 [00:00<?, ?it/s]"
      ]
     },
     "metadata": {},
     "output_type": "display_data"
    },
    {
     "data": {
      "application/vnd.jupyter.widget-view+json": {
       "model_id": "057bc258708d4e06a553adcfe636eb39",
       "version_major": 2,
       "version_minor": 0
      },
      "text/plain": [
       "  0%|          | 0/30 [00:00<?, ?it/s]"
      ]
     },
     "metadata": {},
     "output_type": "display_data"
    },
    {
     "name": "stdout",
     "output_type": "stream",
     "text": [
      "🎨 EMD-constrained generation: Using pre-computed color embedding\n",
      "📊 Color space: lab, Target EMD: 0.05\n"
     ]
    },
    {
     "data": {
      "application/vnd.jupyter.widget-view+json": {
       "model_id": "9d2d3df5dc8a4e31b3545568e77b3164",
       "version_major": 2,
       "version_minor": 0
      },
      "text/plain": [
       "  0%|          | 0/30 [00:00<?, ?it/s]"
      ]
     },
     "metadata": {},
     "output_type": "display_data"
    },
    {
     "data": {
      "application/vnd.jupyter.widget-view+json": {
       "model_id": "52144afa567741d7b2238462259d6f3f",
       "version_major": 2,
       "version_minor": 0
      },
      "text/plain": [
       "  0%|          | 0/30 [00:00<?, ?it/s]"
      ]
     },
     "metadata": {},
     "output_type": "display_data"
    },
    {
     "data": {
      "application/vnd.jupyter.widget-view+json": {
       "model_id": "8047935257bd4599beff6163e217b23f",
       "version_major": 2,
       "version_minor": 0
      },
      "text/plain": [
       "  0%|          | 0/30 [00:00<?, ?it/s]"
      ]
     },
     "metadata": {},
     "output_type": "display_data"
    },
    {
     "name": "stdout",
     "output_type": "stream",
     "text": [
      "🎨 EMD-constrained generation: Using pre-computed color embedding\n",
      "📊 Color space: lab, Target EMD: 0.05\n"
     ]
    },
    {
     "data": {
      "application/vnd.jupyter.widget-view+json": {
       "model_id": "8164d561099c4a3596074f974c08ba2b",
       "version_major": 2,
       "version_minor": 0
      },
      "text/plain": [
       "  0%|          | 0/30 [00:00<?, ?it/s]"
      ]
     },
     "metadata": {},
     "output_type": "display_data"
    },
    {
     "data": {
      "application/vnd.jupyter.widget-view+json": {
       "model_id": "b27f9eac8e5745b69cf1728ab2d8a906",
       "version_major": 2,
       "version_minor": 0
      },
      "text/plain": [
       "  0%|          | 0/30 [00:00<?, ?it/s]"
      ]
     },
     "metadata": {},
     "output_type": "display_data"
    },
    {
     "name": "stdout",
     "output_type": "stream",
     "text": [
      "🎨 EMD-constrained generation: Using pre-computed color embedding\n",
      "📊 Color space: lab, Target EMD: 0.05\n"
     ]
    },
    {
     "data": {
      "application/vnd.jupyter.widget-view+json": {
       "model_id": "d53e3416a87d4414bc6e0f277438643d",
       "version_major": 2,
       "version_minor": 0
      },
      "text/plain": [
       "  0%|          | 0/30 [00:00<?, ?it/s]"
      ]
     },
     "metadata": {},
     "output_type": "display_data"
    },
    {
     "data": {
      "application/vnd.jupyter.widget-view+json": {
       "model_id": "36a214e485a8483eaf0eeb914277b6c0",
       "version_major": 2,
       "version_minor": 0
      },
      "text/plain": [
       "  0%|          | 0/30 [00:00<?, ?it/s]"
      ]
     },
     "metadata": {},
     "output_type": "display_data"
    },
    {
     "name": "stdout",
     "output_type": "stream",
     "text": [
      "🎨 EMD-constrained generation: Using pre-computed color embedding\n",
      "📊 Color space: lab, Target EMD: 0.05\n"
     ]
    },
    {
     "data": {
      "application/vnd.jupyter.widget-view+json": {
       "model_id": "089b814796ab4049aff562effa500c4c",
       "version_major": 2,
       "version_minor": 0
      },
      "text/plain": [
       "  0%|          | 0/30 [00:00<?, ?it/s]"
      ]
     },
     "metadata": {},
     "output_type": "display_data"
    },
    {
     "data": {
      "application/vnd.jupyter.widget-view+json": {
       "model_id": "8b63c2b32bac40a7908e35c6094cb8df",
       "version_major": 2,
       "version_minor": 0
      },
      "text/plain": [
       "  0%|          | 0/30 [00:00<?, ?it/s]"
      ]
     },
     "metadata": {},
     "output_type": "display_data"
    },
    {
     "data": {
      "application/vnd.jupyter.widget-view+json": {
       "model_id": "420393148bd741d38364e67f348c79c4",
       "version_major": 2,
       "version_minor": 0
      },
      "text/plain": [
       "  0%|          | 0/30 [00:00<?, ?it/s]"
      ]
     },
     "metadata": {},
     "output_type": "display_data"
    },
    {
     "name": "stdout",
     "output_type": "stream",
     "text": [
      "🎨 EMD-constrained generation: Using pre-computed color embedding\n",
      "📊 Color space: lab, Target EMD: 0.05\n"
     ]
    },
    {
     "data": {
      "application/vnd.jupyter.widget-view+json": {
       "model_id": "5fb4948e5a824aa19ee1fffda843908e",
       "version_major": 2,
       "version_minor": 0
      },
      "text/plain": [
       "  0%|          | 0/30 [00:00<?, ?it/s]"
      ]
     },
     "metadata": {},
     "output_type": "display_data"
    },
    {
     "data": {
      "application/vnd.jupyter.widget-view+json": {
       "model_id": "9169f4b9e16948d2a8b9fc24519cd712",
       "version_major": 2,
       "version_minor": 0
      },
      "text/plain": [
       "  0%|          | 0/30 [00:00<?, ?it/s]"
      ]
     },
     "metadata": {},
     "output_type": "display_data"
    },
    {
     "name": "stdout",
     "output_type": "stream",
     "text": [
      "🎨 EMD-constrained generation: Using pre-computed color embedding\n",
      "📊 Color space: lab, Target EMD: 0.05\n"
     ]
    },
    {
     "data": {
      "application/vnd.jupyter.widget-view+json": {
       "model_id": "95d161bf8aeb4918a7b84df2cef1ca9d",
       "version_major": 2,
       "version_minor": 0
      },
      "text/plain": [
       "  0%|          | 0/30 [00:00<?, ?it/s]"
      ]
     },
     "metadata": {},
     "output_type": "display_data"
    },
    {
     "data": {
      "application/vnd.jupyter.widget-view+json": {
       "model_id": "e68197a42e974b458ab841ed4ab5b0e5",
       "version_major": 2,
       "version_minor": 0
      },
      "text/plain": [
       "  0%|          | 0/30 [00:00<?, ?it/s]"
      ]
     },
     "metadata": {},
     "output_type": "display_data"
    },
    {
     "name": "stdout",
     "output_type": "stream",
     "text": [
      "🎨 EMD-constrained generation: Using pre-computed color embedding\n",
      "📊 Color space: lab, Target EMD: 0.05\n"
     ]
    },
    {
     "data": {
      "application/vnd.jupyter.widget-view+json": {
       "model_id": "6de6ad99393743a7986bbc379e238043",
       "version_major": 2,
       "version_minor": 0
      },
      "text/plain": [
       "  0%|          | 0/30 [00:00<?, ?it/s]"
      ]
     },
     "metadata": {},
     "output_type": "display_data"
    },
    {
     "data": {
      "application/vnd.jupyter.widget-view+json": {
       "model_id": "8abd06dc61da42ed9f17a82b701b64f6",
       "version_major": 2,
       "version_minor": 0
      },
      "text/plain": [
       "  0%|          | 0/30 [00:00<?, ?it/s]"
      ]
     },
     "metadata": {},
     "output_type": "display_data"
    },
    {
     "data": {
      "application/vnd.jupyter.widget-view+json": {
       "model_id": "3b9769c952044ab29f3816c2beffe806",
       "version_major": 2,
       "version_minor": 0
      },
      "text/plain": [
       "  0%|          | 0/30 [00:00<?, ?it/s]"
      ]
     },
     "metadata": {},
     "output_type": "display_data"
    },
    {
     "data": {
      "application/vnd.jupyter.widget-view+json": {
       "model_id": "db222a442b7d40828bf23409b3018fc6",
       "version_major": 2,
       "version_minor": 0
      },
      "text/plain": [
       "  0%|          | 0/30 [00:00<?, ?it/s]"
      ]
     },
     "metadata": {},
     "output_type": "display_data"
    },
    {
     "data": {
      "application/vnd.jupyter.widget-view+json": {
       "model_id": "09481134b0994ecd99abe1e24f851a9c",
       "version_major": 2,
       "version_minor": 0
      },
      "text/plain": [
       "  0%|          | 0/30 [00:00<?, ?it/s]"
      ]
     },
     "metadata": {},
     "output_type": "display_data"
    },
    {
     "data": {
      "application/vnd.jupyter.widget-view+json": {
       "model_id": "fc9c7983daa04e55b0a02c9e4a92f89a",
       "version_major": 2,
       "version_minor": 0
      },
      "text/plain": [
       "  0%|          | 0/30 [00:00<?, ?it/s]"
      ]
     },
     "metadata": {},
     "output_type": "display_data"
    },
    {
     "name": "stdout",
     "output_type": "stream",
     "text": [
      "🎨 EMD-constrained generation: Using pre-computed color embedding\n",
      "📊 Color space: lab, Target EMD: 0.05\n"
     ]
    },
    {
     "data": {
      "application/vnd.jupyter.widget-view+json": {
       "model_id": "28db2e0333d94232bd0610423d916b24",
       "version_major": 2,
       "version_minor": 0
      },
      "text/plain": [
       "  0%|          | 0/30 [00:00<?, ?it/s]"
      ]
     },
     "metadata": {},
     "output_type": "display_data"
    },
    {
     "data": {
      "application/vnd.jupyter.widget-view+json": {
       "model_id": "89e64e68152e47679a4adf36118d62d7",
       "version_major": 2,
       "version_minor": 0
      },
      "text/plain": [
       "  0%|          | 0/30 [00:00<?, ?it/s]"
      ]
     },
     "metadata": {},
     "output_type": "display_data"
    },
    {
     "data": {
      "text/html": [
       "<div>\n",
       "<style scoped>\n",
       "    .dataframe tbody tr th:only-of-type {\n",
       "        vertical-align: middle;\n",
       "    }\n",
       "\n",
       "    .dataframe tbody tr th {\n",
       "        vertical-align: top;\n",
       "    }\n",
       "\n",
       "    .dataframe thead th {\n",
       "        text-align: right;\n",
       "    }\n",
       "</style>\n",
       "<table border=\"1\" class=\"dataframe\">\n",
       "  <thead>\n",
       "    <tr style=\"text-align: right;\">\n",
       "      <th></th>\n",
       "      <th>colour_index</th>\n",
       "      <th>layout_index</th>\n",
       "      <th>prompt</th>\n",
       "      <th>style_emd</th>\n",
       "      <th>style_cos</th>\n",
       "      <th>emd_emd</th>\n",
       "      <th>emd_cos</th>\n",
       "      <th>style_f1</th>\n",
       "      <th>style_iou</th>\n",
       "      <th>style_ssim</th>\n",
       "      <th>emd_f1</th>\n",
       "      <th>emd_iou</th>\n",
       "      <th>emd_ssim</th>\n",
       "      <th>attempts</th>\n",
       "      <th>style_time</th>\n",
       "      <th>emd_time</th>\n",
       "    </tr>\n",
       "  </thead>\n",
       "  <tbody>\n",
       "    <tr>\n",
       "      <th>0</th>\n",
       "      <td>1000</td>\n",
       "      <td>30</td>\n",
       "      <td>a car, advertisement style, professional photo...</td>\n",
       "      <td>0.030160</td>\n",
       "      <td>0.293653</td>\n",
       "      <td>0.045867</td>\n",
       "      <td>0.249204</td>\n",
       "      <td>0.270998</td>\n",
       "      <td>0.156736</td>\n",
       "      <td>NaN</td>\n",
       "      <td>0.144221</td>\n",
       "      <td>0.077715</td>\n",
       "      <td>NaN</td>\n",
       "      <td>3</td>\n",
       "      <td>4.334205</td>\n",
       "      <td>12.917439</td>\n",
       "    </tr>\n",
       "    <tr>\n",
       "      <th>1</th>\n",
       "      <td>1000</td>\n",
       "      <td>71</td>\n",
       "      <td>a car, advertisement style, professional photo...</td>\n",
       "      <td>0.027096</td>\n",
       "      <td>0.265515</td>\n",
       "      <td>0.047821</td>\n",
       "      <td>0.242300</td>\n",
       "      <td>0.216293</td>\n",
       "      <td>0.121261</td>\n",
       "      <td>NaN</td>\n",
       "      <td>0.263473</td>\n",
       "      <td>0.151724</td>\n",
       "      <td>NaN</td>\n",
       "      <td>3</td>\n",
       "      <td>4.285322</td>\n",
       "      <td>12.629453</td>\n",
       "    </tr>\n",
       "    <tr>\n",
       "      <th>2</th>\n",
       "      <td>1000</td>\n",
       "      <td>400</td>\n",
       "      <td>a car, advertisement style, professional photo...</td>\n",
       "      <td>0.040245</td>\n",
       "      <td>0.213413</td>\n",
       "      <td>0.045376</td>\n",
       "      <td>0.226420</td>\n",
       "      <td>0.219109</td>\n",
       "      <td>0.123034</td>\n",
       "      <td>NaN</td>\n",
       "      <td>0.282617</td>\n",
       "      <td>0.164563</td>\n",
       "      <td>NaN</td>\n",
       "      <td>1</td>\n",
       "      <td>4.064584</td>\n",
       "      <td>4.200356</td>\n",
       "    </tr>\n",
       "    <tr>\n",
       "      <th>3</th>\n",
       "      <td>1000</td>\n",
       "      <td>507</td>\n",
       "      <td>a car, advertisement style, professional photo...</td>\n",
       "      <td>0.052638</td>\n",
       "      <td>0.280722</td>\n",
       "      <td>0.039409</td>\n",
       "      <td>0.283436</td>\n",
       "      <td>0.266774</td>\n",
       "      <td>0.153917</td>\n",
       "      <td>NaN</td>\n",
       "      <td>0.286142</td>\n",
       "      <td>0.166958</td>\n",
       "      <td>NaN</td>\n",
       "      <td>1</td>\n",
       "      <td>4.218382</td>\n",
       "      <td>4.169845</td>\n",
       "    </tr>\n",
       "    <tr>\n",
       "      <th>4</th>\n",
       "      <td>1001</td>\n",
       "      <td>30</td>\n",
       "      <td>a car, advertisement style, professional photo...</td>\n",
       "      <td>0.039230</td>\n",
       "      <td>0.284274</td>\n",
       "      <td>0.048048</td>\n",
       "      <td>0.290781</td>\n",
       "      <td>0.245168</td>\n",
       "      <td>0.139710</td>\n",
       "      <td>NaN</td>\n",
       "      <td>0.264076</td>\n",
       "      <td>0.152124</td>\n",
       "      <td>NaN</td>\n",
       "      <td>2</td>\n",
       "      <td>4.194600</td>\n",
       "      <td>8.451042</td>\n",
       "    </tr>\n",
       "  </tbody>\n",
       "</table>\n",
       "</div>"
      ],
      "text/plain": [
       "   colour_index  layout_index  \\\n",
       "0          1000            30   \n",
       "1          1000            71   \n",
       "2          1000           400   \n",
       "3          1000           507   \n",
       "4          1001            30   \n",
       "\n",
       "                                              prompt  style_emd  style_cos  \\\n",
       "0  a car, advertisement style, professional photo...   0.030160   0.293653   \n",
       "1  a car, advertisement style, professional photo...   0.027096   0.265515   \n",
       "2  a car, advertisement style, professional photo...   0.040245   0.213413   \n",
       "3  a car, advertisement style, professional photo...   0.052638   0.280722   \n",
       "4  a car, advertisement style, professional photo...   0.039230   0.284274   \n",
       "\n",
       "    emd_emd   emd_cos  style_f1  style_iou  style_ssim    emd_f1   emd_iou  \\\n",
       "0  0.045867  0.249204  0.270998   0.156736         NaN  0.144221  0.077715   \n",
       "1  0.047821  0.242300  0.216293   0.121261         NaN  0.263473  0.151724   \n",
       "2  0.045376  0.226420  0.219109   0.123034         NaN  0.282617  0.164563   \n",
       "3  0.039409  0.283436  0.266774   0.153917         NaN  0.286142  0.166958   \n",
       "4  0.048048  0.290781  0.245168   0.139710         NaN  0.264076  0.152124   \n",
       "\n",
       "   emd_ssim  attempts  style_time   emd_time  \n",
       "0       NaN         3    4.334205  12.917439  \n",
       "1       NaN         3    4.285322  12.629453  \n",
       "2       NaN         1    4.064584   4.200356  \n",
       "3       NaN         1    4.218382   4.169845  \n",
       "4       NaN         2    4.194600   8.451042  "
      ]
     },
     "metadata": {},
     "output_type": "display_data"
    },
    {
     "name": "stdout",
     "output_type": "stream",
     "text": [
      "✓ Collected 80 rows.\n"
     ]
    }
   ],
   "source": [
    "# # SNIPPET 0 — build a tidy evaluation DataFrame for N prompt/layout pairs (notebook-consistent)\n",
    "\n",
    "import time, numpy as np, pandas as pd, torch, gc\n",
    "from torchvision import transforms\n",
    "from PIL import Image\n",
    "\n",
    "from degis.inference import generate_by_style, generate_by_colour_emd_constrained\n",
    "from degis.inference.core_generation import get_color_embedding\n",
    "from degis.shared.utils.image_utils import create_control_edge_pil\n",
    "from degis.inference.generation_functions import (\n",
    "    compute_histogram_for_color_space,\n",
    "    calculate_emd_distance_topk,\n",
    "    calculate_cosine_similarity,\n",
    ")\n",
    "\n",
    "# ---- edge helpers (F1 / IoU / SSIM) ----\n",
    "def _canny_bool(pil_img, sigma=1.0):\n",
    "    import numpy as np\n",
    "    try:\n",
    "        from skimage.color import rgb2gray\n",
    "        from skimage.feature import canny\n",
    "        g = rgb2gray(np.asarray(pil_img).astype(np.float32) / 255.0)\n",
    "        e = canny(g, sigma=sigma)\n",
    "        return e.astype(np.uint8)\n",
    "    except Exception:\n",
    "        from PIL import ImageFilter\n",
    "        e = pil_img.convert(\"L\").filter(ImageFilter.FIND_EDGES)\n",
    "        return (np.asarray(e) > 32).astype(np.uint8)\n",
    "\n",
    "def _edge_scores(pred_bool, ref_bool):\n",
    "    import numpy as np\n",
    "    pred = pred_bool.astype(bool); ref = ref_bool.astype(bool)\n",
    "    tp = np.logical_and(pred, ref).sum()\n",
    "    fp = np.logical_and(pred, ~ref).sum()\n",
    "    fn = np.logical_and(~pred, ref).sum()\n",
    "    prec = tp / (tp + fp + 1e-9)\n",
    "    rec  = tp / (tp + fn + 1e-9)\n",
    "    f1   = 2 * prec * rec / (prec + rec + 1e-9)\n",
    "    iou  = tp / (tp + fp + fn + 1e-9)\n",
    "    try:\n",
    "        from skimage.metrics import structural_similarity as ssim\n",
    "        ssimv = ssim(pred_bool.astype(np.float32), ref_bool.astype(np.float32))\n",
    "    except Exception:\n",
    "        ssimv = np.nan\n",
    "    return f1, iou, ssimv\n",
    "\n",
    "toPIL = transforms.ToPILImage()\n",
    "\n",
    "@torch.no_grad()\n",
    "def run_eval_pairs(\n",
    "    pairs,\n",
    "    prompt=\"a car, advertisement style, professional photography\",\n",
    "    guidance_scale=7,\n",
    "    steps=30,\n",
    "    controlnet_conditioning_scale=0.5,\n",
    "    attn_ip_scale=0.6,\n",
    "    text_token_scale=1.5,\n",
    "    ip_token_scale=0.4,\n",
    "    ip_uncond_scale=0.0,\n",
    "    zero_ip_in_uncond=False,\n",
    "    # palette metrics\n",
    "    colour_space=\"lab\",\n",
    "    bins=8,  # FIXED: Use same bins as generate_by_colour_emd_constrained default\n",
    "    # EMD-constrained outer loop\n",
    "    target_emd_threshold=0.02,\n",
    "    max_attempts=20,\n",
    "    top_k=20,\n",
    "    verbose=False,\n",
    "):\n",
    "    rows = []\n",
    "    dev = generator.device\n",
    "\n",
    "    for colour_index, layout_index in pairs:\n",
    "        gc.collect(); torch.cuda.empty_cache()\n",
    "\n",
    "        # --- source PIL for style baseline + target histogram\n",
    "        img_t, _ = colour_dataset[colour_index]         # uses your UnifiedImageDataset\n",
    "        pil_img  = toPIL(img_t)\n",
    "\n",
    "        target_hist = compute_histogram_for_color_space(pil_img, colour_space, bins=bins)\n",
    "\n",
    "        # --- CLIP -> colour embedding from trained head\n",
    "        z_clip = torch.as_tensor(embeddings[colour_index], dtype=torch.float32, device=dev).unsqueeze(0)\n",
    "        color_embedding = get_color_embedding(color_head, z_clip)  # notebook helper\n",
    "\n",
    "        # --- control (edge) image + boolean mask for metrics\n",
    "        control_img  = create_control_edge_pil(edge_maps[layout_index], size=512)\n",
    "        control_bool = (np.asarray(control_img.convert(\"L\")) > 0).astype(np.uint8)\n",
    "\n",
    "        # ============ 1) STYLE baseline ============\n",
    "        t0 = time.time()\n",
    "        style_images = generate_by_style(\n",
    "            generator=generator,\n",
    "            pil_image=pil_img,                          # NOTE: pass PIL (not clip_image_embeds)\n",
    "            control_image=control_img,\n",
    "            prompt=prompt,\n",
    "            num_samples=1,\n",
    "            guidance_scale=guidance_scale,\n",
    "            num_inference_steps=steps,\n",
    "            controlnet_conditioning_scale=controlnet_conditioning_scale,\n",
    "            attn_ip_scale=attn_ip_scale,\n",
    "            text_token_scale=text_token_scale,\n",
    "            ip_token_scale=ip_token_scale,\n",
    "            ip_uncond_scale=ip_uncond_scale,\n",
    "            zero_ip_in_uncond=zero_ip_in_uncond,\n",
    "        )\n",
    "        style_time = time.time() - t0\n",
    "        style_img  = style_images[0]\n",
    "\n",
    "        style_hist = compute_histogram_for_color_space(style_img, colour_space, bins=bins)\n",
    "        eval_top_k = min(top_k, len(target_hist)) if top_k is not None else len(target_hist)\n",
    "        style_emd  = calculate_emd_distance_topk(target_hist, style_hist, top_k=eval_top_k, blur=0.01)\n",
    "\n",
    "        style_cos  = calculate_cosine_similarity(prompt, style_img)\n",
    "        f1_s, iou_s, ssim_s = _edge_scores(_canny_bool(style_img), control_bool)\n",
    "\n",
    "        # ============ 2) EMD-constrained (palette tokens) ============\n",
    "        t1 = time.time()\n",
    "        emd_images, emd_score, emd_cos, attempts = generate_by_colour_emd_constrained(\n",
    "            generator=generator,\n",
    "            color_embedding=color_embedding,\n",
    "            control_image=control_img,\n",
    "            original_histogram=target_hist,\n",
    "            prompt=prompt,\n",
    "            target_emd_threshold=target_emd_threshold,\n",
    "            max_attempts=max_attempts,\n",
    "            top_k=top_k,\n",
    "            color_space=colour_space,\n",
    "            guidance_scale=guidance_scale,\n",
    "            num_inference_steps=steps,\n",
    "            controlnet_conditioning_scale=controlnet_conditioning_scale,\n",
    "            attn_ip_scale=attn_ip_scale,\n",
    "            text_token_scale=text_token_scale,\n",
    "            ip_token_scale=ip_token_scale,\n",
    "            ip_uncond_scale=ip_uncond_scale,\n",
    "            zero_ip_in_uncond=zero_ip_in_uncond,\n",
    "            verbose=False,\n",
    "        )\n",
    "        emd_time = time.time() - t1\n",
    "        emd_img  = emd_images[0]\n",
    "        f1_e, iou_e, ssim_e = _edge_scores(_canny_bool(emd_img), control_bool)\n",
    "\n",
    "        rows.append(dict(\n",
    "            colour_index=int(colour_index),\n",
    "            layout_index=int(layout_index),\n",
    "            prompt=prompt,\n",
    "            style_emd=float(style_emd), style_cos=float(style_cos),\n",
    "            emd_emd=float(emd_score),   emd_cos=float(emd_cos),\n",
    "            style_f1=float(f1_s), style_iou=float(iou_s), style_ssim=float(ssim_s),\n",
    "            emd_f1=float(f1_e),   emd_iou=float(iou_e),   emd_ssim=float(ssim_e),\n",
    "            attempts=int(attempts),\n",
    "            style_time=float(style_time), emd_time=float(emd_time),\n",
    "        ))\n",
    "        if verbose:\n",
    "            print(f\"[{colour_index},{layout_index}] ΔEMD={style_emd-emd_score:+.5f} | attempts={attempts}\")\n",
    "\n",
    "    df = pd.DataFrame(rows)\n",
    "    display(df.head())\n",
    "    print(f\"✓ Collected {len(df)} rows.\")\n",
    "    return df\n",
    "\n",
    "# Example usage — use specific IDs for controlled evaluation\n",
    "pairs = [(int(i), int(j)) for i in range(1000, 1020)  # colour_index: 1000-1019 (20 images)\n",
    "         for j in [30, 71, 400, 507]]  # layout_index: 4 specific layouts\n",
    "\n",
    "print(\"Testing these colour_index, layout_index pairs:\")\n",
    "for i, (c_idx, l_idx) in enumerate(pairs):\n",
    "    print(f\"  {i+1:2d}: colour_index={c_idx:7d}, layout_index={l_idx:4d}\")\n",
    "print(f\"Total pairs: {len(pairs)}\")  # Should be 20 * 4 = 80 pairs\n",
    "\n",
    "df_eval = run_eval_pairs(pairs, target_emd_threshold=0.05, max_attempts=10, verbose=False)"
   ]
  },
  {
   "cell_type": "code",
   "execution_count": 10,
   "id": "24184a47",
   "metadata": {},
   "outputs": [
    {
     "name": "stdout",
     "output_type": "stream",
     "text": [
      "Palette-token run (EMD-constrained):\n"
     ]
    },
    {
     "data": {
      "text/html": [
       "<div>\n",
       "<style scoped>\n",
       "    .dataframe tbody tr th:only-of-type {\n",
       "        vertical-align: middle;\n",
       "    }\n",
       "\n",
       "    .dataframe tbody tr th {\n",
       "        vertical-align: top;\n",
       "    }\n",
       "\n",
       "    .dataframe thead th {\n",
       "        text-align: right;\n",
       "    }\n",
       "</style>\n",
       "<table border=\"1\" class=\"dataframe\">\n",
       "  <thead>\n",
       "    <tr style=\"text-align: right;\">\n",
       "      <th></th>\n",
       "      <th>tau</th>\n",
       "      <th>pass_rate</th>\n",
       "    </tr>\n",
       "  </thead>\n",
       "  <tbody>\n",
       "    <tr>\n",
       "      <th>0</th>\n",
       "      <td>0.020</td>\n",
       "      <td>0.0250</td>\n",
       "    </tr>\n",
       "    <tr>\n",
       "      <th>1</th>\n",
       "      <td>0.025</td>\n",
       "      <td>0.0875</td>\n",
       "    </tr>\n",
       "    <tr>\n",
       "      <th>2</th>\n",
       "      <td>0.030</td>\n",
       "      <td>0.1500</td>\n",
       "    </tr>\n",
       "  </tbody>\n",
       "</table>\n",
       "</div>"
      ],
      "text/plain": [
       "     tau  pass_rate\n",
       "0  0.020     0.0250\n",
       "1  0.025     0.0875\n",
       "2  0.030     0.1500"
      ]
     },
     "metadata": {},
     "output_type": "display_data"
    },
    {
     "name": "stdout",
     "output_type": "stream",
     "text": [
      "\n",
      "STYLE baseline (for context):\n"
     ]
    },
    {
     "data": {
      "text/html": [
       "<div>\n",
       "<style scoped>\n",
       "    .dataframe tbody tr th:only-of-type {\n",
       "        vertical-align: middle;\n",
       "    }\n",
       "\n",
       "    .dataframe tbody tr th {\n",
       "        vertical-align: top;\n",
       "    }\n",
       "\n",
       "    .dataframe thead th {\n",
       "        text-align: right;\n",
       "    }\n",
       "</style>\n",
       "<table border=\"1\" class=\"dataframe\">\n",
       "  <thead>\n",
       "    <tr style=\"text-align: right;\">\n",
       "      <th></th>\n",
       "      <th>tau</th>\n",
       "      <th>pass_rate</th>\n",
       "    </tr>\n",
       "  </thead>\n",
       "  <tbody>\n",
       "    <tr>\n",
       "      <th>0</th>\n",
       "      <td>0.020</td>\n",
       "      <td>0.0625</td>\n",
       "    </tr>\n",
       "    <tr>\n",
       "      <th>1</th>\n",
       "      <td>0.025</td>\n",
       "      <td>0.0750</td>\n",
       "    </tr>\n",
       "    <tr>\n",
       "      <th>2</th>\n",
       "      <td>0.030</td>\n",
       "      <td>0.1250</td>\n",
       "    </tr>\n",
       "  </tbody>\n",
       "</table>\n",
       "</div>"
      ],
      "text/plain": [
       "     tau  pass_rate\n",
       "0  0.020     0.0625\n",
       "1  0.025     0.0750\n",
       "2  0.030     0.1250"
      ]
     },
     "metadata": {},
     "output_type": "display_data"
    },
    {
     "data": {
      "text/html": [
       "<div>\n",
       "<style scoped>\n",
       "    .dataframe tbody tr th:only-of-type {\n",
       "        vertical-align: middle;\n",
       "    }\n",
       "\n",
       "    .dataframe tbody tr th {\n",
       "        vertical-align: top;\n",
       "    }\n",
       "\n",
       "    .dataframe thead th {\n",
       "        text-align: right;\n",
       "    }\n",
       "</style>\n",
       "<table border=\"1\" class=\"dataframe\">\n",
       "  <thead>\n",
       "    <tr style=\"text-align: right;\">\n",
       "      <th></th>\n",
       "      <th>tau</th>\n",
       "      <th>pass_rate</th>\n",
       "    </tr>\n",
       "  </thead>\n",
       "  <tbody>\n",
       "    <tr>\n",
       "      <th>0</th>\n",
       "      <td>0.020</td>\n",
       "      <td>0.0625</td>\n",
       "    </tr>\n",
       "    <tr>\n",
       "      <th>1</th>\n",
       "      <td>0.025</td>\n",
       "      <td>0.0750</td>\n",
       "    </tr>\n",
       "    <tr>\n",
       "      <th>2</th>\n",
       "      <td>0.030</td>\n",
       "      <td>0.1250</td>\n",
       "    </tr>\n",
       "  </tbody>\n",
       "</table>\n",
       "</div>"
      ],
      "text/plain": [
       "     tau  pass_rate\n",
       "0  0.020     0.0625\n",
       "1  0.025     0.0750\n",
       "2  0.030     0.1250"
      ]
     },
     "execution_count": 10,
     "metadata": {},
     "output_type": "execute_result"
    }
   ],
   "source": [
    "# SNIPPET 1 — Pass@{0.020, 0.025, 0.030}\n",
    "\n",
    "import numpy as np, pandas as pd\n",
    "\n",
    "def pass_at_t(df, taus=(0.020, 0.025, 0.030), col=\"emd_emd\"):\n",
    "    out = []\n",
    "    for t in taus:\n",
    "        passed = (df[col].values <= t).mean()\n",
    "        out.append({\"tau\": t, \"pass_rate\": float(passed)})\n",
    "    res = pd.DataFrame(out)\n",
    "    display(res)\n",
    "    return res\n",
    "\n",
    "print(\"Palette-token run (EMD-constrained):\")\n",
    "pass_at_t(df_eval, taus=(0.020, 0.025, 0.030), col=\"emd_emd\")\n",
    "\n",
    "print(\"\\nSTYLE baseline (for context):\")\n",
    "pass_at_t(df_eval, taus=(0.020, 0.025, 0.030), col=\"style_emd\")\n"
   ]
  },
  {
   "cell_type": "code",
   "execution_count": 11,
   "id": "b3c1c0b2",
   "metadata": {},
   "outputs": [
    {
     "name": "stdout",
     "output_type": "stream",
     "text": [
      "ΔEMD (style − palette): mean=0.00562, median=0.00271\n"
     ]
    },
    {
     "data": {
      "image/png": "[encoded data removed]",
      "text/plain": [
       "<Figure size 640x480 with 1 Axes>"
      ]
     },
     "metadata": {},
     "output_type": "display_data"
    },
    {
     "data": {
      "text/html": [
       "<div>\n",
       "<style scoped>\n",
       "    .dataframe tbody tr th:only-of-type {\n",
       "        vertical-align: middle;\n",
       "    }\n",
       "\n",
       "    .dataframe tbody tr th {\n",
       "        vertical-align: top;\n",
       "    }\n",
       "\n",
       "    .dataframe thead th {\n",
       "        text-align: right;\n",
       "    }\n",
       "</style>\n",
       "<table border=\"1\" class=\"dataframe\">\n",
       "  <thead>\n",
       "    <tr style=\"text-align: right;\">\n",
       "      <th></th>\n",
       "      <th>colour_index</th>\n",
       "      <th>layout_index</th>\n",
       "      <th>prompt</th>\n",
       "      <th>style_emd</th>\n",
       "      <th>style_cos</th>\n",
       "      <th>emd_emd</th>\n",
       "      <th>emd_cos</th>\n",
       "      <th>style_f1</th>\n",
       "      <th>style_iou</th>\n",
       "      <th>style_ssim</th>\n",
       "      <th>emd_f1</th>\n",
       "      <th>emd_iou</th>\n",
       "      <th>emd_ssim</th>\n",
       "      <th>attempts</th>\n",
       "      <th>style_time</th>\n",
       "      <th>emd_time</th>\n",
       "      <th>delta_emd</th>\n",
       "    </tr>\n",
       "  </thead>\n",
       "  <tbody>\n",
       "    <tr>\n",
       "      <th>19</th>\n",
       "      <td>1004</td>\n",
       "      <td>507</td>\n",
       "      <td>a car, advertisement style, professional photo...</td>\n",
       "      <td>0.061121</td>\n",
       "      <td>0.307860</td>\n",
       "      <td>0.109771</td>\n",
       "      <td>0.284999</td>\n",
       "      <td>0.264081</td>\n",
       "      <td>0.152127</td>\n",
       "      <td>NaN</td>\n",
       "      <td>0.245235</td>\n",
       "      <td>0.139754</td>\n",
       "      <td>NaN</td>\n",
       "      <td>10</td>\n",
       "      <td>4.375974</td>\n",
       "      <td>42.441213</td>\n",
       "      <td>-0.048649</td>\n",
       "    </tr>\n",
       "    <tr>\n",
       "      <th>59</th>\n",
       "      <td>1014</td>\n",
       "      <td>507</td>\n",
       "      <td>a car, advertisement style, professional photo...</td>\n",
       "      <td>0.014624</td>\n",
       "      <td>0.274361</td>\n",
       "      <td>0.043772</td>\n",
       "      <td>0.298230</td>\n",
       "      <td>0.236528</td>\n",
       "      <td>0.134127</td>\n",
       "      <td>NaN</td>\n",
       "      <td>0.230456</td>\n",
       "      <td>0.130235</td>\n",
       "      <td>NaN</td>\n",
       "      <td>1</td>\n",
       "      <td>4.138389</td>\n",
       "      <td>4.199854</td>\n",
       "      <td>-0.029149</td>\n",
       "    </tr>\n",
       "    <tr>\n",
       "      <th>47</th>\n",
       "      <td>1011</td>\n",
       "      <td>507</td>\n",
       "      <td>a car, advertisement style, professional photo...</td>\n",
       "      <td>0.019944</td>\n",
       "      <td>0.355901</td>\n",
       "      <td>0.049030</td>\n",
       "      <td>0.295083</td>\n",
       "      <td>0.197328</td>\n",
       "      <td>0.109464</td>\n",
       "      <td>NaN</td>\n",
       "      <td>0.253174</td>\n",
       "      <td>0.144933</td>\n",
       "      <td>NaN</td>\n",
       "      <td>1</td>\n",
       "      <td>4.189779</td>\n",
       "      <td>4.389092</td>\n",
       "      <td>-0.029086</td>\n",
       "    </tr>\n",
       "    <tr>\n",
       "      <th>58</th>\n",
       "      <td>1014</td>\n",
       "      <td>400</td>\n",
       "      <td>a car, advertisement style, professional photo...</td>\n",
       "      <td>0.011519</td>\n",
       "      <td>0.232765</td>\n",
       "      <td>0.039931</td>\n",
       "      <td>0.230706</td>\n",
       "      <td>0.240514</td>\n",
       "      <td>0.136695</td>\n",
       "      <td>NaN</td>\n",
       "      <td>0.218855</td>\n",
       "      <td>0.122873</td>\n",
       "      <td>NaN</td>\n",
       "      <td>1</td>\n",
       "      <td>4.131131</td>\n",
       "      <td>4.174191</td>\n",
       "      <td>-0.028412</td>\n",
       "    </tr>\n",
       "    <tr>\n",
       "      <th>11</th>\n",
       "      <td>1002</td>\n",
       "      <td>507</td>\n",
       "      <td>a car, advertisement style, professional photo...</td>\n",
       "      <td>0.013551</td>\n",
       "      <td>0.256591</td>\n",
       "      <td>0.039114</td>\n",
       "      <td>0.257304</td>\n",
       "      <td>0.205056</td>\n",
       "      <td>0.114241</td>\n",
       "      <td>NaN</td>\n",
       "      <td>0.256906</td>\n",
       "      <td>0.147385</td>\n",
       "      <td>NaN</td>\n",
       "      <td>2</td>\n",
       "      <td>4.127692</td>\n",
       "      <td>8.652780</td>\n",
       "      <td>-0.025563</td>\n",
       "    </tr>\n",
       "  </tbody>\n",
       "</table>\n",
       "</div>"
      ],
      "text/plain": [
       "    colour_index  layout_index  \\\n",
       "19          1004           507   \n",
       "59          1014           507   \n",
       "47          1011           507   \n",
       "58          1014           400   \n",
       "11          1002           507   \n",
       "\n",
       "                                               prompt  style_emd  style_cos  \\\n",
       "19  a car, advertisement style, professional photo...   0.061121   0.307860   \n",
       "59  a car, advertisement style, professional photo...   0.014624   0.274361   \n",
       "47  a car, advertisement style, professional photo...   0.019944   0.355901   \n",
       "58  a car, advertisement style, professional photo...   0.011519   0.232765   \n",
       "11  a car, advertisement style, professional photo...   0.013551   0.256591   \n",
       "\n",
       "     emd_emd   emd_cos  style_f1  style_iou  style_ssim    emd_f1   emd_iou  \\\n",
       "19  0.109771  0.284999  0.264081   0.152127         NaN  0.245235  0.139754   \n",
       "59  0.043772  0.298230  0.236528   0.134127         NaN  0.230456  0.130235   \n",
       "47  0.049030  0.295083  0.197328   0.109464         NaN  0.253174  0.144933   \n",
       "58  0.039931  0.230706  0.240514   0.136695         NaN  0.218855  0.122873   \n",
       "11  0.039114  0.257304  0.205056   0.114241         NaN  0.256906  0.147385   \n",
       "\n",
       "    emd_ssim  attempts  style_time   emd_time  delta_emd  \n",
       "19       NaN        10    4.375974  42.441213  -0.048649  \n",
       "59       NaN         1    4.138389   4.199854  -0.029149  \n",
       "47       NaN         1    4.189779   4.389092  -0.029086  \n",
       "58       NaN         1    4.131131   4.174191  -0.028412  \n",
       "11       NaN         2    4.127692   8.652780  -0.025563  "
      ]
     },
     "execution_count": 11,
     "metadata": {},
     "output_type": "execute_result"
    }
   ],
   "source": [
    "# SNIPPET 2 — paired improvement over STYLE baseline\n",
    "\n",
    "import numpy as np, pandas as pd, matplotlib.pyplot as plt\n",
    "\n",
    "df_delta = df_eval.assign(delta_emd = df_eval[\"style_emd\"] - df_eval[\"emd_emd\"])\n",
    "print(f\"ΔEMD (style − palette): mean={df_delta['delta_emd'].mean():.5f}, \"\n",
    "      f\"median={df_delta['delta_emd'].median():.5f}\")\n",
    "\n",
    "# quick histogram\n",
    "plt.figure()\n",
    "plt.hist(df_delta[\"delta_emd\"], bins=20)\n",
    "plt.xlabel(\"ΔEMD (positive = palette better)\"); plt.ylabel(\"count\"); plt.title(\"ΔEMD vs STYLE baseline\")\n",
    "plt.show()\n",
    "\n",
    "df_delta.sort_values(\"delta_emd\", ascending=True).head(5)\n"
   ]
  },
  {
   "cell_type": "code",
   "execution_count": 12,
   "id": "2f092a2b",
   "metadata": {},
   "outputs": [
    {
     "name": "stdout",
     "output_type": "stream",
     "text": [
      "ΔEMD (style − palette): mean=0.00562, median=0.00271\n"
     ]
    },
    {
     "data": {
      "image/png": "[encoded data removed]",
      "text/plain": [
       "<Figure size 640x480 with 1 Axes>"
      ]
     },
     "metadata": {},
     "output_type": "display_data"
    },
    {
     "data": {
      "text/html": [
       "<div>\n",
       "<style scoped>\n",
       "    .dataframe tbody tr th:only-of-type {\n",
       "        vertical-align: middle;\n",
       "    }\n",
       "\n",
       "    .dataframe tbody tr th {\n",
       "        vertical-align: top;\n",
       "    }\n",
       "\n",
       "    .dataframe thead th {\n",
       "        text-align: right;\n",
       "    }\n",
       "</style>\n",
       "<table border=\"1\" class=\"dataframe\">\n",
       "  <thead>\n",
       "    <tr style=\"text-align: right;\">\n",
       "      <th></th>\n",
       "      <th>colour_index</th>\n",
       "      <th>layout_index</th>\n",
       "      <th>prompt</th>\n",
       "      <th>style_emd</th>\n",
       "      <th>style_cos</th>\n",
       "      <th>emd_emd</th>\n",
       "      <th>emd_cos</th>\n",
       "      <th>style_f1</th>\n",
       "      <th>style_iou</th>\n",
       "      <th>style_ssim</th>\n",
       "      <th>emd_f1</th>\n",
       "      <th>emd_iou</th>\n",
       "      <th>emd_ssim</th>\n",
       "      <th>attempts</th>\n",
       "      <th>style_time</th>\n",
       "      <th>emd_time</th>\n",
       "      <th>delta_emd</th>\n",
       "    </tr>\n",
       "  </thead>\n",
       "  <tbody>\n",
       "    <tr>\n",
       "      <th>19</th>\n",
       "      <td>1004</td>\n",
       "      <td>507</td>\n",
       "      <td>a car, advertisement style, professional photo...</td>\n",
       "      <td>0.061121</td>\n",
       "      <td>0.307860</td>\n",
       "      <td>0.109771</td>\n",
       "      <td>0.284999</td>\n",
       "      <td>0.264081</td>\n",
       "      <td>0.152127</td>\n",
       "      <td>NaN</td>\n",
       "      <td>0.245235</td>\n",
       "      <td>0.139754</td>\n",
       "      <td>NaN</td>\n",
       "      <td>10</td>\n",
       "      <td>4.375974</td>\n",
       "      <td>42.441213</td>\n",
       "      <td>-0.048649</td>\n",
       "    </tr>\n",
       "    <tr>\n",
       "      <th>59</th>\n",
       "      <td>1014</td>\n",
       "      <td>507</td>\n",
       "      <td>a car, advertisement style, professional photo...</td>\n",
       "      <td>0.014624</td>\n",
       "      <td>0.274361</td>\n",
       "      <td>0.043772</td>\n",
       "      <td>0.298230</td>\n",
       "      <td>0.236528</td>\n",
       "      <td>0.134127</td>\n",
       "      <td>NaN</td>\n",
       "      <td>0.230456</td>\n",
       "      <td>0.130235</td>\n",
       "      <td>NaN</td>\n",
       "      <td>1</td>\n",
       "      <td>4.138389</td>\n",
       "      <td>4.199854</td>\n",
       "      <td>-0.029149</td>\n",
       "    </tr>\n",
       "    <tr>\n",
       "      <th>47</th>\n",
       "      <td>1011</td>\n",
       "      <td>507</td>\n",
       "      <td>a car, advertisement style, professional photo...</td>\n",
       "      <td>0.019944</td>\n",
       "      <td>0.355901</td>\n",
       "      <td>0.049030</td>\n",
       "      <td>0.295083</td>\n",
       "      <td>0.197328</td>\n",
       "      <td>0.109464</td>\n",
       "      <td>NaN</td>\n",
       "      <td>0.253174</td>\n",
       "      <td>0.144933</td>\n",
       "      <td>NaN</td>\n",
       "      <td>1</td>\n",
       "      <td>4.189779</td>\n",
       "      <td>4.389092</td>\n",
       "      <td>-0.029086</td>\n",
       "    </tr>\n",
       "    <tr>\n",
       "      <th>58</th>\n",
       "      <td>1014</td>\n",
       "      <td>400</td>\n",
       "      <td>a car, advertisement style, professional photo...</td>\n",
       "      <td>0.011519</td>\n",
       "      <td>0.232765</td>\n",
       "      <td>0.039931</td>\n",
       "      <td>0.230706</td>\n",
       "      <td>0.240514</td>\n",
       "      <td>0.136695</td>\n",
       "      <td>NaN</td>\n",
       "      <td>0.218855</td>\n",
       "      <td>0.122873</td>\n",
       "      <td>NaN</td>\n",
       "      <td>1</td>\n",
       "      <td>4.131131</td>\n",
       "      <td>4.174191</td>\n",
       "      <td>-0.028412</td>\n",
       "    </tr>\n",
       "    <tr>\n",
       "      <th>11</th>\n",
       "      <td>1002</td>\n",
       "      <td>507</td>\n",
       "      <td>a car, advertisement style, professional photo...</td>\n",
       "      <td>0.013551</td>\n",
       "      <td>0.256591</td>\n",
       "      <td>0.039114</td>\n",
       "      <td>0.257304</td>\n",
       "      <td>0.205056</td>\n",
       "      <td>0.114241</td>\n",
       "      <td>NaN</td>\n",
       "      <td>0.256906</td>\n",
       "      <td>0.147385</td>\n",
       "      <td>NaN</td>\n",
       "      <td>2</td>\n",
       "      <td>4.127692</td>\n",
       "      <td>8.652780</td>\n",
       "      <td>-0.025563</td>\n",
       "    </tr>\n",
       "  </tbody>\n",
       "</table>\n",
       "</div>"
      ],
      "text/plain": [
       "    colour_index  layout_index  \\\n",
       "19          1004           507   \n",
       "59          1014           507   \n",
       "47          1011           507   \n",
       "58          1014           400   \n",
       "11          1002           507   \n",
       "\n",
       "                                               prompt  style_emd  style_cos  \\\n",
       "19  a car, advertisement style, professional photo...   0.061121   0.307860   \n",
       "59  a car, advertisement style, professional photo...   0.014624   0.274361   \n",
       "47  a car, advertisement style, professional photo...   0.019944   0.355901   \n",
       "58  a car, advertisement style, professional photo...   0.011519   0.232765   \n",
       "11  a car, advertisement style, professional photo...   0.013551   0.256591   \n",
       "\n",
       "     emd_emd   emd_cos  style_f1  style_iou  style_ssim    emd_f1   emd_iou  \\\n",
       "19  0.109771  0.284999  0.264081   0.152127         NaN  0.245235  0.139754   \n",
       "59  0.043772  0.298230  0.236528   0.134127         NaN  0.230456  0.130235   \n",
       "47  0.049030  0.295083  0.197328   0.109464         NaN  0.253174  0.144933   \n",
       "58  0.039931  0.230706  0.240514   0.136695         NaN  0.218855  0.122873   \n",
       "11  0.039114  0.257304  0.205056   0.114241         NaN  0.256906  0.147385   \n",
       "\n",
       "    emd_ssim  attempts  style_time   emd_time  delta_emd  \n",
       "19       NaN        10    4.375974  42.441213  -0.048649  \n",
       "59       NaN         1    4.138389   4.199854  -0.029149  \n",
       "47       NaN         1    4.189779   4.389092  -0.029086  \n",
       "58       NaN         1    4.131131   4.174191  -0.028412  \n",
       "11       NaN         2    4.127692   8.652780  -0.025563  "
      ]
     },
     "execution_count": 12,
     "metadata": {},
     "output_type": "execute_result"
    }
   ],
   "source": [
    "# SNIPPET 2 — paired improvement over STYLE baseline\n",
    "\n",
    "import numpy as np, pandas as pd, matplotlib.pyplot as plt\n",
    "\n",
    "df_delta = df_eval.assign(delta_emd = df_eval[\"style_emd\"] - df_eval[\"emd_emd\"])\n",
    "print(f\"ΔEMD (style − palette): mean={df_delta['delta_emd'].mean():.5f}, \"\n",
    "      f\"median={df_delta['delta_emd'].median():.5f}\")\n",
    "\n",
    "# quick histogram\n",
    "plt.figure()\n",
    "plt.hist(df_delta[\"delta_emd\"], bins=20)\n",
    "plt.xlabel(\"ΔEMD (positive = palette better)\"); plt.ylabel(\"count\"); plt.title(\"ΔEMD vs STYLE baseline\")\n",
    "plt.show()\n",
    "\n",
    "df_delta.sort_values(\"delta_emd\", ascending=True).head(5)\n"
   ]
  },
  {
   "cell_type": "code",
   "execution_count": 13,
   "id": "fe9bbefa",
   "metadata": {},
   "outputs": [
    {
     "name": "stdout",
     "output_type": "stream",
     "text": [
      "STYLE   — F1: mean=0.219  std=0.032 | IoU: mean=0.123  std=0.020 | SSIM: mean=nan  std=nan\n",
      "PALETTE — F1: mean=0.245  std=0.040 | IoU: mean=0.140  std=0.026 | SSIM: mean=nan  std=nan\n"
     ]
    },
    {
     "name": "stderr",
     "output_type": "stream",
     "text": [
      "/tmp/ipykernel_2700804/3317066695.py:5: RuntimeWarning: Mean of empty slice\n",
      "  return f\"mean={np.nanmean(x):.3f}  std={np.nanstd(x):.3f}\"\n",
      "/data/degis/degis-env/lib/python3.12/site-packages/numpy/lib/_nanfunctions_impl.py:2019: RuntimeWarning: Degrees of freedom <= 0 for slice.\n",
      "  var = nanvar(a, axis=axis, dtype=dtype, out=out, ddof=ddof,\n"
     ]
    }
   ],
   "source": [
    "# SNIPPET 3 — layout fidelity (edge F1 / IoU / SSIM)\n",
    "\n",
    "def _brief_stats(x): \n",
    "    import numpy as np\n",
    "    return f\"mean={np.nanmean(x):.3f}  std={np.nanstd(x):.3f}\"\n",
    "\n",
    "print(\"STYLE   — F1:\", _brief_stats(df_eval[\"style_f1\"].values),\n",
    "      \"| IoU:\", _brief_stats(df_eval[\"style_iou\"].values),\n",
    "      \"| SSIM:\", _brief_stats(df_eval[\"style_ssim\"].values))\n",
    "\n",
    "print(\"PALETTE — F1:\", _brief_stats(df_eval[\"emd_f1\"].values),\n",
    "      \"| IoU:\", _brief_stats(df_eval[\"emd_iou\"].values),\n",
    "      \"| SSIM:\", _brief_stats(df_eval[\"emd_ssim\"].values))\n"
   ]
  },
  {
   "cell_type": "code",
   "execution_count": 14,
   "id": "f67b76f0",
   "metadata": {},
   "outputs": [
    {
     "name": "stdout",
     "output_type": "stream",
     "text": [
      "CLIP cosine — STYLE mean=0.2624 | PALETTE mean=0.2543 | Δ (palette−style)=-0.0081\n"
     ]
    }
   ],
   "source": [
    "# SNIPPET 4 — text–image cosine (higher = better)\n",
    "\n",
    "import numpy as np\n",
    "\n",
    "m_style  = df_eval[\"style_cos\"].mean()\n",
    "m_emd    = df_eval[\"emd_cos\"].mean()\n",
    "delta    = (df_eval[\"emd_cos\"] - df_eval[\"style_cos\"]).mean()\n",
    "\n",
    "print(f\"CLIP cosine — STYLE mean={m_style:.4f} | PALETTE mean={m_emd:.4f} | Δ (palette−style)={delta:+.4f}\")\n"
   ]
  },
  {
   "cell_type": "code",
   "execution_count": 18,
   "id": "689e4faa",
   "metadata": {},
   "outputs": [
    {
     "data": {
      "application/vnd.jupyter.widget-view+json": {
       "model_id": "b13c5597008d4a47ade6136713cc8413",
       "version_major": 2,
       "version_minor": 0
      },
      "text/plain": [
       "  0%|          | 0/30 [00:00<?, ?it/s]"
      ]
     },
     "metadata": {},
     "output_type": "display_data"
    },
    {
     "name": "stdout",
     "output_type": "stream",
     "text": [
      "🎨 EMD-constrained generation: Using pre-computed color embedding\n",
      "📊 Color space: lab, Target EMD: 0.025\n"
     ]
    },
    {
     "name": "stderr",
     "output_type": "stream",
     "text": [
      "/data/degis/degis/shared/clip_vit_h14.py:55: FutureWarning: `torch.cuda.amp.autocast(args...)` is deprecated. Please use `torch.amp.autocast('cuda', args...)` instead.\n",
      "  with torch.cuda.amp.autocast():\n"
     ]
    },
    {
     "data": {
      "application/vnd.jupyter.widget-view+json": {
       "model_id": "e1359d62ad8347e5b81feb5395227ee9",
       "version_major": 2,
       "version_minor": 0
      },
      "text/plain": [
       "  0%|          | 0/30 [00:00<?, ?it/s]"
      ]
     },
     "metadata": {},
     "output_type": "display_data"
    },
    {
     "data": {
      "application/vnd.jupyter.widget-view+json": {
       "model_id": "7b562dcf34264012bd53a46b8c641c9e",
       "version_major": 2,
       "version_minor": 0
      },
      "text/plain": [
       "  0%|          | 0/30 [00:00<?, ?it/s]"
      ]
     },
     "metadata": {},
     "output_type": "display_data"
    },
    {
     "data": {
      "application/vnd.jupyter.widget-view+json": {
       "model_id": "0ace93e080524b8891bfb6d042689be8",
       "version_major": 2,
       "version_minor": 0
      },
      "text/plain": [
       "  0%|          | 0/30 [00:00<?, ?it/s]"
      ]
     },
     "metadata": {},
     "output_type": "display_data"
    },
    {
     "data": {
      "application/vnd.jupyter.widget-view+json": {
       "model_id": "91cee3a20093402aa30bcb3d0b02e753",
       "version_major": 2,
       "version_minor": 0
      },
      "text/plain": [
       "  0%|          | 0/30 [00:00<?, ?it/s]"
      ]
     },
     "metadata": {},
     "output_type": "display_data"
    },
    {
     "data": {
      "application/vnd.jupyter.widget-view+json": {
       "model_id": "6370c3bd436446e78b24129b3494fd59",
       "version_major": 2,
       "version_minor": 0
      },
      "text/plain": [
       "  0%|          | 0/30 [00:00<?, ?it/s]"
      ]
     },
     "metadata": {},
     "output_type": "display_data"
    },
    {
     "data": {
      "application/vnd.jupyter.widget-view+json": {
       "model_id": "be8db9e719b64d8792d724a3c272e9c8",
       "version_major": 2,
       "version_minor": 0
      },
      "text/plain": [
       "  0%|          | 0/30 [00:00<?, ?it/s]"
      ]
     },
     "metadata": {},
     "output_type": "display_data"
    },
    {
     "data": {
      "application/vnd.jupyter.widget-view+json": {
       "model_id": "89267d99fdbb4a63b1bf572e90561bd8",
       "version_major": 2,
       "version_minor": 0
      },
      "text/plain": [
       "  0%|          | 0/30 [00:00<?, ?it/s]"
      ]
     },
     "metadata": {},
     "output_type": "display_data"
    },
    {
     "data": {
      "application/vnd.jupyter.widget-view+json": {
       "model_id": "5eb6f0b36a814c1f876ff04129525022",
       "version_major": 2,
       "version_minor": 0
      },
      "text/plain": [
       "  0%|          | 0/30 [00:00<?, ?it/s]"
      ]
     },
     "metadata": {},
     "output_type": "display_data"
    },
    {
     "data": {
      "application/vnd.jupyter.widget-view+json": {
       "model_id": "81905fb23fae41c88a611bff0a08c0e3",
       "version_major": 2,
       "version_minor": 0
      },
      "text/plain": [
       "  0%|          | 0/30 [00:00<?, ?it/s]"
      ]
     },
     "metadata": {},
     "output_type": "display_data"
    },
    {
     "data": {
      "application/vnd.jupyter.widget-view+json": {
       "model_id": "05886895774d48f99f954e1371bedf99",
       "version_major": 2,
       "version_minor": 0
      },
      "text/plain": [
       "  0%|          | 0/30 [00:00<?, ?it/s]"
      ]
     },
     "metadata": {},
     "output_type": "display_data"
    },
    {
     "data": {
      "application/vnd.jupyter.widget-view+json": {
       "model_id": "01d4aeb8ff3e4ec59186b15d62e1186f",
       "version_major": 2,
       "version_minor": 0
      },
      "text/plain": [
       "  0%|          | 0/30 [00:00<?, ?it/s]"
      ]
     },
     "metadata": {},
     "output_type": "display_data"
    },
    {
     "name": "stdout",
     "output_type": "stream",
     "text": [
      "🎨 EMD-constrained generation: Using pre-computed color embedding\n",
      "📊 Color space: lab, Target EMD: 0.025\n"
     ]
    },
    {
     "data": {
      "application/vnd.jupyter.widget-view+json": {
       "model_id": "82a8b5b0c3da4698a8299bfc8c4a2d88",
       "version_major": 2,
       "version_minor": 0
      },
      "text/plain": [
       "  0%|          | 0/30 [00:00<?, ?it/s]"
      ]
     },
     "metadata": {},
     "output_type": "display_data"
    },
    {
     "data": {
      "application/vnd.jupyter.widget-view+json": {
       "model_id": "d5ed1de2537f4ce2b897d58fb5bd4399",
       "version_major": 2,
       "version_minor": 0
      },
      "text/plain": [
       "  0%|          | 0/30 [00:00<?, ?it/s]"
      ]
     },
     "metadata": {},
     "output_type": "display_data"
    },
    {
     "data": {
      "application/vnd.jupyter.widget-view+json": {
       "model_id": "e697aaafdba5496198fba18e6cbb4da6",
       "version_major": 2,
       "version_minor": 0
      },
      "text/plain": [
       "  0%|          | 0/30 [00:00<?, ?it/s]"
      ]
     },
     "metadata": {},
     "output_type": "display_data"
    },
    {
     "data": {
      "application/vnd.jupyter.widget-view+json": {
       "model_id": "1a3a432250cc40c680f30d0b6c818e17",
       "version_major": 2,
       "version_minor": 0
      },
      "text/plain": [
       "  0%|          | 0/30 [00:00<?, ?it/s]"
      ]
     },
     "metadata": {},
     "output_type": "display_data"
    },
    {
     "data": {
      "application/vnd.jupyter.widget-view+json": {
       "model_id": "c08c9456549c4cc0b68b536ba48b8418",
       "version_major": 2,
       "version_minor": 0
      },
      "text/plain": [
       "  0%|          | 0/30 [00:00<?, ?it/s]"
      ]
     },
     "metadata": {},
     "output_type": "display_data"
    },
    {
     "data": {
      "application/vnd.jupyter.widget-view+json": {
       "model_id": "6114d674e3cd4490a83c2bd4c861dcb6",
       "version_major": 2,
       "version_minor": 0
      },
      "text/plain": [
       "  0%|          | 0/30 [00:00<?, ?it/s]"
      ]
     },
     "metadata": {},
     "output_type": "display_data"
    },
    {
     "data": {
      "application/vnd.jupyter.widget-view+json": {
       "model_id": "856d64877fd74c51b3beeb871dcc6b20",
       "version_major": 2,
       "version_minor": 0
      },
      "text/plain": [
       "  0%|          | 0/30 [00:00<?, ?it/s]"
      ]
     },
     "metadata": {},
     "output_type": "display_data"
    },
    {
     "data": {
      "application/vnd.jupyter.widget-view+json": {
       "model_id": "802b168e77a7403bbe9b3c811b1546f2",
       "version_major": 2,
       "version_minor": 0
      },
      "text/plain": [
       "  0%|          | 0/30 [00:00<?, ?it/s]"
      ]
     },
     "metadata": {},
     "output_type": "display_data"
    },
    {
     "data": {
      "application/vnd.jupyter.widget-view+json": {
       "model_id": "71024326fa6540b0bfd1fcb94885621f",
       "version_major": 2,
       "version_minor": 0
      },
      "text/plain": [
       "  0%|          | 0/30 [00:00<?, ?it/s]"
      ]
     },
     "metadata": {},
     "output_type": "display_data"
    },
    {
     "data": {
      "application/vnd.jupyter.widget-view+json": {
       "model_id": "4a7c6f6d74784999b64f3edb005d0dce",
       "version_major": 2,
       "version_minor": 0
      },
      "text/plain": [
       "  0%|          | 0/30 [00:00<?, ?it/s]"
      ]
     },
     "metadata": {},
     "output_type": "display_data"
    },
    {
     "data": {
      "application/vnd.jupyter.widget-view+json": {
       "model_id": "1c4ebe71263a4394b2ea64e40fdf45a1",
       "version_major": 2,
       "version_minor": 0
      },
      "text/plain": [
       "  0%|          | 0/30 [00:00<?, ?it/s]"
      ]
     },
     "metadata": {},
     "output_type": "display_data"
    },
    {
     "name": "stdout",
     "output_type": "stream",
     "text": [
      "🎨 EMD-constrained generation: Using pre-computed color embedding\n",
      "📊 Color space: lab, Target EMD: 0.025\n"
     ]
    },
    {
     "data": {
      "application/vnd.jupyter.widget-view+json": {
       "model_id": "cd95304e77e44b85aa7602e90d2c7ce9",
       "version_major": 2,
       "version_minor": 0
      },
      "text/plain": [
       "  0%|          | 0/30 [00:00<?, ?it/s]"
      ]
     },
     "metadata": {},
     "output_type": "display_data"
    },
    {
     "data": {
      "application/vnd.jupyter.widget-view+json": {
       "model_id": "97920ab2ce7b4a7d959efa92cc7eb863",
       "version_major": 2,
       "version_minor": 0
      },
      "text/plain": [
       "  0%|          | 0/30 [00:00<?, ?it/s]"
      ]
     },
     "metadata": {},
     "output_type": "display_data"
    },
    {
     "data": {
      "application/vnd.jupyter.widget-view+json": {
       "model_id": "ffd3e60053ec483fa01371a632a7fbeb",
       "version_major": 2,
       "version_minor": 0
      },
      "text/plain": [
       "  0%|          | 0/30 [00:00<?, ?it/s]"
      ]
     },
     "metadata": {},
     "output_type": "display_data"
    },
    {
     "data": {
      "application/vnd.jupyter.widget-view+json": {
       "model_id": "eeb50c46e2ad48e3a3db546d6482a8a4",
       "version_major": 2,
       "version_minor": 0
      },
      "text/plain": [
       "  0%|          | 0/30 [00:00<?, ?it/s]"
      ]
     },
     "metadata": {},
     "output_type": "display_data"
    },
    {
     "data": {
      "application/vnd.jupyter.widget-view+json": {
       "model_id": "9ba907cd1fec43ac85fedc17b7fd148f",
       "version_major": 2,
       "version_minor": 0
      },
      "text/plain": [
       "  0%|          | 0/30 [00:00<?, ?it/s]"
      ]
     },
     "metadata": {},
     "output_type": "display_data"
    },
    {
     "data": {
      "application/vnd.jupyter.widget-view+json": {
       "model_id": "afb9fa9c69224934b33ef0a14b4b1dc5",
       "version_major": 2,
       "version_minor": 0
      },
      "text/plain": [
       "  0%|          | 0/30 [00:00<?, ?it/s]"
      ]
     },
     "metadata": {},
     "output_type": "display_data"
    },
    {
     "data": {
      "application/vnd.jupyter.widget-view+json": {
       "model_id": "4bd1bea9e8d444128b3367ca83571431",
       "version_major": 2,
       "version_minor": 0
      },
      "text/plain": [
       "  0%|          | 0/30 [00:00<?, ?it/s]"
      ]
     },
     "metadata": {},
     "output_type": "display_data"
    },
    {
     "data": {
      "application/vnd.jupyter.widget-view+json": {
       "model_id": "78da953d8f2c44b18893f793bba1379b",
       "version_major": 2,
       "version_minor": 0
      },
      "text/plain": [
       "  0%|          | 0/30 [00:00<?, ?it/s]"
      ]
     },
     "metadata": {},
     "output_type": "display_data"
    },
    {
     "data": {
      "application/vnd.jupyter.widget-view+json": {
       "model_id": "56688f7e166d4a188d75694f5049a868",
       "version_major": 2,
       "version_minor": 0
      },
      "text/plain": [
       "  0%|          | 0/30 [00:00<?, ?it/s]"
      ]
     },
     "metadata": {},
     "output_type": "display_data"
    },
    {
     "data": {
      "application/vnd.jupyter.widget-view+json": {
       "model_id": "be188a5575004806b66a4a545717daf8",
       "version_major": 2,
       "version_minor": 0
      },
      "text/plain": [
       "  0%|          | 0/30 [00:00<?, ?it/s]"
      ]
     },
     "metadata": {},
     "output_type": "display_data"
    },
    {
     "data": {
      "application/vnd.jupyter.widget-view+json": {
       "model_id": "e2d83861f91346c9921ba96d823ecbe8",
       "version_major": 2,
       "version_minor": 0
      },
      "text/plain": [
       "  0%|          | 0/30 [00:00<?, ?it/s]"
      ]
     },
     "metadata": {},
     "output_type": "display_data"
    },
    {
     "name": "stdout",
     "output_type": "stream",
     "text": [
      "🎨 EMD-constrained generation: Using pre-computed color embedding\n",
      "📊 Color space: lab, Target EMD: 0.025\n"
     ]
    },
    {
     "data": {
      "application/vnd.jupyter.widget-view+json": {
       "model_id": "62f34e75873543b2a92cd256092b4e4d",
       "version_major": 2,
       "version_minor": 0
      },
      "text/plain": [
       "  0%|          | 0/30 [00:00<?, ?it/s]"
      ]
     },
     "metadata": {},
     "output_type": "display_data"
    },
    {
     "data": {
      "application/vnd.jupyter.widget-view+json": {
       "model_id": "9ac9b6d5acb149548c3f8de6f02458c0",
       "version_major": 2,
       "version_minor": 0
      },
      "text/plain": [
       "  0%|          | 0/30 [00:00<?, ?it/s]"
      ]
     },
     "metadata": {},
     "output_type": "display_data"
    },
    {
     "data": {
      "application/vnd.jupyter.widget-view+json": {
       "model_id": "4fc7ebfe30514858b04f99322e08e7e8",
       "version_major": 2,
       "version_minor": 0
      },
      "text/plain": [
       "  0%|          | 0/30 [00:00<?, ?it/s]"
      ]
     },
     "metadata": {},
     "output_type": "display_data"
    },
    {
     "data": {
      "application/vnd.jupyter.widget-view+json": {
       "model_id": "9239849fd01d472eb72909a1e75b451e",
       "version_major": 2,
       "version_minor": 0
      },
      "text/plain": [
       "  0%|          | 0/30 [00:00<?, ?it/s]"
      ]
     },
     "metadata": {},
     "output_type": "display_data"
    },
    {
     "data": {
      "application/vnd.jupyter.widget-view+json": {
       "model_id": "fa558af77c51457a9230b846f5493d4d",
       "version_major": 2,
       "version_minor": 0
      },
      "text/plain": [
       "  0%|          | 0/30 [00:00<?, ?it/s]"
      ]
     },
     "metadata": {},
     "output_type": "display_data"
    },
    {
     "data": {
      "application/vnd.jupyter.widget-view+json": {
       "model_id": "2c5a6f341eba482591b48d10a04578f9",
       "version_major": 2,
       "version_minor": 0
      },
      "text/plain": [
       "  0%|          | 0/30 [00:00<?, ?it/s]"
      ]
     },
     "metadata": {},
     "output_type": "display_data"
    },
    {
     "data": {
      "application/vnd.jupyter.widget-view+json": {
       "model_id": "94310a70396b45a7a31a579d4bb608db",
       "version_major": 2,
       "version_minor": 0
      },
      "text/plain": [
       "  0%|          | 0/30 [00:00<?, ?it/s]"
      ]
     },
     "metadata": {},
     "output_type": "display_data"
    },
    {
     "data": {
      "application/vnd.jupyter.widget-view+json": {
       "model_id": "e5065a1e963949f3a5ccad987ee207f3",
       "version_major": 2,
       "version_minor": 0
      },
      "text/plain": [
       "  0%|          | 0/30 [00:00<?, ?it/s]"
      ]
     },
     "metadata": {},
     "output_type": "display_data"
    },
    {
     "data": {
      "application/vnd.jupyter.widget-view+json": {
       "model_id": "3845cb8abd9e4648a809c87069b99bab",
       "version_major": 2,
       "version_minor": 0
      },
      "text/plain": [
       "  0%|          | 0/30 [00:00<?, ?it/s]"
      ]
     },
     "metadata": {},
     "output_type": "display_data"
    },
    {
     "data": {
      "application/vnd.jupyter.widget-view+json": {
       "model_id": "1da7a8cdae17496b9943484c151380f1",
       "version_major": 2,
       "version_minor": 0
      },
      "text/plain": [
       "  0%|          | 0/30 [00:00<?, ?it/s]"
      ]
     },
     "metadata": {},
     "output_type": "display_data"
    },
    {
     "data": {
      "application/vnd.jupyter.widget-view+json": {
       "model_id": "aca262500586427796b02b2535c29d95",
       "version_major": 2,
       "version_minor": 0
      },
      "text/plain": [
       "  0%|          | 0/30 [00:00<?, ?it/s]"
      ]
     },
     "metadata": {},
     "output_type": "display_data"
    },
    {
     "name": "stdout",
     "output_type": "stream",
     "text": [
      "🎨 EMD-constrained generation: Using pre-computed color embedding\n",
      "📊 Color space: lab, Target EMD: 0.025\n"
     ]
    },
    {
     "data": {
      "application/vnd.jupyter.widget-view+json": {
       "model_id": "ce7f5bf63e4d43449de6a589056f45ff",
       "version_major": 2,
       "version_minor": 0
      },
      "text/plain": [
       "  0%|          | 0/30 [00:00<?, ?it/s]"
      ]
     },
     "metadata": {},
     "output_type": "display_data"
    },
    {
     "data": {
      "application/vnd.jupyter.widget-view+json": {
       "model_id": "147e0a16256c4127a5fcf51481f1bda3",
       "version_major": 2,
       "version_minor": 0
      },
      "text/plain": [
       "  0%|          | 0/30 [00:00<?, ?it/s]"
      ]
     },
     "metadata": {},
     "output_type": "display_data"
    },
    {
     "data": {
      "application/vnd.jupyter.widget-view+json": {
       "model_id": "3f2807b971b647709dc834f71e942760",
       "version_major": 2,
       "version_minor": 0
      },
      "text/plain": [
       "  0%|          | 0/30 [00:00<?, ?it/s]"
      ]
     },
     "metadata": {},
     "output_type": "display_data"
    },
    {
     "data": {
      "application/vnd.jupyter.widget-view+json": {
       "model_id": "c321f2551a3e4a69b924e14638e2b480",
       "version_major": 2,
       "version_minor": 0
      },
      "text/plain": [
       "  0%|          | 0/30 [00:00<?, ?it/s]"
      ]
     },
     "metadata": {},
     "output_type": "display_data"
    },
    {
     "data": {
      "application/vnd.jupyter.widget-view+json": {
       "model_id": "75c989e027e743c99d94ab459cea3c8b",
       "version_major": 2,
       "version_minor": 0
      },
      "text/plain": [
       "  0%|          | 0/30 [00:00<?, ?it/s]"
      ]
     },
     "metadata": {},
     "output_type": "display_data"
    },
    {
     "data": {
      "application/vnd.jupyter.widget-view+json": {
       "model_id": "a040186aecf246f3b4e604db58cd6287",
       "version_major": 2,
       "version_minor": 0
      },
      "text/plain": [
       "  0%|          | 0/30 [00:00<?, ?it/s]"
      ]
     },
     "metadata": {},
     "output_type": "display_data"
    },
    {
     "data": {
      "application/vnd.jupyter.widget-view+json": {
       "model_id": "177dbb3917984da2a017057fb5afc1e8",
       "version_major": 2,
       "version_minor": 0
      },
      "text/plain": [
       "  0%|          | 0/30 [00:00<?, ?it/s]"
      ]
     },
     "metadata": {},
     "output_type": "display_data"
    },
    {
     "data": {
      "application/vnd.jupyter.widget-view+json": {
       "model_id": "271154b3e7ee4bfeb760449eeaac0b02",
       "version_major": 2,
       "version_minor": 0
      },
      "text/plain": [
       "  0%|          | 0/30 [00:00<?, ?it/s]"
      ]
     },
     "metadata": {},
     "output_type": "display_data"
    },
    {
     "data": {
      "application/vnd.jupyter.widget-view+json": {
       "model_id": "8cfe1431d3f447309046677d3ff18c37",
       "version_major": 2,
       "version_minor": 0
      },
      "text/plain": [
       "  0%|          | 0/30 [00:00<?, ?it/s]"
      ]
     },
     "metadata": {},
     "output_type": "display_data"
    },
    {
     "data": {
      "application/vnd.jupyter.widget-view+json": {
       "model_id": "6174898bd35b497f9c94cf6b8bd2271d",
       "version_major": 2,
       "version_minor": 0
      },
      "text/plain": [
       "  0%|          | 0/30 [00:00<?, ?it/s]"
      ]
     },
     "metadata": {},
     "output_type": "display_data"
    },
    {
     "data": {
      "application/vnd.jupyter.widget-view+json": {
       "model_id": "4fd4f33493ac465a84dcad4781265600",
       "version_major": 2,
       "version_minor": 0
      },
      "text/plain": [
       "  0%|          | 0/30 [00:00<?, ?it/s]"
      ]
     },
     "metadata": {},
     "output_type": "display_data"
    },
    {
     "name": "stdout",
     "output_type": "stream",
     "text": [
      "🎨 EMD-constrained generation: Using pre-computed color embedding\n",
      "📊 Color space: lab, Target EMD: 0.025\n"
     ]
    },
    {
     "data": {
      "application/vnd.jupyter.widget-view+json": {
       "model_id": "683a64f20ca14583990e6dd89e995e48",
       "version_major": 2,
       "version_minor": 0
      },
      "text/plain": [
       "  0%|          | 0/30 [00:00<?, ?it/s]"
      ]
     },
     "metadata": {},
     "output_type": "display_data"
    },
    {
     "data": {
      "application/vnd.jupyter.widget-view+json": {
       "model_id": "27c905f997b64aad89ad489612375c4c",
       "version_major": 2,
       "version_minor": 0
      },
      "text/plain": [
       "  0%|          | 0/30 [00:00<?, ?it/s]"
      ]
     },
     "metadata": {},
     "output_type": "display_data"
    },
    {
     "data": {
      "application/vnd.jupyter.widget-view+json": {
       "model_id": "bc79e34a2b75455db810faa82075b6fb",
       "version_major": 2,
       "version_minor": 0
      },
      "text/plain": [
       "  0%|          | 0/30 [00:00<?, ?it/s]"
      ]
     },
     "metadata": {},
     "output_type": "display_data"
    },
    {
     "data": {
      "application/vnd.jupyter.widget-view+json": {
       "model_id": "87be123d6c9a476d9aaef6910068aba3",
       "version_major": 2,
       "version_minor": 0
      },
      "text/plain": [
       "  0%|          | 0/30 [00:00<?, ?it/s]"
      ]
     },
     "metadata": {},
     "output_type": "display_data"
    },
    {
     "data": {
      "application/vnd.jupyter.widget-view+json": {
       "model_id": "d29a774c8b104206814aefd892be9d16",
       "version_major": 2,
       "version_minor": 0
      },
      "text/plain": [
       "  0%|          | 0/30 [00:00<?, ?it/s]"
      ]
     },
     "metadata": {},
     "output_type": "display_data"
    },
    {
     "data": {
      "application/vnd.jupyter.widget-view+json": {
       "model_id": "9c080305743341469b1dfb64a717a711",
       "version_major": 2,
       "version_minor": 0
      },
      "text/plain": [
       "  0%|          | 0/30 [00:00<?, ?it/s]"
      ]
     },
     "metadata": {},
     "output_type": "display_data"
    },
    {
     "data": {
      "application/vnd.jupyter.widget-view+json": {
       "model_id": "22f274b94dd14336b0869cf297719f62",
       "version_major": 2,
       "version_minor": 0
      },
      "text/plain": [
       "  0%|          | 0/30 [00:00<?, ?it/s]"
      ]
     },
     "metadata": {},
     "output_type": "display_data"
    },
    {
     "data": {
      "application/vnd.jupyter.widget-view+json": {
       "model_id": "8af62e3986c14d299407c1409765ff14",
       "version_major": 2,
       "version_minor": 0
      },
      "text/plain": [
       "  0%|          | 0/30 [00:00<?, ?it/s]"
      ]
     },
     "metadata": {},
     "output_type": "display_data"
    },
    {
     "data": {
      "application/vnd.jupyter.widget-view+json": {
       "model_id": "d4f0f78df8df4f2b9aa0f4d1262be0ba",
       "version_major": 2,
       "version_minor": 0
      },
      "text/plain": [
       "  0%|          | 0/30 [00:00<?, ?it/s]"
      ]
     },
     "metadata": {},
     "output_type": "display_data"
    },
    {
     "data": {
      "application/vnd.jupyter.widget-view+json": {
       "model_id": "44010801e45a45ebba7fd3698776bbe4",
       "version_major": 2,
       "version_minor": 0
      },
      "text/plain": [
       "  0%|          | 0/30 [00:00<?, ?it/s]"
      ]
     },
     "metadata": {},
     "output_type": "display_data"
    },
    {
     "data": {
      "application/vnd.jupyter.widget-view+json": {
       "model_id": "05395b6654a24cccbae2f78c152ad098",
       "version_major": 2,
       "version_minor": 0
      },
      "text/plain": [
       "  0%|          | 0/30 [00:00<?, ?it/s]"
      ]
     },
     "metadata": {},
     "output_type": "display_data"
    },
    {
     "name": "stdout",
     "output_type": "stream",
     "text": [
      "🎨 EMD-constrained generation: Using pre-computed color embedding\n",
      "📊 Color space: lab, Target EMD: 0.025\n"
     ]
    },
    {
     "data": {
      "application/vnd.jupyter.widget-view+json": {
       "model_id": "ff388cb9666b46fe9b95b69eaeaeff1d",
       "version_major": 2,
       "version_minor": 0
      },
      "text/plain": [
       "  0%|          | 0/30 [00:00<?, ?it/s]"
      ]
     },
     "metadata": {},
     "output_type": "display_data"
    },
    {
     "data": {
      "application/vnd.jupyter.widget-view+json": {
       "model_id": "d4e8d8085ea74154b10e57ba76440bac",
       "version_major": 2,
       "version_minor": 0
      },
      "text/plain": [
       "  0%|          | 0/30 [00:00<?, ?it/s]"
      ]
     },
     "metadata": {},
     "output_type": "display_data"
    },
    {
     "data": {
      "application/vnd.jupyter.widget-view+json": {
       "model_id": "654edff3d4f248329203fcbff5523114",
       "version_major": 2,
       "version_minor": 0
      },
      "text/plain": [
       "  0%|          | 0/30 [00:00<?, ?it/s]"
      ]
     },
     "metadata": {},
     "output_type": "display_data"
    },
    {
     "data": {
      "application/vnd.jupyter.widget-view+json": {
       "model_id": "3ca5600b627f474f82585a17c3cbfd16",
       "version_major": 2,
       "version_minor": 0
      },
      "text/plain": [
       "  0%|          | 0/30 [00:00<?, ?it/s]"
      ]
     },
     "metadata": {},
     "output_type": "display_data"
    },
    {
     "data": {
      "application/vnd.jupyter.widget-view+json": {
       "model_id": "fa553bd1947d48329cd0271c2cf3a1b6",
       "version_major": 2,
       "version_minor": 0
      },
      "text/plain": [
       "  0%|          | 0/30 [00:00<?, ?it/s]"
      ]
     },
     "metadata": {},
     "output_type": "display_data"
    },
    {
     "data": {
      "application/vnd.jupyter.widget-view+json": {
       "model_id": "ab72ece98b614d73b4fa234be197d27c",
       "version_major": 2,
       "version_minor": 0
      },
      "text/plain": [
       "  0%|          | 0/30 [00:00<?, ?it/s]"
      ]
     },
     "metadata": {},
     "output_type": "display_data"
    },
    {
     "data": {
      "application/vnd.jupyter.widget-view+json": {
       "model_id": "b2f45704ff6844f99670a7017974e583",
       "version_major": 2,
       "version_minor": 0
      },
      "text/plain": [
       "  0%|          | 0/30 [00:00<?, ?it/s]"
      ]
     },
     "metadata": {},
     "output_type": "display_data"
    },
    {
     "name": "stdout",
     "output_type": "stream",
     "text": [
      "🎨 EMD-constrained generation: Using pre-computed color embedding\n",
      "📊 Color space: lab, Target EMD: 0.025\n"
     ]
    },
    {
     "data": {
      "application/vnd.jupyter.widget-view+json": {
       "model_id": "3fff8439f74f4743b1aff4f454c22c45",
       "version_major": 2,
       "version_minor": 0
      },
      "text/plain": [
       "  0%|          | 0/30 [00:00<?, ?it/s]"
      ]
     },
     "metadata": {},
     "output_type": "display_data"
    },
    {
     "data": {
      "application/vnd.jupyter.widget-view+json": {
       "model_id": "05096af2e4494fd28b4a7f0e6cd9171a",
       "version_major": 2,
       "version_minor": 0
      },
      "text/plain": [
       "  0%|          | 0/30 [00:00<?, ?it/s]"
      ]
     },
     "metadata": {},
     "output_type": "display_data"
    },
    {
     "data": {
      "application/vnd.jupyter.widget-view+json": {
       "model_id": "d1e01d157e2d49689ba66b1d91a52f3d",
       "version_major": 2,
       "version_minor": 0
      },
      "text/plain": [
       "  0%|          | 0/30 [00:00<?, ?it/s]"
      ]
     },
     "metadata": {},
     "output_type": "display_data"
    },
    {
     "data": {
      "application/vnd.jupyter.widget-view+json": {
       "model_id": "412bc93cd04643418830ddbc8ba9f78d",
       "version_major": 2,
       "version_minor": 0
      },
      "text/plain": [
       "  0%|          | 0/30 [00:00<?, ?it/s]"
      ]
     },
     "metadata": {},
     "output_type": "display_data"
    },
    {
     "data": {
      "application/vnd.jupyter.widget-view+json": {
       "model_id": "89ee7f6943a2458a9d9a9f9ed54b2c0b",
       "version_major": 2,
       "version_minor": 0
      },
      "text/plain": [
       "  0%|          | 0/30 [00:00<?, ?it/s]"
      ]
     },
     "metadata": {},
     "output_type": "display_data"
    },
    {
     "data": {
      "application/vnd.jupyter.widget-view+json": {
       "model_id": "5cd27b27a45646089dbcb17b53edade4",
       "version_major": 2,
       "version_minor": 0
      },
      "text/plain": [
       "  0%|          | 0/30 [00:00<?, ?it/s]"
      ]
     },
     "metadata": {},
     "output_type": "display_data"
    },
    {
     "data": {
      "application/vnd.jupyter.widget-view+json": {
       "model_id": "0b56095812364d279e6d2d086934716f",
       "version_major": 2,
       "version_minor": 0
      },
      "text/plain": [
       "  0%|          | 0/30 [00:00<?, ?it/s]"
      ]
     },
     "metadata": {},
     "output_type": "display_data"
    },
    {
     "data": {
      "application/vnd.jupyter.widget-view+json": {
       "model_id": "f24ef97cb664483a9580477c0a6f5beb",
       "version_major": 2,
       "version_minor": 0
      },
      "text/plain": [
       "  0%|          | 0/30 [00:00<?, ?it/s]"
      ]
     },
     "metadata": {},
     "output_type": "display_data"
    },
    {
     "data": {
      "application/vnd.jupyter.widget-view+json": {
       "model_id": "d58b993406ed427bbd2f9ba1e68c9c38",
       "version_major": 2,
       "version_minor": 0
      },
      "text/plain": [
       "  0%|          | 0/30 [00:00<?, ?it/s]"
      ]
     },
     "metadata": {},
     "output_type": "display_data"
    },
    {
     "data": {
      "application/vnd.jupyter.widget-view+json": {
       "model_id": "37ecb43aaa7948be8bc00ccbc6ea6f2e",
       "version_major": 2,
       "version_minor": 0
      },
      "text/plain": [
       "  0%|          | 0/30 [00:00<?, ?it/s]"
      ]
     },
     "metadata": {},
     "output_type": "display_data"
    },
    {
     "data": {
      "application/vnd.jupyter.widget-view+json": {
       "model_id": "36e03d7f31864caf8ae6f898de7ddc0f",
       "version_major": 2,
       "version_minor": 0
      },
      "text/plain": [
       "  0%|          | 0/30 [00:00<?, ?it/s]"
      ]
     },
     "metadata": {},
     "output_type": "display_data"
    },
    {
     "name": "stdout",
     "output_type": "stream",
     "text": [
      "🎨 EMD-constrained generation: Using pre-computed color embedding\n",
      "📊 Color space: lab, Target EMD: 0.025\n"
     ]
    },
    {
     "data": {
      "application/vnd.jupyter.widget-view+json": {
       "model_id": "9855c81765d74be38dd198387f76f8c5",
       "version_major": 2,
       "version_minor": 0
      },
      "text/plain": [
       "  0%|          | 0/30 [00:00<?, ?it/s]"
      ]
     },
     "metadata": {},
     "output_type": "display_data"
    },
    {
     "data": {
      "application/vnd.jupyter.widget-view+json": {
       "model_id": "2941ac7a13594e9081e4890a7d3b10ea",
       "version_major": 2,
       "version_minor": 0
      },
      "text/plain": [
       "  0%|          | 0/30 [00:00<?, ?it/s]"
      ]
     },
     "metadata": {},
     "output_type": "display_data"
    },
    {
     "data": {
      "application/vnd.jupyter.widget-view+json": {
       "model_id": "c3463192341841f18cb5e8206fd74c49",
       "version_major": 2,
       "version_minor": 0
      },
      "text/plain": [
       "  0%|          | 0/30 [00:00<?, ?it/s]"
      ]
     },
     "metadata": {},
     "output_type": "display_data"
    },
    {
     "data": {
      "application/vnd.jupyter.widget-view+json": {
       "model_id": "baffd54a51ec48cc9c0ca70acef113bb",
       "version_major": 2,
       "version_minor": 0
      },
      "text/plain": [
       "  0%|          | 0/30 [00:00<?, ?it/s]"
      ]
     },
     "metadata": {},
     "output_type": "display_data"
    },
    {
     "data": {
      "application/vnd.jupyter.widget-view+json": {
       "model_id": "b9d8ef3cc65c42fea304a8ba61f9c183",
       "version_major": 2,
       "version_minor": 0
      },
      "text/plain": [
       "  0%|          | 0/30 [00:00<?, ?it/s]"
      ]
     },
     "metadata": {},
     "output_type": "display_data"
    },
    {
     "name": "stdout",
     "output_type": "stream",
     "text": [
      "🎨 EMD-constrained generation: Using pre-computed color embedding\n",
      "📊 Color space: lab, Target EMD: 0.025\n"
     ]
    },
    {
     "data": {
      "application/vnd.jupyter.widget-view+json": {
       "model_id": "d36df4823ad640ad850380380ccdf1a7",
       "version_major": 2,
       "version_minor": 0
      },
      "text/plain": [
       "  0%|          | 0/30 [00:00<?, ?it/s]"
      ]
     },
     "metadata": {},
     "output_type": "display_data"
    },
    {
     "data": {
      "application/vnd.jupyter.widget-view+json": {
       "model_id": "4be847eaf8704a748ab1a3dac9b3096c",
       "version_major": 2,
       "version_minor": 0
      },
      "text/plain": [
       "  0%|          | 0/30 [00:00<?, ?it/s]"
      ]
     },
     "metadata": {},
     "output_type": "display_data"
    },
    {
     "data": {
      "application/vnd.jupyter.widget-view+json": {
       "model_id": "7ad41ac1d5d542bcadaabf468c13df7a",
       "version_major": 2,
       "version_minor": 0
      },
      "text/plain": [
       "  0%|          | 0/30 [00:00<?, ?it/s]"
      ]
     },
     "metadata": {},
     "output_type": "display_data"
    },
    {
     "data": {
      "application/vnd.jupyter.widget-view+json": {
       "model_id": "b6d9d8232f33478aa4365e69ab1eb134",
       "version_major": 2,
       "version_minor": 0
      },
      "text/plain": [
       "  0%|          | 0/30 [00:00<?, ?it/s]"
      ]
     },
     "metadata": {},
     "output_type": "display_data"
    },
    {
     "data": {
      "application/vnd.jupyter.widget-view+json": {
       "model_id": "8817f57de0354726a70add76a6e05b2d",
       "version_major": 2,
       "version_minor": 0
      },
      "text/plain": [
       "  0%|          | 0/30 [00:00<?, ?it/s]"
      ]
     },
     "metadata": {},
     "output_type": "display_data"
    },
    {
     "data": {
      "application/vnd.jupyter.widget-view+json": {
       "model_id": "1b205f7830e34b7991e4bab2467da589",
       "version_major": 2,
       "version_minor": 0
      },
      "text/plain": [
       "  0%|          | 0/30 [00:00<?, ?it/s]"
      ]
     },
     "metadata": {},
     "output_type": "display_data"
    },
    {
     "data": {
      "text/html": [
       "<div>\n",
       "<style scoped>\n",
       "    .dataframe tbody tr th:only-of-type {\n",
       "        vertical-align: middle;\n",
       "    }\n",
       "\n",
       "    .dataframe tbody tr th {\n",
       "        vertical-align: top;\n",
       "    }\n",
       "\n",
       "    .dataframe thead th {\n",
       "        text-align: right;\n",
       "    }\n",
       "</style>\n",
       "<table border=\"1\" class=\"dataframe\">\n",
       "  <thead>\n",
       "    <tr style=\"text-align: right;\">\n",
       "      <th></th>\n",
       "      <th>colour_index</th>\n",
       "      <th>layout_index</th>\n",
       "      <th>prompt</th>\n",
       "      <th>style_emd</th>\n",
       "      <th>style_cos</th>\n",
       "      <th>emd_emd</th>\n",
       "      <th>emd_cos</th>\n",
       "      <th>style_f1</th>\n",
       "      <th>style_iou</th>\n",
       "      <th>style_ssim</th>\n",
       "      <th>emd_f1</th>\n",
       "      <th>emd_iou</th>\n",
       "      <th>emd_ssim</th>\n",
       "      <th>attempts</th>\n",
       "      <th>style_time</th>\n",
       "      <th>emd_time</th>\n",
       "    </tr>\n",
       "  </thead>\n",
       "  <tbody>\n",
       "    <tr>\n",
       "      <th>0</th>\n",
       "      <td>1000</td>\n",
       "      <td>30</td>\n",
       "      <td>a car, advertisement style, professional photo...</td>\n",
       "      <td>0.063960</td>\n",
       "      <td>0.269230</td>\n",
       "      <td>0.040400</td>\n",
       "      <td>0.239401</td>\n",
       "      <td>0.176403</td>\n",
       "      <td>0.096734</td>\n",
       "      <td>NaN</td>\n",
       "      <td>0.223803</td>\n",
       "      <td>0.126001</td>\n",
       "      <td>NaN</td>\n",
       "      <td>10</td>\n",
       "      <td>4.327113</td>\n",
       "      <td>41.428059</td>\n",
       "    </tr>\n",
       "    <tr>\n",
       "      <th>1</th>\n",
       "      <td>1000</td>\n",
       "      <td>71</td>\n",
       "      <td>a car, advertisement style, professional photo...</td>\n",
       "      <td>0.033650</td>\n",
       "      <td>0.235521</td>\n",
       "      <td>0.043964</td>\n",
       "      <td>0.268805</td>\n",
       "      <td>0.227418</td>\n",
       "      <td>0.128297</td>\n",
       "      <td>NaN</td>\n",
       "      <td>0.293189</td>\n",
       "      <td>0.171776</td>\n",
       "      <td>NaN</td>\n",
       "      <td>10</td>\n",
       "      <td>4.297360</td>\n",
       "      <td>42.859748</td>\n",
       "    </tr>\n",
       "    <tr>\n",
       "      <th>2</th>\n",
       "      <td>1000</td>\n",
       "      <td>400</td>\n",
       "      <td>a car, advertisement style, professional photo...</td>\n",
       "      <td>0.048929</td>\n",
       "      <td>0.179221</td>\n",
       "      <td>0.037587</td>\n",
       "      <td>0.200957</td>\n",
       "      <td>0.219589</td>\n",
       "      <td>0.123336</td>\n",
       "      <td>NaN</td>\n",
       "      <td>0.250887</td>\n",
       "      <td>0.143437</td>\n",
       "      <td>NaN</td>\n",
       "      <td>10</td>\n",
       "      <td>4.320712</td>\n",
       "      <td>42.673232</td>\n",
       "    </tr>\n",
       "    <tr>\n",
       "      <th>3</th>\n",
       "      <td>1000</td>\n",
       "      <td>507</td>\n",
       "      <td>a car, advertisement style, professional photo...</td>\n",
       "      <td>0.049158</td>\n",
       "      <td>0.315065</td>\n",
       "      <td>0.036444</td>\n",
       "      <td>0.253695</td>\n",
       "      <td>0.187156</td>\n",
       "      <td>0.103239</td>\n",
       "      <td>NaN</td>\n",
       "      <td>0.246671</td>\n",
       "      <td>0.140687</td>\n",
       "      <td>NaN</td>\n",
       "      <td>10</td>\n",
       "      <td>4.104239</td>\n",
       "      <td>42.553766</td>\n",
       "    </tr>\n",
       "    <tr>\n",
       "      <th>4</th>\n",
       "      <td>1001</td>\n",
       "      <td>30</td>\n",
       "      <td>a car, advertisement style, professional photo...</td>\n",
       "      <td>0.056118</td>\n",
       "      <td>0.211292</td>\n",
       "      <td>0.032475</td>\n",
       "      <td>0.219015</td>\n",
       "      <td>0.169956</td>\n",
       "      <td>0.092870</td>\n",
       "      <td>NaN</td>\n",
       "      <td>0.311107</td>\n",
       "      <td>0.184208</td>\n",
       "      <td>NaN</td>\n",
       "      <td>10</td>\n",
       "      <td>4.260360</td>\n",
       "      <td>41.258553</td>\n",
       "    </tr>\n",
       "  </tbody>\n",
       "</table>\n",
       "</div>"
      ],
      "text/plain": [
       "   colour_index  layout_index  \\\n",
       "0          1000            30   \n",
       "1          1000            71   \n",
       "2          1000           400   \n",
       "3          1000           507   \n",
       "4          1001            30   \n",
       "\n",
       "                                              prompt  style_emd  style_cos  \\\n",
       "0  a car, advertisement style, professional photo...   0.063960   0.269230   \n",
       "1  a car, advertisement style, professional photo...   0.033650   0.235521   \n",
       "2  a car, advertisement style, professional photo...   0.048929   0.179221   \n",
       "3  a car, advertisement style, professional photo...   0.049158   0.315065   \n",
       "4  a car, advertisement style, professional photo...   0.056118   0.211292   \n",
       "\n",
       "    emd_emd   emd_cos  style_f1  style_iou  style_ssim    emd_f1   emd_iou  \\\n",
       "0  0.040400  0.239401  0.176403   0.096734         NaN  0.223803  0.126001   \n",
       "1  0.043964  0.268805  0.227418   0.128297         NaN  0.293189  0.171776   \n",
       "2  0.037587  0.200957  0.219589   0.123336         NaN  0.250887  0.143437   \n",
       "3  0.036444  0.253695  0.187156   0.103239         NaN  0.246671  0.140687   \n",
       "4  0.032475  0.219015  0.169956   0.092870         NaN  0.311107  0.184208   \n",
       "\n",
       "   emd_ssim  attempts  style_time   emd_time  \n",
       "0       NaN        10    4.327113  41.428059  \n",
       "1       NaN        10    4.297360  42.859748  \n",
       "2       NaN        10    4.320712  42.673232  \n",
       "3       NaN        10    4.104239  42.553766  \n",
       "4       NaN        10    4.260360  41.258553  "
      ]
     },
     "metadata": {},
     "output_type": "display_data"
    },
    {
     "name": "stdout",
     "output_type": "stream",
     "text": [
      "✓ Collected 10 rows.\n"
     ]
    },
    {
     "data": {
      "application/vnd.jupyter.widget-view+json": {
       "model_id": "891419471cd64f2fbe51e6ffa24b5180",
       "version_major": 2,
       "version_minor": 0
      },
      "text/plain": [
       "  0%|          | 0/30 [00:00<?, ?it/s]"
      ]
     },
     "metadata": {},
     "output_type": "display_data"
    },
    {
     "name": "stdout",
     "output_type": "stream",
     "text": [
      "🎨 EMD-constrained generation: Using pre-computed color embedding\n",
      "📊 Color space: lab, Target EMD: 0.025\n"
     ]
    },
    {
     "name": "stderr",
     "output_type": "stream",
     "text": [
      "/data/degis/degis/shared/clip_vit_h14.py:55: FutureWarning: `torch.cuda.amp.autocast(args...)` is deprecated. Please use `torch.amp.autocast('cuda', args...)` instead.\n",
      "  with torch.cuda.amp.autocast():\n"
     ]
    },
    {
     "data": {
      "application/vnd.jupyter.widget-view+json": {
       "model_id": "603a142ef2c3494a91bec6214db13c1f",
       "version_major": 2,
       "version_minor": 0
      },
      "text/plain": [
       "  0%|          | 0/30 [00:00<?, ?it/s]"
      ]
     },
     "metadata": {},
     "output_type": "display_data"
    },
    {
     "data": {
      "application/vnd.jupyter.widget-view+json": {
       "model_id": "0a023314ce654311bc974be46f52ac51",
       "version_major": 2,
       "version_minor": 0
      },
      "text/plain": [
       "  0%|          | 0/30 [00:00<?, ?it/s]"
      ]
     },
     "metadata": {},
     "output_type": "display_data"
    },
    {
     "data": {
      "application/vnd.jupyter.widget-view+json": {
       "model_id": "f8686e2771f244349ca3b9eb51e3a9ff",
       "version_major": 2,
       "version_minor": 0
      },
      "text/plain": [
       "  0%|          | 0/30 [00:00<?, ?it/s]"
      ]
     },
     "metadata": {},
     "output_type": "display_data"
    },
    {
     "data": {
      "application/vnd.jupyter.widget-view+json": {
       "model_id": "4ccc78ae2faa4a728c40a0d5c0e6d104",
       "version_major": 2,
       "version_minor": 0
      },
      "text/plain": [
       "  0%|          | 0/30 [00:00<?, ?it/s]"
      ]
     },
     "metadata": {},
     "output_type": "display_data"
    },
    {
     "data": {
      "application/vnd.jupyter.widget-view+json": {
       "model_id": "b5368270786f4127abfefb1cc861bbf5",
       "version_major": 2,
       "version_minor": 0
      },
      "text/plain": [
       "  0%|          | 0/30 [00:00<?, ?it/s]"
      ]
     },
     "metadata": {},
     "output_type": "display_data"
    },
    {
     "data": {
      "application/vnd.jupyter.widget-view+json": {
       "model_id": "e7c6a76e251249a197fabee6d443c785",
       "version_major": 2,
       "version_minor": 0
      },
      "text/plain": [
       "  0%|          | 0/30 [00:00<?, ?it/s]"
      ]
     },
     "metadata": {},
     "output_type": "display_data"
    },
    {
     "data": {
      "application/vnd.jupyter.widget-view+json": {
       "model_id": "76825cd0632241269bb811fed61d1a36",
       "version_major": 2,
       "version_minor": 0
      },
      "text/plain": [
       "  0%|          | 0/30 [00:00<?, ?it/s]"
      ]
     },
     "metadata": {},
     "output_type": "display_data"
    },
    {
     "data": {
      "application/vnd.jupyter.widget-view+json": {
       "model_id": "3463426a286941f8a591d53dca9da957",
       "version_major": 2,
       "version_minor": 0
      },
      "text/plain": [
       "  0%|          | 0/30 [00:00<?, ?it/s]"
      ]
     },
     "metadata": {},
     "output_type": "display_data"
    },
    {
     "data": {
      "application/vnd.jupyter.widget-view+json": {
       "model_id": "6021870787c1420a8f5fdbe012e43c29",
       "version_major": 2,
       "version_minor": 0
      },
      "text/plain": [
       "  0%|          | 0/30 [00:00<?, ?it/s]"
      ]
     },
     "metadata": {},
     "output_type": "display_data"
    },
    {
     "data": {
      "application/vnd.jupyter.widget-view+json": {
       "model_id": "f4df7535bbfa4766a358c05c24bd88ee",
       "version_major": 2,
       "version_minor": 0
      },
      "text/plain": [
       "  0%|          | 0/30 [00:00<?, ?it/s]"
      ]
     },
     "metadata": {},
     "output_type": "display_data"
    },
    {
     "data": {
      "application/vnd.jupyter.widget-view+json": {
       "model_id": "3bf108c4eaea4934963ec300da2bc641",
       "version_major": 2,
       "version_minor": 0
      },
      "text/plain": [
       "  0%|          | 0/30 [00:00<?, ?it/s]"
      ]
     },
     "metadata": {},
     "output_type": "display_data"
    },
    {
     "name": "stdout",
     "output_type": "stream",
     "text": [
      "🎨 EMD-constrained generation: Using pre-computed color embedding\n",
      "📊 Color space: lab, Target EMD: 0.025\n"
     ]
    },
    {
     "data": {
      "application/vnd.jupyter.widget-view+json": {
       "model_id": "ec861cfde9dd484bacbe17deed5ecde5",
       "version_major": 2,
       "version_minor": 0
      },
      "text/plain": [
       "  0%|          | 0/30 [00:00<?, ?it/s]"
      ]
     },
     "metadata": {},
     "output_type": "display_data"
    },
    {
     "data": {
      "application/vnd.jupyter.widget-view+json": {
       "model_id": "6d2f9428ce6f419b88a273acff7ec3cc",
       "version_major": 2,
       "version_minor": 0
      },
      "text/plain": [
       "  0%|          | 0/30 [00:00<?, ?it/s]"
      ]
     },
     "metadata": {},
     "output_type": "display_data"
    },
    {
     "data": {
      "application/vnd.jupyter.widget-view+json": {
       "model_id": "1baae4fe32354d0cbaf9ec7538d35b28",
       "version_major": 2,
       "version_minor": 0
      },
      "text/plain": [
       "  0%|          | 0/30 [00:00<?, ?it/s]"
      ]
     },
     "metadata": {},
     "output_type": "display_data"
    },
    {
     "data": {
      "application/vnd.jupyter.widget-view+json": {
       "model_id": "cb2677a25d7c49f4b936a866812036f0",
       "version_major": 2,
       "version_minor": 0
      },
      "text/plain": [
       "  0%|          | 0/30 [00:00<?, ?it/s]"
      ]
     },
     "metadata": {},
     "output_type": "display_data"
    },
    {
     "data": {
      "application/vnd.jupyter.widget-view+json": {
       "model_id": "7e7def714f45470aab178a0bb2f52c25",
       "version_major": 2,
       "version_minor": 0
      },
      "text/plain": [
       "  0%|          | 0/30 [00:00<?, ?it/s]"
      ]
     },
     "metadata": {},
     "output_type": "display_data"
    },
    {
     "data": {
      "application/vnd.jupyter.widget-view+json": {
       "model_id": "b24f5701ea1543ecab9fd7c3640bff1f",
       "version_major": 2,
       "version_minor": 0
      },
      "text/plain": [
       "  0%|          | 0/30 [00:00<?, ?it/s]"
      ]
     },
     "metadata": {},
     "output_type": "display_data"
    },
    {
     "data": {
      "application/vnd.jupyter.widget-view+json": {
       "model_id": "5fb68cb75ec84df488d4e6229e45e933",
       "version_major": 2,
       "version_minor": 0
      },
      "text/plain": [
       "  0%|          | 0/30 [00:00<?, ?it/s]"
      ]
     },
     "metadata": {},
     "output_type": "display_data"
    },
    {
     "data": {
      "application/vnd.jupyter.widget-view+json": {
       "model_id": "404f560fdbb94c798ba0dcdbc693a771",
       "version_major": 2,
       "version_minor": 0
      },
      "text/plain": [
       "  0%|          | 0/30 [00:00<?, ?it/s]"
      ]
     },
     "metadata": {},
     "output_type": "display_data"
    },
    {
     "data": {
      "application/vnd.jupyter.widget-view+json": {
       "model_id": "7d0a9c90a39a4f028408997891226fca",
       "version_major": 2,
       "version_minor": 0
      },
      "text/plain": [
       "  0%|          | 0/30 [00:00<?, ?it/s]"
      ]
     },
     "metadata": {},
     "output_type": "display_data"
    },
    {
     "data": {
      "application/vnd.jupyter.widget-view+json": {
       "model_id": "146e2188c3d2426d87ae8b5231112aec",
       "version_major": 2,
       "version_minor": 0
      },
      "text/plain": [
       "  0%|          | 0/30 [00:00<?, ?it/s]"
      ]
     },
     "metadata": {},
     "output_type": "display_data"
    },
    {
     "data": {
      "application/vnd.jupyter.widget-view+json": {
       "model_id": "85ed5d4932e64dfdbf610ae0897b3cff",
       "version_major": 2,
       "version_minor": 0
      },
      "text/plain": [
       "  0%|          | 0/30 [00:00<?, ?it/s]"
      ]
     },
     "metadata": {},
     "output_type": "display_data"
    },
    {
     "name": "stdout",
     "output_type": "stream",
     "text": [
      "🎨 EMD-constrained generation: Using pre-computed color embedding\n",
      "📊 Color space: lab, Target EMD: 0.025\n"
     ]
    },
    {
     "data": {
      "application/vnd.jupyter.widget-view+json": {
       "model_id": "6ed9b48783b24795915684957729f70f",
       "version_major": 2,
       "version_minor": 0
      },
      "text/plain": [
       "  0%|          | 0/30 [00:00<?, ?it/s]"
      ]
     },
     "metadata": {},
     "output_type": "display_data"
    },
    {
     "data": {
      "application/vnd.jupyter.widget-view+json": {
       "model_id": "7703b684f9ce490eb7ee4951f9aae034",
       "version_major": 2,
       "version_minor": 0
      },
      "text/plain": [
       "  0%|          | 0/30 [00:00<?, ?it/s]"
      ]
     },
     "metadata": {},
     "output_type": "display_data"
    },
    {
     "data": {
      "application/vnd.jupyter.widget-view+json": {
       "model_id": "25ba8f40ea934dbcab3099cdbb0ad865",
       "version_major": 2,
       "version_minor": 0
      },
      "text/plain": [
       "  0%|          | 0/30 [00:00<?, ?it/s]"
      ]
     },
     "metadata": {},
     "output_type": "display_data"
    },
    {
     "data": {
      "application/vnd.jupyter.widget-view+json": {
       "model_id": "c6277e05f9244343836a395cdf087a81",
       "version_major": 2,
       "version_minor": 0
      },
      "text/plain": [
       "  0%|          | 0/30 [00:00<?, ?it/s]"
      ]
     },
     "metadata": {},
     "output_type": "display_data"
    },
    {
     "data": {
      "application/vnd.jupyter.widget-view+json": {
       "model_id": "59bb941117d04e7bbda5fa25ae1ba6ed",
       "version_major": 2,
       "version_minor": 0
      },
      "text/plain": [
       "  0%|          | 0/30 [00:00<?, ?it/s]"
      ]
     },
     "metadata": {},
     "output_type": "display_data"
    },
    {
     "data": {
      "application/vnd.jupyter.widget-view+json": {
       "model_id": "f19539f0f8e9486983a701c9a09d321b",
       "version_major": 2,
       "version_minor": 0
      },
      "text/plain": [
       "  0%|          | 0/30 [00:00<?, ?it/s]"
      ]
     },
     "metadata": {},
     "output_type": "display_data"
    },
    {
     "data": {
      "application/vnd.jupyter.widget-view+json": {
       "model_id": "38b257669b1a46119c1f13d7c6f69512",
       "version_major": 2,
       "version_minor": 0
      },
      "text/plain": [
       "  0%|          | 0/30 [00:00<?, ?it/s]"
      ]
     },
     "metadata": {},
     "output_type": "display_data"
    },
    {
     "data": {
      "application/vnd.jupyter.widget-view+json": {
       "model_id": "dfe2a4c1f16342e6b33249b16eaf11b7",
       "version_major": 2,
       "version_minor": 0
      },
      "text/plain": [
       "  0%|          | 0/30 [00:00<?, ?it/s]"
      ]
     },
     "metadata": {},
     "output_type": "display_data"
    },
    {
     "data": {
      "application/vnd.jupyter.widget-view+json": {
       "model_id": "a1bc6f4223d147669b13d7625cdeebaa",
       "version_major": 2,
       "version_minor": 0
      },
      "text/plain": [
       "  0%|          | 0/30 [00:00<?, ?it/s]"
      ]
     },
     "metadata": {},
     "output_type": "display_data"
    },
    {
     "data": {
      "application/vnd.jupyter.widget-view+json": {
       "model_id": "e6c26ceeadf04632b4a20e5ee219549c",
       "version_major": 2,
       "version_minor": 0
      },
      "text/plain": [
       "  0%|          | 0/30 [00:00<?, ?it/s]"
      ]
     },
     "metadata": {},
     "output_type": "display_data"
    },
    {
     "data": {
      "application/vnd.jupyter.widget-view+json": {
       "model_id": "9fbd14f2df6146dca4183744747246c4",
       "version_major": 2,
       "version_minor": 0
      },
      "text/plain": [
       "  0%|          | 0/30 [00:00<?, ?it/s]"
      ]
     },
     "metadata": {},
     "output_type": "display_data"
    },
    {
     "name": "stdout",
     "output_type": "stream",
     "text": [
      "🎨 EMD-constrained generation: Using pre-computed color embedding\n",
      "📊 Color space: lab, Target EMD: 0.025\n"
     ]
    },
    {
     "data": {
      "application/vnd.jupyter.widget-view+json": {
       "model_id": "b73f92af959c4cf499a45f50dcd3c848",
       "version_major": 2,
       "version_minor": 0
      },
      "text/plain": [
       "  0%|          | 0/30 [00:00<?, ?it/s]"
      ]
     },
     "metadata": {},
     "output_type": "display_data"
    },
    {
     "data": {
      "application/vnd.jupyter.widget-view+json": {
       "model_id": "32700b839122455dbecc90fc79e12776",
       "version_major": 2,
       "version_minor": 0
      },
      "text/plain": [
       "  0%|          | 0/30 [00:00<?, ?it/s]"
      ]
     },
     "metadata": {},
     "output_type": "display_data"
    },
    {
     "data": {
      "application/vnd.jupyter.widget-view+json": {
       "model_id": "541713fb0b50472f904b5ddaeb5a35fa",
       "version_major": 2,
       "version_minor": 0
      },
      "text/plain": [
       "  0%|          | 0/30 [00:00<?, ?it/s]"
      ]
     },
     "metadata": {},
     "output_type": "display_data"
    },
    {
     "data": {
      "application/vnd.jupyter.widget-view+json": {
       "model_id": "0563a2bbc37f476faae6f35fb3fccd11",
       "version_major": 2,
       "version_minor": 0
      },
      "text/plain": [
       "  0%|          | 0/30 [00:00<?, ?it/s]"
      ]
     },
     "metadata": {},
     "output_type": "display_data"
    },
    {
     "data": {
      "application/vnd.jupyter.widget-view+json": {
       "model_id": "e19d544d90d5499dbd53326ca723e3b0",
       "version_major": 2,
       "version_minor": 0
      },
      "text/plain": [
       "  0%|          | 0/30 [00:00<?, ?it/s]"
      ]
     },
     "metadata": {},
     "output_type": "display_data"
    },
    {
     "data": {
      "application/vnd.jupyter.widget-view+json": {
       "model_id": "ee36ac561cd0463cb6ec6600070fa5be",
       "version_major": 2,
       "version_minor": 0
      },
      "text/plain": [
       "  0%|          | 0/30 [00:00<?, ?it/s]"
      ]
     },
     "metadata": {},
     "output_type": "display_data"
    },
    {
     "data": {
      "application/vnd.jupyter.widget-view+json": {
       "model_id": "e38c38e28bb74e4bb253032f5b32ed7f",
       "version_major": 2,
       "version_minor": 0
      },
      "text/plain": [
       "  0%|          | 0/30 [00:00<?, ?it/s]"
      ]
     },
     "metadata": {},
     "output_type": "display_data"
    },
    {
     "data": {
      "application/vnd.jupyter.widget-view+json": {
       "model_id": "e2a759f299c54ca6b1fe7d9f84bb8abc",
       "version_major": 2,
       "version_minor": 0
      },
      "text/plain": [
       "  0%|          | 0/30 [00:00<?, ?it/s]"
      ]
     },
     "metadata": {},
     "output_type": "display_data"
    },
    {
     "data": {
      "application/vnd.jupyter.widget-view+json": {
       "model_id": "5af080a866f0416ea4dde667afea7b84",
       "version_major": 2,
       "version_minor": 0
      },
      "text/plain": [
       "  0%|          | 0/30 [00:00<?, ?it/s]"
      ]
     },
     "metadata": {},
     "output_type": "display_data"
    },
    {
     "data": {
      "application/vnd.jupyter.widget-view+json": {
       "model_id": "c3b3902dbe8845e99ac89e8221d89e41",
       "version_major": 2,
       "version_minor": 0
      },
      "text/plain": [
       "  0%|          | 0/30 [00:00<?, ?it/s]"
      ]
     },
     "metadata": {},
     "output_type": "display_data"
    },
    {
     "data": {
      "application/vnd.jupyter.widget-view+json": {
       "model_id": "e6c93af75c3f434bbc99dc33304caae3",
       "version_major": 2,
       "version_minor": 0
      },
      "text/plain": [
       "  0%|          | 0/30 [00:00<?, ?it/s]"
      ]
     },
     "metadata": {},
     "output_type": "display_data"
    },
    {
     "name": "stdout",
     "output_type": "stream",
     "text": [
      "🎨 EMD-constrained generation: Using pre-computed color embedding\n",
      "📊 Color space: lab, Target EMD: 0.025\n"
     ]
    },
    {
     "data": {
      "application/vnd.jupyter.widget-view+json": {
       "model_id": "24b4c30053494b13b022d0aafe29011b",
       "version_major": 2,
       "version_minor": 0
      },
      "text/plain": [
       "  0%|          | 0/30 [00:00<?, ?it/s]"
      ]
     },
     "metadata": {},
     "output_type": "display_data"
    },
    {
     "data": {
      "application/vnd.jupyter.widget-view+json": {
       "model_id": "adac9d0070464a27be0f7b9f0a769808",
       "version_major": 2,
       "version_minor": 0
      },
      "text/plain": [
       "  0%|          | 0/30 [00:00<?, ?it/s]"
      ]
     },
     "metadata": {},
     "output_type": "display_data"
    },
    {
     "data": {
      "application/vnd.jupyter.widget-view+json": {
       "model_id": "911fbf4a1fa4487b89c75231fbb4a56d",
       "version_major": 2,
       "version_minor": 0
      },
      "text/plain": [
       "  0%|          | 0/30 [00:00<?, ?it/s]"
      ]
     },
     "metadata": {},
     "output_type": "display_data"
    },
    {
     "data": {
      "application/vnd.jupyter.widget-view+json": {
       "model_id": "880a06f8fafc4772a461e29eb0ea1aa0",
       "version_major": 2,
       "version_minor": 0
      },
      "text/plain": [
       "  0%|          | 0/30 [00:00<?, ?it/s]"
      ]
     },
     "metadata": {},
     "output_type": "display_data"
    },
    {
     "data": {
      "application/vnd.jupyter.widget-view+json": {
       "model_id": "0ddeb7a0be2d4ad995b2ccf65d4e131b",
       "version_major": 2,
       "version_minor": 0
      },
      "text/plain": [
       "  0%|          | 0/30 [00:00<?, ?it/s]"
      ]
     },
     "metadata": {},
     "output_type": "display_data"
    },
    {
     "data": {
      "application/vnd.jupyter.widget-view+json": {
       "model_id": "04ca7602d3534735ac9e8f1ff682365b",
       "version_major": 2,
       "version_minor": 0
      },
      "text/plain": [
       "  0%|          | 0/30 [00:00<?, ?it/s]"
      ]
     },
     "metadata": {},
     "output_type": "display_data"
    },
    {
     "data": {
      "application/vnd.jupyter.widget-view+json": {
       "model_id": "b79ca74e366540d18dec0d1b5cead7a5",
       "version_major": 2,
       "version_minor": 0
      },
      "text/plain": [
       "  0%|          | 0/30 [00:00<?, ?it/s]"
      ]
     },
     "metadata": {},
     "output_type": "display_data"
    },
    {
     "data": {
      "application/vnd.jupyter.widget-view+json": {
       "model_id": "51cdc5cb55954c14a4ad72b2142c36e7",
       "version_major": 2,
       "version_minor": 0
      },
      "text/plain": [
       "  0%|          | 0/30 [00:00<?, ?it/s]"
      ]
     },
     "metadata": {},
     "output_type": "display_data"
    },
    {
     "data": {
      "application/vnd.jupyter.widget-view+json": {
       "model_id": "c78334bf4551491b8a0b1eed315d6b56",
       "version_major": 2,
       "version_minor": 0
      },
      "text/plain": [
       "  0%|          | 0/30 [00:00<?, ?it/s]"
      ]
     },
     "metadata": {},
     "output_type": "display_data"
    },
    {
     "data": {
      "application/vnd.jupyter.widget-view+json": {
       "model_id": "f7607e64a48e4131ba82b135c3c27c48",
       "version_major": 2,
       "version_minor": 0
      },
      "text/plain": [
       "  0%|          | 0/30 [00:00<?, ?it/s]"
      ]
     },
     "metadata": {},
     "output_type": "display_data"
    },
    {
     "data": {
      "application/vnd.jupyter.widget-view+json": {
       "model_id": "795fa7bc9d8a4398ac190b6985772f91",
       "version_major": 2,
       "version_minor": 0
      },
      "text/plain": [
       "  0%|          | 0/30 [00:00<?, ?it/s]"
      ]
     },
     "metadata": {},
     "output_type": "display_data"
    },
    {
     "name": "stdout",
     "output_type": "stream",
     "text": [
      "🎨 EMD-constrained generation: Using pre-computed color embedding\n",
      "📊 Color space: lab, Target EMD: 0.025\n"
     ]
    },
    {
     "data": {
      "application/vnd.jupyter.widget-view+json": {
       "model_id": "0aa7b0f399d84887962b948c295b4073",
       "version_major": 2,
       "version_minor": 0
      },
      "text/plain": [
       "  0%|          | 0/30 [00:00<?, ?it/s]"
      ]
     },
     "metadata": {},
     "output_type": "display_data"
    },
    {
     "data": {
      "application/vnd.jupyter.widget-view+json": {
       "model_id": "33cc5da4584e49b08f9690331c2c2a35",
       "version_major": 2,
       "version_minor": 0
      },
      "text/plain": [
       "  0%|          | 0/30 [00:00<?, ?it/s]"
      ]
     },
     "metadata": {},
     "output_type": "display_data"
    },
    {
     "data": {
      "application/vnd.jupyter.widget-view+json": {
       "model_id": "5186f1527e1f4991b474363db650970d",
       "version_major": 2,
       "version_minor": 0
      },
      "text/plain": [
       "  0%|          | 0/30 [00:00<?, ?it/s]"
      ]
     },
     "metadata": {},
     "output_type": "display_data"
    },
    {
     "data": {
      "application/vnd.jupyter.widget-view+json": {
       "model_id": "ab8989a1e2474e4a9e9f0696b18dd44e",
       "version_major": 2,
       "version_minor": 0
      },
      "text/plain": [
       "  0%|          | 0/30 [00:00<?, ?it/s]"
      ]
     },
     "metadata": {},
     "output_type": "display_data"
    },
    {
     "data": {
      "application/vnd.jupyter.widget-view+json": {
       "model_id": "29416fb3d0d24e15a1ce671161d636b3",
       "version_major": 2,
       "version_minor": 0
      },
      "text/plain": [
       "  0%|          | 0/30 [00:00<?, ?it/s]"
      ]
     },
     "metadata": {},
     "output_type": "display_data"
    },
    {
     "data": {
      "application/vnd.jupyter.widget-view+json": {
       "model_id": "4888647d2a4e4952bbeb106536a7c85b",
       "version_major": 2,
       "version_minor": 0
      },
      "text/plain": [
       "  0%|          | 0/30 [00:00<?, ?it/s]"
      ]
     },
     "metadata": {},
     "output_type": "display_data"
    },
    {
     "name": "stdout",
     "output_type": "stream",
     "text": [
      "🎨 EMD-constrained generation: Using pre-computed color embedding\n",
      "📊 Color space: lab, Target EMD: 0.025\n"
     ]
    },
    {
     "data": {
      "application/vnd.jupyter.widget-view+json": {
       "model_id": "80e2c378ca0d4c2391a677ee860b94ca",
       "version_major": 2,
       "version_minor": 0
      },
      "text/plain": [
       "  0%|          | 0/30 [00:00<?, ?it/s]"
      ]
     },
     "metadata": {},
     "output_type": "display_data"
    },
    {
     "data": {
      "application/vnd.jupyter.widget-view+json": {
       "model_id": "11959ffc065a48a5a31d1ac464ecda98",
       "version_major": 2,
       "version_minor": 0
      },
      "text/plain": [
       "  0%|          | 0/30 [00:00<?, ?it/s]"
      ]
     },
     "metadata": {},
     "output_type": "display_data"
    },
    {
     "data": {
      "application/vnd.jupyter.widget-view+json": {
       "model_id": "039f14455bf14ee8aa793e4e19f06aba",
       "version_major": 2,
       "version_minor": 0
      },
      "text/plain": [
       "  0%|          | 0/30 [00:00<?, ?it/s]"
      ]
     },
     "metadata": {},
     "output_type": "display_data"
    },
    {
     "data": {
      "application/vnd.jupyter.widget-view+json": {
       "model_id": "e4cc188f45a4414396dc1e06c677a191",
       "version_major": 2,
       "version_minor": 0
      },
      "text/plain": [
       "  0%|          | 0/30 [00:00<?, ?it/s]"
      ]
     },
     "metadata": {},
     "output_type": "display_data"
    },
    {
     "data": {
      "application/vnd.jupyter.widget-view+json": {
       "model_id": "776b68dd15994b1c931562b21fd1583c",
       "version_major": 2,
       "version_minor": 0
      },
      "text/plain": [
       "  0%|          | 0/30 [00:00<?, ?it/s]"
      ]
     },
     "metadata": {},
     "output_type": "display_data"
    },
    {
     "data": {
      "application/vnd.jupyter.widget-view+json": {
       "model_id": "97408bbb7a4c41b2a91ab9d8fd09f5d0",
       "version_major": 2,
       "version_minor": 0
      },
      "text/plain": [
       "  0%|          | 0/30 [00:00<?, ?it/s]"
      ]
     },
     "metadata": {},
     "output_type": "display_data"
    },
    {
     "data": {
      "application/vnd.jupyter.widget-view+json": {
       "model_id": "8683407473b24cd3926cd93dba364999",
       "version_major": 2,
       "version_minor": 0
      },
      "text/plain": [
       "  0%|          | 0/30 [00:00<?, ?it/s]"
      ]
     },
     "metadata": {},
     "output_type": "display_data"
    },
    {
     "data": {
      "application/vnd.jupyter.widget-view+json": {
       "model_id": "bb175da64dbd42a1add47d15c991c605",
       "version_major": 2,
       "version_minor": 0
      },
      "text/plain": [
       "  0%|          | 0/30 [00:00<?, ?it/s]"
      ]
     },
     "metadata": {},
     "output_type": "display_data"
    },
    {
     "data": {
      "application/vnd.jupyter.widget-view+json": {
       "model_id": "5f75e6063138452db95a9b8243a162ca",
       "version_major": 2,
       "version_minor": 0
      },
      "text/plain": [
       "  0%|          | 0/30 [00:00<?, ?it/s]"
      ]
     },
     "metadata": {},
     "output_type": "display_data"
    },
    {
     "data": {
      "application/vnd.jupyter.widget-view+json": {
       "model_id": "ad3fb948131448b384792018c85f808f",
       "version_major": 2,
       "version_minor": 0
      },
      "text/plain": [
       "  0%|          | 0/30 [00:00<?, ?it/s]"
      ]
     },
     "metadata": {},
     "output_type": "display_data"
    },
    {
     "data": {
      "application/vnd.jupyter.widget-view+json": {
       "model_id": "6c6bf25cd31244129be9dc17c9c72872",
       "version_major": 2,
       "version_minor": 0
      },
      "text/plain": [
       "  0%|          | 0/30 [00:00<?, ?it/s]"
      ]
     },
     "metadata": {},
     "output_type": "display_data"
    },
    {
     "name": "stdout",
     "output_type": "stream",
     "text": [
      "🎨 EMD-constrained generation: Using pre-computed color embedding\n",
      "📊 Color space: lab, Target EMD: 0.025\n"
     ]
    },
    {
     "data": {
      "application/vnd.jupyter.widget-view+json": {
       "model_id": "f390af4321dc470fbf14077afcb57bba",
       "version_major": 2,
       "version_minor": 0
      },
      "text/plain": [
       "  0%|          | 0/30 [00:00<?, ?it/s]"
      ]
     },
     "metadata": {},
     "output_type": "display_data"
    },
    {
     "data": {
      "application/vnd.jupyter.widget-view+json": {
       "model_id": "7c825e15c1394d27ab5e1d1d7bb7d3ad",
       "version_major": 2,
       "version_minor": 0
      },
      "text/plain": [
       "  0%|          | 0/30 [00:00<?, ?it/s]"
      ]
     },
     "metadata": {},
     "output_type": "display_data"
    },
    {
     "data": {
      "application/vnd.jupyter.widget-view+json": {
       "model_id": "c73da0980a824128a5267cc92dd1d53b",
       "version_major": 2,
       "version_minor": 0
      },
      "text/plain": [
       "  0%|          | 0/30 [00:00<?, ?it/s]"
      ]
     },
     "metadata": {},
     "output_type": "display_data"
    },
    {
     "data": {
      "application/vnd.jupyter.widget-view+json": {
       "model_id": "b1d62c1e70974aca982109a0c7d78638",
       "version_major": 2,
       "version_minor": 0
      },
      "text/plain": [
       "  0%|          | 0/30 [00:00<?, ?it/s]"
      ]
     },
     "metadata": {},
     "output_type": "display_data"
    },
    {
     "data": {
      "application/vnd.jupyter.widget-view+json": {
       "model_id": "4225be7d30874553b327f8f5278f7698",
       "version_major": 2,
       "version_minor": 0
      },
      "text/plain": [
       "  0%|          | 0/30 [00:00<?, ?it/s]"
      ]
     },
     "metadata": {},
     "output_type": "display_data"
    },
    {
     "data": {
      "application/vnd.jupyter.widget-view+json": {
       "model_id": "5da5edcfa5ad44b59da22d72a1aedc6d",
       "version_major": 2,
       "version_minor": 0
      },
      "text/plain": [
       "  0%|          | 0/30 [00:00<?, ?it/s]"
      ]
     },
     "metadata": {},
     "output_type": "display_data"
    },
    {
     "data": {
      "application/vnd.jupyter.widget-view+json": {
       "model_id": "06e1d20cd07f40e58f04f574e7e992a9",
       "version_major": 2,
       "version_minor": 0
      },
      "text/plain": [
       "  0%|          | 0/30 [00:00<?, ?it/s]"
      ]
     },
     "metadata": {},
     "output_type": "display_data"
    },
    {
     "data": {
      "application/vnd.jupyter.widget-view+json": {
       "model_id": "71b32eb8d07a4a9ea953f9519deb8ff5",
       "version_major": 2,
       "version_minor": 0
      },
      "text/plain": [
       "  0%|          | 0/30 [00:00<?, ?it/s]"
      ]
     },
     "metadata": {},
     "output_type": "display_data"
    },
    {
     "data": {
      "application/vnd.jupyter.widget-view+json": {
       "model_id": "6416f93daa6f40d39be98a3a995f220f",
       "version_major": 2,
       "version_minor": 0
      },
      "text/plain": [
       "  0%|          | 0/30 [00:00<?, ?it/s]"
      ]
     },
     "metadata": {},
     "output_type": "display_data"
    },
    {
     "data": {
      "application/vnd.jupyter.widget-view+json": {
       "model_id": "b05a7ebbe7d042b787e9c9fa83ee9992",
       "version_major": 2,
       "version_minor": 0
      },
      "text/plain": [
       "  0%|          | 0/30 [00:00<?, ?it/s]"
      ]
     },
     "metadata": {},
     "output_type": "display_data"
    },
    {
     "data": {
      "application/vnd.jupyter.widget-view+json": {
       "model_id": "b037681a96d64de7aeca3ef4014fb339",
       "version_major": 2,
       "version_minor": 0
      },
      "text/plain": [
       "  0%|          | 0/30 [00:00<?, ?it/s]"
      ]
     },
     "metadata": {},
     "output_type": "display_data"
    },
    {
     "name": "stdout",
     "output_type": "stream",
     "text": [
      "🎨 EMD-constrained generation: Using pre-computed color embedding\n",
      "📊 Color space: lab, Target EMD: 0.025\n"
     ]
    },
    {
     "data": {
      "application/vnd.jupyter.widget-view+json": {
       "model_id": "d1078a913c274de3a26c4a9fb1eaa9ca",
       "version_major": 2,
       "version_minor": 0
      },
      "text/plain": [
       "  0%|          | 0/30 [00:00<?, ?it/s]"
      ]
     },
     "metadata": {},
     "output_type": "display_data"
    },
    {
     "data": {
      "application/vnd.jupyter.widget-view+json": {
       "model_id": "6f82cce6929945d39fa660343cb64ccb",
       "version_major": 2,
       "version_minor": 0
      },
      "text/plain": [
       "  0%|          | 0/30 [00:00<?, ?it/s]"
      ]
     },
     "metadata": {},
     "output_type": "display_data"
    },
    {
     "data": {
      "application/vnd.jupyter.widget-view+json": {
       "model_id": "63417ca0d48c417599b4deb611cd3e75",
       "version_major": 2,
       "version_minor": 0
      },
      "text/plain": [
       "  0%|          | 0/30 [00:00<?, ?it/s]"
      ]
     },
     "metadata": {},
     "output_type": "display_data"
    },
    {
     "data": {
      "application/vnd.jupyter.widget-view+json": {
       "model_id": "d43baeb4a0354922924c944b456008ee",
       "version_major": 2,
       "version_minor": 0
      },
      "text/plain": [
       "  0%|          | 0/30 [00:00<?, ?it/s]"
      ]
     },
     "metadata": {},
     "output_type": "display_data"
    },
    {
     "name": "stdout",
     "output_type": "stream",
     "text": [
      "🎨 EMD-constrained generation: Using pre-computed color embedding\n",
      "📊 Color space: lab, Target EMD: 0.025\n"
     ]
    },
    {
     "data": {
      "application/vnd.jupyter.widget-view+json": {
       "model_id": "c85357afcab54e1abb3307aa73b2b4ac",
       "version_major": 2,
       "version_minor": 0
      },
      "text/plain": [
       "  0%|          | 0/30 [00:00<?, ?it/s]"
      ]
     },
     "metadata": {},
     "output_type": "display_data"
    },
    {
     "data": {
      "application/vnd.jupyter.widget-view+json": {
       "model_id": "8bc8886986734eab80887a7a85bc0dd9",
       "version_major": 2,
       "version_minor": 0
      },
      "text/plain": [
       "  0%|          | 0/30 [00:00<?, ?it/s]"
      ]
     },
     "metadata": {},
     "output_type": "display_data"
    },
    {
     "data": {
      "application/vnd.jupyter.widget-view+json": {
       "model_id": "e105eba6372c400982b572f7b59f4b7a",
       "version_major": 2,
       "version_minor": 0
      },
      "text/plain": [
       "  0%|          | 0/30 [00:00<?, ?it/s]"
      ]
     },
     "metadata": {},
     "output_type": "display_data"
    },
    {
     "data": {
      "text/html": [
       "<div>\n",
       "<style scoped>\n",
       "    .dataframe tbody tr th:only-of-type {\n",
       "        vertical-align: middle;\n",
       "    }\n",
       "\n",
       "    .dataframe tbody tr th {\n",
       "        vertical-align: top;\n",
       "    }\n",
       "\n",
       "    .dataframe thead th {\n",
       "        text-align: right;\n",
       "    }\n",
       "</style>\n",
       "<table border=\"1\" class=\"dataframe\">\n",
       "  <thead>\n",
       "    <tr style=\"text-align: right;\">\n",
       "      <th></th>\n",
       "      <th>colour_index</th>\n",
       "      <th>layout_index</th>\n",
       "      <th>prompt</th>\n",
       "      <th>style_emd</th>\n",
       "      <th>style_cos</th>\n",
       "      <th>emd_emd</th>\n",
       "      <th>emd_cos</th>\n",
       "      <th>style_f1</th>\n",
       "      <th>style_iou</th>\n",
       "      <th>style_ssim</th>\n",
       "      <th>emd_f1</th>\n",
       "      <th>emd_iou</th>\n",
       "      <th>emd_ssim</th>\n",
       "      <th>attempts</th>\n",
       "      <th>style_time</th>\n",
       "      <th>emd_time</th>\n",
       "    </tr>\n",
       "  </thead>\n",
       "  <tbody>\n",
       "    <tr>\n",
       "      <th>0</th>\n",
       "      <td>1000</td>\n",
       "      <td>30</td>\n",
       "      <td>a car, advertisement style, professional photo...</td>\n",
       "      <td>0.048821</td>\n",
       "      <td>0.260543</td>\n",
       "      <td>0.042445</td>\n",
       "      <td>0.272395</td>\n",
       "      <td>0.224074</td>\n",
       "      <td>0.126173</td>\n",
       "      <td>NaN</td>\n",
       "      <td>0.254177</td>\n",
       "      <td>0.145592</td>\n",
       "      <td>NaN</td>\n",
       "      <td>10</td>\n",
       "      <td>4.142250</td>\n",
       "      <td>41.154607</td>\n",
       "    </tr>\n",
       "    <tr>\n",
       "      <th>1</th>\n",
       "      <td>1000</td>\n",
       "      <td>71</td>\n",
       "      <td>a car, advertisement style, professional photo...</td>\n",
       "      <td>0.040154</td>\n",
       "      <td>0.293358</td>\n",
       "      <td>0.031020</td>\n",
       "      <td>0.258815</td>\n",
       "      <td>0.260585</td>\n",
       "      <td>0.149812</td>\n",
       "      <td>NaN</td>\n",
       "      <td>0.251765</td>\n",
       "      <td>0.144011</td>\n",
       "      <td>NaN</td>\n",
       "      <td>10</td>\n",
       "      <td>4.094496</td>\n",
       "      <td>41.293820</td>\n",
       "    </tr>\n",
       "    <tr>\n",
       "      <th>2</th>\n",
       "      <td>1000</td>\n",
       "      <td>400</td>\n",
       "      <td>a car, advertisement style, professional photo...</td>\n",
       "      <td>0.029925</td>\n",
       "      <td>0.283008</td>\n",
       "      <td>0.039164</td>\n",
       "      <td>0.230251</td>\n",
       "      <td>0.204145</td>\n",
       "      <td>0.113676</td>\n",
       "      <td>NaN</td>\n",
       "      <td>0.275325</td>\n",
       "      <td>0.159639</td>\n",
       "      <td>NaN</td>\n",
       "      <td>10</td>\n",
       "      <td>4.214214</td>\n",
       "      <td>42.862659</td>\n",
       "    </tr>\n",
       "    <tr>\n",
       "      <th>3</th>\n",
       "      <td>1000</td>\n",
       "      <td>507</td>\n",
       "      <td>a car, advertisement style, professional photo...</td>\n",
       "      <td>0.032445</td>\n",
       "      <td>0.254336</td>\n",
       "      <td>0.025551</td>\n",
       "      <td>0.275653</td>\n",
       "      <td>0.176309</td>\n",
       "      <td>0.096677</td>\n",
       "      <td>NaN</td>\n",
       "      <td>0.230548</td>\n",
       "      <td>0.130293</td>\n",
       "      <td>NaN</td>\n",
       "      <td>10</td>\n",
       "      <td>4.305960</td>\n",
       "      <td>43.032979</td>\n",
       "    </tr>\n",
       "    <tr>\n",
       "      <th>4</th>\n",
       "      <td>1001</td>\n",
       "      <td>30</td>\n",
       "      <td>a car, advertisement style, professional photo...</td>\n",
       "      <td>0.041741</td>\n",
       "      <td>0.264586</td>\n",
       "      <td>0.029353</td>\n",
       "      <td>0.274731</td>\n",
       "      <td>0.222027</td>\n",
       "      <td>0.124876</td>\n",
       "      <td>NaN</td>\n",
       "      <td>0.202037</td>\n",
       "      <td>0.112370</td>\n",
       "      <td>NaN</td>\n",
       "      <td>10</td>\n",
       "      <td>4.398729</td>\n",
       "      <td>41.784308</td>\n",
       "    </tr>\n",
       "  </tbody>\n",
       "</table>\n",
       "</div>"
      ],
      "text/plain": [
       "   colour_index  layout_index  \\\n",
       "0          1000            30   \n",
       "1          1000            71   \n",
       "2          1000           400   \n",
       "3          1000           507   \n",
       "4          1001            30   \n",
       "\n",
       "                                              prompt  style_emd  style_cos  \\\n",
       "0  a car, advertisement style, professional photo...   0.048821   0.260543   \n",
       "1  a car, advertisement style, professional photo...   0.040154   0.293358   \n",
       "2  a car, advertisement style, professional photo...   0.029925   0.283008   \n",
       "3  a car, advertisement style, professional photo...   0.032445   0.254336   \n",
       "4  a car, advertisement style, professional photo...   0.041741   0.264586   \n",
       "\n",
       "    emd_emd   emd_cos  style_f1  style_iou  style_ssim    emd_f1   emd_iou  \\\n",
       "0  0.042445  0.272395  0.224074   0.126173         NaN  0.254177  0.145592   \n",
       "1  0.031020  0.258815  0.260585   0.149812         NaN  0.251765  0.144011   \n",
       "2  0.039164  0.230251  0.204145   0.113676         NaN  0.275325  0.159639   \n",
       "3  0.025551  0.275653  0.176309   0.096677         NaN  0.230548  0.130293   \n",
       "4  0.029353  0.274731  0.222027   0.124876         NaN  0.202037  0.112370   \n",
       "\n",
       "   emd_ssim  attempts  style_time   emd_time  \n",
       "0       NaN        10    4.142250  41.154607  \n",
       "1       NaN        10    4.094496  41.293820  \n",
       "2       NaN        10    4.214214  42.862659  \n",
       "3       NaN        10    4.305960  43.032979  \n",
       "4       NaN        10    4.398729  41.784308  "
      ]
     },
     "metadata": {},
     "output_type": "display_data"
    },
    {
     "name": "stdout",
     "output_type": "stream",
     "text": [
      "✓ Collected 10 rows.\n"
     ]
    },
    {
     "data": {
      "application/vnd.jupyter.widget-view+json": {
       "model_id": "428e48e661654839a7acbee4ad84843b",
       "version_major": 2,
       "version_minor": 0
      },
      "text/plain": [
       "  0%|          | 0/30 [00:00<?, ?it/s]"
      ]
     },
     "metadata": {},
     "output_type": "display_data"
    },
    {
     "name": "stdout",
     "output_type": "stream",
     "text": [
      "🎨 EMD-constrained generation: Using pre-computed color embedding\n",
      "📊 Color space: lab, Target EMD: 0.025\n"
     ]
    },
    {
     "name": "stderr",
     "output_type": "stream",
     "text": [
      "/data/degis/degis/shared/clip_vit_h14.py:55: FutureWarning: `torch.cuda.amp.autocast(args...)` is deprecated. Please use `torch.amp.autocast('cuda', args...)` instead.\n",
      "  with torch.cuda.amp.autocast():\n"
     ]
    },
    {
     "data": {
      "application/vnd.jupyter.widget-view+json": {
       "model_id": "b47c3d2d7599491cadb79f860224a0d0",
       "version_major": 2,
       "version_minor": 0
      },
      "text/plain": [
       "  0%|          | 0/30 [00:00<?, ?it/s]"
      ]
     },
     "metadata": {},
     "output_type": "display_data"
    },
    {
     "data": {
      "application/vnd.jupyter.widget-view+json": {
       "model_id": "bc01f172be814f118b5d02484a4a4cb0",
       "version_major": 2,
       "version_minor": 0
      },
      "text/plain": [
       "  0%|          | 0/30 [00:00<?, ?it/s]"
      ]
     },
     "metadata": {},
     "output_type": "display_data"
    },
    {
     "data": {
      "application/vnd.jupyter.widget-view+json": {
       "model_id": "88e5cb5a679b4d7fb3653a20c77163a8",
       "version_major": 2,
       "version_minor": 0
      },
      "text/plain": [
       "  0%|          | 0/30 [00:00<?, ?it/s]"
      ]
     },
     "metadata": {},
     "output_type": "display_data"
    },
    {
     "data": {
      "application/vnd.jupyter.widget-view+json": {
       "model_id": "80e3c61cdab14699b802f24cd5a4ca28",
       "version_major": 2,
       "version_minor": 0
      },
      "text/plain": [
       "  0%|          | 0/30 [00:00<?, ?it/s]"
      ]
     },
     "metadata": {},
     "output_type": "display_data"
    },
    {
     "data": {
      "application/vnd.jupyter.widget-view+json": {
       "model_id": "3c2352ebcbbc463fba40388d02ef22d3",
       "version_major": 2,
       "version_minor": 0
      },
      "text/plain": [
       "  0%|          | 0/30 [00:00<?, ?it/s]"
      ]
     },
     "metadata": {},
     "output_type": "display_data"
    },
    {
     "data": {
      "application/vnd.jupyter.widget-view+json": {
       "model_id": "b0ee2721941a418fa098d91f2875d2d1",
       "version_major": 2,
       "version_minor": 0
      },
      "text/plain": [
       "  0%|          | 0/30 [00:00<?, ?it/s]"
      ]
     },
     "metadata": {},
     "output_type": "display_data"
    },
    {
     "data": {
      "application/vnd.jupyter.widget-view+json": {
       "model_id": "e15fad0e7650437081a58e025537c24f",
       "version_major": 2,
       "version_minor": 0
      },
      "text/plain": [
       "  0%|          | 0/30 [00:00<?, ?it/s]"
      ]
     },
     "metadata": {},
     "output_type": "display_data"
    },
    {
     "data": {
      "application/vnd.jupyter.widget-view+json": {
       "model_id": "4ef4ebda2e27466786ebd91931dff1d1",
       "version_major": 2,
       "version_minor": 0
      },
      "text/plain": [
       "  0%|          | 0/30 [00:00<?, ?it/s]"
      ]
     },
     "metadata": {},
     "output_type": "display_data"
    },
    {
     "data": {
      "application/vnd.jupyter.widget-view+json": {
       "model_id": "0ac9dd34690e43e39d87fbc9ebf2fc10",
       "version_major": 2,
       "version_minor": 0
      },
      "text/plain": [
       "  0%|          | 0/30 [00:00<?, ?it/s]"
      ]
     },
     "metadata": {},
     "output_type": "display_data"
    },
    {
     "data": {
      "application/vnd.jupyter.widget-view+json": {
       "model_id": "10b9ddbff10348bc908b9f0b2e58d922",
       "version_major": 2,
       "version_minor": 0
      },
      "text/plain": [
       "  0%|          | 0/30 [00:00<?, ?it/s]"
      ]
     },
     "metadata": {},
     "output_type": "display_data"
    },
    {
     "data": {
      "application/vnd.jupyter.widget-view+json": {
       "model_id": "e64d0fbb1ee3497da26bb5f95f2a1bdb",
       "version_major": 2,
       "version_minor": 0
      },
      "text/plain": [
       "  0%|          | 0/30 [00:00<?, ?it/s]"
      ]
     },
     "metadata": {},
     "output_type": "display_data"
    },
    {
     "name": "stdout",
     "output_type": "stream",
     "text": [
      "🎨 EMD-constrained generation: Using pre-computed color embedding\n",
      "📊 Color space: lab, Target EMD: 0.025\n"
     ]
    },
    {
     "data": {
      "application/vnd.jupyter.widget-view+json": {
       "model_id": "d5b74323997748abba01d870b0a514bc",
       "version_major": 2,
       "version_minor": 0
      },
      "text/plain": [
       "  0%|          | 0/30 [00:00<?, ?it/s]"
      ]
     },
     "metadata": {},
     "output_type": "display_data"
    },
    {
     "data": {
      "application/vnd.jupyter.widget-view+json": {
       "model_id": "a77494e3d5b64947b961902e55a65c81",
       "version_major": 2,
       "version_minor": 0
      },
      "text/plain": [
       "  0%|          | 0/30 [00:00<?, ?it/s]"
      ]
     },
     "metadata": {},
     "output_type": "display_data"
    },
    {
     "data": {
      "application/vnd.jupyter.widget-view+json": {
       "model_id": "8d290a3c47f6444ea2712124e413bfac",
       "version_major": 2,
       "version_minor": 0
      },
      "text/plain": [
       "  0%|          | 0/30 [00:00<?, ?it/s]"
      ]
     },
     "metadata": {},
     "output_type": "display_data"
    },
    {
     "data": {
      "application/vnd.jupyter.widget-view+json": {
       "model_id": "e3dcd990651340c884b4db2de727d7dc",
       "version_major": 2,
       "version_minor": 0
      },
      "text/plain": [
       "  0%|          | 0/30 [00:00<?, ?it/s]"
      ]
     },
     "metadata": {},
     "output_type": "display_data"
    },
    {
     "data": {
      "application/vnd.jupyter.widget-view+json": {
       "model_id": "d5342cbcdd114879b82117f417260443",
       "version_major": 2,
       "version_minor": 0
      },
      "text/plain": [
       "  0%|          | 0/30 [00:00<?, ?it/s]"
      ]
     },
     "metadata": {},
     "output_type": "display_data"
    },
    {
     "data": {
      "application/vnd.jupyter.widget-view+json": {
       "model_id": "71663253f678480a8431c5b18ec0cc60",
       "version_major": 2,
       "version_minor": 0
      },
      "text/plain": [
       "  0%|          | 0/30 [00:00<?, ?it/s]"
      ]
     },
     "metadata": {},
     "output_type": "display_data"
    },
    {
     "data": {
      "application/vnd.jupyter.widget-view+json": {
       "model_id": "8bfeddd403ca4c2d9edb1aa33ba8be30",
       "version_major": 2,
       "version_minor": 0
      },
      "text/plain": [
       "  0%|          | 0/30 [00:00<?, ?it/s]"
      ]
     },
     "metadata": {},
     "output_type": "display_data"
    },
    {
     "data": {
      "application/vnd.jupyter.widget-view+json": {
       "model_id": "0f5fadd9e801413a9940d2fed9bf63c2",
       "version_major": 2,
       "version_minor": 0
      },
      "text/plain": [
       "  0%|          | 0/30 [00:00<?, ?it/s]"
      ]
     },
     "metadata": {},
     "output_type": "display_data"
    },
    {
     "data": {
      "application/vnd.jupyter.widget-view+json": {
       "model_id": "c9a6bb2736044827bd16b6ea53dfb0ec",
       "version_major": 2,
       "version_minor": 0
      },
      "text/plain": [
       "  0%|          | 0/30 [00:00<?, ?it/s]"
      ]
     },
     "metadata": {},
     "output_type": "display_data"
    },
    {
     "data": {
      "application/vnd.jupyter.widget-view+json": {
       "model_id": "0279eb3297344c3d8d3174ee63b0c7ff",
       "version_major": 2,
       "version_minor": 0
      },
      "text/plain": [
       "  0%|          | 0/30 [00:00<?, ?it/s]"
      ]
     },
     "metadata": {},
     "output_type": "display_data"
    },
    {
     "data": {
      "application/vnd.jupyter.widget-view+json": {
       "model_id": "640d0cd0bdc24ba99c7a7a900269f4a8",
       "version_major": 2,
       "version_minor": 0
      },
      "text/plain": [
       "  0%|          | 0/30 [00:00<?, ?it/s]"
      ]
     },
     "metadata": {},
     "output_type": "display_data"
    },
    {
     "name": "stdout",
     "output_type": "stream",
     "text": [
      "🎨 EMD-constrained generation: Using pre-computed color embedding\n",
      "📊 Color space: lab, Target EMD: 0.025\n"
     ]
    },
    {
     "data": {
      "application/vnd.jupyter.widget-view+json": {
       "model_id": "0db6df877b4f41689af35b25057cca44",
       "version_major": 2,
       "version_minor": 0
      },
      "text/plain": [
       "  0%|          | 0/30 [00:00<?, ?it/s]"
      ]
     },
     "metadata": {},
     "output_type": "display_data"
    },
    {
     "data": {
      "application/vnd.jupyter.widget-view+json": {
       "model_id": "aeae9b510010425c893fb657413e93fb",
       "version_major": 2,
       "version_minor": 0
      },
      "text/plain": [
       "  0%|          | 0/30 [00:00<?, ?it/s]"
      ]
     },
     "metadata": {},
     "output_type": "display_data"
    },
    {
     "data": {
      "application/vnd.jupyter.widget-view+json": {
       "model_id": "4aed90253b254d0b8207ffa2f8d6159d",
       "version_major": 2,
       "version_minor": 0
      },
      "text/plain": [
       "  0%|          | 0/30 [00:00<?, ?it/s]"
      ]
     },
     "metadata": {},
     "output_type": "display_data"
    },
    {
     "data": {
      "application/vnd.jupyter.widget-view+json": {
       "model_id": "3822314fd3a34eb3a12aa70d528f0025",
       "version_major": 2,
       "version_minor": 0
      },
      "text/plain": [
       "  0%|          | 0/30 [00:00<?, ?it/s]"
      ]
     },
     "metadata": {},
     "output_type": "display_data"
    },
    {
     "data": {
      "application/vnd.jupyter.widget-view+json": {
       "model_id": "52304d074db74917b400e0872759f1e0",
       "version_major": 2,
       "version_minor": 0
      },
      "text/plain": [
       "  0%|          | 0/30 [00:00<?, ?it/s]"
      ]
     },
     "metadata": {},
     "output_type": "display_data"
    },
    {
     "data": {
      "application/vnd.jupyter.widget-view+json": {
       "model_id": "30b21617170c464b8b5906f97afc97d6",
       "version_major": 2,
       "version_minor": 0
      },
      "text/plain": [
       "  0%|          | 0/30 [00:00<?, ?it/s]"
      ]
     },
     "metadata": {},
     "output_type": "display_data"
    },
    {
     "data": {
      "application/vnd.jupyter.widget-view+json": {
       "model_id": "ff84b2d939674a0488ebd9b709e537e4",
       "version_major": 2,
       "version_minor": 0
      },
      "text/plain": [
       "  0%|          | 0/30 [00:00<?, ?it/s]"
      ]
     },
     "metadata": {},
     "output_type": "display_data"
    },
    {
     "data": {
      "application/vnd.jupyter.widget-view+json": {
       "model_id": "0ab790410bfa4b439da804b8c00845e4",
       "version_major": 2,
       "version_minor": 0
      },
      "text/plain": [
       "  0%|          | 0/30 [00:00<?, ?it/s]"
      ]
     },
     "metadata": {},
     "output_type": "display_data"
    },
    {
     "data": {
      "application/vnd.jupyter.widget-view+json": {
       "model_id": "673dd4d76d6040e799002d0c96c54e75",
       "version_major": 2,
       "version_minor": 0
      },
      "text/plain": [
       "  0%|          | 0/30 [00:00<?, ?it/s]"
      ]
     },
     "metadata": {},
     "output_type": "display_data"
    },
    {
     "data": {
      "application/vnd.jupyter.widget-view+json": {
       "model_id": "6720b6d982054433b4acdb8114c3bd3f",
       "version_major": 2,
       "version_minor": 0
      },
      "text/plain": [
       "  0%|          | 0/30 [00:00<?, ?it/s]"
      ]
     },
     "metadata": {},
     "output_type": "display_data"
    },
    {
     "data": {
      "application/vnd.jupyter.widget-view+json": {
       "model_id": "7c6f6e562f8d4c3d8089542166ed7afb",
       "version_major": 2,
       "version_minor": 0
      },
      "text/plain": [
       "  0%|          | 0/30 [00:00<?, ?it/s]"
      ]
     },
     "metadata": {},
     "output_type": "display_data"
    },
    {
     "name": "stdout",
     "output_type": "stream",
     "text": [
      "🎨 EMD-constrained generation: Using pre-computed color embedding\n",
      "📊 Color space: lab, Target EMD: 0.025\n"
     ]
    },
    {
     "data": {
      "application/vnd.jupyter.widget-view+json": {
       "model_id": "4c44d6c420ae4731bdff739daa7e01ec",
       "version_major": 2,
       "version_minor": 0
      },
      "text/plain": [
       "  0%|          | 0/30 [00:00<?, ?it/s]"
      ]
     },
     "metadata": {},
     "output_type": "display_data"
    },
    {
     "data": {
      "application/vnd.jupyter.widget-view+json": {
       "model_id": "03bfce31f81e49b1a32625bce3cf2208",
       "version_major": 2,
       "version_minor": 0
      },
      "text/plain": [
       "  0%|          | 0/30 [00:00<?, ?it/s]"
      ]
     },
     "metadata": {},
     "output_type": "display_data"
    },
    {
     "data": {
      "application/vnd.jupyter.widget-view+json": {
       "model_id": "fe7fc4519c31436ca569aa2c3aa0993c",
       "version_major": 2,
       "version_minor": 0
      },
      "text/plain": [
       "  0%|          | 0/30 [00:00<?, ?it/s]"
      ]
     },
     "metadata": {},
     "output_type": "display_data"
    },
    {
     "data": {
      "application/vnd.jupyter.widget-view+json": {
       "model_id": "84b694ed4ec24e2384e333eb6acf69d5",
       "version_major": 2,
       "version_minor": 0
      },
      "text/plain": [
       "  0%|          | 0/30 [00:00<?, ?it/s]"
      ]
     },
     "metadata": {},
     "output_type": "display_data"
    },
    {
     "data": {
      "application/vnd.jupyter.widget-view+json": {
       "model_id": "a7c5a2a25fc04012a472637398aad7c6",
       "version_major": 2,
       "version_minor": 0
      },
      "text/plain": [
       "  0%|          | 0/30 [00:00<?, ?it/s]"
      ]
     },
     "metadata": {},
     "output_type": "display_data"
    },
    {
     "data": {
      "application/vnd.jupyter.widget-view+json": {
       "model_id": "ad96c2e66297410b9218ffdb7bb46263",
       "version_major": 2,
       "version_minor": 0
      },
      "text/plain": [
       "  0%|          | 0/30 [00:00<?, ?it/s]"
      ]
     },
     "metadata": {},
     "output_type": "display_data"
    },
    {
     "data": {
      "application/vnd.jupyter.widget-view+json": {
       "model_id": "6e14043e391947c0ab5500f1cb9a9713",
       "version_major": 2,
       "version_minor": 0
      },
      "text/plain": [
       "  0%|          | 0/30 [00:00<?, ?it/s]"
      ]
     },
     "metadata": {},
     "output_type": "display_data"
    },
    {
     "data": {
      "application/vnd.jupyter.widget-view+json": {
       "model_id": "e042b4cb15714b0ab8160eb9177e096e",
       "version_major": 2,
       "version_minor": 0
      },
      "text/plain": [
       "  0%|          | 0/30 [00:00<?, ?it/s]"
      ]
     },
     "metadata": {},
     "output_type": "display_data"
    },
    {
     "data": {
      "application/vnd.jupyter.widget-view+json": {
       "model_id": "b21aaceee00441b4b1900c0eb0ed02ba",
       "version_major": 2,
       "version_minor": 0
      },
      "text/plain": [
       "  0%|          | 0/30 [00:00<?, ?it/s]"
      ]
     },
     "metadata": {},
     "output_type": "display_data"
    },
    {
     "data": {
      "application/vnd.jupyter.widget-view+json": {
       "model_id": "257622b09f9948a591ee1ced83bc6e18",
       "version_major": 2,
       "version_minor": 0
      },
      "text/plain": [
       "  0%|          | 0/30 [00:00<?, ?it/s]"
      ]
     },
     "metadata": {},
     "output_type": "display_data"
    },
    {
     "data": {
      "application/vnd.jupyter.widget-view+json": {
       "model_id": "c318e10b1df640c18c106a8cd1049a19",
       "version_major": 2,
       "version_minor": 0
      },
      "text/plain": [
       "  0%|          | 0/30 [00:00<?, ?it/s]"
      ]
     },
     "metadata": {},
     "output_type": "display_data"
    },
    {
     "name": "stdout",
     "output_type": "stream",
     "text": [
      "🎨 EMD-constrained generation: Using pre-computed color embedding\n",
      "📊 Color space: lab, Target EMD: 0.025\n"
     ]
    },
    {
     "data": {
      "application/vnd.jupyter.widget-view+json": {
       "model_id": "8f98cdfd60594b1198170934c14b70eb",
       "version_major": 2,
       "version_minor": 0
      },
      "text/plain": [
       "  0%|          | 0/30 [00:00<?, ?it/s]"
      ]
     },
     "metadata": {},
     "output_type": "display_data"
    },
    {
     "data": {
      "application/vnd.jupyter.widget-view+json": {
       "model_id": "21910bb05f3a457aaecf86d6ad3d2085",
       "version_major": 2,
       "version_minor": 0
      },
      "text/plain": [
       "  0%|          | 0/30 [00:00<?, ?it/s]"
      ]
     },
     "metadata": {},
     "output_type": "display_data"
    },
    {
     "data": {
      "application/vnd.jupyter.widget-view+json": {
       "model_id": "44981cd1f32c4037812801783e3acfcf",
       "version_major": 2,
       "version_minor": 0
      },
      "text/plain": [
       "  0%|          | 0/30 [00:00<?, ?it/s]"
      ]
     },
     "metadata": {},
     "output_type": "display_data"
    },
    {
     "name": "stdout",
     "output_type": "stream",
     "text": [
      "🎨 EMD-constrained generation: Using pre-computed color embedding\n",
      "📊 Color space: lab, Target EMD: 0.025\n"
     ]
    },
    {
     "data": {
      "application/vnd.jupyter.widget-view+json": {
       "model_id": "2f64b0efac104329bfc3f6fb5135d11e",
       "version_major": 2,
       "version_minor": 0
      },
      "text/plain": [
       "  0%|          | 0/30 [00:00<?, ?it/s]"
      ]
     },
     "metadata": {},
     "output_type": "display_data"
    },
    {
     "data": {
      "application/vnd.jupyter.widget-view+json": {
       "model_id": "bae84f609ba34d8eb945af09cc28ce54",
       "version_major": 2,
       "version_minor": 0
      },
      "text/plain": [
       "  0%|          | 0/30 [00:00<?, ?it/s]"
      ]
     },
     "metadata": {},
     "output_type": "display_data"
    },
    {
     "data": {
      "application/vnd.jupyter.widget-view+json": {
       "model_id": "53b4da62a06f4bb48a858eb37ec827ff",
       "version_major": 2,
       "version_minor": 0
      },
      "text/plain": [
       "  0%|          | 0/30 [00:00<?, ?it/s]"
      ]
     },
     "metadata": {},
     "output_type": "display_data"
    },
    {
     "data": {
      "application/vnd.jupyter.widget-view+json": {
       "model_id": "3f5b561f700f4dea96d43afa0562aafe",
       "version_major": 2,
       "version_minor": 0
      },
      "text/plain": [
       "  0%|          | 0/30 [00:00<?, ?it/s]"
      ]
     },
     "metadata": {},
     "output_type": "display_data"
    },
    {
     "data": {
      "application/vnd.jupyter.widget-view+json": {
       "model_id": "486f067d41be4c31a4fcedfe1db9b8f7",
       "version_major": 2,
       "version_minor": 0
      },
      "text/plain": [
       "  0%|          | 0/30 [00:00<?, ?it/s]"
      ]
     },
     "metadata": {},
     "output_type": "display_data"
    },
    {
     "name": "stdout",
     "output_type": "stream",
     "text": [
      "🎨 EMD-constrained generation: Using pre-computed color embedding\n",
      "📊 Color space: lab, Target EMD: 0.025\n"
     ]
    },
    {
     "data": {
      "application/vnd.jupyter.widget-view+json": {
       "model_id": "b39b89061ccd446aa03538c594010e7d",
       "version_major": 2,
       "version_minor": 0
      },
      "text/plain": [
       "  0%|          | 0/30 [00:00<?, ?it/s]"
      ]
     },
     "metadata": {},
     "output_type": "display_data"
    },
    {
     "data": {
      "application/vnd.jupyter.widget-view+json": {
       "model_id": "0a1588985fc14d3b96711ee7ac3bde8d",
       "version_major": 2,
       "version_minor": 0
      },
      "text/plain": [
       "  0%|          | 0/30 [00:00<?, ?it/s]"
      ]
     },
     "metadata": {},
     "output_type": "display_data"
    },
    {
     "data": {
      "application/vnd.jupyter.widget-view+json": {
       "model_id": "b10412b9abab46b3a4f3e67615748c53",
       "version_major": 2,
       "version_minor": 0
      },
      "text/plain": [
       "  0%|          | 0/30 [00:00<?, ?it/s]"
      ]
     },
     "metadata": {},
     "output_type": "display_data"
    },
    {
     "data": {
      "application/vnd.jupyter.widget-view+json": {
       "model_id": "c4227064239246e289ffd8269d3b065f",
       "version_major": 2,
       "version_minor": 0
      },
      "text/plain": [
       "  0%|          | 0/30 [00:00<?, ?it/s]"
      ]
     },
     "metadata": {},
     "output_type": "display_data"
    },
    {
     "data": {
      "application/vnd.jupyter.widget-view+json": {
       "model_id": "16133e8b77134214a8e334db9629a7a0",
       "version_major": 2,
       "version_minor": 0
      },
      "text/plain": [
       "  0%|          | 0/30 [00:00<?, ?it/s]"
      ]
     },
     "metadata": {},
     "output_type": "display_data"
    },
    {
     "name": "stdout",
     "output_type": "stream",
     "text": [
      "🎨 EMD-constrained generation: Using pre-computed color embedding\n",
      "📊 Color space: lab, Target EMD: 0.025\n"
     ]
    },
    {
     "data": {
      "application/vnd.jupyter.widget-view+json": {
       "model_id": "dbe016fda853479caa564815947987d9",
       "version_major": 2,
       "version_minor": 0
      },
      "text/plain": [
       "  0%|          | 0/30 [00:00<?, ?it/s]"
      ]
     },
     "metadata": {},
     "output_type": "display_data"
    },
    {
     "data": {
      "application/vnd.jupyter.widget-view+json": {
       "model_id": "ac67841c31d341f6ba136f8f926ffedd",
       "version_major": 2,
       "version_minor": 0
      },
      "text/plain": [
       "  0%|          | 0/30 [00:00<?, ?it/s]"
      ]
     },
     "metadata": {},
     "output_type": "display_data"
    },
    {
     "data": {
      "application/vnd.jupyter.widget-view+json": {
       "model_id": "ca6b9bf8f57e4fd98d22a2d6f27f0e55",
       "version_major": 2,
       "version_minor": 0
      },
      "text/plain": [
       "  0%|          | 0/30 [00:00<?, ?it/s]"
      ]
     },
     "metadata": {},
     "output_type": "display_data"
    },
    {
     "data": {
      "application/vnd.jupyter.widget-view+json": {
       "model_id": "0d8c22d6650e4d39a5f317cc2267eb7b",
       "version_major": 2,
       "version_minor": 0
      },
      "text/plain": [
       "  0%|          | 0/30 [00:00<?, ?it/s]"
      ]
     },
     "metadata": {},
     "output_type": "display_data"
    },
    {
     "name": "stdout",
     "output_type": "stream",
     "text": [
      "🎨 EMD-constrained generation: Using pre-computed color embedding\n",
      "📊 Color space: lab, Target EMD: 0.025\n"
     ]
    },
    {
     "data": {
      "application/vnd.jupyter.widget-view+json": {
       "model_id": "1db760017a0e4572a8a4011a5a5ff8f8",
       "version_major": 2,
       "version_minor": 0
      },
      "text/plain": [
       "  0%|          | 0/30 [00:00<?, ?it/s]"
      ]
     },
     "metadata": {},
     "output_type": "display_data"
    },
    {
     "data": {
      "application/vnd.jupyter.widget-view+json": {
       "model_id": "79a4be14eb0640859326575f37959b96",
       "version_major": 2,
       "version_minor": 0
      },
      "text/plain": [
       "  0%|          | 0/30 [00:00<?, ?it/s]"
      ]
     },
     "metadata": {},
     "output_type": "display_data"
    },
    {
     "data": {
      "application/vnd.jupyter.widget-view+json": {
       "model_id": "376cde5ec90a4a29baa1376661e0f3f1",
       "version_major": 2,
       "version_minor": 0
      },
      "text/plain": [
       "  0%|          | 0/30 [00:00<?, ?it/s]"
      ]
     },
     "metadata": {},
     "output_type": "display_data"
    },
    {
     "data": {
      "application/vnd.jupyter.widget-view+json": {
       "model_id": "af8c4447d69842c2837090dc3ce2e3f3",
       "version_major": 2,
       "version_minor": 0
      },
      "text/plain": [
       "  0%|          | 0/30 [00:00<?, ?it/s]"
      ]
     },
     "metadata": {},
     "output_type": "display_data"
    },
    {
     "name": "stdout",
     "output_type": "stream",
     "text": [
      "🎨 EMD-constrained generation: Using pre-computed color embedding\n",
      "📊 Color space: lab, Target EMD: 0.025\n"
     ]
    },
    {
     "data": {
      "application/vnd.jupyter.widget-view+json": {
       "model_id": "8393ac33547d4443be2ab646a37c58f6",
       "version_major": 2,
       "version_minor": 0
      },
      "text/plain": [
       "  0%|          | 0/30 [00:00<?, ?it/s]"
      ]
     },
     "metadata": {},
     "output_type": "display_data"
    },
    {
     "data": {
      "application/vnd.jupyter.widget-view+json": {
       "model_id": "56d890cdd9104829a600029040d28288",
       "version_major": 2,
       "version_minor": 0
      },
      "text/plain": [
       "  0%|          | 0/30 [00:00<?, ?it/s]"
      ]
     },
     "metadata": {},
     "output_type": "display_data"
    },
    {
     "data": {
      "application/vnd.jupyter.widget-view+json": {
       "model_id": "5e8defff2a1f4ba989c21623b25c87d1",
       "version_major": 2,
       "version_minor": 0
      },
      "text/plain": [
       "  0%|          | 0/30 [00:00<?, ?it/s]"
      ]
     },
     "metadata": {},
     "output_type": "display_data"
    },
    {
     "data": {
      "application/vnd.jupyter.widget-view+json": {
       "model_id": "2a50d0fb142a425b9469e91edd3392be",
       "version_major": 2,
       "version_minor": 0
      },
      "text/plain": [
       "  0%|          | 0/30 [00:00<?, ?it/s]"
      ]
     },
     "metadata": {},
     "output_type": "display_data"
    },
    {
     "data": {
      "application/vnd.jupyter.widget-view+json": {
       "model_id": "6ac2779a0f304b809ae41adeb3cb779b",
       "version_major": 2,
       "version_minor": 0
      },
      "text/plain": [
       "  0%|          | 0/30 [00:00<?, ?it/s]"
      ]
     },
     "metadata": {},
     "output_type": "display_data"
    },
    {
     "data": {
      "application/vnd.jupyter.widget-view+json": {
       "model_id": "4380376700a9404c96adeaf1ceb50c73",
       "version_major": 2,
       "version_minor": 0
      },
      "text/plain": [
       "  0%|          | 0/30 [00:00<?, ?it/s]"
      ]
     },
     "metadata": {},
     "output_type": "display_data"
    },
    {
     "data": {
      "application/vnd.jupyter.widget-view+json": {
       "model_id": "c5eebbf6828743d69422e0891bd953f8",
       "version_major": 2,
       "version_minor": 0
      },
      "text/plain": [
       "  0%|          | 0/30 [00:00<?, ?it/s]"
      ]
     },
     "metadata": {},
     "output_type": "display_data"
    },
    {
     "data": {
      "application/vnd.jupyter.widget-view+json": {
       "model_id": "c8c87cca26ae4abfb9029fe05bd072f2",
       "version_major": 2,
       "version_minor": 0
      },
      "text/plain": [
       "  0%|          | 0/30 [00:00<?, ?it/s]"
      ]
     },
     "metadata": {},
     "output_type": "display_data"
    },
    {
     "data": {
      "application/vnd.jupyter.widget-view+json": {
       "model_id": "d558f993ff3e4ddc9a6bf6a205f10470",
       "version_major": 2,
       "version_minor": 0
      },
      "text/plain": [
       "  0%|          | 0/30 [00:00<?, ?it/s]"
      ]
     },
     "metadata": {},
     "output_type": "display_data"
    },
    {
     "data": {
      "application/vnd.jupyter.widget-view+json": {
       "model_id": "459dda4f0e3a4b66b4abaedf542eaef8",
       "version_major": 2,
       "version_minor": 0
      },
      "text/plain": [
       "  0%|          | 0/30 [00:00<?, ?it/s]"
      ]
     },
     "metadata": {},
     "output_type": "display_data"
    },
    {
     "data": {
      "text/html": [
       "<div>\n",
       "<style scoped>\n",
       "    .dataframe tbody tr th:only-of-type {\n",
       "        vertical-align: middle;\n",
       "    }\n",
       "\n",
       "    .dataframe tbody tr th {\n",
       "        vertical-align: top;\n",
       "    }\n",
       "\n",
       "    .dataframe thead th {\n",
       "        text-align: right;\n",
       "    }\n",
       "</style>\n",
       "<table border=\"1\" class=\"dataframe\">\n",
       "  <thead>\n",
       "    <tr style=\"text-align: right;\">\n",
       "      <th></th>\n",
       "      <th>colour_index</th>\n",
       "      <th>layout_index</th>\n",
       "      <th>prompt</th>\n",
       "      <th>style_emd</th>\n",
       "      <th>style_cos</th>\n",
       "      <th>emd_emd</th>\n",
       "      <th>emd_cos</th>\n",
       "      <th>style_f1</th>\n",
       "      <th>style_iou</th>\n",
       "      <th>style_ssim</th>\n",
       "      <th>emd_f1</th>\n",
       "      <th>emd_iou</th>\n",
       "      <th>emd_ssim</th>\n",
       "      <th>attempts</th>\n",
       "      <th>style_time</th>\n",
       "      <th>emd_time</th>\n",
       "    </tr>\n",
       "  </thead>\n",
       "  <tbody>\n",
       "    <tr>\n",
       "      <th>0</th>\n",
       "      <td>1000</td>\n",
       "      <td>30</td>\n",
       "      <td>a car, advertisement style, professional photo...</td>\n",
       "      <td>0.042688</td>\n",
       "      <td>0.309042</td>\n",
       "      <td>0.037372</td>\n",
       "      <td>0.284401</td>\n",
       "      <td>0.248014</td>\n",
       "      <td>0.141562</td>\n",
       "      <td>NaN</td>\n",
       "      <td>0.241621</td>\n",
       "      <td>0.137411</td>\n",
       "      <td>NaN</td>\n",
       "      <td>10</td>\n",
       "      <td>4.144516</td>\n",
       "      <td>42.795752</td>\n",
       "    </tr>\n",
       "    <tr>\n",
       "      <th>1</th>\n",
       "      <td>1000</td>\n",
       "      <td>71</td>\n",
       "      <td>a car, advertisement style, professional photo...</td>\n",
       "      <td>0.033396</td>\n",
       "      <td>0.287776</td>\n",
       "      <td>0.032035</td>\n",
       "      <td>0.258652</td>\n",
       "      <td>0.251391</td>\n",
       "      <td>0.143766</td>\n",
       "      <td>NaN</td>\n",
       "      <td>0.295852</td>\n",
       "      <td>0.173607</td>\n",
       "      <td>NaN</td>\n",
       "      <td>10</td>\n",
       "      <td>4.134230</td>\n",
       "      <td>42.876081</td>\n",
       "    </tr>\n",
       "    <tr>\n",
       "      <th>2</th>\n",
       "      <td>1000</td>\n",
       "      <td>400</td>\n",
       "      <td>a car, advertisement style, professional photo...</td>\n",
       "      <td>0.047510</td>\n",
       "      <td>0.227665</td>\n",
       "      <td>0.028950</td>\n",
       "      <td>0.223614</td>\n",
       "      <td>0.213835</td>\n",
       "      <td>0.119717</td>\n",
       "      <td>NaN</td>\n",
       "      <td>0.273851</td>\n",
       "      <td>0.158648</td>\n",
       "      <td>NaN</td>\n",
       "      <td>10</td>\n",
       "      <td>4.208970</td>\n",
       "      <td>41.990504</td>\n",
       "    </tr>\n",
       "    <tr>\n",
       "      <th>3</th>\n",
       "      <td>1000</td>\n",
       "      <td>507</td>\n",
       "      <td>a car, advertisement style, professional photo...</td>\n",
       "      <td>0.029549</td>\n",
       "      <td>0.264470</td>\n",
       "      <td>0.032290</td>\n",
       "      <td>0.265528</td>\n",
       "      <td>0.187197</td>\n",
       "      <td>0.103264</td>\n",
       "      <td>NaN</td>\n",
       "      <td>0.226249</td>\n",
       "      <td>0.127554</td>\n",
       "      <td>NaN</td>\n",
       "      <td>10</td>\n",
       "      <td>4.333311</td>\n",
       "      <td>42.025208</td>\n",
       "    </tr>\n",
       "    <tr>\n",
       "      <th>4</th>\n",
       "      <td>1001</td>\n",
       "      <td>30</td>\n",
       "      <td>a car, advertisement style, professional photo...</td>\n",
       "      <td>0.039701</td>\n",
       "      <td>0.251708</td>\n",
       "      <td>0.013397</td>\n",
       "      <td>0.286525</td>\n",
       "      <td>0.233320</td>\n",
       "      <td>0.132067</td>\n",
       "      <td>NaN</td>\n",
       "      <td>0.271955</td>\n",
       "      <td>0.157377</td>\n",
       "      <td>NaN</td>\n",
       "      <td>2</td>\n",
       "      <td>4.106067</td>\n",
       "      <td>8.412784</td>\n",
       "    </tr>\n",
       "  </tbody>\n",
       "</table>\n",
       "</div>"
      ],
      "text/plain": [
       "   colour_index  layout_index  \\\n",
       "0          1000            30   \n",
       "1          1000            71   \n",
       "2          1000           400   \n",
       "3          1000           507   \n",
       "4          1001            30   \n",
       "\n",
       "                                              prompt  style_emd  style_cos  \\\n",
       "0  a car, advertisement style, professional photo...   0.042688   0.309042   \n",
       "1  a car, advertisement style, professional photo...   0.033396   0.287776   \n",
       "2  a car, advertisement style, professional photo...   0.047510   0.227665   \n",
       "3  a car, advertisement style, professional photo...   0.029549   0.264470   \n",
       "4  a car, advertisement style, professional photo...   0.039701   0.251708   \n",
       "\n",
       "    emd_emd   emd_cos  style_f1  style_iou  style_ssim    emd_f1   emd_iou  \\\n",
       "0  0.037372  0.284401  0.248014   0.141562         NaN  0.241621  0.137411   \n",
       "1  0.032035  0.258652  0.251391   0.143766         NaN  0.295852  0.173607   \n",
       "2  0.028950  0.223614  0.213835   0.119717         NaN  0.273851  0.158648   \n",
       "3  0.032290  0.265528  0.187197   0.103264         NaN  0.226249  0.127554   \n",
       "4  0.013397  0.286525  0.233320   0.132067         NaN  0.271955  0.157377   \n",
       "\n",
       "   emd_ssim  attempts  style_time   emd_time  \n",
       "0       NaN        10    4.144516  42.795752  \n",
       "1       NaN        10    4.134230  42.876081  \n",
       "2       NaN        10    4.208970  41.990504  \n",
       "3       NaN        10    4.333311  42.025208  \n",
       "4       NaN         2    4.106067   8.412784  "
      ]
     },
     "metadata": {},
     "output_type": "display_data"
    },
    {
     "name": "stdout",
     "output_type": "stream",
     "text": [
      "✓ Collected 10 rows.\n"
     ]
    },
    {
     "data": {
      "text/html": [
       "<div>\n",
       "<style scoped>\n",
       "    .dataframe tbody tr th:only-of-type {\n",
       "        vertical-align: middle;\n",
       "    }\n",
       "\n",
       "    .dataframe tbody tr th {\n",
       "        vertical-align: top;\n",
       "    }\n",
       "\n",
       "    .dataframe thead th {\n",
       "        text-align: right;\n",
       "    }\n",
       "</style>\n",
       "<table border=\"1\" class=\"dataframe\">\n",
       "  <thead>\n",
       "    <tr style=\"text-align: right;\">\n",
       "      <th></th>\n",
       "      <th>ip_token_scale</th>\n",
       "      <th>emd_mean</th>\n",
       "      <th>emd_median</th>\n",
       "      <th>pass@0.025</th>\n",
       "    </tr>\n",
       "  </thead>\n",
       "  <tbody>\n",
       "    <tr>\n",
       "      <th>0</th>\n",
       "      <td>0.4</td>\n",
       "      <td>0.034035</td>\n",
       "      <td>0.036022</td>\n",
       "      <td>0.3</td>\n",
       "    </tr>\n",
       "    <tr>\n",
       "      <th>1</th>\n",
       "      <td>0.7</td>\n",
       "      <td>0.026845</td>\n",
       "      <td>0.029048</td>\n",
       "      <td>0.3</td>\n",
       "    </tr>\n",
       "    <tr>\n",
       "      <th>2</th>\n",
       "      <td>1.0</td>\n",
       "      <td>0.024410</td>\n",
       "      <td>0.025728</td>\n",
       "      <td>0.5</td>\n",
       "    </tr>\n",
       "  </tbody>\n",
       "</table>\n",
       "</div>"
      ],
      "text/plain": [
       "   ip_token_scale  emd_mean  emd_median  pass@0.025\n",
       "0             0.4  0.034035    0.036022         0.3\n",
       "1             0.7  0.026845    0.029048         0.3\n",
       "2             1.0  0.024410    0.025728         0.5"
      ]
     },
     "metadata": {},
     "output_type": "display_data"
    },
    {
     "data": {
      "image/png": "[encoded data removed]",
      "text/plain": [
       "<Figure size 640x480 with 1 Axes>"
      ]
     },
     "metadata": {},
     "output_type": "display_data"
    }
   ],
   "source": [
    "# SNIPPET 5 — sweep ip_token_scale ∈ {0.4, 0.7, 1.0} on a small subset\n",
    "\n",
    "scales = [0.4, 0.7, 1.0]\n",
    "subset_pairs = df_eval[[\"colour_index\",\"layout_index\"]].head(10).itertuples(index=False, name=None)\n",
    "\n",
    "rows = []\n",
    "for s in scales:\n",
    "    df_s = run_eval_pairs(list(subset_pairs),\n",
    "                          ip_token_scale=s,\n",
    "                          target_emd_threshold=0.025,\n",
    "                          max_attempts=10,\n",
    "                          verbose=False)\n",
    "    rows.append({\"ip_token_scale\": s,\n",
    "                 \"emd_mean\": df_s[\"emd_emd\"].mean(),\n",
    "                 \"emd_median\": df_s[\"emd_emd\"].median(),\n",
    "                 \"pass@0.025\": (df_s[\"emd_emd\"] <= 0.025).mean()})\n",
    "    # reset iterator\n",
    "    subset_pairs = df_eval[[\"colour_index\",\"layout_index\"]].head(10).itertuples(index=False, name=None)\n",
    "\n",
    "df_sweep = pd.DataFrame(rows)\n",
    "display(df_sweep)\n",
    "\n",
    "# optional: tiny plot\n",
    "import matplotlib.pyplot as plt\n",
    "plt.figure()\n",
    "plt.plot(df_sweep[\"ip_token_scale\"], df_sweep[\"emd_mean\"], marker=\"o\")\n",
    "plt.xlabel(\"ip_token_scale\"); plt.ylabel(\"EMD (mean)\"); plt.title(\"Sensitivity of palette strength\")\n",
    "plt.show()\n"
   ]
  },
  {
   "cell_type": "code",
   "execution_count": 16,
   "id": "c5421797",
   "metadata": {},
   "outputs": [
    {
     "name": "stdout",
     "output_type": "stream",
     "text": [
      "Success@τ=0.025 within 20 attempts: 8.8%\n",
      "Attempts for successful runs — mean=1.86, median=1.0, max=4\n"
     ]
    },
    {
     "data": {
      "image/png": "[encoded data removed]",
      "text/plain": [
       "<Figure size 640x480 with 1 Axes>"
      ]
     },
     "metadata": {},
     "output_type": "display_data"
    }
   ],
   "source": [
    "# SNIPPET 6 — attempts statistics and success rate within budget\n",
    "\n",
    "tau = 0.025\n",
    "budget = 20\n",
    "\n",
    "succ = (df_eval[\"emd_emd\"] <= tau).mean()\n",
    "att_succ = df_eval.loc[df_eval[\"emd_emd\"] <= tau, \"attempts\"]\n",
    "print(f\"Success@τ={tau:.3f} within {budget} attempts: {succ*100:.1f}%\")\n",
    "if len(att_succ):\n",
    "    print(f\"Attempts for successful runs — mean={att_succ.mean():.2f}, median={att_succ.median():.1f}, max={att_succ.max()}\")\n",
    "\n",
    "# quick histogram of attempts\n",
    "import matplotlib.pyplot as plt\n",
    "plt.figure()\n",
    "plt.hist(df_eval[\"attempts\"], bins=range(1, budget+2))\n",
    "plt.xlabel(\"Attempts\"); plt.ylabel(\"count\"); plt.title(\"Outer-loop attempts distribution\")\n",
    "plt.show()\n"
   ]
  },
  {
   "cell_type": "code",
   "execution_count": 17,
   "id": "77e537d5",
   "metadata": {},
   "outputs": [
    {
     "name": "stdout",
     "output_type": "stream",
     "text": [
      "Trainable params — ColourHead: 2,236,034 | RestHead: 1,968,896 | Total: 4,204,930\n"
     ]
    }
   ],
   "source": [
    "# SNIPPET 7 — trainable params added (lightweight claim)\n",
    "\n",
    "import torch, json, glob, os\n",
    "\n",
    "color_params = sum(p.numel() for p in color_head.parameters() if p.requires_grad)\n",
    "rest_params  = None\n",
    "\n",
    "# try to read rest from any best_summary.json (if present)\n",
    "try:\n",
    "    any_summary = sorted(glob.glob(\"evaluation_runs/**/best_summary.json\", recursive=True))[0]\n",
    "    with open(any_summary, \"r\") as f:\n",
    "        js = json.load(f)\n",
    "    rest_params = js.get(\"param_count_rest\")\n",
    "except Exception:\n",
    "    pass\n",
    "\n",
    "if rest_params is None:\n",
    "    print(f\"Trainable params — ColourHead: {color_params:,} (RestHead: n/a at inference)\")\n",
    "else:\n",
    "    print(f\"Trainable params — ColourHead: {color_params:,} | RestHead: {int(rest_params):,} | Total: {color_params+int(rest_params):,}\")\n"
   ]
  },
  {
   "cell_type": "code",
   "execution_count": 20,
   "id": "cdb297ff",
   "metadata": {},
   "outputs": [],
   "source": [
    "df_eval.to_csv(\"evaluation_runs/metrics.csv\", index=False)"
   ]
  },
  {
   "cell_type": "code",
   "execution_count": null,
   "id": "bb3b7620",
   "metadata": {},
   "outputs": [],
   "source": []
  },
  {
   "cell_type": "code",
   "execution_count": null,
   "id": "556420b6",
   "metadata": {},
   "outputs": [],
   "source": []
  },
  {
   "cell_type": "code",
   "execution_count": null,
   "id": "29d59c57",
   "metadata": {},
   "outputs": [],
   "source": []
  }
 ],
 "metadata": {
  "kernelspec": {
   "display_name": "degis-env",
   "language": "python",
   "name": "python3"
  },
  "language_info": {
   "codemirror_mode": {
    "name": "ipython",
    "version": 3
   },
   "file_extension": ".py",
   "mimetype": "text/x-python",
   "name": "python",
   "nbconvert_exporter": "python",
   "pygments_lexer": "ipython3",
   "version": "3.12.3"
  }
 },
 "nbformat": 4,
 "nbformat_minor": 5
}
