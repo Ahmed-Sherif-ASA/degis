{
  "cells": [
    {
      "cell_type": "markdown",
      "metadata": {},
      "source": [
        "<p align=\"center\">\n",
        "  <img src=\"docs/training_sequence_diagram.png\" alt=\"training diagram\" width=\"1000\"/>\n",
        "</p>"
      ]
    },
    {
      "cell_type": "markdown",
      "metadata": {},
      "source": [
        "# Data Extraction and Training with DEGIS Package\n",
        "\n",
        "This notebook demonstrates how to use the DEGIS package to:\n",
        "1. Extract CLIP embeddings from images\n",
        "2. Generate color histograms and edge maps\n",
        "3. Train color disentanglement models"
      ]
    },
    {
      "cell_type": "code",
      "execution_count": null,
      "metadata": {},
      "outputs": [],
      "source": [
        "# =============================================================================\n",
        "# ENVIRONMENT CHECK - Run this cell first!\n",
        "# =============================================================================\n",
        "# This cell verifies that the degis environment is properly set up\n",
        "# Make sure you've run ./setup_server_fixed.sh first!\n",
        "\n",
        "import sys\n",
        "import os\n",
        "\n",
        "# Check if we're in the right environment\n",
        "if 'degis-env' in sys.executable:\n",
        "    print(\"DEGIS environment is active\")\n",
        "    print(f\"Python: {sys.executable}\")\n",
        "else:\n",
        "    print(\"Warning: DEGIS environment not detected\")\n",
        "    print(\"Please run: ./setup_server_fixed.sh\")\n",
        "    print(\"Then activate: source degis-env/bin/activate\")\n",
        "\n",
        "# Check if DEGIS package is available\n",
        "try:\n",
        "    import degis\n",
        "    print(\"DEGIS package is available\")\n",
        "except ImportError:\n",
        "    print(\"DEGIS package not found\")\n",
        "    print(\"   Please run: ./setup_server_fixed.sh\")\n",
        "\n",
        "print(\"\\n Ready to start training!\")\n"
      ]
    },
    {
      "cell_type": "markdown",
      "metadata": {},
      "source": [
        "## 1. Setup and Imports\n"
      ]
    },
    {
      "cell_type": "code",
      "execution_count": null,
      "metadata": {},
      "outputs": [],
      "source": [
        "# =============================================================================\n",
        "# IMPORTS - Run this after the setup cell above\n",
        "# =============================================================================\n",
        "\n",
        "import pandas as pd\n",
        "import numpy as np\n",
        "import torch\n",
        "import matplotlib.pyplot as plt\n",
        "from torch.utils.data import DataLoader\n",
        "from multiprocessing import cpu_count\n",
        "import os\n",
        "import time\n",
        "import platform\n",
        "import psutil\n",
        "import shutil\n",
        "\n",
        "# Import DEGIS package components\n",
        "import degis\n",
        "from degis import generate_clip_embeddings, generate_xl_embeddings\n",
        "from degis import generate_color_histograms, generate_edge_maps\n",
        "from degis.training import train_color_model\n",
        "from degis.data.dataset import UnifiedImageDataset\n",
        "from degis.shared.config import CSV_PATH, BATCH_SIZE, EMBEDDINGS_TARGET_PATH"
      ]
    },
    {
      "cell_type": "markdown",
      "metadata": {},
      "source": [
        "## 2. System Profiling\n"
      ]
    },
    {
      "cell_type": "code",
      "execution_count": null,
      "metadata": {},
      "outputs": [],
      "source": [
        "def print_system_profile():\n",
        "    print(\"=== SYSTEM PROFILE ===\")\n",
        "    print(\"Python:\", platform.python_version())\n",
        "    print(\"PyTorch:\", torch.__version__)\n",
        "    print(\"CPU cores:\", psutil.cpu_count(logical=True))\n",
        "    vm = psutil.virtual_memory()\n",
        "    print(f\"RAM: {vm.total/1e9:.1f} GB, free {vm.available/1e9:.1f} GB\")\n",
        "    \n",
        "    # Check if /data exists, otherwise check current directory\n",
        "    if os.path.exists(\"/data\"):\n",
        "        du = shutil.disk_usage(\"/data\")\n",
        "        print(f\"/data disk: total {du.total/1e9:.1f} GB, free {du.free/1e9:.1f} GB\")\n",
        "    else:\n",
        "        du = shutil.disk_usage(\".\")\n",
        "        print(f\"Current disk: total {du.total/1e9:.1f} GB, free {du.free/1e9:.1f} GB\")\n",
        "    \n",
        "    print(\"CUDA available:\", torch.cuda.is_available())\n",
        "    if torch.cuda.is_available():\n",
        "        i = torch.cuda.current_device()\n",
        "        print(\"GPU:\", torch.cuda.get_device_name(i))\n",
        "        print(f\"VRAM total: {torch.cuda.get_device_properties(i).total_memory/1e9:.1f} GB\")\n",
        "    print(\"======================\")\n",
        "\n",
        "print_system_profile()\n"
      ]
    },
    {
      "cell_type": "markdown",
      "metadata": {},
      "source": [
        "## 3. Load Dataset and Create Data Loader\n"
      ]
    },
    {
      "cell_type": "code",
      "execution_count": null,
      "metadata": {},
      "outputs": [],
      "source": [
        "csv_path = \"/data/thesis/adimagenet_manifest.csv\"\n",
        "embeddings_path = \"/data/degis/runs/adimagenet_embeddings.npy\"\n",
        "colour_hist_path = \"/data/degis/runs/adimagenet_color_histograms.npy\" \n",
        "edge_maps_path = \"/data/degis/runs/adimagenet_edge_maps.npy\""
      ]
    },
    {
      "cell_type": "code",
      "execution_count": null,
      "metadata": {},
      "outputs": [],
      "source": [
        "# Load the dataset\n",
        "df = pd.read_csv(csv_path)\n",
        "print(f\"Dataset loaded: {len(df)} images\")\n",
        "print(f\"Columns: {df.columns.tolist()}\")\n",
        "\n",
        "# Create dataset\n",
        "dataset = UnifiedImageDataset(\n",
        "    df, \n",
        "    # file_df → uses local file_path column  \n",
        "    # url_df  → uses image_url column (cloud storage)  \n",
        "    mode=\"file_df\",\n",
        "    size=(224, 224)\n",
        ")\n",
        "\n",
        "print(f\"\\nDataset created with {len(dataset)} samples\")\n",
        "\n",
        "# Create data loader with optimal settings\n",
        "num_cpu = cpu_count()\n",
        "num_workers = min(32, max(8, num_cpu // 8))\n",
        "\n",
        "loader = DataLoader(\n",
        "    dataset,\n",
        "    batch_size=4096,\n",
        "    shuffle=False,\n",
        "    num_workers=num_workers,\n",
        "    pin_memory=True,\n",
        "    persistent_workers=True,\n",
        "    prefetch_factor=6,\n",
        "    pin_memory_device=\"cuda\" if torch.cuda.is_available() else None,\n",
        ")\n",
        "\n",
        "print(f\"\\nDataLoader created\")"
      ]
    },
    {
      "cell_type": "markdown",
      "metadata": {},
      "source": [
        "# 4. Select the target encoder/diffusion family"
      ]
    },
    {
      "cell_type": "code",
      "execution_count": null,
      "metadata": {},
      "outputs": [],
      "source": [
        "# Select the target encoder/diffusion family for extraction and training. \n",
        "# Other modules adapt automatically by detecting the embedding size. \n",
        "#\n",
        "# embeddings_size == \"base\" # 1024-D embeddings (CLIP-ViT-H/14, Stable Diffusion 1.5) \n",
        "embeddings_size = \"xl\"   # 1280-D embeddings (CLIP-ViT-bigG/14, Stable Diffusion XL)"
      ]
    },
    {
      "cell_type": "markdown",
      "metadata": {},
      "source": [
        "## 4. Generate Features and Train Model\n"
      ]
    },
    {
      "cell_type": "code",
      "execution_count": null,
      "metadata": {},
      "outputs": [],
      "source": [
        "# Generate CLIP embeddings using the package\n",
        "print(\"Generating CLIP embeddings...\")\n",
        "if embeddings_size == \"xl\":  \n",
        "    embeddings = degis.generate_xl_embeddings(\n",
        "        csv_path=csv_path,\n",
        "        output_path=embeddings_path,\n",
        "        batch_size=512,\n",
        "        num_workers=num_workers,\n",
        "        force_recompute=False\n",
        "    )\n",
        "else:\n",
        "    embeddings = degis.generate_clip_embeddings(\n",
        "        csv_path=csv_path,\n",
        "        output_path=embeddings_path,\n",
        "        batch_size=512,\n",
        "        num_workers=num_workers,\n",
        "        force_recompute=False\n",
        "    )\n",
        "print(f\"✓ Generated embeddings with shape: {embeddings.shape}\")\n",
        "\n",
        "# Generate color histograms\n",
        "print(\"\\nGenerating color histograms...\")\n",
        "histograms = degis.generate_color_histograms(\n",
        "    loader=loader,\n",
        "    hist_path=colour_hist_path,\n",
        "    hist_bins=8,\n",
        "    force_recompute=False,\n",
        "    color_space=\"hcl\"\n",
        ")\n",
        "print(f\"✓ Generated HCL histograms with shape: {histograms.shape}\")\n",
        "\n",
        "# Generate edge maps\n",
        "print(\"\\nGenerating edge maps...\")\n",
        "edge_maps = degis.generate_edge_maps(\n",
        "    loader=loader,\n",
        "    edge_maps_path=edge_maps_path,\n",
        "    method=\"canny\",\n",
        "    force_recompute=False\n",
        ")\n",
        "print(f\"✓ Generated edge maps with shape: {edge_maps.shape}\")\n",
        "\n",
        "# Train the color disentanglement model\n",
        "print(\"\\nTraining color disentanglement model...\")\n",
        "results = degis.train_color_model(\n",
        "    embeddings_path=embeddings_path,\n",
        "    histograms_path=colour_hist_path,\n",
        "    hist_kind=\"hcl514\",\n",
        "    epochs=2,\n",
        "    batch_size=4096,\n",
        "    val_batch_size=8192,\n",
        "    lr=1e-3,\n",
        "    weight_decay=1e-2,\n",
        "    blur=0.05,\n",
        "    lambda_ortho=0.1,\n",
        "    top_k=100,\n",
        "    weighting=True,\n",
        ")\n",
        "\n",
        "print(f\"\\n✓ Training complete!\")\n",
        "print(f\"Output directory: {results['output_dir']}\")\n"
      ]
    },
    {
      "cell_type": "code",
      "execution_count": null,
      "metadata": {},
      "outputs": [],
      "source": []
    }
  ],
  "metadata": {
    "kernelspec": {
      "display_name": "degis-env",
      "language": "python",
      "name": "python3"
    },
    "language_info": {
      "codemirror_mode": {
        "name": "ipython",
        "version": 3
      },
      "file_extension": ".py",
      "mimetype": "text/x-python",
      "name": "python",
      "nbconvert_exporter": "python",
      "pygments_lexer": "ipython3",
      "version": "3.12.3"
    }
  },
  "nbformat": 4,
  "nbformat_minor": 2
}
