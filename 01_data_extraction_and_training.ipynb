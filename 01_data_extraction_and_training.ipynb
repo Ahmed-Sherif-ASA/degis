{
  "cells": [
    {
      "cell_type": "markdown",
      "metadata": {},
      "source": [
        "# Data Extraction and Training with DEGIS Package\n",
        "\n",
        "This notebook demonstrates how to use the DEGIS package to:\n",
        "1. Extract CLIP embeddings from images\n",
        "2. Generate color histograms and edge maps\n",
        "3. Train color disentanglement models\n",
        "\n",
        "Based on the logic from `main.py` but using the new package structure.\n"
      ]
    },
    {
      "cell_type": "markdown",
      "metadata": {},
      "source": [
        "## 1. Setup and Imports\n"
      ]
    },
    {
      "cell_type": "code",
      "execution_count": 1,
      "metadata": {},
      "outputs": [
        {
          "data": {
            "application/vnd.jupyter.widget-view+json": {
              "model_id": "e07a8ba511e947b5a66ce9deee42a9b2",
              "version_major": 2,
              "version_minor": 0
            },
            "text/plain": [
              "Loading checkpoint shards:   0%|          | 0/2 [00:00<?, ?it/s]"
            ]
          },
          "metadata": {},
          "output_type": "display_data"
        },
        {
          "name": "stdout",
          "output_type": "stream",
          "text": [
            "Model projection_dim: 1280\n"
          ]
        }
      ],
      "source": [
        "# Install the package in development mode if needed\n",
        "# !pip install -e .\n",
        "\n",
        "import pandas as pd\n",
        "import numpy as np\n",
        "import torch\n",
        "import matplotlib.pyplot as plt\n",
        "from torch.utils.data import DataLoader\n",
        "from multiprocessing import cpu_count\n",
        "import os\n",
        "import time\n",
        "import platform\n",
        "import psutil\n",
        "import shutil\n",
        "\n",
        "# Import the DEGIS package\n",
        "import degis\n",
        "from degis.data.dataset import UnifiedImageDataset"
      ]
    },
    {
      "cell_type": "markdown",
      "metadata": {},
      "source": [
        "## 2. System Profiling\n"
      ]
    },
    {
      "cell_type": "code",
      "execution_count": 2,
      "metadata": {},
      "outputs": [
        {
          "name": "stdout",
          "output_type": "stream",
          "text": [
            "=== SYSTEM PROFILE ===\n",
            "Python: 3.12.3\n",
            "PyTorch: 2.8.0+cu128\n",
            "CPU cores: 256\n",
            "RAM: 540.8 GB, free 456.8 GB\n",
            "/data disk: total 1099.5 GB, free 303.5 GB\n",
            "CUDA available: True\n",
            "GPU: NVIDIA GeForce RTX 5090\n",
            "VRAM total: 33.7 GB\n",
            "======================\n"
          ]
        }
      ],
      "source": [
        "def print_system_profile():\n",
        "    print(\"=== SYSTEM PROFILE ===\")\n",
        "    print(\"Python:\", platform.python_version())\n",
        "    print(\"PyTorch:\", torch.__version__)\n",
        "    print(\"CPU cores:\", psutil.cpu_count(logical=True))\n",
        "    vm = psutil.virtual_memory()\n",
        "    print(f\"RAM: {vm.total/1e9:.1f} GB, free {vm.available/1e9:.1f} GB\")\n",
        "    \n",
        "    # Check if /data exists, otherwise check current directory\n",
        "    if os.path.exists(\"/data\"):\n",
        "        du = shutil.disk_usage(\"/data\")\n",
        "        print(f\"/data disk: total {du.total/1e9:.1f} GB, free {du.free/1e9:.1f} GB\")\n",
        "    else:\n",
        "        du = shutil.disk_usage(\".\")\n",
        "        print(f\"Current disk: total {du.total/1e9:.1f} GB, free {du.free/1e9:.1f} GB\")\n",
        "    \n",
        "    print(\"CUDA available:\", torch.cuda.is_available())\n",
        "    if torch.cuda.is_available():\n",
        "        i = torch.cuda.current_device()\n",
        "        print(\"GPU:\", torch.cuda.get_device_name(i))\n",
        "        print(f\"VRAM total: {torch.cuda.get_device_properties(i).total_memory/1e9:.1f} GB\")\n",
        "    print(\"======================\")\n",
        "\n",
        "print_system_profile()\n"
      ]
    },
    {
      "cell_type": "markdown",
      "metadata": {},
      "source": [
        "## 3. Load Dataset and Create Data Loader\n"
      ]
    },
    {
      "cell_type": "code",
      "execution_count": 3,
      "metadata": {},
      "outputs": [],
      "source": [
        "csv_path = \"/data/thesis/adimagenet_manifest.csv\"\n",
        "batch_size = 512\n",
        "embeddings_path = \"/data/thesis/models/adimagenet_embeddings.npy\"\n",
        "colour_hist_path = \"/data/thesis/data/adimagenet_color_histograms_hcl_514.npy\" \n",
        "edge_maps_path = \"/data/thesis/data/adimagenet_edge_maps.npy\""
      ]
    },
    {
      "cell_type": "code",
      "execution_count": 4,
      "metadata": {},
      "outputs": [
        {
          "name": "stdout",
          "output_type": "stream",
          "text": [
            "Dataset loaded: 2080 images\n",
            "Columns: ['file_path', 'file_name', 'text', 'dimensions', 'width', 'height']\n",
            "\n",
            "First few rows:\n",
            "                                           file_path      file_name  \\\n",
            "0  /data/thesis/AdImageNet/images/(300, 250)/ad_0...  ad_000001.jpg   \n",
            "1  /data/thesis/AdImageNet/images/(300, 250)/ad_0...  ad_000009.jpg   \n",
            "2  /data/thesis/AdImageNet/images/(300, 250)/ad_0...  ad_000017.jpg   \n",
            "3  /data/thesis/AdImageNet/images/(300, 600)/ad_0...  ad_000020.jpg   \n",
            "4  /data/thesis/AdImageNet/images/(300, 250)/ad_0...  ad_000021.jpg   \n",
            "\n",
            "                                                text  dimensions  width  \\\n",
            "0  $3\\nSTULZ\\nDifferential for 2nd Shift\\nManufac...  (300, 250)    300   \n",
            "1   VULTURE\\ninto\\nwith\\nSam Sanders\\nApple Podcasts  (300, 250)    300   \n",
            "2  smart\\ncare\\nO\\ndesign\\nbuild\\n& install\\nrepa...  (300, 250)    300   \n",
            "3  TREE\\nSANTOR\\nMatch On!\\nThe Showstopper,\\nLuc...  (300, 600)    300   \n",
            "4  Local experts connecting\\ncustomers to YOUR bu...  (300, 250)    300   \n",
            "\n",
            "   height  \n",
            "0     250  \n",
            "1     250  \n",
            "2     250  \n",
            "3     600  \n",
            "4     250  \n",
            "\n",
            "Dataset created with 2080 samples\n",
            "\n",
            "DataLoader created with 5 batches\n",
            "Batch size: 512\n",
            "Number of workers: 32\n"
          ]
        }
      ],
      "source": [
        "# Load the dataset\n",
        "df = pd.read_csv(csv_path)\n",
        "print(f\"Dataset loaded: {len(df)} images\")\n",
        "print(f\"Columns: {df.columns.tolist()}\")\n",
        "print(f\"\\nFirst few rows:\")\n",
        "print(df.head())\n",
        "\n",
        "# Create dataset\n",
        "dataset = UnifiedImageDataset(\n",
        "    df.rename(columns={\"local_path\": \"file_path\"}), \n",
        "    mode=\"file_df\",\n",
        "    size=(224, 224)\n",
        ")\n",
        "\n",
        "print(f\"\\nDataset created with {len(dataset)} samples\")\n",
        "\n",
        "# Create data loader with optimal settings\n",
        "num_cpu = cpu_count()\n",
        "num_workers = min(32, max(8, num_cpu // 8))\n",
        "\n",
        "loader = DataLoader(\n",
        "    dataset,\n",
        "    batch_size=batch_size,\n",
        "    shuffle=False,\n",
        "    num_workers=num_workers,\n",
        "    pin_memory=True,\n",
        "    persistent_workers=True,\n",
        "    prefetch_factor=6,\n",
        "    pin_memory_device=\"cuda\" if torch.cuda.is_available() else None,\n",
        ")\n",
        "\n",
        "print(f\"\\nDataLoader created with {len(loader)} batches\")\n",
        "print(f\"Batch size: {batch_size}\")\n",
        "print(f\"Number of workers: {num_workers}\")\n"
      ]
    },
    {
      "cell_type": "markdown",
      "metadata": {},
      "source": [
        "## 4. Generate Features and Train Model\n"
      ]
    },
    {
      "cell_type": "code",
      "execution_count": 5,
      "metadata": {},
      "outputs": [
        {
          "name": "stdout",
          "output_type": "stream",
          "text": [
            "Generating CLIP embeddings...\n",
            "→ Loaded precomputed from /data/thesis/models/adimagenet_embeddings.npy (shape=(2080, 1024))\n",
            "Saved: /data/thesis/models/adimagenet_embeddings.npy, shape: (2080, 1024)\n",
            "✓ Generated embeddings with shape: (2080, 1024)\n",
            "\n",
            "Generating color histograms...\n",
            "### Color Histogram Generation [FAST, HCL] ###\n",
            "Total images: 2080, Bins: 8, Dimensions: 514\n",
            "Loaded from /data/thesis/data/adimagenet_color_histograms_hcl_514.npy\n",
            "✓ Generated HCL histograms with shape: (2080, 514)\n",
            "\n",
            "Generating edge maps...\n",
            "[✓] Loaded cached edge maps from /data/thesis/data/adimagenet_edge_maps.npy\n",
            "✓ Generated edge maps with shape: (2080, 50176)\n",
            "\n",
            "Training color disentanglement model...\n",
            "Run dir: /data/degis/runs/color_hcl514_tk100_b4096-20250906-103203\n",
            "Rest dir: /data/degis/runs/rest_hcl514_tk100_b4096-20250906-103203\n",
            "Loaded → emb: (2080, 1024) | hist: (2080, 514) | kind=hcl514\n"
          ]
        },
        {
          "name": "stderr",
          "output_type": "stream",
          "text": [
            "Epoch 01/200: 100%|█████████████████████████████████████████████████████████████████████████████████████████████████████████████████████████████████████████████████████████████████████████| 1/1 [00:01<00:00,  1.42s/it, EMD=0.1126, T=1.00]\n"
          ]
        },
        {
          "name": "stdout",
          "output_type": "stream",
          "text": [
            "Epoch 01  train EMD=0.1126  val EMD=0.0755  (diag BCE=0.0141)\n",
            "✓ saved best\n"
          ]
        },
        {
          "name": "stderr",
          "output_type": "stream",
          "text": [
            "Epoch 02/200: 100%|█████████████████████████████████████████████████████████████████████████████████████████████████████████████████████████████████████████████████████████████████████████| 1/1 [00:00<00:00,  1.04it/s, EMD=0.1114, T=1.00]\n"
          ]
        },
        {
          "name": "stdout",
          "output_type": "stream",
          "text": [
            "Epoch 02  train EMD=0.1114  val EMD=0.0753  (diag BCE=0.0140)\n",
            "✓ saved best\n"
          ]
        },
        {
          "name": "stderr",
          "output_type": "stream",
          "text": [
            "Epoch 03/200: 100%|█████████████████████████████████████████████████████████████████████████████████████████████████████████████████████████████████████████████████████████████████████████| 1/1 [00:00<00:00,  1.12it/s, EMD=0.1099, T=1.00]\n"
          ]
        },
        {
          "name": "stdout",
          "output_type": "stream",
          "text": [
            "Epoch 03  train EMD=0.1099  val EMD=0.0751  (diag BCE=0.0138)\n",
            "✓ saved best\n"
          ]
        },
        {
          "name": "stderr",
          "output_type": "stream",
          "text": [
            "Epoch 04/200: 100%|█████████████████████████████████████████████████████████████████████████████████████████████████████████████████████████████████████████████████████████████████████████| 1/1 [00:00<00:00,  1.18it/s, EMD=0.1060, T=1.00]\n"
          ]
        },
        {
          "name": "stdout",
          "output_type": "stream",
          "text": [
            "Epoch 04  train EMD=0.1060  val EMD=0.0748  (diag BCE=0.0134)\n",
            "✓ saved best\n"
          ]
        },
        {
          "name": "stderr",
          "output_type": "stream",
          "text": [
            "Epoch 05/200: 100%|█████████████████████████████████████████████████████████████████████████████████████████████████████████████████████████████████████████████████████████████████████████| 1/1 [00:00<00:00,  1.12it/s, EMD=0.0962, T=1.00]\n"
          ]
        },
        {
          "name": "stdout",
          "output_type": "stream",
          "text": [
            "Epoch 05  train EMD=0.0962  val EMD=0.0747  (diag BCE=0.0129)\n",
            "✓ saved best\n"
          ]
        },
        {
          "name": "stderr",
          "output_type": "stream",
          "text": [
            "Epoch 06/200: 100%|█████████████████████████████████████████████████████████████████████████████████████████████████████████████████████████████████████████████████████████████████████████| 1/1 [00:00<00:00,  1.19it/s, EMD=0.0895, T=1.00]\n"
          ]
        },
        {
          "name": "stdout",
          "output_type": "stream",
          "text": [
            "Epoch 06  train EMD=0.0895  val EMD=0.0751  (diag BCE=0.0124)\n"
          ]
        },
        {
          "name": "stderr",
          "output_type": "stream",
          "text": [
            "Epoch 07/200: 100%|█████████████████████████████████████████████████████████████████████████████████████████████████████████████████████████████████████████████████████████████████████████| 1/1 [00:00<00:00,  1.23it/s, EMD=0.0867, T=1.00]\n"
          ]
        },
        {
          "name": "stdout",
          "output_type": "stream",
          "text": [
            "Epoch 07  train EMD=0.0867  val EMD=0.0770  (diag BCE=0.0122)\n"
          ]
        },
        {
          "name": "stderr",
          "output_type": "stream",
          "text": [
            "Epoch 08/200: 100%|█████████████████████████████████████████████████████████████████████████████████████████████████████████████████████████████████████████████████████████████████████████| 1/1 [00:00<00:00,  1.06it/s, EMD=0.0810, T=1.00]\n"
          ]
        },
        {
          "name": "stdout",
          "output_type": "stream",
          "text": [
            "Epoch 08  train EMD=0.0810  val EMD=0.0815  (diag BCE=0.0128)\n"
          ]
        },
        {
          "name": "stderr",
          "output_type": "stream",
          "text": [
            "Epoch 09/200: 100%|█████████████████████████████████████████████████████████████████████████████████████████████████████████████████████████████████████████████████████████████████████████| 1/1 [00:00<00:00,  1.25it/s, EMD=0.0741, T=1.00]\n"
          ]
        },
        {
          "name": "stdout",
          "output_type": "stream",
          "text": [
            "Epoch 09  train EMD=0.0741  val EMD=0.0985  (diag BCE=0.0140)\n"
          ]
        },
        {
          "name": "stderr",
          "output_type": "stream",
          "text": [
            "Epoch 10/200: 100%|█████████████████████████████████████████████████████████████████████████████████████████████████████████████████████████████████████████████████████████████████████████| 1/1 [00:00<00:00,  1.16it/s, EMD=0.0802, T=1.00]\n"
          ]
        },
        {
          "name": "stdout",
          "output_type": "stream",
          "text": [
            "Epoch 10  train EMD=0.0802  val EMD=0.1022  (diag BCE=0.0160)\n"
          ]
        },
        {
          "name": "stderr",
          "output_type": "stream",
          "text": [
            "Epoch 11/200: 100%|█████████████████████████████████████████████████████████████████████████████████████████████████████████████████████████████████████████████████████████████████████████| 1/1 [00:00<00:00,  1.28it/s, EMD=0.0825, T=1.00]\n"
          ]
        },
        {
          "name": "stdout",
          "output_type": "stream",
          "text": [
            "Epoch 11  train EMD=0.0825  val EMD=0.0817  (diag BCE=0.0175)\n"
          ]
        },
        {
          "name": "stderr",
          "output_type": "stream",
          "text": [
            "Epoch 12/200: 100%|█████████████████████████████████████████████████████████████████████████████████████████████████████████████████████████████████████████████████████████████████████████| 1/1 [00:00<00:00,  1.10it/s, EMD=0.0757, T=1.00]\n"
          ]
        },
        {
          "name": "stdout",
          "output_type": "stream",
          "text": [
            "Epoch 12  train EMD=0.0757  val EMD=0.0831  (diag BCE=0.0185)\n"
          ]
        },
        {
          "name": "stderr",
          "output_type": "stream",
          "text": [
            "Epoch 13/200: 100%|█████████████████████████████████████████████████████████████████████████████████████████████████████████████████████████████████████████████████████████████████████████| 1/1 [00:00<00:00,  1.14it/s, EMD=0.0695, T=1.00]\n"
          ]
        },
        {
          "name": "stdout",
          "output_type": "stream",
          "text": [
            "Epoch 13  train EMD=0.0695  val EMD=0.1452  (diag BCE=0.0201)\n"
          ]
        },
        {
          "name": "stderr",
          "output_type": "stream",
          "text": [
            "Epoch 14/200: 100%|█████████████████████████████████████████████████████████████████████████████████████████████████████████████████████████████████████████████████████████████████████████| 1/1 [00:00<00:00,  1.16it/s, EMD=0.1032, T=1.00]\n"
          ]
        },
        {
          "name": "stdout",
          "output_type": "stream",
          "text": [
            "Epoch 14  train EMD=0.1032  val EMD=0.2104  (diag BCE=0.0229)\n"
          ]
        },
        {
          "name": "stderr",
          "output_type": "stream",
          "text": [
            "Epoch 15/200: 100%|█████████████████████████████████████████████████████████████████████████████████████████████████████████████████████████████████████████████████████████████████████████| 1/1 [00:00<00:00,  1.21it/s, EMD=0.1352, T=1.00]\n"
          ]
        },
        {
          "name": "stdout",
          "output_type": "stream",
          "text": [
            "Epoch 15  train EMD=0.1352  val EMD=0.1046  (diag BCE=0.0253)\n",
            "Early stop at epoch 15 (best val=0.0747)\n",
            "\n",
            "✓ Training complete!\n",
            "Output directory: /data/degis/runs/color_hcl514_tk100_b4096-20250906-103203\n"
          ]
        }
      ],
      "source": [
        "# Generate CLIP embeddings using the package\n",
        "print(\"Generating CLIP embeddings...\")\n",
        "embeddings = degis.generate_xl_embeddings(\n",
        "    csv_path=csv_path,\n",
        "    output_path=embeddings_path,\n",
        "    batch_size=batch_size,\n",
        "    num_workers=num_workers,\n",
        "    force_recompute=False\n",
        ")\n",
        "print(f\"✓ Generated embeddings with shape: {embeddings.shape}\")\n",
        "\n",
        "# Generate color histograms\n",
        "print(\"\\nGenerating color histograms...\")\n",
        "histograms = degis.generate_color_histograms(\n",
        "    loader=loader,\n",
        "    hist_path=colour_hist_path,\n",
        "    hist_bins=8,\n",
        "    force_recompute=False,\n",
        "    color_space=\"hcl\"\n",
        ")\n",
        "print(f\"✓ Generated HCL histograms with shape: {histograms.shape}\")\n",
        "\n",
        "# Generate edge maps\n",
        "print(\"\\nGenerating edge maps...\")\n",
        "edge_maps = degis.generate_edge_maps(\n",
        "    loader=loader,\n",
        "    edge_maps_path=edge_maps_path,\n",
        "    method=\"canny\",\n",
        "    force_recompute=False\n",
        ")\n",
        "print(f\"✓ Generated edge maps with shape: {edge_maps.shape}\")\n",
        "\n",
        "# Train the color disentanglement model\n",
        "print(\"\\nTraining color disentanglement model...\")\n",
        "results = degis.train_color_model(\n",
        "    embeddings_path=embeddings_path,\n",
        "    histograms_path=colour_hist_path,\n",
        "    hist_kind=\"hcl514\",\n",
        "    epochs=200,\n",
        "    batch_size=4096,\n",
        "    val_batch_size=8192,\n",
        "    lr=1e-3,\n",
        "    weight_decay=1e-2,\n",
        "    blur=0.05,\n",
        "    lambda_ortho=0.1,\n",
        "    top_k=100,\n",
        "    weighting=True,\n",
        ")\n",
        "\n",
        "print(f\"\\n✓ Training complete!\")\n",
        "print(f\"Output directory: {results['output_dir']}\")\n"
      ]
    },
    {
      "cell_type": "code",
      "execution_count": null,
      "metadata": {},
      "outputs": [],
      "source": []
    }
  ],
  "metadata": {
    "kernelspec": {
      "display_name": "Python 3",
      "language": "python",
      "name": "python3"
    },
    "language_info": {
      "codemirror_mode": {
        "name": "ipython",
        "version": 3
      },
      "file_extension": ".py",
      "mimetype": "text/x-python",
      "name": "python",
      "nbconvert_exporter": "python",
      "pygments_lexer": "ipython3",
      "version": "3.12.3"
    }
  },
  "nbformat": 4,
  "nbformat_minor": 2
}
