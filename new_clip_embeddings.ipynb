{
 "cells": [
  {
   "cell_type": "code",
   "execution_count": 1,
   "id": "299486a7",
   "metadata": {},
   "outputs": [
    {
     "name": "stdout",
     "output_type": "stream",
     "text": [
      "Found existing installation: ip-adapter 0.1.0\n",
      "Uninstalling ip-adapter-0.1.0:\n",
      "  Successfully uninstalled ip-adapter-0.1.0\n",
      "Found existing installation: diffusers 0.35.1\n",
      "Uninstalling diffusers-0.35.1:\n",
      "  Successfully uninstalled diffusers-0.35.1\n",
      "\u001b[33mWARNING: Running pip as the 'root' user can result in broken permissions and conflicting behaviour with the system package manager. It is recommended to use a virtual environment instead: https://pip.pypa.io/warnings/venv\u001b[0m\u001b[33m\n",
      "\u001b[0mCollecting git+https://github.com/Ahmed-Sherif-ASA/IP-Adapter@main\n",
      "  Cloning https://github.com/Ahmed-Sherif-ASA/IP-Adapter (to revision main) to /tmp/pip-req-build-wlfovp4l\n",
      "  Running command git clone --filter=blob:none --quiet https://github.com/Ahmed-Sherif-ASA/IP-Adapter /tmp/pip-req-build-wlfovp4l\n",
      "  Resolved https://github.com/Ahmed-Sherif-ASA/IP-Adapter to commit ea6ea88a0b292dffc3fc81546cf6b83defa7c4d2\n",
      "  Installing build dependencies ... \u001b[?25ldone\n",
      "\u001b[?25h  Getting requirements to build wheel ... \u001b[?25ldone\n",
      "\u001b[?25h  Preparing metadata (pyproject.toml) ... \u001b[?25ldone\n",
      "\u001b[?25hBuilding wheels for collected packages: ip-adapter\n",
      "  Building wheel for ip-adapter (pyproject.toml) ... \u001b[?25ldone\n",
      "\u001b[?25h  Created wheel for ip-adapter: filename=ip_adapter-0.1.0-py3-none-any.whl size=33600 sha256=69cc51bce5116bc6a109e67e74fdeff78e26ccb096f3e10c5f1088a4b1c15c96\n",
      "  Stored in directory: /tmp/pip-ephem-wheel-cache-mf5nzjpk/wheels/7b/d8/4d/534ce7f0037f9a8e2bd1871738bbd6210640c7b46779706466\n",
      "Successfully built ip-adapter\n",
      "Installing collected packages: ip-adapter\n",
      "Successfully installed ip-adapter-0.1.0\n",
      "\u001b[33mWARNING: Running pip as the 'root' user can result in broken permissions and conflicting behaviour with the system package manager. It is recommended to use a virtual environment instead: https://pip.pypa.io/warnings/venv\u001b[0m\u001b[33m\n",
      "\u001b[0mCollecting diffusers\n",
      "  Using cached diffusers-0.35.1-py3-none-any.whl.metadata (20 kB)\n",
      "Requirement already satisfied: importlib_metadata in /usr/local/lib/python3.12/dist-packages (from diffusers) (8.7.0)\n",
      "Requirement already satisfied: filelock in /usr/local/lib/python3.12/dist-packages (from diffusers) (3.19.1)\n",
      "Requirement already satisfied: huggingface-hub>=0.34.0 in /usr/local/lib/python3.12/dist-packages (from diffusers) (0.34.4)\n",
      "Requirement already satisfied: numpy in /usr/local/lib/python3.12/dist-packages (from diffusers) (2.2.6)\n",
      "Requirement already satisfied: regex!=2019.12.17 in /usr/local/lib/python3.12/dist-packages (from diffusers) (2025.7.34)\n",
      "Requirement already satisfied: requests in /usr/local/lib/python3.12/dist-packages (from diffusers) (2.32.5)\n",
      "Requirement already satisfied: safetensors>=0.3.1 in /usr/local/lib/python3.12/dist-packages (from diffusers) (0.6.2)\n",
      "Requirement already satisfied: Pillow in /usr/local/lib/python3.12/dist-packages (from diffusers) (11.3.0)\n",
      "Requirement already satisfied: fsspec>=2023.5.0 in /usr/local/lib/python3.12/dist-packages (from huggingface-hub>=0.34.0->diffusers) (2025.3.0)\n",
      "Requirement already satisfied: packaging>=20.9 in /usr/local/lib/python3.12/dist-packages (from huggingface-hub>=0.34.0->diffusers) (25.0)\n",
      "Requirement already satisfied: pyyaml>=5.1 in /usr/local/lib/python3.12/dist-packages (from huggingface-hub>=0.34.0->diffusers) (6.0.2)\n",
      "Requirement already satisfied: tqdm>=4.42.1 in /usr/local/lib/python3.12/dist-packages (from huggingface-hub>=0.34.0->diffusers) (4.67.1)\n",
      "Requirement already satisfied: typing-extensions>=3.7.4.3 in /usr/local/lib/python3.12/dist-packages (from huggingface-hub>=0.34.0->diffusers) (4.14.1)\n",
      "Requirement already satisfied: hf-xet<2.0.0,>=1.1.3 in /usr/local/lib/python3.12/dist-packages (from huggingface-hub>=0.34.0->diffusers) (1.1.8)\n",
      "Requirement already satisfied: zipp>=3.20 in /usr/local/lib/python3.12/dist-packages (from importlib_metadata->diffusers) (3.23.0)\n",
      "Requirement already satisfied: charset_normalizer<4,>=2 in /usr/local/lib/python3.12/dist-packages (from requests->diffusers) (3.4.3)\n",
      "Requirement already satisfied: idna<4,>=2.5 in /usr/local/lib/python3.12/dist-packages (from requests->diffusers) (3.10)\n",
      "Requirement already satisfied: urllib3<3,>=1.21.1 in /usr/local/lib/python3.12/dist-packages (from requests->diffusers) (2.5.0)\n",
      "Requirement already satisfied: certifi>=2017.4.17 in /usr/local/lib/python3.12/dist-packages (from requests->diffusers) (2025.8.3)\n",
      "Using cached diffusers-0.35.1-py3-none-any.whl (4.1 MB)\n",
      "Installing collected packages: diffusers\n",
      "Successfully installed diffusers-0.35.1\n",
      "\u001b[33mWARNING: Running pip as the 'root' user can result in broken permissions and conflicting behaviour with the system package manager. It is recommended to use a virtual environment instead: https://pip.pypa.io/warnings/venv\u001b[0m\u001b[33m\n",
      "\u001b[0m"
     ]
    }
   ],
   "source": [
    "!pip uninstall -y ip-adapter diffusers\n",
    "!pip install --no-cache-dir git+https://github.com/Ahmed-Sherif-ASA/IP-Adapter@main\n",
    "# !pip install --upgrade diffusers\n",
    "!pip install diffusers\n",
    "\n",
    "# Cell 2: Import after fresh install\n",
    "import ip_adapter\n",
    "from ip_adapter import IPAdapterXL\n",
    "from diffusers import ControlNetModel, StableDiffusionXLControlNetPipeline"
   ]
  },
  {
   "cell_type": "code",
   "execution_count": 2,
   "id": "dfd64e14",
   "metadata": {},
   "outputs": [],
   "source": [
    "import numpy as np\n",
    "import pandas as pd\n",
    "import matplotlib.pyplot as plt\n",
    "import torch\n",
    "from PIL import Image\n",
    "\n",
    "import config  # ✅ will work if notebook is in same folder as config.py\n",
    "from data.dataset import UnifiedImageDataset"
   ]
  },
  {
   "cell_type": "code",
   "execution_count": 3,
   "id": "b110f57e",
   "metadata": {},
   "outputs": [],
   "source": [
    "import os\n",
    "device = 'cuda'\n",
    "HF_CACHE = \"/data/hf-cache\"\n",
    "os.makedirs(HF_CACHE, exist_ok=True)\n",
    "\n",
    "os.environ[\"HF_HOME\"] = HF_CACHE\n",
    "os.environ[\"HUGGINGFACE_HUB_CACHE\"] = os.path.join(HF_CACHE, \"hub\")\n",
    "os.environ[\"TRANSFORMERS_CACHE\"]     = os.path.join(HF_CACHE, \"transformers\")\n",
    "os.environ[\"DIFFUSERS_CACHE\"]        = os.path.join(HF_CACHE, \"diffusers\")\n",
    "os.environ[\"TORCH_HOME\"]             = os.path.join(HF_CACHE, \"torch\")"
   ]
  },
  {
   "cell_type": "code",
   "execution_count": 4,
   "id": "52ed61d1",
   "metadata": {},
   "outputs": [
    {
     "name": "stderr",
     "output_type": "stream",
     "text": [
      "Keyword arguments {'safety_checker': None, 'device': 'cuda'} are not expected by StableDiffusionXLControlNetPipeline and will be ignored.\n"
     ]
    },
    {
     "data": {
      "application/vnd.jupyter.widget-view+json": {
       "model_id": "c21243e7681e437690d8df66791647f6",
       "version_major": 2,
       "version_minor": 0
      },
      "text/plain": [
       "Loading pipeline components...:   0%|          | 0/7 [00:00<?, ?it/s]"
      ]
     },
     "metadata": {},
     "output_type": "display_data"
    },
    {
     "data": {
      "application/vnd.jupyter.widget-view+json": {
       "model_id": "13338c7ba6b04c53bf15384452fa4bd5",
       "version_major": 2,
       "version_minor": 0
      },
      "text/plain": [
       "Loading checkpoint shards:   0%|          | 0/2 [00:00<?, ?it/s]"
      ]
     },
     "metadata": {},
     "output_type": "display_data"
    }
   ],
   "source": [
    "# from IPython.display import display\n",
    "# from torchvision import transforms\n",
    "# from ip_adapter import IPAdapter\n",
    "# from diffusers import ControlNetModel, StableDiffusionControlNetPipeline\n",
    "\n",
    "# # Create pipeline with ControlNet built-in\n",
    "# controlnet = ControlNetModel.from_pretrained(\"lllyasviel/control_v11p_sd15_canny\")\n",
    "\n",
    "# pipe = StableDiffusionControlNetPipeline.from_pretrained(\n",
    "#     \"runwayml/stable-diffusion-v1-5\", \n",
    "#     controlnet=controlnet,\n",
    "#     torch_dtype=torch.float16,\n",
    "#     safety_checker=None,\n",
    "#     feature_extractor=None,\n",
    "#     cache_dir=HF_CACHE,\n",
    "# ).to(device)\n",
    "\n",
    "# pipe.controlnet = pipe.controlnet.to(dtype=torch.float16)\n",
    "\n",
    "# # Now create IP-Adapter (it will automatically detect the ControlNet)\n",
    "# ip_adapter = IPAdapter(\n",
    "#     sd_pipe=pipe,  # This pipe already has ControlNet integrated\n",
    "#     image_encoder_path=\"laion/CLIP-ViT-H-14-laion2B-s32B-b79K\",\n",
    "#     ip_ckpt=\"/data/thesis/models/ip-adapter_sd15.bin\",\n",
    "#     device=device,\n",
    "#     embedding_type='clip'\n",
    "# )\n",
    "\n",
    "from IPython.display import display\n",
    "from torchvision import transforms\n",
    "import ip_adapter\n",
    "from ip_adapter import IPAdapterXL\n",
    "from diffusers import ControlNetModel, StableDiffusionXLControlNetPipeline\n",
    "# from ip_adapter import IPAdapterXL  # Changed to XL version\n",
    "# from diffusers import ControlNetModel, StableDiffusionControlNetPipeline\n",
    "\n",
    "# Create pipeline with SDXL-compatible ControlNet\n",
    "controlnet = ControlNetModel.from_pretrained(\"diffusers/controlnet-canny-sdxl-1.0\")  # SDXL ControlNet\n",
    "\n",
    "pipe = StableDiffusionXLControlNetPipeline.from_pretrained(\n",
    "    \"stabilityai/stable-diffusion-xl-base-1.0\",  # SDXL base model\n",
    "    controlnet=controlnet,\n",
    "    torch_dtype=torch.float16,\n",
    "    safety_checker=None,\n",
    "    feature_extractor=None,\n",
    "    cache_dir=HF_CACHE,\n",
    "    device=device,\n",
    ").to(device)\n",
    "\n",
    "pipe.controlnet = pipe.controlnet.to(dtype=torch.float16)\n",
    "\n",
    "# Now create IP-Adapter XL\n",
    "ip_adapter = IPAdapterXL(  # Changed to XL version\n",
    "    sd_pipe=pipe,\n",
    "    image_encoder_path=\"laion/CLIP-ViT-bigG-14-laion2B-39B-b160k\",  # ViT-bigG-14\n",
    "    ip_ckpt=\"/data/thesis/models/ip-adapter_sdxl.bin\",  # SDXL checkpoint\n",
    "    device=device,\n",
    "    embedding_type='clip'\n",
    ")"
   ]
  },
  {
   "cell_type": "code",
   "execution_count": 5,
   "id": "355b2f69",
   "metadata": {},
   "outputs": [
    {
     "data": {
      "application/vnd.jupyter.widget-view+json": {
       "model_id": "cdf57660756548e1b2a6d29691d9f27e",
       "version_major": 2,
       "version_minor": 0
      },
      "text/plain": [
       "config.json: 0.00B [00:00, ?B/s]"
      ]
     },
     "metadata": {},
     "output_type": "display_data"
    },
    {
     "data": {
      "application/vnd.jupyter.widget-view+json": {
       "model_id": "a7ecd4a722df48449daba35e4bf18adf",
       "version_major": 2,
       "version_minor": 0
      },
      "text/plain": [
       "pytorch_model.bin.index.json: 0.00B [00:00, ?B/s]"
      ]
     },
     "metadata": {},
     "output_type": "display_data"
    },
    {
     "data": {
      "application/vnd.jupyter.widget-view+json": {
       "model_id": "14f20622090842cf8bcb65f475af4909",
       "version_major": 2,
       "version_minor": 0
      },
      "text/plain": [
       "Fetching 2 files:   0%|          | 0/2 [00:00<?, ?it/s]"
      ]
     },
     "metadata": {},
     "output_type": "display_data"
    },
    {
     "data": {
      "application/vnd.jupyter.widget-view+json": {
       "model_id": "eb4ef4fed8a74e41a9be0144a6fee72b",
       "version_major": 2,
       "version_minor": 0
      },
      "text/plain": [
       "pytorch_model-00002-of-00002.bin:   0%|          | 0.00/169M [00:00<?, ?B/s]"
      ]
     },
     "metadata": {},
     "output_type": "display_data"
    },
    {
     "data": {
      "application/vnd.jupyter.widget-view+json": {
       "model_id": "0d9a57f81e784015a7df980bb63052a7",
       "version_major": 2,
       "version_minor": 0
      },
      "text/plain": [
       "pytorch_model-00001-of-00002.bin:   0%|          | 0.00/9.99G [00:00<?, ?B/s]"
      ]
     },
     "metadata": {},
     "output_type": "display_data"
    },
    {
     "data": {
      "application/vnd.jupyter.widget-view+json": {
       "model_id": "039c55e06e024fcf99d789de13c445d0",
       "version_major": 2,
       "version_minor": 0
      },
      "text/plain": [
       "Loading checkpoint shards:   0%|          | 0/2 [00:00<?, ?it/s]"
      ]
     },
     "metadata": {},
     "output_type": "display_data"
    },
    {
     "data": {
      "application/vnd.jupyter.widget-view+json": {
       "model_id": "25eeb331f66144168b6457bba2563613",
       "version_major": 2,
       "version_minor": 0
      },
      "text/plain": [
       "preprocessor_config.json:   0%|          | 0.00/316 [00:00<?, ?B/s]"
      ]
     },
     "metadata": {},
     "output_type": "display_data"
    },
    {
     "name": "stdout",
     "output_type": "stream",
     "text": [
      "Model projection_dim: 1280\n"
     ]
    }
   ],
   "source": [
    "from features.clip_embeddings_xl_hf import check_ip_adapter_compatibility, update_model_id"
   ]
  },
  {
   "cell_type": "code",
   "execution_count": 6,
   "id": "01cb2f82",
   "metadata": {},
   "outputs": [
    {
     "name": "stdout",
     "output_type": "stream",
     "text": [
      "IP-Adapter expected projection_dim: 1280\n",
      "This script produces projection_dim: 1280\n",
      "Compatible: True\n"
     ]
    },
    {
     "data": {
      "text/plain": [
       "(True, 1280, 1280)"
      ]
     },
     "execution_count": 6,
     "metadata": {},
     "output_type": "execute_result"
    }
   ],
   "source": [
    "check_ip_adapter_compatibility(ip_adapter)"
   ]
  },
  {
   "cell_type": "code",
   "execution_count": null,
   "id": "e067504d",
   "metadata": {},
   "outputs": [
    {
     "name": "stderr",
     "output_type": "stream",
     "text": [
      "/data/degis/features/clip_embeddings_xl_hf.py:85: FutureWarning: `torch.cuda.amp.autocast(args...)` is deprecated. Please use `torch.amp.autocast('cuda', args...)` instead.\n",
      "  with torch.cuda.amp.autocast(dtype=torch.float16):\n"
     ]
    },
    {
     "name": "stdout",
     "output_type": "stream",
     "text": [
      "HF embedding shape: torch.Size([1280])\n",
      "OpenCLIP embedding shape: torch.Size([1280])\n",
      "Are they close? False\n",
      "Max difference: 0.09958648681640625\n"
     ]
    },
    {
     "name": "stderr",
     "output_type": "stream",
     "text": [
      "/data/degis/features/clip_embeddings_xl.py:77: FutureWarning: `torch.cuda.amp.autocast(args...)` is deprecated. Please use `torch.amp.autocast('cuda', args...)` instead.\n",
      "  with torch.cuda.amp.autocast(dtype=torch.float16):\n"
     ]
    },
    {
     "ename": "",
     "evalue": "",
     "output_type": "error",
     "traceback": [
      "\u001b[1;31mThe Kernel crashed while executing code in the current cell or a previous cell. \n",
      "\u001b[1;31mPlease review the code in the cell(s) to identify a possible cause of the failure. \n",
      "\u001b[1;31mClick <a href='https://aka.ms/vscodeJupyterKernelCrash'>here</a> for more info. \n",
      "\u001b[1;31mView Jupyter <a href='command:jupyter.viewOutput'>log</a> for further details."
     ]
    }
   ],
   "source": [
    "import torch\n",
    "from features.clip_embeddings_xl_hf import compute_clip_embedding_xl as hf_embedding\n",
    "# Import your original OpenCLIP version\n",
    "from features.clip_embeddings_xl import compute_clip_embedding_xl as openclip_embedding\n",
    "\n",
    "# Test with the same image\n",
    "test_image = torch.rand(3, 224, 224)  # Your test image\n",
    "\n",
    "# Generate embeddings with both methods\n",
    "hf_emb = hf_embedding(test_image)\n",
    "openclip_emb = openclip_embedding(test_image)\n",
    "\n",
    "print(f\"HF embedding shape: {hf_emb.shape}\")\n",
    "print(f\"OpenCLIP embedding shape: {openclip_emb.shape}\")\n",
    "print(f\"Are they close? {torch.allclose(hf_emb, openclip_emb, atol=1e-3)}\")\n",
    "print(f\"Max difference: {torch.max(torch.abs(hf_emb - openclip_emb))}\")"
   ]
  },
  {
   "cell_type": "code",
   "execution_count": null,
   "id": "64d82cd4",
   "metadata": {},
   "outputs": [],
   "source": [
    "import pandas as pd\n",
    "from torch.utils.data import DataLoader\n",
    "\n",
    "from data.dataset import UnifiedImageDataset\n",
    "from features.clip_embeddings import generate_embeddings_fp16\n",
    "from features.color_histograms import generate_color_histograms\n",
    "from config import CSV_PATH, BATCH_SIZE, EMBEDDINGS_TARGET_PATH, XL_EMBEDDINGS_TARGET_PATH\n",
    "from multiprocessing import cpu_count\n",
    "\n",
    "\n",
    "df = pd.read_csv(CSV_PATH)\n",
    "print('xxxx')\n",
    "print(df.head())\n",
    "print(df.shape)\n",
    "# assert \"local_path\" in df.columns, \"CSV must have a local_path column!\"\n",
    "\n",
    "def print_system_profile():\n",
    "    import os, shutil, platform, psutil, torch\n",
    "    print(\"=== SYSTEM PROFILE ===\")\n",
    "    print(\"Python:\", platform.python_version())\n",
    "    print(\"PyTorch:\", torch.__version__)\n",
    "    print(\"CPU cores:\", psutil.cpu_count(logical=True))\n",
    "    vm = psutil.virtual_memory()\n",
    "    print(f\"RAM: {vm.total/1e9:.1f} GB, free {vm.available/1e9:.1f} GB\")\n",
    "    du = shutil.disk_usage(\"/data\")\n",
    "    print(f\"/data disk: total {du.total/1e9:.1f} GB, free {du.free/1e9:.1f} GB\")\n",
    "    print(\"CUDA available:\", torch.cuda.is_available())\n",
    "    if torch.cuda.is_available():\n",
    "        i = torch.cuda.current_device()\n",
    "        print(\"GPU:\", torch.cuda.get_device_name(i))\n",
    "        print(f\"VRAM total: {torch.cuda.get_device_properties(i).total_memory/1e9:.1f} GB\")\n",
    "    print(\"======================\")\n",
    "\n",
    "print_system_profile()\n",
    "\n",
    "dataset = UnifiedImageDataset(\n",
    "    df, \n",
    "    mode=\"file_df\"\n",
    ")\n",
    "\n",
    "num_cpu = cpu_count()\n",
    "\n",
    "loader = DataLoader(\n",
    "    dataset,\n",
    "    batch_size=224,                    # then try 160/192/224\n",
    "    shuffle=False,\n",
    "    num_workers=min(32, max(8, num_cpu // 8)),  # 16–32 is a good sweet spot\n",
    "    pin_memory=True,\n",
    "    persistent_workers=True,\n",
    "    prefetch_factor=6,                 # 4–8\n",
    "    pin_memory_device=\"cuda\",\n",
    ")\n",
    "\n",
    "\n",
    "embeddings = generate_embeddings_fp16(\n",
    "    loader,\n",
    "    EMBEDDINGS_TARGET_PATH,\n",
    "    force_recompute=True\n",
    ")"
   ]
  },
  {
   "cell_type": "code",
   "execution_count": null,
   "id": "3300da81",
   "metadata": {},
   "outputs": [],
   "source": []
  },
  {
   "cell_type": "code",
   "execution_count": null,
   "id": "185bdb95",
   "metadata": {},
   "outputs": [],
   "source": []
  },
  {
   "cell_type": "code",
   "execution_count": null,
   "id": "eac41870",
   "metadata": {},
   "outputs": [],
   "source": []
  },
  {
   "cell_type": "code",
   "execution_count": null,
   "id": "afcc2f6f",
   "metadata": {},
   "outputs": [],
   "source": []
  },
  {
   "cell_type": "code",
   "execution_count": null,
   "id": "1220a10c",
   "metadata": {},
   "outputs": [],
   "source": []
  },
  {
   "cell_type": "code",
   "execution_count": null,
   "id": "a8068cbf",
   "metadata": {},
   "outputs": [],
   "source": []
  },
  {
   "cell_type": "code",
   "execution_count": null,
   "id": "bddbdf62",
   "metadata": {},
   "outputs": [],
   "source": []
  },
  {
   "cell_type": "code",
   "execution_count": null,
   "id": "6e593200",
   "metadata": {},
   "outputs": [],
   "source": []
  },
  {
   "cell_type": "code",
   "execution_count": null,
   "id": "013a4197",
   "metadata": {},
   "outputs": [],
   "source": []
  },
  {
   "cell_type": "code",
   "execution_count": null,
   "id": "f01b8f08",
   "metadata": {},
   "outputs": [],
   "source": []
  }
 ],
 "metadata": {
  "kernelspec": {
   "display_name": "Python 3",
   "language": "python",
   "name": "python3"
  },
  "language_info": {
   "codemirror_mode": {
    "name": "ipython",
    "version": 3
   },
   "file_extension": ".py",
   "mimetype": "text/x-python",
   "name": "python",
   "nbconvert_exporter": "python",
   "pygments_lexer": "ipython3",
   "version": "3.12.3"
  }
 },
 "nbformat": 4,
 "nbformat_minor": 5
}
